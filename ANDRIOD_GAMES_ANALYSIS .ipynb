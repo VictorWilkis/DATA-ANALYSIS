{
 "cells": [
  {
   "cell_type": "code",
   "execution_count": 1,
   "metadata": {},
   "outputs": [],
   "source": [
    "import numpy as np\n",
    "import pandas as pd\n",
    "import seaborn as sns\n",
    "import matplotlib.pyplot as plt\n",
    "import plotly.express as px\n",
    "import plotly as pl\n",
    "import missingno as mg"
   ]
  },
  {
   "cell_type": "code",
   "execution_count": 2,
   "metadata": {},
   "outputs": [],
   "source": [
    "games= pd.read_csv('android-games.csv')"
   ]
  },
  {
   "cell_type": "code",
   "execution_count": 3,
   "metadata": {},
   "outputs": [
    {
     "data": {
      "text/html": [
       "<div>\n",
       "<style scoped>\n",
       "    .dataframe tbody tr th:only-of-type {\n",
       "        vertical-align: middle;\n",
       "    }\n",
       "\n",
       "    .dataframe tbody tr th {\n",
       "        vertical-align: top;\n",
       "    }\n",
       "\n",
       "    .dataframe thead th {\n",
       "        text-align: right;\n",
       "    }\n",
       "</style>\n",
       "<table border=\"1\" class=\"dataframe\">\n",
       "  <thead>\n",
       "    <tr style=\"text-align: right;\">\n",
       "      <th></th>\n",
       "      <th>rank</th>\n",
       "      <th>title</th>\n",
       "      <th>total ratings</th>\n",
       "      <th>installs</th>\n",
       "      <th>average rating</th>\n",
       "      <th>growth (30 days)</th>\n",
       "      <th>growth (60 days)</th>\n",
       "      <th>price</th>\n",
       "      <th>category</th>\n",
       "      <th>5 star ratings</th>\n",
       "      <th>4 star ratings</th>\n",
       "      <th>3 star ratings</th>\n",
       "      <th>2 star ratings</th>\n",
       "      <th>1 star ratings</th>\n",
       "      <th>paid</th>\n",
       "    </tr>\n",
       "  </thead>\n",
       "  <tbody>\n",
       "    <tr>\n",
       "      <th>0</th>\n",
       "      <td>1</td>\n",
       "      <td>Garena Free Fire - The Cobra</td>\n",
       "      <td>80678661</td>\n",
       "      <td>500.0 M</td>\n",
       "      <td>4.33</td>\n",
       "      <td>2.9</td>\n",
       "      <td>7.9</td>\n",
       "      <td>0.0</td>\n",
       "      <td>GAME ACTION</td>\n",
       "      <td>61935712</td>\n",
       "      <td>4478738</td>\n",
       "      <td>2795172</td>\n",
       "      <td>1814999</td>\n",
       "      <td>9654037</td>\n",
       "      <td>False</td>\n",
       "    </tr>\n",
       "    <tr>\n",
       "      <th>1</th>\n",
       "      <td>2</td>\n",
       "      <td>PUBG MOBILE: Graffiti Prank</td>\n",
       "      <td>35971961</td>\n",
       "      <td>100.0 M</td>\n",
       "      <td>4.24</td>\n",
       "      <td>2.0</td>\n",
       "      <td>3.1</td>\n",
       "      <td>0.0</td>\n",
       "      <td>GAME ACTION</td>\n",
       "      <td>26670566</td>\n",
       "      <td>2109631</td>\n",
       "      <td>1352610</td>\n",
       "      <td>893674</td>\n",
       "      <td>4945478</td>\n",
       "      <td>False</td>\n",
       "    </tr>\n",
       "    <tr>\n",
       "      <th>2</th>\n",
       "      <td>3</td>\n",
       "      <td>Mobile Legends: Bang Bang</td>\n",
       "      <td>25836869</td>\n",
       "      <td>100.0 M</td>\n",
       "      <td>4.08</td>\n",
       "      <td>1.6</td>\n",
       "      <td>3.3</td>\n",
       "      <td>0.0</td>\n",
       "      <td>GAME ACTION</td>\n",
       "      <td>17850942</td>\n",
       "      <td>1796761</td>\n",
       "      <td>1066095</td>\n",
       "      <td>725429</td>\n",
       "      <td>4397640</td>\n",
       "      <td>False</td>\n",
       "    </tr>\n",
       "    <tr>\n",
       "      <th>3</th>\n",
       "      <td>4</td>\n",
       "      <td>Brawl Stars</td>\n",
       "      <td>17181659</td>\n",
       "      <td>100.0 M</td>\n",
       "      <td>4.27</td>\n",
       "      <td>4.1</td>\n",
       "      <td>6.6</td>\n",
       "      <td>0.0</td>\n",
       "      <td>GAME ACTION</td>\n",
       "      <td>12493668</td>\n",
       "      <td>1474319</td>\n",
       "      <td>741410</td>\n",
       "      <td>383478</td>\n",
       "      <td>2088781</td>\n",
       "      <td>False</td>\n",
       "    </tr>\n",
       "    <tr>\n",
       "      <th>4</th>\n",
       "      <td>5</td>\n",
       "      <td>Sniper 3D: Fun Free Online FPS Shooting Game</td>\n",
       "      <td>14237554</td>\n",
       "      <td>100.0 M</td>\n",
       "      <td>4.33</td>\n",
       "      <td>0.8</td>\n",
       "      <td>1.8</td>\n",
       "      <td>0.0</td>\n",
       "      <td>GAME ACTION</td>\n",
       "      <td>9657878</td>\n",
       "      <td>2124544</td>\n",
       "      <td>1034025</td>\n",
       "      <td>375159</td>\n",
       "      <td>1045945</td>\n",
       "      <td>False</td>\n",
       "    </tr>\n",
       "    <tr>\n",
       "      <th>...</th>\n",
       "      <td>...</td>\n",
       "      <td>...</td>\n",
       "      <td>...</td>\n",
       "      <td>...</td>\n",
       "      <td>...</td>\n",
       "      <td>...</td>\n",
       "      <td>...</td>\n",
       "      <td>...</td>\n",
       "      <td>...</td>\n",
       "      <td>...</td>\n",
       "      <td>...</td>\n",
       "      <td>...</td>\n",
       "      <td>...</td>\n",
       "      <td>...</td>\n",
       "      <td>...</td>\n",
       "    </tr>\n",
       "    <tr>\n",
       "      <th>1825</th>\n",
       "      <td>96</td>\n",
       "      <td>Piknik Słowo - Word Snack</td>\n",
       "      <td>122845</td>\n",
       "      <td>1.0 M</td>\n",
       "      <td>4.67</td>\n",
       "      <td>0.1</td>\n",
       "      <td>0.3</td>\n",
       "      <td>0.0</td>\n",
       "      <td>GAME WORD</td>\n",
       "      <td>96954</td>\n",
       "      <td>17233</td>\n",
       "      <td>5098</td>\n",
       "      <td>1249</td>\n",
       "      <td>2309</td>\n",
       "      <td>False</td>\n",
       "    </tr>\n",
       "    <tr>\n",
       "      <th>1826</th>\n",
       "      <td>97</td>\n",
       "      <td>Wordox – Free multiplayer word game</td>\n",
       "      <td>120476</td>\n",
       "      <td>1.0 M</td>\n",
       "      <td>4.21</td>\n",
       "      <td>0.0</td>\n",
       "      <td>0.1</td>\n",
       "      <td>0.0</td>\n",
       "      <td>GAME WORD</td>\n",
       "      <td>74010</td>\n",
       "      <td>21546</td>\n",
       "      <td>10648</td>\n",
       "      <td>4710</td>\n",
       "      <td>9560</td>\n",
       "      <td>False</td>\n",
       "    </tr>\n",
       "    <tr>\n",
       "      <th>1827</th>\n",
       "      <td>98</td>\n",
       "      <td>4 Fotos 1 Palavra</td>\n",
       "      <td>114852</td>\n",
       "      <td>5.0 M</td>\n",
       "      <td>4.52</td>\n",
       "      <td>0.3</td>\n",
       "      <td>0.6</td>\n",
       "      <td>0.0</td>\n",
       "      <td>GAME WORD</td>\n",
       "      <td>84688</td>\n",
       "      <td>16783</td>\n",
       "      <td>6619</td>\n",
       "      <td>1867</td>\n",
       "      <td>4892</td>\n",
       "      <td>False</td>\n",
       "    </tr>\n",
       "    <tr>\n",
       "      <th>1828</th>\n",
       "      <td>99</td>\n",
       "      <td>زوايا - لعبة ستحرك زوايا عقلك</td>\n",
       "      <td>110293</td>\n",
       "      <td>1.0 M</td>\n",
       "      <td>4.76</td>\n",
       "      <td>0.8</td>\n",
       "      <td>1.9</td>\n",
       "      <td>0.0</td>\n",
       "      <td>GAME WORD</td>\n",
       "      <td>99168</td>\n",
       "      <td>3528</td>\n",
       "      <td>3258</td>\n",
       "      <td>1059</td>\n",
       "      <td>3278</td>\n",
       "      <td>False</td>\n",
       "    </tr>\n",
       "    <tr>\n",
       "      <th>1829</th>\n",
       "      <td>100</td>\n",
       "      <td>Word Life - Connect crosswords puzzle</td>\n",
       "      <td>109809</td>\n",
       "      <td>5.0 M</td>\n",
       "      <td>4.38</td>\n",
       "      <td>6.9</td>\n",
       "      <td>14.2</td>\n",
       "      <td>0.0</td>\n",
       "      <td>GAME WORD</td>\n",
       "      <td>70647</td>\n",
       "      <td>22630</td>\n",
       "      <td>8794</td>\n",
       "      <td>2775</td>\n",
       "      <td>4961</td>\n",
       "      <td>False</td>\n",
       "    </tr>\n",
       "  </tbody>\n",
       "</table>\n",
       "<p>1830 rows × 15 columns</p>\n",
       "</div>"
      ],
      "text/plain": [
       "      rank                                         title  total ratings  \\\n",
       "0        1                  Garena Free Fire - The Cobra       80678661   \n",
       "1        2                   PUBG MOBILE: Graffiti Prank       35971961   \n",
       "2        3                     Mobile Legends: Bang Bang       25836869   \n",
       "3        4                                   Brawl Stars       17181659   \n",
       "4        5  Sniper 3D: Fun Free Online FPS Shooting Game       14237554   \n",
       "...    ...                                           ...            ...   \n",
       "1825    96                     Piknik Słowo - Word Snack         122845   \n",
       "1826    97           Wordox – Free multiplayer word game         120476   \n",
       "1827    98                             4 Fotos 1 Palavra         114852   \n",
       "1828    99                 زوايا - لعبة ستحرك زوايا عقلك         110293   \n",
       "1829   100         Word Life - Connect crosswords puzzle         109809   \n",
       "\n",
       "     installs  average rating  growth (30 days)  growth (60 days)  price  \\\n",
       "0     500.0 M            4.33               2.9               7.9    0.0   \n",
       "1     100.0 M            4.24               2.0               3.1    0.0   \n",
       "2     100.0 M            4.08               1.6               3.3    0.0   \n",
       "3     100.0 M            4.27               4.1               6.6    0.0   \n",
       "4     100.0 M            4.33               0.8               1.8    0.0   \n",
       "...       ...             ...               ...               ...    ...   \n",
       "1825    1.0 M            4.67               0.1               0.3    0.0   \n",
       "1826    1.0 M            4.21               0.0               0.1    0.0   \n",
       "1827    5.0 M            4.52               0.3               0.6    0.0   \n",
       "1828    1.0 M            4.76               0.8               1.9    0.0   \n",
       "1829    5.0 M            4.38               6.9              14.2    0.0   \n",
       "\n",
       "         category  5 star ratings  4 star ratings  3 star ratings  \\\n",
       "0     GAME ACTION        61935712         4478738         2795172   \n",
       "1     GAME ACTION        26670566         2109631         1352610   \n",
       "2     GAME ACTION        17850942         1796761         1066095   \n",
       "3     GAME ACTION        12493668         1474319          741410   \n",
       "4     GAME ACTION         9657878         2124544         1034025   \n",
       "...           ...             ...             ...             ...   \n",
       "1825    GAME WORD           96954           17233            5098   \n",
       "1826    GAME WORD           74010           21546           10648   \n",
       "1827    GAME WORD           84688           16783            6619   \n",
       "1828    GAME WORD           99168            3528            3258   \n",
       "1829    GAME WORD           70647           22630            8794   \n",
       "\n",
       "      2 star ratings  1 star ratings   paid  \n",
       "0            1814999         9654037  False  \n",
       "1             893674         4945478  False  \n",
       "2             725429         4397640  False  \n",
       "3             383478         2088781  False  \n",
       "4             375159         1045945  False  \n",
       "...              ...             ...    ...  \n",
       "1825            1249            2309  False  \n",
       "1826            4710            9560  False  \n",
       "1827            1867            4892  False  \n",
       "1828            1059            3278  False  \n",
       "1829            2775            4961  False  \n",
       "\n",
       "[1830 rows x 15 columns]"
      ]
     },
     "execution_count": 3,
     "metadata": {},
     "output_type": "execute_result"
    }
   ],
   "source": [
    "games"
   ]
  },
  {
   "cell_type": "code",
   "execution_count": 21,
   "metadata": {},
   "outputs": [
    {
     "data": {
      "image/png": "[encoded data removed]",
      "text/plain": [
       "<Figure size 1728x720 with 3 Axes>"
      ]
     },
     "metadata": {
      "needs_background": "light"
     },
     "output_type": "display_data"
    }
   ],
   "source": [
    "mg.bar(games,color='green')\n",
    "plt.show()"
   ]
  },
  {
   "cell_type": "markdown",
   "metadata": {},
   "source": [
    "USING VISUALIZATION TO CHECK IF THEY ARE ANY MISSING DATA"
   ]
  },
  {
   "cell_type": "code",
   "execution_count": 67,
   "metadata": {},
   "outputs": [
    {
     "data": {
      "text/plain": [
       "GAME CARD            122\n",
       "GAME WORD            106\n",
       "GAME CASUAL          102\n",
       "GAME TRIVIA          100\n",
       "GAME BOARD           100\n",
       "GAME PUZZLE          100\n",
       "GAME ACTION          100\n",
       "GAME ROLE PLAYING    100\n",
       "GAME SIMULATION      100\n",
       "GAME CASINO          100\n",
       "GAME SPORTS          100\n",
       "GAME ADVENTURE       100\n",
       "GAME RACING          100\n",
       "GAME MUSIC           100\n",
       "GAME STRATEGY        100\n",
       "GAME ARCADE          100\n",
       "GAME FAMILY          100\n",
       "GAME EDUCATIONAL     100\n",
       "Name: category, dtype: int64"
      ]
     },
     "execution_count": 67,
     "metadata": {},
     "output_type": "execute_result"
    }
   ],
   "source": [
    "# FINDING THE TOTAL AMOUNT OF EACH GAME CATEGORY:\n",
    "games['category'].value_counts()"
   ]
  },
  {
   "cell_type": "markdown",
   "metadata": {},
   "source": [
    "THE AMOUNT FOR EACH ANDRIOD GAMES CATEGORY"
   ]
  },
  {
   "cell_type": "code",
   "execution_count": 19,
   "metadata": {},
   "outputs": [],
   "source": [
    "no_category= games['category'].value_counts()"
   ]
  },
  {
   "cell_type": "code",
   "execution_count": 20,
   "metadata": {},
   "outputs": [
    {
     "data": {
      "text/plain": [
       "18"
      ]
     },
     "execution_count": 20,
     "metadata": {},
     "output_type": "execute_result"
    }
   ],
   "source": [
    "len(no_category)"
   ]
  },
  {
   "cell_type": "markdown",
   "metadata": {},
   "source": [
    " NUMBER OF TYPES OF GAMES CATEGORY"
   ]
  },
  {
   "cell_type": "code",
   "execution_count": 8,
   "metadata": {},
   "outputs": [
    {
     "data": {
      "text/plain": [
       "10.0 M      795\n",
       "50.0 M      266\n",
       "100.0 M     256\n",
       "5.0 M       248\n",
       "1.0 M       191\n",
       "500.0 M      34\n",
       "1000.0 M     16\n",
       "500.0 k      13\n",
       "5000.0 M      9\n",
       "100.0 k       2\n",
       "Name: installs, dtype: int64"
      ]
     },
     "execution_count": 8,
     "metadata": {},
     "output_type": "execute_result"
    }
   ],
   "source": [
    "games['installs'].value_counts()"
   ]
  },
  {
   "cell_type": "markdown",
   "metadata": {},
   "source": [
    "THE TOTAL AMOUNT OF EACH INSTALLS"
   ]
  },
  {
   "cell_type": "code",
   "execution_count": 17,
   "metadata": {},
   "outputs": [],
   "source": [
    "no_title= games['title'].value_counts()"
   ]
  },
  {
   "cell_type": "code",
   "execution_count": 18,
   "metadata": {},
   "outputs": [
    {
     "data": {
      "text/plain": [
       "1729"
      ]
     },
     "execution_count": 18,
     "metadata": {},
     "output_type": "execute_result"
    }
   ],
   "source": [
    "len(no_title)"
   ]
  },
  {
   "cell_type": "markdown",
   "metadata": {},
   "source": [
    "THE NUMBER OF TITLE IS  >>  1729"
   ]
  },
  {
   "cell_type": "code",
   "execution_count": 23,
   "metadata": {},
   "outputs": [
    {
     "data": {
      "text/plain": [
       "0.00    1823\n",
       "1.99       3\n",
       "7.49       1\n",
       "2.99       1\n",
       "4.99       1\n",
       "0.99       1\n",
       "Name: price, dtype: int64"
      ]
     },
     "execution_count": 23,
     "metadata": {},
     "output_type": "execute_result"
    }
   ],
   "source": [
    "games['price'].value_counts()"
   ]
  },
  {
   "cell_type": "markdown",
   "metadata": {},
   "source": [
    "THE TOTAL AMOUNT FOR EACH PRICE CATEGORY"
   ]
  },
  {
   "cell_type": "code",
   "execution_count": 10,
   "metadata": {},
   "outputs": [
    {
     "data": {
      "text/plain": [
       "False    1823\n",
       "True        7\n",
       "Name: paid, dtype: int64"
      ]
     },
     "execution_count": 10,
     "metadata": {},
     "output_type": "execute_result"
    }
   ],
   "source": [
    "games['paid'].value_counts()"
   ]
  },
  {
   "cell_type": "markdown",
   "metadata": {},
   "source": [
    "NUMBER OF GAME PAID FOR IS  >>  7"
   ]
  },
  {
   "cell_type": "markdown",
   "metadata": {},
   "source": [
    "WHILE NUMBER OF GAME NOT PAID FOR IS >> 1823"
   ]
  },
  {
   "cell_type": "code",
   "execution_count": 69,
   "metadata": {},
   "outputs": [
    {
     "data": {
      "application/vnd.plotly.v1+json": {
       "config": {
        "plotlyServerURL": "https://plot.ly"
       },
       "data": [
        {
         "domain": {
          "x": [
           0,
           1
          ],
          "y": [
           0,
           1
          ]
         },
         "hovertemplate": "category=%{label}<extra></extra>",
         "labels": [
          "GAME ACTION",
          "GAME ACTION",
          "GAME ACTION",
          "GAME ACTION",
          "GAME ACTION",
          "GAME ACTION",
          "GAME ACTION",
          "GAME ACTION",
          "GAME ACTION",
          "GAME ACTION",
          "GAME ACTION",
          "GAME ACTION",
          "GAME ACTION",
          "GAME ACTION",
          "GAME ACTION",
          "GAME ACTION",
          "GAME ACTION",
          "GAME ACTION",
          "GAME ACTION",
          "GAME ACTION",
          "GAME ACTION",
          "GAME ACTION",
          "GAME ACTION",
          "GAME ACTION",
          "GAME ACTION",
          "GAME ACTION",
          "GAME ACTION",
          "GAME ACTION",
          "GAME ACTION",
          "GAME ACTION",
          "GAME ACTION",
          "GAME ACTION",
          "GAME ACTION",
          "GAME ACTION",
          "GAME ACTION",
          "GAME ACTION",
          "GAME ACTION",
          "GAME ACTION",
          "GAME ACTION",
          "GAME ACTION",
          "GAME ACTION",
          "GAME ACTION",
          "GAME ACTION",
          "GAME ACTION",
          "GAME ACTION",
          "GAME ACTION",
          "GAME ACTION",
          "GAME ACTION",
          "GAME ACTION",
          "GAME ACTION",
          "GAME ACTION",
          "GAME ACTION",
          "GAME ACTION",
          "GAME ACTION",
          "GAME ACTION",
          "GAME ACTION",
          "GAME ACTION",
          "GAME ACTION",
          "GAME ACTION",
          "GAME ACTION",
          "GAME ACTION",
          "GAME ACTION",
          "GAME ACTION",
          "GAME ACTION",
          "GAME ACTION",
          "GAME ACTION",
          "GAME ACTION",
          "GAME ACTION",
          "GAME ACTION",
          "GAME ACTION",
          "GAME ACTION",
          "GAME ACTION",
          "GAME ACTION",
          "GAME ACTION",
          "GAME ACTION",
          "GAME ACTION",
          "GAME ACTION",
          "GAME ACTION",
          "GAME ACTION",
          "GAME ACTION",
          "GAME ACTION",
          "GAME ACTION",
          "GAME ACTION",
          "GAME ACTION",
          "GAME ACTION",
          "GAME ACTION",
          "GAME ACTION",
          "GAME ACTION",
          "GAME ACTION",
          "GAME ACTION",
          "GAME ACTION",
          "GAME ACTION",
          "GAME ACTION",
          "GAME ACTION",
          "GAME ACTION",
          "GAME ACTION",
          "GAME ACTION",
          "GAME ACTION",
          "GAME ACTION",
          "GAME ACTION",
          "GAME ADVENTURE",
          "GAME ADVENTURE",
          "GAME ADVENTURE",
          "GAME ADVENTURE",
          "GAME ADVENTURE",
          "GAME ADVENTURE",
          "GAME ADVENTURE",
          "GAME ADVENTURE",
          "GAME ADVENTURE",
          "GAME ADVENTURE",
          "GAME ADVENTURE",
          "GAME ADVENTURE",
          "GAME ADVENTURE",
          "GAME ADVENTURE",
          "GAME ADVENTURE",
          "GAME ADVENTURE",
          "GAME ADVENTURE",
          "GAME ADVENTURE",
          "GAME ADVENTURE",
          "GAME ADVENTURE",
          "GAME ADVENTURE",
          "GAME ADVENTURE",
          "GAME ADVENTURE",
          "GAME ADVENTURE",
          "GAME ADVENTURE",
          "GAME ADVENTURE",
          "GAME ADVENTURE",
          "GAME ADVENTURE",
          "GAME ADVENTURE",
          "GAME ADVENTURE",
          "GAME ADVENTURE",
          "GAME ADVENTURE",
          "GAME ADVENTURE",
          "GAME ADVENTURE",
          "GAME ADVENTURE",
          "GAME ADVENTURE",
          "GAME ADVENTURE",
          "GAME ADVENTURE",
          "GAME ADVENTURE",
          "GAME ADVENTURE",
          "GAME ADVENTURE",
          "GAME ADVENTURE",
          "GAME ADVENTURE",
          "GAME ADVENTURE",
          "GAME ADVENTURE",
          "GAME ADVENTURE",
          "GAME ADVENTURE",
          "GAME ADVENTURE",
          "GAME ADVENTURE",
          "GAME ADVENTURE",
          "GAME ADVENTURE",
          "GAME ADVENTURE",
          "GAME ADVENTURE",
          "GAME ADVENTURE",
          "GAME ADVENTURE",
          "GAME ADVENTURE",
          "GAME ADVENTURE",
          "GAME ADVENTURE",
          "GAME ADVENTURE",
          "GAME ADVENTURE",
          "GAME ADVENTURE",
          "GAME ADVENTURE",
          "GAME ADVENTURE",
          "GAME ADVENTURE",
          "GAME ADVENTURE",
          "GAME ADVENTURE",
          "GAME ADVENTURE",
          "GAME ADVENTURE",
          "GAME ADVENTURE",
          "GAME ADVENTURE",
          "GAME ADVENTURE",
          "GAME ADVENTURE",
          "GAME ADVENTURE",
          "GAME ADVENTURE",
          "GAME ADVENTURE",
          "GAME ADVENTURE",
          "GAME ADVENTURE",
          "GAME ADVENTURE",
          "GAME ADVENTURE",
          "GAME ADVENTURE",
          "GAME ADVENTURE",
          "GAME ADVENTURE",
          "GAME ADVENTURE",
          "GAME ADVENTURE",
          "GAME ADVENTURE",
          "GAME ADVENTURE",
          "GAME ADVENTURE",
          "GAME ADVENTURE",
          "GAME ADVENTURE",
          "GAME ADVENTURE",
          "GAME ADVENTURE",
          "GAME ADVENTURE",
          "GAME ADVENTURE",
          "GAME ADVENTURE",
          "GAME ADVENTURE",
          "GAME ADVENTURE",
          "GAME ADVENTURE",
          "GAME ADVENTURE",
          "GAME ADVENTURE",
          "GAME ADVENTURE",
          "GAME ARCADE",
          "GAME ARCADE",
          "GAME ARCADE",
          "GAME ARCADE",
          "GAME ARCADE",
          "GAME ARCADE",
          "GAME ARCADE",
          "GAME ARCADE",
          "GAME ARCADE",
          "GAME ARCADE",
          "GAME ARCADE",
          "GAME ARCADE",
          "GAME ARCADE",
          "GAME ARCADE",
          "GAME ARCADE",
          "GAME ARCADE",
          "GAME ARCADE",
          "GAME ARCADE",
          "GAME ARCADE",
          "GAME ARCADE",
          "GAME ARCADE",
          "GAME ARCADE",
          "GAME ARCADE",
          "GAME ARCADE",
          "GAME ARCADE",
          "GAME ARCADE",
          "GAME ARCADE",
          "GAME ARCADE",
          "GAME ARCADE",
          "GAME ARCADE",
          "GAME ARCADE",
          "GAME ARCADE",
          "GAME ARCADE",
          "GAME ARCADE",
          "GAME ARCADE",
          "GAME ARCADE",
          "GAME ARCADE",
          "GAME ARCADE",
          "GAME ARCADE",
          "GAME ARCADE",
          "GAME ARCADE",
          "GAME ARCADE",
          "GAME ARCADE",
          "GAME ARCADE",
          "GAME ARCADE",
          "GAME ARCADE",
          "GAME ARCADE",
          "GAME ARCADE",
          "GAME ARCADE",
          "GAME ARCADE",
          "GAME ARCADE",
          "GAME ARCADE",
          "GAME ARCADE",
          "GAME ARCADE",
          "GAME ARCADE",
          "GAME ARCADE",
          "GAME ARCADE",
          "GAME ARCADE",
          "GAME ARCADE",
          "GAME ARCADE",
          "GAME ARCADE",
          "GAME ARCADE",
          "GAME ARCADE",
          "GAME ARCADE",
          "GAME ARCADE",
          "GAME ARCADE",
          "GAME ARCADE",
          "GAME ARCADE",
          "GAME ARCADE",
          "GAME ARCADE",
          "GAME ARCADE",
          "GAME ARCADE",
          "GAME ARCADE",
          "GAME ARCADE",
          "GAME ARCADE",
          "GAME ARCADE",
          "GAME ARCADE",
          "GAME ARCADE",
          "GAME ARCADE",
          "GAME ARCADE",
          "GAME ARCADE",
          "GAME ARCADE",
          "GAME ARCADE",
          "GAME ARCADE",
          "GAME ARCADE",
          "GAME ARCADE",
          "GAME ARCADE",
          "GAME ARCADE",
          "GAME ARCADE",
          "GAME ARCADE",
          "GAME ARCADE",
          "GAME ARCADE",
          "GAME ARCADE",
          "GAME ARCADE",
          "GAME ARCADE",
          "GAME ARCADE",
          "GAME ARCADE",
          "GAME ARCADE",
          "GAME ARCADE",
          "GAME ARCADE",
          "GAME BOARD",
          "GAME BOARD",
          "GAME BOARD",
          "GAME BOARD",
          "GAME BOARD",
          "GAME BOARD",
          "GAME BOARD",
          "GAME BOARD",
          "GAME BOARD",
          "GAME BOARD",
          "GAME BOARD",
          "GAME BOARD",
          "GAME BOARD",
          "GAME BOARD",
          "GAME BOARD",
          "GAME BOARD",
          "GAME BOARD",
          "GAME BOARD",
          "GAME BOARD",
          "GAME BOARD",
          "GAME BOARD",
          "GAME BOARD",
          "GAME BOARD",
          "GAME BOARD",
          "GAME BOARD",
          "GAME BOARD",
          "GAME BOARD",
          "GAME BOARD",
          "GAME BOARD",
          "GAME BOARD",
          "GAME BOARD",
          "GAME BOARD",
          "GAME BOARD",
          "GAME BOARD",
          "GAME BOARD",
          "GAME BOARD",
          "GAME BOARD",
          "GAME BOARD",
          "GAME BOARD",
          "GAME BOARD",
          "GAME BOARD",
          "GAME BOARD",
          "GAME BOARD",
          "GAME BOARD",
          "GAME BOARD",
          "GAME BOARD",
          "GAME BOARD",
          "GAME BOARD",
          "GAME BOARD",
          "GAME BOARD",
          "GAME BOARD",
          "GAME BOARD",
          "GAME BOARD",
          "GAME BOARD",
          "GAME BOARD",
          "GAME BOARD",
          "GAME BOARD",
          "GAME BOARD",
          "GAME BOARD",
          "GAME BOARD",
          "GAME BOARD",
          "GAME BOARD",
          "GAME BOARD",
          "GAME BOARD",
          "GAME BOARD",
          "GAME BOARD",
          "GAME BOARD",
          "GAME BOARD",
          "GAME BOARD",
          "GAME BOARD",
          "GAME BOARD",
          "GAME BOARD",
          "GAME BOARD",
          "GAME BOARD",
          "GAME BOARD",
          "GAME BOARD",
          "GAME BOARD",
          "GAME BOARD",
          "GAME BOARD",
          "GAME BOARD",
          "GAME BOARD",
          "GAME BOARD",
          "GAME BOARD",
          "GAME BOARD",
          "GAME BOARD",
          "GAME BOARD",
          "GAME BOARD",
          "GAME BOARD",
          "GAME BOARD",
          "GAME BOARD",
          "GAME BOARD",
          "GAME BOARD",
          "GAME BOARD",
          "GAME BOARD",
          "GAME BOARD",
          "GAME BOARD",
          "GAME BOARD",
          "GAME BOARD",
          "GAME BOARD",
          "GAME BOARD",
          "GAME CARD",
          "GAME CARD",
          "GAME CARD",
          "GAME CARD",
          "GAME CARD",
          "GAME CARD",
          "GAME CARD",
          "GAME CARD",
          "GAME CARD",
          "GAME CARD",
          "GAME CARD",
          "GAME CARD",
          "GAME CARD",
          "GAME CARD",
          "GAME CARD",
          "GAME CARD",
          "GAME CARD",
          "GAME CARD",
          "GAME CARD",
          "GAME CARD",
          "GAME CARD",
          "GAME CARD",
          "GAME CARD",
          "GAME CARD",
          "GAME CARD",
          "GAME CARD",
          "GAME CARD",
          "GAME CARD",
          "GAME CARD",
          "GAME CARD",
          "GAME CARD",
          "GAME CARD",
          "GAME CARD",
          "GAME CARD",
          "GAME CARD",
          "GAME CARD",
          "GAME CARD",
          "GAME CARD",
          "GAME CARD",
          "GAME CARD",
          "GAME CARD",
          "GAME CARD",
          "GAME CARD",
          "GAME CARD",
          "GAME CARD",
          "GAME CARD",
          "GAME CARD",
          "GAME CARD",
          "GAME CARD",
          "GAME CARD",
          "GAME CARD",
          "GAME CARD",
          "GAME CARD",
          "GAME CARD",
          "GAME CARD",
          "GAME CARD",
          "GAME CARD",
          "GAME CARD",
          "GAME CARD",
          "GAME CARD",
          "GAME CARD",
          "GAME CARD",
          "GAME CARD",
          "GAME CARD",
          "GAME CARD",
          "GAME CARD",
          "GAME CARD",
          "GAME CARD",
          "GAME CARD",
          "GAME CARD",
          "GAME CARD",
          "GAME CARD",
          "GAME CARD",
          "GAME CARD",
          "GAME CARD",
          "GAME CARD",
          "GAME CARD",
          "GAME CARD",
          "GAME CARD",
          "GAME CARD",
          "GAME CARD",
          "GAME CARD",
          "GAME CARD",
          "GAME CARD",
          "GAME CARD",
          "GAME CARD",
          "GAME CARD",
          "GAME CARD",
          "GAME CARD",
          "GAME CARD",
          "GAME CARD",
          "GAME CARD",
          "GAME CARD",
          "GAME CARD",
          "GAME CARD",
          "GAME CARD",
          "GAME CARD",
          "GAME CARD",
          "GAME CARD",
          "GAME CARD",
          "GAME CARD",
          "GAME CARD",
          "GAME CARD",
          "GAME CARD",
          "GAME CARD",
          "GAME CARD",
          "GAME CARD",
          "GAME CARD",
          "GAME CARD",
          "GAME CARD",
          "GAME CARD",
          "GAME CARD",
          "GAME CARD",
          "GAME CARD",
          "GAME CARD",
          "GAME CARD",
          "GAME CARD",
          "GAME CARD",
          "GAME CARD",
          "GAME CARD",
          "GAME CARD",
          "GAME CARD",
          "GAME CASINO",
          "GAME CASINO",
          "GAME CASINO",
          "GAME CASINO",
          "GAME CASINO",
          "GAME CASINO",
          "GAME CASINO",
          "GAME CASINO",
          "GAME CASINO",
          "GAME CASINO",
          "GAME CASINO",
          "GAME CASINO",
          "GAME CASINO",
          "GAME CASINO",
          "GAME CASINO",
          "GAME CASINO",
          "GAME CASINO",
          "GAME CASINO",
          "GAME CASINO",
          "GAME CASINO",
          "GAME CASINO",
          "GAME CASINO",
          "GAME CASINO",
          "GAME CASINO",
          "GAME CASINO",
          "GAME CASINO",
          "GAME CASINO",
          "GAME CASINO",
          "GAME CASINO",
          "GAME CASINO",
          "GAME CASINO",
          "GAME CASINO",
          "GAME CASINO",
          "GAME CASINO",
          "GAME CASINO",
          "GAME CASINO",
          "GAME CASINO",
          "GAME CASINO",
          "GAME CASINO",
          "GAME CASINO",
          "GAME CASINO",
          "GAME CASINO",
          "GAME CASINO",
          "GAME CASINO",
          "GAME CASINO",
          "GAME CASINO",
          "GAME CASINO",
          "GAME CASINO",
          "GAME CASINO",
          "GAME CASINO",
          "GAME CASINO",
          "GAME CASINO",
          "GAME CASINO",
          "GAME CASINO",
          "GAME CASINO",
          "GAME CASINO",
          "GAME CASINO",
          "GAME CASINO",
          "GAME CASINO",
          "GAME CASINO",
          "GAME CASINO",
          "GAME CASINO",
          "GAME CASINO",
          "GAME CASINO",
          "GAME CASINO",
          "GAME CASINO",
          "GAME CASINO",
          "GAME CASINO",
          "GAME CASINO",
          "GAME CASINO",
          "GAME CASINO",
          "GAME CASINO",
          "GAME CASINO",
          "GAME CASINO",
          "GAME CASINO",
          "GAME CASINO",
          "GAME CASINO",
          "GAME CASINO",
          "GAME CASINO",
          "GAME CASINO",
          "GAME CASINO",
          "GAME CASINO",
          "GAME CASINO",
          "GAME CASINO",
          "GAME CASINO",
          "GAME CASINO",
          "GAME CASINO",
          "GAME CASINO",
          "GAME CASINO",
          "GAME CASINO",
          "GAME CASINO",
          "GAME CASINO",
          "GAME CASINO",
          "GAME CASINO",
          "GAME CASINO",
          "GAME CASINO",
          "GAME CASINO",
          "GAME CASINO",
          "GAME CASINO",
          "GAME CASINO",
          "GAME CASUAL",
          "GAME CASUAL",
          "GAME CASUAL",
          "GAME CASUAL",
          "GAME CASUAL",
          "GAME CASUAL",
          "GAME CASUAL",
          "GAME CASUAL",
          "GAME CASUAL",
          "GAME CASUAL",
          "GAME CASUAL",
          "GAME CASUAL",
          "GAME CASUAL",
          "GAME CASUAL",
          "GAME CASUAL",
          "GAME CASUAL",
          "GAME CASUAL",
          "GAME CASUAL",
          "GAME CASUAL",
          "GAME CASUAL",
          "GAME CASUAL",
          "GAME CASUAL",
          "GAME CASUAL",
          "GAME CASUAL",
          "GAME CASUAL",
          "GAME CASUAL",
          "GAME CASUAL",
          "GAME CASUAL",
          "GAME CASUAL",
          "GAME CASUAL",
          "GAME CASUAL",
          "GAME CASUAL",
          "GAME CASUAL",
          "GAME CASUAL",
          "GAME CASUAL",
          "GAME CASUAL",
          "GAME CASUAL",
          "GAME CASUAL",
          "GAME CASUAL",
          "GAME CASUAL",
          "GAME CASUAL",
          "GAME CASUAL",
          "GAME CASUAL",
          "GAME CASUAL",
          "GAME CASUAL",
          "GAME CASUAL",
          "GAME CASUAL",
          "GAME CASUAL",
          "GAME CASUAL",
          "GAME CASUAL",
          "GAME CASUAL",
          "GAME CASUAL",
          "GAME CASUAL",
          "GAME CASUAL",
          "GAME CASUAL",
          "GAME CASUAL",
          "GAME CASUAL",
          "GAME CASUAL",
          "GAME CASUAL",
          "GAME CASUAL",
          "GAME CASUAL",
          "GAME CASUAL",
          "GAME CASUAL",
          "GAME CASUAL",
          "GAME CASUAL",
          "GAME CASUAL",
          "GAME CASUAL",
          "GAME CASUAL",
          "GAME CASUAL",
          "GAME CASUAL",
          "GAME CASUAL",
          "GAME CASUAL",
          "GAME CASUAL",
          "GAME CASUAL",
          "GAME CASUAL",
          "GAME CASUAL",
          "GAME CASUAL",
          "GAME CASUAL",
          "GAME CASUAL",
          "GAME CASUAL",
          "GAME CASUAL",
          "GAME CASUAL",
          "GAME CASUAL",
          "GAME CASUAL",
          "GAME CASUAL",
          "GAME CASUAL",
          "GAME CASUAL",
          "GAME CASUAL",
          "GAME CASUAL",
          "GAME CASUAL",
          "GAME CASUAL",
          "GAME CASUAL",
          "GAME CASUAL",
          "GAME CASUAL",
          "GAME CASUAL",
          "GAME CASUAL",
          "GAME CASUAL",
          "GAME CASUAL",
          "GAME CASUAL",
          "GAME CASUAL",
          "GAME CASUAL",
          "GAME CASUAL",
          "GAME EDUCATIONAL",
          "GAME EDUCATIONAL",
          "GAME EDUCATIONAL",
          "GAME EDUCATIONAL",
          "GAME EDUCATIONAL",
          "GAME EDUCATIONAL",
          "GAME EDUCATIONAL",
          "GAME EDUCATIONAL",
          "GAME EDUCATIONAL",
          "GAME EDUCATIONAL",
          "GAME EDUCATIONAL",
          "GAME EDUCATIONAL",
          "GAME EDUCATIONAL",
          "GAME EDUCATIONAL",
          "GAME EDUCATIONAL",
          "GAME EDUCATIONAL",
          "GAME EDUCATIONAL",
          "GAME EDUCATIONAL",
          "GAME EDUCATIONAL",
          "GAME EDUCATIONAL",
          "GAME EDUCATIONAL",
          "GAME EDUCATIONAL",
          "GAME EDUCATIONAL",
          "GAME EDUCATIONAL",
          "GAME EDUCATIONAL",
          "GAME EDUCATIONAL",
          "GAME EDUCATIONAL",
          "GAME EDUCATIONAL",
          "GAME EDUCATIONAL",
          "GAME EDUCATIONAL",
          "GAME EDUCATIONAL",
          "GAME EDUCATIONAL",
          "GAME EDUCATIONAL",
          "GAME EDUCATIONAL",
          "GAME EDUCATIONAL",
          "GAME EDUCATIONAL",
          "GAME EDUCATIONAL",
          "GAME EDUCATIONAL",
          "GAME EDUCATIONAL",
          "GAME EDUCATIONAL",
          "GAME EDUCATIONAL",
          "GAME EDUCATIONAL",
          "GAME EDUCATIONAL",
          "GAME EDUCATIONAL",
          "GAME EDUCATIONAL",
          "GAME EDUCATIONAL",
          "GAME EDUCATIONAL",
          "GAME EDUCATIONAL",
          "GAME EDUCATIONAL",
          "GAME EDUCATIONAL",
          "GAME EDUCATIONAL",
          "GAME EDUCATIONAL",
          "GAME EDUCATIONAL",
          "GAME EDUCATIONAL",
          "GAME EDUCATIONAL",
          "GAME EDUCATIONAL",
          "GAME EDUCATIONAL",
          "GAME EDUCATIONAL",
          "GAME EDUCATIONAL",
          "GAME EDUCATIONAL",
          "GAME EDUCATIONAL",
          "GAME EDUCATIONAL",
          "GAME EDUCATIONAL",
          "GAME EDUCATIONAL",
          "GAME EDUCATIONAL",
          "GAME EDUCATIONAL",
          "GAME EDUCATIONAL",
          "GAME EDUCATIONAL",
          "GAME EDUCATIONAL",
          "GAME EDUCATIONAL",
          "GAME EDUCATIONAL",
          "GAME EDUCATIONAL",
          "GAME EDUCATIONAL",
          "GAME EDUCATIONAL",
          "GAME EDUCATIONAL",
          "GAME EDUCATIONAL",
          "GAME EDUCATIONAL",
          "GAME EDUCATIONAL",
          "GAME EDUCATIONAL",
          "GAME EDUCATIONAL",
          "GAME EDUCATIONAL",
          "GAME EDUCATIONAL",
          "GAME EDUCATIONAL",
          "GAME EDUCATIONAL",
          "GAME EDUCATIONAL",
          "GAME EDUCATIONAL",
          "GAME EDUCATIONAL",
          "GAME EDUCATIONAL",
          "GAME EDUCATIONAL",
          "GAME EDUCATIONAL",
          "GAME EDUCATIONAL",
          "GAME EDUCATIONAL",
          "GAME EDUCATIONAL",
          "GAME EDUCATIONAL",
          "GAME EDUCATIONAL",
          "GAME EDUCATIONAL",
          "GAME EDUCATIONAL",
          "GAME EDUCATIONAL",
          "GAME EDUCATIONAL",
          "GAME EDUCATIONAL",
          "GAME FAMILY",
          "GAME FAMILY",
          "GAME FAMILY",
          "GAME FAMILY",
          "GAME FAMILY",
          "GAME FAMILY",
          "GAME FAMILY",
          "GAME FAMILY",
          "GAME FAMILY",
          "GAME FAMILY",
          "GAME FAMILY",
          "GAME FAMILY",
          "GAME FAMILY",
          "GAME FAMILY",
          "GAME FAMILY",
          "GAME FAMILY",
          "GAME FAMILY",
          "GAME FAMILY",
          "GAME FAMILY",
          "GAME FAMILY",
          "GAME FAMILY",
          "GAME FAMILY",
          "GAME FAMILY",
          "GAME FAMILY",
          "GAME FAMILY",
          "GAME FAMILY",
          "GAME FAMILY",
          "GAME FAMILY",
          "GAME FAMILY",
          "GAME FAMILY",
          "GAME FAMILY",
          "GAME FAMILY",
          "GAME FAMILY",
          "GAME FAMILY",
          "GAME FAMILY",
          "GAME FAMILY",
          "GAME FAMILY",
          "GAME FAMILY",
          "GAME FAMILY",
          "GAME FAMILY",
          "GAME FAMILY",
          "GAME FAMILY",
          "GAME FAMILY",
          "GAME FAMILY",
          "GAME FAMILY",
          "GAME FAMILY",
          "GAME FAMILY",
          "GAME FAMILY",
          "GAME FAMILY",
          "GAME FAMILY",
          "GAME FAMILY",
          "GAME FAMILY",
          "GAME FAMILY",
          "GAME FAMILY",
          "GAME FAMILY",
          "GAME FAMILY",
          "GAME FAMILY",
          "GAME FAMILY",
          "GAME FAMILY",
          "GAME FAMILY",
          "GAME FAMILY",
          "GAME FAMILY",
          "GAME FAMILY",
          "GAME FAMILY",
          "GAME FAMILY",
          "GAME FAMILY",
          "GAME FAMILY",
          "GAME FAMILY",
          "GAME FAMILY",
          "GAME FAMILY",
          "GAME FAMILY",
          "GAME FAMILY",
          "GAME FAMILY",
          "GAME FAMILY",
          "GAME FAMILY",
          "GAME FAMILY",
          "GAME FAMILY",
          "GAME FAMILY",
          "GAME FAMILY",
          "GAME FAMILY",
          "GAME FAMILY",
          "GAME FAMILY",
          "GAME FAMILY",
          "GAME FAMILY",
          "GAME FAMILY",
          "GAME FAMILY",
          "GAME FAMILY",
          "GAME FAMILY",
          "GAME FAMILY",
          "GAME FAMILY",
          "GAME FAMILY",
          "GAME FAMILY",
          "GAME FAMILY",
          "GAME FAMILY",
          "GAME FAMILY",
          "GAME FAMILY",
          "GAME FAMILY",
          "GAME FAMILY",
          "GAME FAMILY",
          "GAME FAMILY",
          "GAME MUSIC",
          "GAME MUSIC",
          "GAME MUSIC",
          "GAME MUSIC",
          "GAME MUSIC",
          "GAME MUSIC",
          "GAME MUSIC",
          "GAME MUSIC",
          "GAME MUSIC",
          "GAME MUSIC",
          "GAME MUSIC",
          "GAME MUSIC",
          "GAME MUSIC",
          "GAME MUSIC",
          "GAME MUSIC",
          "GAME MUSIC",
          "GAME MUSIC",
          "GAME MUSIC",
          "GAME MUSIC",
          "GAME MUSIC",
          "GAME MUSIC",
          "GAME MUSIC",
          "GAME MUSIC",
          "GAME MUSIC",
          "GAME MUSIC",
          "GAME MUSIC",
          "GAME MUSIC",
          "GAME MUSIC",
          "GAME MUSIC",
          "GAME MUSIC",
          "GAME MUSIC",
          "GAME MUSIC",
          "GAME MUSIC",
          "GAME MUSIC",
          "GAME MUSIC",
          "GAME MUSIC",
          "GAME MUSIC",
          "GAME MUSIC",
          "GAME MUSIC",
          "GAME MUSIC",
          "GAME MUSIC",
          "GAME MUSIC",
          "GAME MUSIC",
          "GAME MUSIC",
          "GAME MUSIC",
          "GAME MUSIC",
          "GAME MUSIC",
          "GAME MUSIC",
          "GAME MUSIC",
          "GAME MUSIC",
          "GAME MUSIC",
          "GAME MUSIC",
          "GAME MUSIC",
          "GAME MUSIC",
          "GAME MUSIC",
          "GAME MUSIC",
          "GAME MUSIC",
          "GAME MUSIC",
          "GAME MUSIC",
          "GAME MUSIC",
          "GAME MUSIC",
          "GAME MUSIC",
          "GAME MUSIC",
          "GAME MUSIC",
          "GAME MUSIC",
          "GAME MUSIC",
          "GAME MUSIC",
          "GAME MUSIC",
          "GAME MUSIC",
          "GAME MUSIC",
          "GAME MUSIC",
          "GAME MUSIC",
          "GAME MUSIC",
          "GAME MUSIC",
          "GAME MUSIC",
          "GAME MUSIC",
          "GAME MUSIC",
          "GAME MUSIC",
          "GAME MUSIC",
          "GAME MUSIC",
          "GAME MUSIC",
          "GAME MUSIC",
          "GAME MUSIC",
          "GAME MUSIC",
          "GAME MUSIC",
          "GAME MUSIC",
          "GAME MUSIC",
          "GAME MUSIC",
          "GAME MUSIC",
          "GAME MUSIC",
          "GAME MUSIC",
          "GAME MUSIC",
          "GAME MUSIC",
          "GAME MUSIC",
          "GAME MUSIC",
          "GAME MUSIC",
          "GAME MUSIC",
          "GAME MUSIC",
          "GAME MUSIC",
          "GAME MUSIC",
          "GAME PUZZLE",
          "GAME PUZZLE",
          "GAME PUZZLE",
          "GAME PUZZLE",
          "GAME PUZZLE",
          "GAME PUZZLE",
          "GAME PUZZLE",
          "GAME PUZZLE",
          "GAME PUZZLE",
          "GAME PUZZLE",
          "GAME PUZZLE",
          "GAME PUZZLE",
          "GAME PUZZLE",
          "GAME PUZZLE",
          "GAME PUZZLE",
          "GAME PUZZLE",
          "GAME PUZZLE",
          "GAME PUZZLE",
          "GAME PUZZLE",
          "GAME PUZZLE",
          "GAME PUZZLE",
          "GAME PUZZLE",
          "GAME PUZZLE",
          "GAME PUZZLE",
          "GAME PUZZLE",
          "GAME PUZZLE",
          "GAME PUZZLE",
          "GAME PUZZLE",
          "GAME PUZZLE",
          "GAME PUZZLE",
          "GAME PUZZLE",
          "GAME PUZZLE",
          "GAME PUZZLE",
          "GAME PUZZLE",
          "GAME PUZZLE",
          "GAME PUZZLE",
          "GAME PUZZLE",
          "GAME PUZZLE",
          "GAME PUZZLE",
          "GAME PUZZLE",
          "GAME PUZZLE",
          "GAME PUZZLE",
          "GAME PUZZLE",
          "GAME PUZZLE",
          "GAME PUZZLE",
          "GAME PUZZLE",
          "GAME PUZZLE",
          "GAME PUZZLE",
          "GAME PUZZLE",
          "GAME PUZZLE",
          "GAME PUZZLE",
          "GAME PUZZLE",
          "GAME PUZZLE",
          "GAME PUZZLE",
          "GAME PUZZLE",
          "GAME PUZZLE",
          "GAME PUZZLE",
          "GAME PUZZLE",
          "GAME PUZZLE",
          "GAME PUZZLE",
          "GAME PUZZLE",
          "GAME PUZZLE",
          "GAME PUZZLE",
          "GAME PUZZLE",
          "GAME PUZZLE",
          "GAME PUZZLE",
          "GAME PUZZLE",
          "GAME PUZZLE",
          "GAME PUZZLE",
          "GAME PUZZLE",
          "GAME PUZZLE",
          "GAME PUZZLE",
          "GAME PUZZLE",
          "GAME PUZZLE",
          "GAME PUZZLE",
          "GAME PUZZLE",
          "GAME PUZZLE",
          "GAME PUZZLE",
          "GAME PUZZLE",
          "GAME PUZZLE",
          "GAME PUZZLE",
          "GAME PUZZLE",
          "GAME PUZZLE",
          "GAME PUZZLE",
          "GAME PUZZLE",
          "GAME PUZZLE",
          "GAME PUZZLE",
          "GAME PUZZLE",
          "GAME PUZZLE",
          "GAME PUZZLE",
          "GAME PUZZLE",
          "GAME PUZZLE",
          "GAME PUZZLE",
          "GAME PUZZLE",
          "GAME PUZZLE",
          "GAME PUZZLE",
          "GAME PUZZLE",
          "GAME PUZZLE",
          "GAME PUZZLE",
          "GAME PUZZLE",
          "GAME RACING",
          "GAME RACING",
          "GAME RACING",
          "GAME RACING",
          "GAME RACING",
          "GAME RACING",
          "GAME RACING",
          "GAME RACING",
          "GAME RACING",
          "GAME RACING",
          "GAME RACING",
          "GAME RACING",
          "GAME RACING",
          "GAME RACING",
          "GAME RACING",
          "GAME RACING",
          "GAME RACING",
          "GAME RACING",
          "GAME RACING",
          "GAME RACING",
          "GAME RACING",
          "GAME RACING",
          "GAME RACING",
          "GAME RACING",
          "GAME RACING",
          "GAME RACING",
          "GAME RACING",
          "GAME RACING",
          "GAME RACING",
          "GAME RACING",
          "GAME RACING",
          "GAME RACING",
          "GAME RACING",
          "GAME RACING",
          "GAME RACING",
          "GAME RACING",
          "GAME RACING",
          "GAME RACING",
          "GAME RACING",
          "GAME RACING",
          "GAME RACING",
          "GAME RACING",
          "GAME RACING",
          "GAME RACING",
          "GAME RACING",
          "GAME RACING",
          "GAME RACING",
          "GAME RACING",
          "GAME RACING",
          "GAME RACING",
          "GAME RACING",
          "GAME RACING",
          "GAME RACING",
          "GAME RACING",
          "GAME RACING",
          "GAME RACING",
          "GAME RACING",
          "GAME RACING",
          "GAME RACING",
          "GAME RACING",
          "GAME RACING",
          "GAME RACING",
          "GAME RACING",
          "GAME RACING",
          "GAME RACING",
          "GAME RACING",
          "GAME RACING",
          "GAME RACING",
          "GAME RACING",
          "GAME RACING",
          "GAME RACING",
          "GAME RACING",
          "GAME RACING",
          "GAME RACING",
          "GAME RACING",
          "GAME RACING",
          "GAME RACING",
          "GAME RACING",
          "GAME RACING",
          "GAME RACING",
          "GAME RACING",
          "GAME RACING",
          "GAME RACING",
          "GAME RACING",
          "GAME RACING",
          "GAME RACING",
          "GAME RACING",
          "GAME RACING",
          "GAME RACING",
          "GAME RACING",
          "GAME RACING",
          "GAME RACING",
          "GAME RACING",
          "GAME RACING",
          "GAME RACING",
          "GAME RACING",
          "GAME RACING",
          "GAME RACING",
          "GAME RACING",
          "GAME RACING",
          "GAME ROLE PLAYING",
          "GAME ROLE PLAYING",
          "GAME ROLE PLAYING",
          "GAME ROLE PLAYING",
          "GAME ROLE PLAYING",
          "GAME ROLE PLAYING",
          "GAME ROLE PLAYING",
          "GAME ROLE PLAYING",
          "GAME ROLE PLAYING",
          "GAME ROLE PLAYING",
          "GAME ROLE PLAYING",
          "GAME ROLE PLAYING",
          "GAME ROLE PLAYING",
          "GAME ROLE PLAYING",
          "GAME ROLE PLAYING",
          "GAME ROLE PLAYING",
          "GAME ROLE PLAYING",
          "GAME ROLE PLAYING",
          "GAME ROLE PLAYING",
          "GAME ROLE PLAYING",
          "GAME ROLE PLAYING",
          "GAME ROLE PLAYING",
          "GAME ROLE PLAYING",
          "GAME ROLE PLAYING",
          "GAME ROLE PLAYING",
          "GAME ROLE PLAYING",
          "GAME ROLE PLAYING",
          "GAME ROLE PLAYING",
          "GAME ROLE PLAYING",
          "GAME ROLE PLAYING",
          "GAME ROLE PLAYING",
          "GAME ROLE PLAYING",
          "GAME ROLE PLAYING",
          "GAME ROLE PLAYING",
          "GAME ROLE PLAYING",
          "GAME ROLE PLAYING",
          "GAME ROLE PLAYING",
          "GAME ROLE PLAYING",
          "GAME ROLE PLAYING",
          "GAME ROLE PLAYING",
          "GAME ROLE PLAYING",
          "GAME ROLE PLAYING",
          "GAME ROLE PLAYING",
          "GAME ROLE PLAYING",
          "GAME ROLE PLAYING",
          "GAME ROLE PLAYING",
          "GAME ROLE PLAYING",
          "GAME ROLE PLAYING",
          "GAME ROLE PLAYING",
          "GAME ROLE PLAYING",
          "GAME ROLE PLAYING",
          "GAME ROLE PLAYING",
          "GAME ROLE PLAYING",
          "GAME ROLE PLAYING",
          "GAME ROLE PLAYING",
          "GAME ROLE PLAYING",
          "GAME ROLE PLAYING",
          "GAME ROLE PLAYING",
          "GAME ROLE PLAYING",
          "GAME ROLE PLAYING",
          "GAME ROLE PLAYING",
          "GAME ROLE PLAYING",
          "GAME ROLE PLAYING",
          "GAME ROLE PLAYING",
          "GAME ROLE PLAYING",
          "GAME ROLE PLAYING",
          "GAME ROLE PLAYING",
          "GAME ROLE PLAYING",
          "GAME ROLE PLAYING",
          "GAME ROLE PLAYING",
          "GAME ROLE PLAYING",
          "GAME ROLE PLAYING",
          "GAME ROLE PLAYING",
          "GAME ROLE PLAYING",
          "GAME ROLE PLAYING",
          "GAME ROLE PLAYING",
          "GAME ROLE PLAYING",
          "GAME ROLE PLAYING",
          "GAME ROLE PLAYING",
          "GAME ROLE PLAYING",
          "GAME ROLE PLAYING",
          "GAME ROLE PLAYING",
          "GAME ROLE PLAYING",
          "GAME ROLE PLAYING",
          "GAME ROLE PLAYING",
          "GAME ROLE PLAYING",
          "GAME ROLE PLAYING",
          "GAME ROLE PLAYING",
          "GAME ROLE PLAYING",
          "GAME ROLE PLAYING",
          "GAME ROLE PLAYING",
          "GAME ROLE PLAYING",
          "GAME ROLE PLAYING",
          "GAME ROLE PLAYING",
          "GAME ROLE PLAYING",
          "GAME ROLE PLAYING",
          "GAME ROLE PLAYING",
          "GAME ROLE PLAYING",
          "GAME ROLE PLAYING",
          "GAME ROLE PLAYING",
          "GAME SIMULATION",
          "GAME SIMULATION",
          "GAME SIMULATION",
          "GAME SIMULATION",
          "GAME SIMULATION",
          "GAME SIMULATION",
          "GAME SIMULATION",
          "GAME SIMULATION",
          "GAME SIMULATION",
          "GAME SIMULATION",
          "GAME SIMULATION",
          "GAME SIMULATION",
          "GAME SIMULATION",
          "GAME SIMULATION",
          "GAME SIMULATION",
          "GAME SIMULATION",
          "GAME SIMULATION",
          "GAME SIMULATION",
          "GAME SIMULATION",
          "GAME SIMULATION",
          "GAME SIMULATION",
          "GAME SIMULATION",
          "GAME SIMULATION",
          "GAME SIMULATION",
          "GAME SIMULATION",
          "GAME SIMULATION",
          "GAME SIMULATION",
          "GAME SIMULATION",
          "GAME SIMULATION",
          "GAME SIMULATION",
          "GAME SIMULATION",
          "GAME SIMULATION",
          "GAME SIMULATION",
          "GAME SIMULATION",
          "GAME SIMULATION",
          "GAME SIMULATION",
          "GAME SIMULATION",
          "GAME SIMULATION",
          "GAME SIMULATION",
          "GAME SIMULATION",
          "GAME SIMULATION",
          "GAME SIMULATION",
          "GAME SIMULATION",
          "GAME SIMULATION",
          "GAME SIMULATION",
          "GAME SIMULATION",
          "GAME SIMULATION",
          "GAME SIMULATION",
          "GAME SIMULATION",
          "GAME SIMULATION",
          "GAME SIMULATION",
          "GAME SIMULATION",
          "GAME SIMULATION",
          "GAME SIMULATION",
          "GAME SIMULATION",
          "GAME SIMULATION",
          "GAME SIMULATION",
          "GAME SIMULATION",
          "GAME SIMULATION",
          "GAME SIMULATION",
          "GAME SIMULATION",
          "GAME SIMULATION",
          "GAME SIMULATION",
          "GAME SIMULATION",
          "GAME SIMULATION",
          "GAME SIMULATION",
          "GAME SIMULATION",
          "GAME SIMULATION",
          "GAME SIMULATION",
          "GAME SIMULATION",
          "GAME SIMULATION",
          "GAME SIMULATION",
          "GAME SIMULATION",
          "GAME SIMULATION",
          "GAME SIMULATION",
          "GAME SIMULATION",
          "GAME SIMULATION",
          "GAME SIMULATION",
          "GAME SIMULATION",
          "GAME SIMULATION",
          "GAME SIMULATION",
          "GAME SIMULATION",
          "GAME SIMULATION",
          "GAME SIMULATION",
          "GAME SIMULATION",
          "GAME SIMULATION",
          "GAME SIMULATION",
          "GAME SIMULATION",
          "GAME SIMULATION",
          "GAME SIMULATION",
          "GAME SIMULATION",
          "GAME SIMULATION",
          "GAME SIMULATION",
          "GAME SIMULATION",
          "GAME SIMULATION",
          "GAME SIMULATION",
          "GAME SIMULATION",
          "GAME SIMULATION",
          "GAME SIMULATION",
          "GAME SIMULATION",
          "GAME SPORTS",
          "GAME SPORTS",
          "GAME SPORTS",
          "GAME SPORTS",
          "GAME SPORTS",
          "GAME SPORTS",
          "GAME SPORTS",
          "GAME SPORTS",
          "GAME SPORTS",
          "GAME SPORTS",
          "GAME SPORTS",
          "GAME SPORTS",
          "GAME SPORTS",
          "GAME SPORTS",
          "GAME SPORTS",
          "GAME SPORTS",
          "GAME SPORTS",
          "GAME SPORTS",
          "GAME SPORTS",
          "GAME SPORTS",
          "GAME SPORTS",
          "GAME SPORTS",
          "GAME SPORTS",
          "GAME SPORTS",
          "GAME SPORTS",
          "GAME SPORTS",
          "GAME SPORTS",
          "GAME SPORTS",
          "GAME SPORTS",
          "GAME SPORTS",
          "GAME SPORTS",
          "GAME SPORTS",
          "GAME SPORTS",
          "GAME SPORTS",
          "GAME SPORTS",
          "GAME SPORTS",
          "GAME SPORTS",
          "GAME SPORTS",
          "GAME SPORTS",
          "GAME SPORTS",
          "GAME SPORTS",
          "GAME SPORTS",
          "GAME SPORTS",
          "GAME SPORTS",
          "GAME SPORTS",
          "GAME SPORTS",
          "GAME SPORTS",
          "GAME SPORTS",
          "GAME SPORTS",
          "GAME SPORTS",
          "GAME SPORTS",
          "GAME SPORTS",
          "GAME SPORTS",
          "GAME SPORTS",
          "GAME SPORTS",
          "GAME SPORTS",
          "GAME SPORTS",
          "GAME SPORTS",
          "GAME SPORTS",
          "GAME SPORTS",
          "GAME SPORTS",
          "GAME SPORTS",
          "GAME SPORTS",
          "GAME SPORTS",
          "GAME SPORTS",
          "GAME SPORTS",
          "GAME SPORTS",
          "GAME SPORTS",
          "GAME SPORTS",
          "GAME SPORTS",
          "GAME SPORTS",
          "GAME SPORTS",
          "GAME SPORTS",
          "GAME SPORTS",
          "GAME SPORTS",
          "GAME SPORTS",
          "GAME SPORTS",
          "GAME SPORTS",
          "GAME SPORTS",
          "GAME SPORTS",
          "GAME SPORTS",
          "GAME SPORTS",
          "GAME SPORTS",
          "GAME SPORTS",
          "GAME SPORTS",
          "GAME SPORTS",
          "GAME SPORTS",
          "GAME SPORTS",
          "GAME SPORTS",
          "GAME SPORTS",
          "GAME SPORTS",
          "GAME SPORTS",
          "GAME SPORTS",
          "GAME SPORTS",
          "GAME SPORTS",
          "GAME SPORTS",
          "GAME SPORTS",
          "GAME SPORTS",
          "GAME SPORTS",
          "GAME SPORTS",
          "GAME STRATEGY",
          "GAME STRATEGY",
          "GAME STRATEGY",
          "GAME STRATEGY",
          "GAME STRATEGY",
          "GAME STRATEGY",
          "GAME STRATEGY",
          "GAME STRATEGY",
          "GAME STRATEGY",
          "GAME STRATEGY",
          "GAME STRATEGY",
          "GAME STRATEGY",
          "GAME STRATEGY",
          "GAME STRATEGY",
          "GAME STRATEGY",
          "GAME STRATEGY",
          "GAME STRATEGY",
          "GAME STRATEGY",
          "GAME STRATEGY",
          "GAME STRATEGY",
          "GAME STRATEGY",
          "GAME STRATEGY",
          "GAME STRATEGY",
          "GAME STRATEGY",
          "GAME STRATEGY",
          "GAME STRATEGY",
          "GAME STRATEGY",
          "GAME STRATEGY",
          "GAME STRATEGY",
          "GAME STRATEGY",
          "GAME STRATEGY",
          "GAME STRATEGY",
          "GAME STRATEGY",
          "GAME STRATEGY",
          "GAME STRATEGY",
          "GAME STRATEGY",
          "GAME STRATEGY",
          "GAME STRATEGY",
          "GAME STRATEGY",
          "GAME STRATEGY",
          "GAME STRATEGY",
          "GAME STRATEGY",
          "GAME STRATEGY",
          "GAME STRATEGY",
          "GAME STRATEGY",
          "GAME STRATEGY",
          "GAME STRATEGY",
          "GAME STRATEGY",
          "GAME STRATEGY",
          "GAME STRATEGY",
          "GAME STRATEGY",
          "GAME STRATEGY",
          "GAME STRATEGY",
          "GAME STRATEGY",
          "GAME STRATEGY",
          "GAME STRATEGY",
          "GAME STRATEGY",
          "GAME STRATEGY",
          "GAME STRATEGY",
          "GAME STRATEGY",
          "GAME STRATEGY",
          "GAME STRATEGY",
          "GAME STRATEGY",
          "GAME STRATEGY",
          "GAME STRATEGY",
          "GAME STRATEGY",
          "GAME STRATEGY",
          "GAME STRATEGY",
          "GAME STRATEGY",
          "GAME STRATEGY",
          "GAME STRATEGY",
          "GAME STRATEGY",
          "GAME STRATEGY",
          "GAME STRATEGY",
          "GAME STRATEGY",
          "GAME STRATEGY",
          "GAME STRATEGY",
          "GAME STRATEGY",
          "GAME STRATEGY",
          "GAME STRATEGY",
          "GAME STRATEGY",
          "GAME STRATEGY",
          "GAME STRATEGY",
          "GAME STRATEGY",
          "GAME STRATEGY",
          "GAME STRATEGY",
          "GAME STRATEGY",
          "GAME STRATEGY",
          "GAME STRATEGY",
          "GAME STRATEGY",
          "GAME STRATEGY",
          "GAME STRATEGY",
          "GAME STRATEGY",
          "GAME STRATEGY",
          "GAME STRATEGY",
          "GAME STRATEGY",
          "GAME STRATEGY",
          "GAME STRATEGY",
          "GAME STRATEGY",
          "GAME STRATEGY",
          "GAME TRIVIA",
          "GAME TRIVIA",
          "GAME TRIVIA",
          "GAME TRIVIA",
          "GAME TRIVIA",
          "GAME TRIVIA",
          "GAME TRIVIA",
          "GAME TRIVIA",
          "GAME TRIVIA",
          "GAME TRIVIA",
          "GAME TRIVIA",
          "GAME TRIVIA",
          "GAME TRIVIA",
          "GAME TRIVIA",
          "GAME TRIVIA",
          "GAME TRIVIA",
          "GAME TRIVIA",
          "GAME TRIVIA",
          "GAME TRIVIA",
          "GAME TRIVIA",
          "GAME TRIVIA",
          "GAME TRIVIA",
          "GAME TRIVIA",
          "GAME TRIVIA",
          "GAME TRIVIA",
          "GAME TRIVIA",
          "GAME TRIVIA",
          "GAME TRIVIA",
          "GAME TRIVIA",
          "GAME TRIVIA",
          "GAME TRIVIA",
          "GAME TRIVIA",
          "GAME TRIVIA",
          "GAME TRIVIA",
          "GAME TRIVIA",
          "GAME TRIVIA",
          "GAME TRIVIA",
          "GAME TRIVIA",
          "GAME TRIVIA",
          "GAME TRIVIA",
          "GAME TRIVIA",
          "GAME TRIVIA",
          "GAME TRIVIA",
          "GAME TRIVIA",
          "GAME TRIVIA",
          "GAME TRIVIA",
          "GAME TRIVIA",
          "GAME TRIVIA",
          "GAME TRIVIA",
          "GAME TRIVIA",
          "GAME TRIVIA",
          "GAME TRIVIA",
          "GAME TRIVIA",
          "GAME TRIVIA",
          "GAME TRIVIA",
          "GAME TRIVIA",
          "GAME TRIVIA",
          "GAME TRIVIA",
          "GAME TRIVIA",
          "GAME TRIVIA",
          "GAME TRIVIA",
          "GAME TRIVIA",
          "GAME TRIVIA",
          "GAME TRIVIA",
          "GAME TRIVIA",
          "GAME TRIVIA",
          "GAME TRIVIA",
          "GAME TRIVIA",
          "GAME TRIVIA",
          "GAME TRIVIA",
          "GAME TRIVIA",
          "GAME TRIVIA",
          "GAME TRIVIA",
          "GAME TRIVIA",
          "GAME TRIVIA",
          "GAME TRIVIA",
          "GAME TRIVIA",
          "GAME TRIVIA",
          "GAME TRIVIA",
          "GAME TRIVIA",
          "GAME TRIVIA",
          "GAME TRIVIA",
          "GAME TRIVIA",
          "GAME TRIVIA",
          "GAME TRIVIA",
          "GAME TRIVIA",
          "GAME TRIVIA",
          "GAME TRIVIA",
          "GAME TRIVIA",
          "GAME TRIVIA",
          "GAME TRIVIA",
          "GAME TRIVIA",
          "GAME TRIVIA",
          "GAME TRIVIA",
          "GAME TRIVIA",
          "GAME TRIVIA",
          "GAME TRIVIA",
          "GAME TRIVIA",
          "GAME TRIVIA",
          "GAME TRIVIA",
          "GAME WORD",
          "GAME WORD",
          "GAME WORD",
          "GAME WORD",
          "GAME WORD",
          "GAME WORD",
          "GAME WORD",
          "GAME WORD",
          "GAME WORD",
          "GAME WORD",
          "GAME WORD",
          "GAME WORD",
          "GAME WORD",
          "GAME WORD",
          "GAME WORD",
          "GAME WORD",
          "GAME WORD",
          "GAME WORD",
          "GAME WORD",
          "GAME WORD",
          "GAME WORD",
          "GAME WORD",
          "GAME WORD",
          "GAME WORD",
          "GAME WORD",
          "GAME WORD",
          "GAME WORD",
          "GAME WORD",
          "GAME WORD",
          "GAME WORD",
          "GAME WORD",
          "GAME WORD",
          "GAME WORD",
          "GAME WORD",
          "GAME WORD",
          "GAME WORD",
          "GAME WORD",
          "GAME WORD",
          "GAME WORD",
          "GAME WORD",
          "GAME WORD",
          "GAME WORD",
          "GAME WORD",
          "GAME WORD",
          "GAME WORD",
          "GAME WORD",
          "GAME WORD",
          "GAME WORD",
          "GAME WORD",
          "GAME WORD",
          "GAME WORD",
          "GAME WORD",
          "GAME WORD",
          "GAME WORD",
          "GAME WORD",
          "GAME WORD",
          "GAME WORD",
          "GAME WORD",
          "GAME WORD",
          "GAME WORD",
          "GAME WORD",
          "GAME WORD",
          "GAME WORD",
          "GAME WORD",
          "GAME WORD",
          "GAME WORD",
          "GAME WORD",
          "GAME WORD",
          "GAME WORD",
          "GAME WORD",
          "GAME WORD",
          "GAME WORD",
          "GAME WORD",
          "GAME WORD",
          "GAME WORD",
          "GAME WORD",
          "GAME WORD",
          "GAME WORD",
          "GAME WORD",
          "GAME WORD",
          "GAME WORD",
          "GAME WORD",
          "GAME WORD",
          "GAME WORD",
          "GAME WORD",
          "GAME WORD",
          "GAME WORD",
          "GAME WORD",
          "GAME WORD",
          "GAME WORD",
          "GAME WORD",
          "GAME WORD",
          "GAME WORD",
          "GAME WORD",
          "GAME WORD",
          "GAME WORD",
          "GAME WORD",
          "GAME WORD",
          "GAME WORD",
          "GAME WORD",
          "GAME WORD",
          "GAME WORD",
          "GAME WORD",
          "GAME WORD",
          "GAME WORD",
          "GAME WORD"
         ],
         "legendgroup": "",
         "name": "",
         "showlegend": true,
         "type": "pie"
        }
       ],
       "layout": {
        "legend": {
         "tracegroupgap": 0
        },
        "template": {
         "data": {
          "bar": [
           {
            "error_x": {
             "color": "#2a3f5f"
            },
            "error_y": {
             "color": "#2a3f5f"
            },
            "marker": {
             "line": {
              "color": "#E5ECF6",
              "width": 0.5
             }
            },
            "type": "bar"
           }
          ],
          "barpolar": [
           {
            "marker": {
             "line": {
              "color": "#E5ECF6",
              "width": 0.5
             }
            },
            "type": "barpolar"
           }
          ],
          "carpet": [
           {
            "aaxis": {
             "endlinecolor": "#2a3f5f",
             "gridcolor": "white",
             "linecolor": "white",
             "minorgridcolor": "white",
             "startlinecolor": "#2a3f5f"
            },
            "baxis": {
             "endlinecolor": "#2a3f5f",
             "gridcolor": "white",
             "linecolor": "white",
             "minorgridcolor": "white",
             "startlinecolor": "#2a3f5f"
            },
            "type": "carpet"
           }
          ],
          "choropleth": [
           {
            "colorbar": {
             "outlinewidth": 0,
             "ticks": ""
            },
            "type": "choropleth"
           }
          ],
          "contour": [
           {
            "colorbar": {
             "outlinewidth": 0,
             "ticks": ""
            },
            "colorscale": [
             [
              0,
              "#0d0887"
             ],
             [
              0.1111111111111111,
              "#46039f"
             ],
             [
              0.2222222222222222,
              "#7201a8"
             ],
             [
              0.3333333333333333,
              "#9c179e"
             ],
             [
              0.4444444444444444,
              "#bd3786"
             ],
             [
              0.5555555555555556,
              "#d8576b"
             ],
             [
              0.6666666666666666,
              "#ed7953"
             ],
             [
              0.7777777777777778,
              "#fb9f3a"
             ],
             [
              0.8888888888888888,
              "#fdca26"
             ],
             [
              1,
              "#f0f921"
             ]
            ],
            "type": "contour"
           }
          ],
          "contourcarpet": [
           {
            "colorbar": {
             "outlinewidth": 0,
             "ticks": ""
            },
            "type": "contourcarpet"
           }
          ],
          "heatmap": [
           {
            "colorbar": {
             "outlinewidth": 0,
             "ticks": ""
            },
            "colorscale": [
             [
              0,
              "#0d0887"
             ],
             [
              0.1111111111111111,
              "#46039f"
             ],
             [
              0.2222222222222222,
              "#7201a8"
             ],
             [
              0.3333333333333333,
              "#9c179e"
             ],
             [
              0.4444444444444444,
              "#bd3786"
             ],
             [
              0.5555555555555556,
              "#d8576b"
             ],
             [
              0.6666666666666666,
              "#ed7953"
             ],
             [
              0.7777777777777778,
              "#fb9f3a"
             ],
             [
              0.8888888888888888,
              "#fdca26"
             ],
             [
              1,
              "#f0f921"
             ]
            ],
            "type": "heatmap"
           }
          ],
          "heatmapgl": [
           {
            "colorbar": {
             "outlinewidth": 0,
             "ticks": ""
            },
            "colorscale": [
             [
              0,
              "#0d0887"
             ],
             [
              0.1111111111111111,
              "#46039f"
             ],
             [
              0.2222222222222222,
              "#7201a8"
             ],
             [
              0.3333333333333333,
              "#9c179e"
             ],
             [
              0.4444444444444444,
              "#bd3786"
             ],
             [
              0.5555555555555556,
              "#d8576b"
             ],
             [
              0.6666666666666666,
              "#ed7953"
             ],
             [
              0.7777777777777778,
              "#fb9f3a"
             ],
             [
              0.8888888888888888,
              "#fdca26"
             ],
             [
              1,
              "#f0f921"
             ]
            ],
            "type": "heatmapgl"
           }
          ],
          "histogram": [
           {
            "marker": {
             "colorbar": {
              "outlinewidth": 0,
              "ticks": ""
             }
            },
            "type": "histogram"
           }
          ],
          "histogram2d": [
           {
            "colorbar": {
             "outlinewidth": 0,
             "ticks": ""
            },
            "colorscale": [
             [
              0,
              "#0d0887"
             ],
             [
              0.1111111111111111,
              "#46039f"
             ],
             [
              0.2222222222222222,
              "#7201a8"
             ],
             [
              0.3333333333333333,
              "#9c179e"
             ],
             [
              0.4444444444444444,
              "#bd3786"
             ],
             [
              0.5555555555555556,
              "#d8576b"
             ],
             [
              0.6666666666666666,
              "#ed7953"
             ],
             [
              0.7777777777777778,
              "#fb9f3a"
             ],
             [
              0.8888888888888888,
              "#fdca26"
             ],
             [
              1,
              "#f0f921"
             ]
            ],
            "type": "histogram2d"
           }
          ],
          "histogram2dcontour": [
           {
            "colorbar": {
             "outlinewidth": 0,
             "ticks": ""
            },
            "colorscale": [
             [
              0,
              "#0d0887"
             ],
             [
              0.1111111111111111,
              "#46039f"
             ],
             [
              0.2222222222222222,
              "#7201a8"
             ],
             [
              0.3333333333333333,
              "#9c179e"
             ],
             [
              0.4444444444444444,
              "#bd3786"
             ],
             [
              0.5555555555555556,
              "#d8576b"
             ],
             [
              0.6666666666666666,
              "#ed7953"
             ],
             [
              0.7777777777777778,
              "#fb9f3a"
             ],
             [
              0.8888888888888888,
              "#fdca26"
             ],
             [
              1,
              "#f0f921"
             ]
            ],
            "type": "histogram2dcontour"
           }
          ],
          "mesh3d": [
           {
            "colorbar": {
             "outlinewidth": 0,
             "ticks": ""
            },
            "type": "mesh3d"
           }
          ],
          "parcoords": [
           {
            "line": {
             "colorbar": {
              "outlinewidth": 0,
              "ticks": ""
             }
            },
            "type": "parcoords"
           }
          ],
          "pie": [
           {
            "automargin": true,
            "type": "pie"
           }
          ],
          "scatter": [
           {
            "marker": {
             "colorbar": {
              "outlinewidth": 0,
              "ticks": ""
             }
            },
            "type": "scatter"
           }
          ],
          "scatter3d": [
           {
            "line": {
             "colorbar": {
              "outlinewidth": 0,
              "ticks": ""
             }
            },
            "marker": {
             "colorbar": {
              "outlinewidth": 0,
              "ticks": ""
             }
            },
            "type": "scatter3d"
           }
          ],
          "scattercarpet": [
           {
            "marker": {
             "colorbar": {
              "outlinewidth": 0,
              "ticks": ""
             }
            },
            "type": "scattercarpet"
           }
          ],
          "scattergeo": [
           {
            "marker": {
             "colorbar": {
              "outlinewidth": 0,
              "ticks": ""
             }
            },
            "type": "scattergeo"
           }
          ],
          "scattergl": [
           {
            "marker": {
             "colorbar": {
              "outlinewidth": 0,
              "ticks": ""
             }
            },
            "type": "scattergl"
           }
          ],
          "scattermapbox": [
           {
            "marker": {
             "colorbar": {
              "outlinewidth": 0,
              "ticks": ""
             }
            },
            "type": "scattermapbox"
           }
          ],
          "scatterpolar": [
           {
            "marker": {
             "colorbar": {
              "outlinewidth": 0,
              "ticks": ""
             }
            },
            "type": "scatterpolar"
           }
          ],
          "scatterpolargl": [
           {
            "marker": {
             "colorbar": {
              "outlinewidth": 0,
              "ticks": ""
             }
            },
            "type": "scatterpolargl"
           }
          ],
          "scatterternary": [
           {
            "marker": {
             "colorbar": {
              "outlinewidth": 0,
              "ticks": ""
             }
            },
            "type": "scatterternary"
           }
          ],
          "surface": [
           {
            "colorbar": {
             "outlinewidth": 0,
             "ticks": ""
            },
            "colorscale": [
             [
              0,
              "#0d0887"
             ],
             [
              0.1111111111111111,
              "#46039f"
             ],
             [
              0.2222222222222222,
              "#7201a8"
             ],
             [
              0.3333333333333333,
              "#9c179e"
             ],
             [
              0.4444444444444444,
              "#bd3786"
             ],
             [
              0.5555555555555556,
              "#d8576b"
             ],
             [
              0.6666666666666666,
              "#ed7953"
             ],
             [
              0.7777777777777778,
              "#fb9f3a"
             ],
             [
              0.8888888888888888,
              "#fdca26"
             ],
             [
              1,
              "#f0f921"
             ]
            ],
            "type": "surface"
           }
          ],
          "table": [
           {
            "cells": {
             "fill": {
              "color": "#EBF0F8"
             },
             "line": {
              "color": "white"
             }
            },
            "header": {
             "fill": {
              "color": "#C8D4E3"
             },
             "line": {
              "color": "white"
             }
            },
            "type": "table"
           }
          ]
         },
         "layout": {
          "annotationdefaults": {
           "arrowcolor": "#2a3f5f",
           "arrowhead": 0,
           "arrowwidth": 1
          },
          "autotypenumbers": "strict",
          "coloraxis": {
           "colorbar": {
            "outlinewidth": 0,
            "ticks": ""
           }
          },
          "colorscale": {
           "diverging": [
            [
             0,
             "#8e0152"
            ],
            [
             0.1,
             "#c51b7d"
            ],
            [
             0.2,
             "#de77ae"
            ],
            [
             0.3,
             "#f1b6da"
            ],
            [
             0.4,
             "#fde0ef"
            ],
            [
             0.5,
             "#f7f7f7"
            ],
            [
             0.6,
             "#e6f5d0"
            ],
            [
             0.7,
             "#b8e186"
            ],
            [
             0.8,
             "#7fbc41"
            ],
            [
             0.9,
             "#4d9221"
            ],
            [
             1,
             "#276419"
            ]
           ],
           "sequential": [
            [
             0,
             "#0d0887"
            ],
            [
             0.1111111111111111,
             "#46039f"
            ],
            [
             0.2222222222222222,
             "#7201a8"
            ],
            [
             0.3333333333333333,
             "#9c179e"
            ],
            [
             0.4444444444444444,
             "#bd3786"
            ],
            [
             0.5555555555555556,
             "#d8576b"
            ],
            [
             0.6666666666666666,
             "#ed7953"
            ],
            [
             0.7777777777777778,
             "#fb9f3a"
            ],
            [
             0.8888888888888888,
             "#fdca26"
            ],
            [
             1,
             "#f0f921"
            ]
           ],
           "sequentialminus": [
            [
             0,
             "#0d0887"
            ],
            [
             0.1111111111111111,
             "#46039f"
            ],
            [
             0.2222222222222222,
             "#7201a8"
            ],
            [
             0.3333333333333333,
             "#9c179e"
            ],
            [
             0.4444444444444444,
             "#bd3786"
            ],
            [
             0.5555555555555556,
             "#d8576b"
            ],
            [
             0.6666666666666666,
             "#ed7953"
            ],
            [
             0.7777777777777778,
             "#fb9f3a"
            ],
            [
             0.8888888888888888,
             "#fdca26"
            ],
            [
             1,
             "#f0f921"
            ]
           ]
          },
          "colorway": [
           "#636efa",
           "#EF553B",
           "#00cc96",
           "#ab63fa",
           "#FFA15A",
           "#19d3f3",
           "#FF6692",
           "#B6E880",
           "#FF97FF",
           "#FECB52"
          ],
          "font": {
           "color": "#2a3f5f"
          },
          "geo": {
           "bgcolor": "white",
           "lakecolor": "white",
           "landcolor": "#E5ECF6",
           "showlakes": true,
           "showland": true,
           "subunitcolor": "white"
          },
          "hoverlabel": {
           "align": "left"
          },
          "hovermode": "closest",
          "mapbox": {
           "style": "light"
          },
          "paper_bgcolor": "white",
          "plot_bgcolor": "#E5ECF6",
          "polar": {
           "angularaxis": {
            "gridcolor": "white",
            "linecolor": "white",
            "ticks": ""
           },
           "bgcolor": "#E5ECF6",
           "radialaxis": {
            "gridcolor": "white",
            "linecolor": "white",
            "ticks": ""
           }
          },
          "scene": {
           "xaxis": {
            "backgroundcolor": "#E5ECF6",
            "gridcolor": "white",
            "gridwidth": 2,
            "linecolor": "white",
            "showbackground": true,
            "ticks": "",
            "zerolinecolor": "white"
           },
           "yaxis": {
            "backgroundcolor": "#E5ECF6",
            "gridcolor": "white",
            "gridwidth": 2,
            "linecolor": "white",
            "showbackground": true,
            "ticks": "",
            "zerolinecolor": "white"
           },
           "zaxis": {
            "backgroundcolor": "#E5ECF6",
            "gridcolor": "white",
            "gridwidth": 2,
            "linecolor": "white",
            "showbackground": true,
            "ticks": "",
            "zerolinecolor": "white"
           }
          },
          "shapedefaults": {
           "line": {
            "color": "#2a3f5f"
           }
          },
          "ternary": {
           "aaxis": {
            "gridcolor": "white",
            "linecolor": "white",
            "ticks": ""
           },
           "baxis": {
            "gridcolor": "white",
            "linecolor": "white",
            "ticks": ""
           },
           "bgcolor": "#E5ECF6",
           "caxis": {
            "gridcolor": "white",
            "linecolor": "white",
            "ticks": ""
           }
          },
          "title": {
           "x": 0.05
          },
          "xaxis": {
           "automargin": true,
           "gridcolor": "white",
           "linecolor": "white",
           "ticks": "",
           "title": {
            "standoff": 15
           },
           "zerolinecolor": "white",
           "zerolinewidth": 2
          },
          "yaxis": {
           "automargin": true,
           "gridcolor": "white",
           "linecolor": "white",
           "ticks": "",
           "title": {
            "standoff": 15
           },
           "zerolinecolor": "white",
           "zerolinewidth": 2
          }
         }
        },
        "title": {
         "text": "The Percentage Of Each Game Category "
        }
       }
      },
      "text/html": [
       "<div>                            <div id=\"cc74d04a-d649-43cd-bc3e-64d901cb539d\" class=\"plotly-graph-div\" style=\"height:525px; width:100%;\"></div>            <script type=\"text/javascript\">                require([\"plotly\"], function(Plotly) {                    window.PLOTLYENV=window.PLOTLYENV || {};                                    if (document.getElementById(\"cc74d04a-d649-43cd-bc3e-64d901cb539d\")) {                    Plotly.newPlot(                        \"cc74d04a-d649-43cd-bc3e-64d901cb539d\",                        [{\"domain\": {\"x\": [0.0, 1.0], \"y\": [0.0, 1.0]}, \"hovertemplate\": \"category=%{label}<extra></extra>\", \"labels\": [\"GAME ACTION\", \"GAME ACTION\", \"GAME ACTION\", \"GAME ACTION\", \"GAME ACTION\", \"GAME ACTION\", \"GAME ACTION\", \"GAME ACTION\", \"GAME ACTION\", \"GAME ACTION\", \"GAME ACTION\", \"GAME ACTION\", \"GAME ACTION\", \"GAME ACTION\", \"GAME ACTION\", \"GAME ACTION\", \"GAME ACTION\", \"GAME ACTION\", \"GAME ACTION\", \"GAME ACTION\", \"GAME ACTION\", \"GAME ACTION\", \"GAME ACTION\", \"GAME ACTION\", \"GAME ACTION\", \"GAME ACTION\", \"GAME ACTION\", \"GAME ACTION\", \"GAME ACTION\", \"GAME ACTION\", \"GAME ACTION\", \"GAME ACTION\", \"GAME ACTION\", \"GAME ACTION\", \"GAME ACTION\", \"GAME ACTION\", \"GAME ACTION\", \"GAME ACTION\", \"GAME ACTION\", \"GAME ACTION\", \"GAME ACTION\", \"GAME ACTION\", \"GAME ACTION\", \"GAME ACTION\", \"GAME ACTION\", \"GAME ACTION\", \"GAME ACTION\", \"GAME ACTION\", \"GAME ACTION\", \"GAME ACTION\", \"GAME ACTION\", \"GAME ACTION\", \"GAME ACTION\", \"GAME ACTION\", \"GAME ACTION\", \"GAME ACTION\", \"GAME ACTION\", \"GAME ACTION\", \"GAME ACTION\", \"GAME ACTION\", \"GAME ACTION\", \"GAME ACTION\", \"GAME ACTION\", \"GAME ACTION\", \"GAME ACTION\", \"GAME ACTION\", \"GAME ACTION\", \"GAME ACTION\", \"GAME ACTION\", \"GAME ACTION\", \"GAME ACTION\", \"GAME ACTION\", \"GAME ACTION\", \"GAME ACTION\", \"GAME ACTION\", \"GAME ACTION\", \"GAME ACTION\", \"GAME ACTION\", \"GAME ACTION\", \"GAME ACTION\", \"GAME ACTION\", \"GAME ACTION\", \"GAME ACTION\", \"GAME ACTION\", \"GAME ACTION\", \"GAME ACTION\", \"GAME ACTION\", \"GAME ACTION\", \"GAME ACTION\", \"GAME ACTION\", \"GAME ACTION\", \"GAME ACTION\", \"GAME ACTION\", \"GAME ACTION\", \"GAME ACTION\", \"GAME ACTION\", \"GAME ACTION\", \"GAME ACTION\", \"GAME ACTION\", \"GAME ACTION\", \"GAME ADVENTURE\", \"GAME ADVENTURE\", \"GAME ADVENTURE\", \"GAME ADVENTURE\", \"GAME ADVENTURE\", \"GAME ADVENTURE\", \"GAME ADVENTURE\", \"GAME ADVENTURE\", \"GAME ADVENTURE\", \"GAME ADVENTURE\", \"GAME ADVENTURE\", \"GAME ADVENTURE\", \"GAME ADVENTURE\", \"GAME ADVENTURE\", \"GAME ADVENTURE\", \"GAME ADVENTURE\", \"GAME ADVENTURE\", \"GAME ADVENTURE\", \"GAME ADVENTURE\", \"GAME ADVENTURE\", \"GAME ADVENTURE\", \"GAME ADVENTURE\", \"GAME ADVENTURE\", \"GAME ADVENTURE\", \"GAME ADVENTURE\", \"GAME ADVENTURE\", \"GAME ADVENTURE\", \"GAME ADVENTURE\", \"GAME ADVENTURE\", \"GAME ADVENTURE\", \"GAME ADVENTURE\", \"GAME ADVENTURE\", \"GAME ADVENTURE\", \"GAME ADVENTURE\", \"GAME ADVENTURE\", \"GAME ADVENTURE\", \"GAME ADVENTURE\", \"GAME ADVENTURE\", \"GAME ADVENTURE\", \"GAME ADVENTURE\", \"GAME ADVENTURE\", \"GAME ADVENTURE\", \"GAME ADVENTURE\", \"GAME ADVENTURE\", \"GAME ADVENTURE\", \"GAME ADVENTURE\", \"GAME ADVENTURE\", \"GAME ADVENTURE\", \"GAME ADVENTURE\", \"GAME ADVENTURE\", \"GAME ADVENTURE\", \"GAME ADVENTURE\", \"GAME ADVENTURE\", \"GAME ADVENTURE\", \"GAME ADVENTURE\", \"GAME ADVENTURE\", \"GAME ADVENTURE\", \"GAME ADVENTURE\", \"GAME ADVENTURE\", \"GAME ADVENTURE\", \"GAME ADVENTURE\", \"GAME ADVENTURE\", \"GAME ADVENTURE\", \"GAME ADVENTURE\", \"GAME ADVENTURE\", \"GAME ADVENTURE\", \"GAME ADVENTURE\", \"GAME ADVENTURE\", \"GAME ADVENTURE\", \"GAME ADVENTURE\", \"GAME ADVENTURE\", \"GAME ADVENTURE\", \"GAME ADVENTURE\", \"GAME ADVENTURE\", \"GAME ADVENTURE\", \"GAME ADVENTURE\", \"GAME ADVENTURE\", \"GAME ADVENTURE\", \"GAME ADVENTURE\", \"GAME ADVENTURE\", \"GAME ADVENTURE\", \"GAME ADVENTURE\", \"GAME ADVENTURE\", \"GAME ADVENTURE\", \"GAME ADVENTURE\", \"GAME ADVENTURE\", \"GAME ADVENTURE\", \"GAME ADVENTURE\", \"GAME ADVENTURE\", \"GAME ADVENTURE\", \"GAME ADVENTURE\", \"GAME ADVENTURE\", \"GAME ADVENTURE\", \"GAME ADVENTURE\", \"GAME ADVENTURE\", \"GAME ADVENTURE\", \"GAME ADVENTURE\", \"GAME ADVENTURE\", \"GAME ADVENTURE\", \"GAME ADVENTURE\", \"GAME ARCADE\", \"GAME ARCADE\", \"GAME ARCADE\", \"GAME ARCADE\", \"GAME ARCADE\", \"GAME ARCADE\", \"GAME ARCADE\", \"GAME ARCADE\", \"GAME ARCADE\", \"GAME ARCADE\", \"GAME ARCADE\", \"GAME ARCADE\", \"GAME ARCADE\", \"GAME ARCADE\", \"GAME ARCADE\", \"GAME ARCADE\", \"GAME ARCADE\", \"GAME ARCADE\", \"GAME ARCADE\", \"GAME ARCADE\", \"GAME ARCADE\", \"GAME ARCADE\", \"GAME ARCADE\", \"GAME ARCADE\", \"GAME ARCADE\", \"GAME ARCADE\", \"GAME ARCADE\", \"GAME ARCADE\", \"GAME ARCADE\", \"GAME ARCADE\", \"GAME ARCADE\", \"GAME ARCADE\", \"GAME ARCADE\", \"GAME ARCADE\", \"GAME ARCADE\", \"GAME ARCADE\", \"GAME ARCADE\", \"GAME ARCADE\", \"GAME ARCADE\", \"GAME ARCADE\", \"GAME ARCADE\", \"GAME ARCADE\", \"GAME ARCADE\", \"GAME ARCADE\", \"GAME ARCADE\", \"GAME ARCADE\", \"GAME ARCADE\", \"GAME ARCADE\", \"GAME ARCADE\", \"GAME ARCADE\", \"GAME ARCADE\", \"GAME ARCADE\", \"GAME ARCADE\", \"GAME ARCADE\", \"GAME ARCADE\", \"GAME ARCADE\", \"GAME ARCADE\", \"GAME ARCADE\", \"GAME ARCADE\", \"GAME ARCADE\", \"GAME ARCADE\", \"GAME ARCADE\", \"GAME ARCADE\", \"GAME ARCADE\", \"GAME ARCADE\", \"GAME ARCADE\", \"GAME ARCADE\", \"GAME ARCADE\", \"GAME ARCADE\", \"GAME ARCADE\", \"GAME ARCADE\", \"GAME ARCADE\", \"GAME ARCADE\", \"GAME ARCADE\", \"GAME ARCADE\", \"GAME ARCADE\", \"GAME ARCADE\", \"GAME ARCADE\", \"GAME ARCADE\", \"GAME ARCADE\", \"GAME ARCADE\", \"GAME ARCADE\", \"GAME ARCADE\", \"GAME ARCADE\", \"GAME ARCADE\", \"GAME ARCADE\", \"GAME ARCADE\", \"GAME ARCADE\", \"GAME ARCADE\", \"GAME ARCADE\", \"GAME ARCADE\", \"GAME ARCADE\", \"GAME ARCADE\", \"GAME ARCADE\", \"GAME ARCADE\", \"GAME ARCADE\", \"GAME ARCADE\", \"GAME ARCADE\", \"GAME ARCADE\", \"GAME ARCADE\", \"GAME BOARD\", \"GAME BOARD\", \"GAME BOARD\", \"GAME BOARD\", \"GAME BOARD\", \"GAME BOARD\", \"GAME BOARD\", \"GAME BOARD\", \"GAME BOARD\", \"GAME BOARD\", \"GAME BOARD\", \"GAME BOARD\", \"GAME BOARD\", \"GAME BOARD\", \"GAME BOARD\", \"GAME BOARD\", \"GAME BOARD\", \"GAME BOARD\", \"GAME BOARD\", \"GAME BOARD\", \"GAME BOARD\", \"GAME BOARD\", \"GAME BOARD\", \"GAME BOARD\", \"GAME BOARD\", \"GAME BOARD\", \"GAME BOARD\", \"GAME BOARD\", \"GAME BOARD\", \"GAME BOARD\", \"GAME BOARD\", \"GAME BOARD\", \"GAME BOARD\", \"GAME BOARD\", \"GAME BOARD\", \"GAME BOARD\", \"GAME BOARD\", \"GAME BOARD\", \"GAME BOARD\", \"GAME BOARD\", \"GAME BOARD\", \"GAME BOARD\", \"GAME BOARD\", \"GAME BOARD\", \"GAME BOARD\", \"GAME BOARD\", \"GAME BOARD\", \"GAME BOARD\", \"GAME BOARD\", \"GAME BOARD\", \"GAME BOARD\", \"GAME BOARD\", \"GAME BOARD\", \"GAME BOARD\", \"GAME BOARD\", \"GAME BOARD\", \"GAME BOARD\", \"GAME BOARD\", \"GAME BOARD\", \"GAME BOARD\", \"GAME BOARD\", \"GAME BOARD\", \"GAME BOARD\", \"GAME BOARD\", \"GAME BOARD\", \"GAME BOARD\", \"GAME BOARD\", \"GAME BOARD\", \"GAME BOARD\", \"GAME BOARD\", \"GAME BOARD\", \"GAME BOARD\", \"GAME BOARD\", \"GAME BOARD\", \"GAME BOARD\", \"GAME BOARD\", \"GAME BOARD\", \"GAME BOARD\", \"GAME BOARD\", \"GAME BOARD\", \"GAME BOARD\", \"GAME BOARD\", \"GAME BOARD\", \"GAME BOARD\", \"GAME BOARD\", \"GAME BOARD\", \"GAME BOARD\", \"GAME BOARD\", \"GAME BOARD\", \"GAME BOARD\", \"GAME BOARD\", \"GAME BOARD\", \"GAME BOARD\", \"GAME BOARD\", \"GAME BOARD\", \"GAME BOARD\", \"GAME BOARD\", \"GAME BOARD\", \"GAME BOARD\", \"GAME BOARD\", \"GAME CARD\", \"GAME CARD\", \"GAME CARD\", \"GAME CARD\", \"GAME CARD\", \"GAME CARD\", \"GAME CARD\", \"GAME CARD\", \"GAME CARD\", \"GAME CARD\", \"GAME CARD\", \"GAME CARD\", \"GAME CARD\", \"GAME CARD\", \"GAME CARD\", \"GAME CARD\", \"GAME CARD\", \"GAME CARD\", \"GAME CARD\", \"GAME CARD\", \"GAME CARD\", \"GAME CARD\", \"GAME CARD\", \"GAME CARD\", \"GAME CARD\", \"GAME CARD\", \"GAME CARD\", \"GAME CARD\", \"GAME CARD\", \"GAME CARD\", \"GAME CARD\", \"GAME CARD\", \"GAME CARD\", \"GAME CARD\", \"GAME CARD\", \"GAME CARD\", \"GAME CARD\", \"GAME CARD\", \"GAME CARD\", \"GAME CARD\", \"GAME CARD\", \"GAME CARD\", \"GAME CARD\", \"GAME CARD\", \"GAME CARD\", \"GAME CARD\", \"GAME CARD\", \"GAME CARD\", \"GAME CARD\", \"GAME CARD\", \"GAME CARD\", \"GAME CARD\", \"GAME CARD\", \"GAME CARD\", \"GAME CARD\", \"GAME CARD\", \"GAME CARD\", \"GAME CARD\", \"GAME CARD\", \"GAME CARD\", \"GAME CARD\", \"GAME CARD\", \"GAME CARD\", \"GAME CARD\", \"GAME CARD\", \"GAME CARD\", \"GAME CARD\", \"GAME CARD\", \"GAME CARD\", \"GAME CARD\", \"GAME CARD\", \"GAME CARD\", \"GAME CARD\", \"GAME CARD\", \"GAME CARD\", \"GAME CARD\", \"GAME CARD\", \"GAME CARD\", \"GAME CARD\", \"GAME CARD\", \"GAME CARD\", \"GAME CARD\", \"GAME CARD\", \"GAME CARD\", \"GAME CARD\", \"GAME CARD\", \"GAME CARD\", \"GAME CARD\", \"GAME CARD\", \"GAME CARD\", \"GAME CARD\", \"GAME CARD\", \"GAME CARD\", \"GAME CARD\", \"GAME CARD\", \"GAME CARD\", \"GAME CARD\", \"GAME CARD\", \"GAME CARD\", \"GAME CARD\", \"GAME CARD\", \"GAME CARD\", \"GAME CARD\", \"GAME CARD\", \"GAME CARD\", \"GAME CARD\", \"GAME CARD\", \"GAME CARD\", \"GAME CARD\", \"GAME CARD\", \"GAME CARD\", \"GAME CARD\", \"GAME CARD\", \"GAME CARD\", \"GAME CARD\", \"GAME CARD\", \"GAME CARD\", \"GAME CARD\", \"GAME CARD\", \"GAME CARD\", \"GAME CARD\", \"GAME CARD\", \"GAME CASINO\", \"GAME CASINO\", \"GAME CASINO\", \"GAME CASINO\", \"GAME CASINO\", \"GAME CASINO\", \"GAME CASINO\", \"GAME CASINO\", \"GAME CASINO\", \"GAME CASINO\", \"GAME CASINO\", \"GAME CASINO\", \"GAME CASINO\", \"GAME CASINO\", \"GAME CASINO\", \"GAME CASINO\", \"GAME CASINO\", \"GAME CASINO\", \"GAME CASINO\", \"GAME CASINO\", \"GAME CASINO\", \"GAME CASINO\", \"GAME CASINO\", \"GAME CASINO\", \"GAME CASINO\", \"GAME CASINO\", \"GAME CASINO\", \"GAME CASINO\", \"GAME CASINO\", \"GAME CASINO\", \"GAME CASINO\", \"GAME CASINO\", \"GAME CASINO\", \"GAME CASINO\", \"GAME CASINO\", \"GAME CASINO\", \"GAME CASINO\", \"GAME CASINO\", \"GAME CASINO\", \"GAME CASINO\", \"GAME CASINO\", \"GAME CASINO\", \"GAME CASINO\", \"GAME CASINO\", \"GAME CASINO\", \"GAME CASINO\", \"GAME CASINO\", \"GAME CASINO\", \"GAME CASINO\", \"GAME CASINO\", \"GAME CASINO\", \"GAME CASINO\", \"GAME CASINO\", \"GAME CASINO\", \"GAME CASINO\", \"GAME CASINO\", \"GAME CASINO\", \"GAME CASINO\", \"GAME CASINO\", \"GAME CASINO\", \"GAME CASINO\", \"GAME CASINO\", \"GAME CASINO\", \"GAME CASINO\", \"GAME CASINO\", \"GAME CASINO\", \"GAME CASINO\", \"GAME CASINO\", \"GAME CASINO\", \"GAME CASINO\", \"GAME CASINO\", \"GAME CASINO\", \"GAME CASINO\", \"GAME CASINO\", \"GAME CASINO\", \"GAME CASINO\", \"GAME CASINO\", \"GAME CASINO\", \"GAME CASINO\", \"GAME CASINO\", \"GAME CASINO\", \"GAME CASINO\", \"GAME CASINO\", \"GAME CASINO\", \"GAME CASINO\", \"GAME CASINO\", \"GAME CASINO\", \"GAME CASINO\", \"GAME CASINO\", \"GAME CASINO\", \"GAME CASINO\", \"GAME CASINO\", \"GAME CASINO\", \"GAME CASINO\", \"GAME CASINO\", \"GAME CASINO\", \"GAME CASINO\", \"GAME CASINO\", \"GAME CASINO\", \"GAME CASINO\", \"GAME CASUAL\", \"GAME CASUAL\", \"GAME CASUAL\", \"GAME CASUAL\", \"GAME CASUAL\", \"GAME CASUAL\", \"GAME CASUAL\", \"GAME CASUAL\", \"GAME CASUAL\", \"GAME CASUAL\", \"GAME CASUAL\", \"GAME CASUAL\", \"GAME CASUAL\", \"GAME CASUAL\", \"GAME CASUAL\", \"GAME CASUAL\", \"GAME CASUAL\", \"GAME CASUAL\", \"GAME CASUAL\", \"GAME CASUAL\", \"GAME CASUAL\", \"GAME CASUAL\", \"GAME CASUAL\", \"GAME CASUAL\", \"GAME CASUAL\", \"GAME CASUAL\", \"GAME CASUAL\", \"GAME CASUAL\", \"GAME CASUAL\", \"GAME CASUAL\", \"GAME CASUAL\", \"GAME CASUAL\", \"GAME CASUAL\", \"GAME CASUAL\", \"GAME CASUAL\", \"GAME CASUAL\", \"GAME CASUAL\", \"GAME CASUAL\", \"GAME CASUAL\", \"GAME CASUAL\", \"GAME CASUAL\", \"GAME CASUAL\", \"GAME CASUAL\", \"GAME CASUAL\", \"GAME CASUAL\", \"GAME CASUAL\", \"GAME CASUAL\", \"GAME CASUAL\", \"GAME CASUAL\", \"GAME CASUAL\", \"GAME CASUAL\", \"GAME CASUAL\", \"GAME CASUAL\", \"GAME CASUAL\", \"GAME CASUAL\", \"GAME CASUAL\", \"GAME CASUAL\", \"GAME CASUAL\", \"GAME CASUAL\", \"GAME CASUAL\", \"GAME CASUAL\", \"GAME CASUAL\", \"GAME CASUAL\", \"GAME CASUAL\", \"GAME CASUAL\", \"GAME CASUAL\", \"GAME CASUAL\", \"GAME CASUAL\", \"GAME CASUAL\", \"GAME CASUAL\", \"GAME CASUAL\", \"GAME CASUAL\", \"GAME CASUAL\", \"GAME CASUAL\", \"GAME CASUAL\", \"GAME CASUAL\", \"GAME CASUAL\", \"GAME CASUAL\", \"GAME CASUAL\", \"GAME CASUAL\", \"GAME CASUAL\", \"GAME CASUAL\", \"GAME CASUAL\", \"GAME CASUAL\", \"GAME CASUAL\", \"GAME CASUAL\", \"GAME CASUAL\", \"GAME CASUAL\", \"GAME CASUAL\", \"GAME CASUAL\", \"GAME CASUAL\", \"GAME CASUAL\", \"GAME CASUAL\", \"GAME CASUAL\", \"GAME CASUAL\", \"GAME CASUAL\", \"GAME CASUAL\", \"GAME CASUAL\", \"GAME CASUAL\", \"GAME CASUAL\", \"GAME CASUAL\", \"GAME CASUAL\", \"GAME EDUCATIONAL\", \"GAME EDUCATIONAL\", \"GAME EDUCATIONAL\", \"GAME EDUCATIONAL\", \"GAME EDUCATIONAL\", \"GAME EDUCATIONAL\", \"GAME EDUCATIONAL\", \"GAME EDUCATIONAL\", \"GAME EDUCATIONAL\", \"GAME EDUCATIONAL\", \"GAME EDUCATIONAL\", \"GAME EDUCATIONAL\", \"GAME EDUCATIONAL\", \"GAME EDUCATIONAL\", \"GAME EDUCATIONAL\", \"GAME EDUCATIONAL\", \"GAME EDUCATIONAL\", \"GAME EDUCATIONAL\", \"GAME EDUCATIONAL\", \"GAME EDUCATIONAL\", \"GAME EDUCATIONAL\", \"GAME EDUCATIONAL\", \"GAME EDUCATIONAL\", \"GAME EDUCATIONAL\", \"GAME EDUCATIONAL\", \"GAME EDUCATIONAL\", \"GAME EDUCATIONAL\", \"GAME EDUCATIONAL\", \"GAME EDUCATIONAL\", \"GAME EDUCATIONAL\", \"GAME EDUCATIONAL\", \"GAME EDUCATIONAL\", \"GAME EDUCATIONAL\", \"GAME EDUCATIONAL\", \"GAME EDUCATIONAL\", \"GAME EDUCATIONAL\", \"GAME EDUCATIONAL\", \"GAME EDUCATIONAL\", \"GAME EDUCATIONAL\", \"GAME EDUCATIONAL\", \"GAME EDUCATIONAL\", \"GAME EDUCATIONAL\", \"GAME EDUCATIONAL\", \"GAME EDUCATIONAL\", \"GAME EDUCATIONAL\", \"GAME EDUCATIONAL\", \"GAME EDUCATIONAL\", \"GAME EDUCATIONAL\", \"GAME EDUCATIONAL\", \"GAME EDUCATIONAL\", \"GAME EDUCATIONAL\", \"GAME EDUCATIONAL\", \"GAME EDUCATIONAL\", \"GAME EDUCATIONAL\", \"GAME EDUCATIONAL\", \"GAME EDUCATIONAL\", \"GAME EDUCATIONAL\", \"GAME EDUCATIONAL\", \"GAME EDUCATIONAL\", \"GAME EDUCATIONAL\", \"GAME EDUCATIONAL\", \"GAME EDUCATIONAL\", \"GAME EDUCATIONAL\", \"GAME EDUCATIONAL\", \"GAME EDUCATIONAL\", \"GAME EDUCATIONAL\", \"GAME EDUCATIONAL\", \"GAME EDUCATIONAL\", \"GAME EDUCATIONAL\", \"GAME EDUCATIONAL\", \"GAME EDUCATIONAL\", \"GAME EDUCATIONAL\", \"GAME EDUCATIONAL\", \"GAME EDUCATIONAL\", \"GAME EDUCATIONAL\", \"GAME EDUCATIONAL\", \"GAME EDUCATIONAL\", \"GAME EDUCATIONAL\", \"GAME EDUCATIONAL\", \"GAME EDUCATIONAL\", \"GAME EDUCATIONAL\", \"GAME EDUCATIONAL\", \"GAME EDUCATIONAL\", \"GAME EDUCATIONAL\", \"GAME EDUCATIONAL\", \"GAME EDUCATIONAL\", \"GAME EDUCATIONAL\", \"GAME EDUCATIONAL\", \"GAME EDUCATIONAL\", \"GAME EDUCATIONAL\", \"GAME EDUCATIONAL\", \"GAME EDUCATIONAL\", \"GAME EDUCATIONAL\", \"GAME EDUCATIONAL\", \"GAME EDUCATIONAL\", \"GAME EDUCATIONAL\", \"GAME EDUCATIONAL\", \"GAME EDUCATIONAL\", \"GAME EDUCATIONAL\", \"GAME EDUCATIONAL\", \"GAME FAMILY\", \"GAME FAMILY\", \"GAME FAMILY\", \"GAME FAMILY\", \"GAME FAMILY\", \"GAME FAMILY\", \"GAME FAMILY\", \"GAME FAMILY\", \"GAME FAMILY\", \"GAME FAMILY\", \"GAME FAMILY\", \"GAME FAMILY\", \"GAME FAMILY\", \"GAME FAMILY\", \"GAME FAMILY\", \"GAME FAMILY\", \"GAME FAMILY\", \"GAME FAMILY\", \"GAME FAMILY\", \"GAME FAMILY\", \"GAME FAMILY\", \"GAME FAMILY\", \"GAME FAMILY\", \"GAME FAMILY\", \"GAME FAMILY\", \"GAME FAMILY\", \"GAME FAMILY\", \"GAME FAMILY\", \"GAME FAMILY\", \"GAME FAMILY\", \"GAME FAMILY\", \"GAME FAMILY\", \"GAME FAMILY\", \"GAME FAMILY\", \"GAME FAMILY\", \"GAME FAMILY\", \"GAME FAMILY\", \"GAME FAMILY\", \"GAME FAMILY\", \"GAME FAMILY\", \"GAME FAMILY\", \"GAME FAMILY\", \"GAME FAMILY\", \"GAME FAMILY\", \"GAME FAMILY\", \"GAME FAMILY\", \"GAME FAMILY\", \"GAME FAMILY\", \"GAME FAMILY\", \"GAME FAMILY\", \"GAME FAMILY\", \"GAME FAMILY\", \"GAME FAMILY\", \"GAME FAMILY\", \"GAME FAMILY\", \"GAME FAMILY\", \"GAME FAMILY\", \"GAME FAMILY\", \"GAME FAMILY\", \"GAME FAMILY\", \"GAME FAMILY\", \"GAME FAMILY\", \"GAME FAMILY\", \"GAME FAMILY\", \"GAME FAMILY\", \"GAME FAMILY\", \"GAME FAMILY\", \"GAME FAMILY\", \"GAME FAMILY\", \"GAME FAMILY\", \"GAME FAMILY\", \"GAME FAMILY\", \"GAME FAMILY\", \"GAME FAMILY\", \"GAME FAMILY\", \"GAME FAMILY\", \"GAME FAMILY\", \"GAME FAMILY\", \"GAME FAMILY\", \"GAME FAMILY\", \"GAME FAMILY\", \"GAME FAMILY\", \"GAME FAMILY\", \"GAME FAMILY\", \"GAME FAMILY\", \"GAME FAMILY\", \"GAME FAMILY\", \"GAME FAMILY\", \"GAME FAMILY\", \"GAME FAMILY\", \"GAME FAMILY\", \"GAME FAMILY\", \"GAME FAMILY\", \"GAME FAMILY\", \"GAME FAMILY\", \"GAME FAMILY\", \"GAME FAMILY\", \"GAME FAMILY\", \"GAME FAMILY\", \"GAME FAMILY\", \"GAME MUSIC\", \"GAME MUSIC\", \"GAME MUSIC\", \"GAME MUSIC\", \"GAME MUSIC\", \"GAME MUSIC\", \"GAME MUSIC\", \"GAME MUSIC\", \"GAME MUSIC\", \"GAME MUSIC\", \"GAME MUSIC\", \"GAME MUSIC\", \"GAME MUSIC\", \"GAME MUSIC\", \"GAME MUSIC\", \"GAME MUSIC\", \"GAME MUSIC\", \"GAME MUSIC\", \"GAME MUSIC\", \"GAME MUSIC\", \"GAME MUSIC\", \"GAME MUSIC\", \"GAME MUSIC\", \"GAME MUSIC\", \"GAME MUSIC\", \"GAME MUSIC\", \"GAME MUSIC\", \"GAME MUSIC\", \"GAME MUSIC\", \"GAME MUSIC\", \"GAME MUSIC\", \"GAME MUSIC\", \"GAME MUSIC\", \"GAME MUSIC\", \"GAME MUSIC\", \"GAME MUSIC\", \"GAME MUSIC\", \"GAME MUSIC\", \"GAME MUSIC\", \"GAME MUSIC\", \"GAME MUSIC\", \"GAME MUSIC\", \"GAME MUSIC\", \"GAME MUSIC\", \"GAME MUSIC\", \"GAME MUSIC\", \"GAME MUSIC\", \"GAME MUSIC\", \"GAME MUSIC\", \"GAME MUSIC\", \"GAME MUSIC\", \"GAME MUSIC\", \"GAME MUSIC\", \"GAME MUSIC\", \"GAME MUSIC\", \"GAME MUSIC\", \"GAME MUSIC\", \"GAME MUSIC\", \"GAME MUSIC\", \"GAME MUSIC\", \"GAME MUSIC\", \"GAME MUSIC\", \"GAME MUSIC\", \"GAME MUSIC\", \"GAME MUSIC\", \"GAME MUSIC\", \"GAME MUSIC\", \"GAME MUSIC\", \"GAME MUSIC\", \"GAME MUSIC\", \"GAME MUSIC\", \"GAME MUSIC\", \"GAME MUSIC\", \"GAME MUSIC\", \"GAME MUSIC\", \"GAME MUSIC\", \"GAME MUSIC\", \"GAME MUSIC\", \"GAME MUSIC\", \"GAME MUSIC\", \"GAME MUSIC\", \"GAME MUSIC\", \"GAME MUSIC\", \"GAME MUSIC\", \"GAME MUSIC\", \"GAME MUSIC\", \"GAME MUSIC\", \"GAME MUSIC\", \"GAME MUSIC\", \"GAME MUSIC\", \"GAME MUSIC\", \"GAME MUSIC\", \"GAME MUSIC\", \"GAME MUSIC\", \"GAME MUSIC\", \"GAME MUSIC\", \"GAME MUSIC\", \"GAME MUSIC\", \"GAME MUSIC\", \"GAME MUSIC\", \"GAME PUZZLE\", \"GAME PUZZLE\", \"GAME PUZZLE\", \"GAME PUZZLE\", \"GAME PUZZLE\", \"GAME PUZZLE\", \"GAME PUZZLE\", \"GAME PUZZLE\", \"GAME PUZZLE\", \"GAME PUZZLE\", \"GAME PUZZLE\", \"GAME PUZZLE\", \"GAME PUZZLE\", \"GAME PUZZLE\", \"GAME PUZZLE\", \"GAME PUZZLE\", \"GAME PUZZLE\", \"GAME PUZZLE\", \"GAME PUZZLE\", \"GAME PUZZLE\", \"GAME PUZZLE\", \"GAME PUZZLE\", \"GAME PUZZLE\", \"GAME PUZZLE\", \"GAME PUZZLE\", \"GAME PUZZLE\", \"GAME PUZZLE\", \"GAME PUZZLE\", \"GAME PUZZLE\", \"GAME PUZZLE\", \"GAME PUZZLE\", \"GAME PUZZLE\", \"GAME PUZZLE\", \"GAME PUZZLE\", \"GAME PUZZLE\", \"GAME PUZZLE\", \"GAME PUZZLE\", \"GAME PUZZLE\", \"GAME PUZZLE\", \"GAME PUZZLE\", \"GAME PUZZLE\", \"GAME PUZZLE\", \"GAME PUZZLE\", \"GAME PUZZLE\", \"GAME PUZZLE\", \"GAME PUZZLE\", \"GAME PUZZLE\", \"GAME PUZZLE\", \"GAME PUZZLE\", \"GAME PUZZLE\", \"GAME PUZZLE\", \"GAME PUZZLE\", \"GAME PUZZLE\", \"GAME PUZZLE\", \"GAME PUZZLE\", \"GAME PUZZLE\", \"GAME PUZZLE\", \"GAME PUZZLE\", \"GAME PUZZLE\", \"GAME PUZZLE\", \"GAME PUZZLE\", \"GAME PUZZLE\", \"GAME PUZZLE\", \"GAME PUZZLE\", \"GAME PUZZLE\", \"GAME PUZZLE\", \"GAME PUZZLE\", \"GAME PUZZLE\", \"GAME PUZZLE\", \"GAME PUZZLE\", \"GAME PUZZLE\", \"GAME PUZZLE\", \"GAME PUZZLE\", \"GAME PUZZLE\", \"GAME PUZZLE\", \"GAME PUZZLE\", \"GAME PUZZLE\", \"GAME PUZZLE\", \"GAME PUZZLE\", \"GAME PUZZLE\", \"GAME PUZZLE\", \"GAME PUZZLE\", \"GAME PUZZLE\", \"GAME PUZZLE\", \"GAME PUZZLE\", \"GAME PUZZLE\", \"GAME PUZZLE\", \"GAME PUZZLE\", \"GAME PUZZLE\", \"GAME PUZZLE\", \"GAME PUZZLE\", \"GAME PUZZLE\", \"GAME PUZZLE\", \"GAME PUZZLE\", \"GAME PUZZLE\", \"GAME PUZZLE\", \"GAME PUZZLE\", \"GAME PUZZLE\", \"GAME PUZZLE\", \"GAME PUZZLE\", \"GAME RACING\", \"GAME RACING\", \"GAME RACING\", \"GAME RACING\", \"GAME RACING\", \"GAME RACING\", \"GAME RACING\", \"GAME RACING\", \"GAME RACING\", \"GAME RACING\", \"GAME RACING\", \"GAME RACING\", \"GAME RACING\", \"GAME RACING\", \"GAME RACING\", \"GAME RACING\", \"GAME RACING\", \"GAME RACING\", \"GAME RACING\", \"GAME RACING\", \"GAME RACING\", \"GAME RACING\", \"GAME RACING\", \"GAME RACING\", \"GAME RACING\", \"GAME RACING\", \"GAME RACING\", \"GAME RACING\", \"GAME RACING\", \"GAME RACING\", \"GAME RACING\", \"GAME RACING\", \"GAME RACING\", \"GAME RACING\", \"GAME RACING\", \"GAME RACING\", \"GAME RACING\", \"GAME RACING\", \"GAME RACING\", \"GAME RACING\", \"GAME RACING\", \"GAME RACING\", \"GAME RACING\", \"GAME RACING\", \"GAME RACING\", \"GAME RACING\", \"GAME RACING\", \"GAME RACING\", \"GAME RACING\", \"GAME RACING\", \"GAME RACING\", \"GAME RACING\", \"GAME RACING\", \"GAME RACING\", \"GAME RACING\", \"GAME RACING\", \"GAME RACING\", \"GAME RACING\", \"GAME RACING\", \"GAME RACING\", \"GAME RACING\", \"GAME RACING\", \"GAME RACING\", \"GAME RACING\", \"GAME RACING\", \"GAME RACING\", \"GAME RACING\", \"GAME RACING\", \"GAME RACING\", \"GAME RACING\", \"GAME RACING\", \"GAME RACING\", \"GAME RACING\", \"GAME RACING\", \"GAME RACING\", \"GAME RACING\", \"GAME RACING\", \"GAME RACING\", \"GAME RACING\", \"GAME RACING\", \"GAME RACING\", \"GAME RACING\", \"GAME RACING\", \"GAME RACING\", \"GAME RACING\", \"GAME RACING\", \"GAME RACING\", \"GAME RACING\", \"GAME RACING\", \"GAME RACING\", \"GAME RACING\", \"GAME RACING\", \"GAME RACING\", \"GAME RACING\", \"GAME RACING\", \"GAME RACING\", \"GAME RACING\", \"GAME RACING\", \"GAME RACING\", \"GAME RACING\", \"GAME ROLE PLAYING\", \"GAME ROLE PLAYING\", \"GAME ROLE PLAYING\", \"GAME ROLE PLAYING\", \"GAME ROLE PLAYING\", \"GAME ROLE PLAYING\", \"GAME ROLE PLAYING\", \"GAME ROLE PLAYING\", \"GAME ROLE PLAYING\", \"GAME ROLE PLAYING\", \"GAME ROLE PLAYING\", \"GAME ROLE PLAYING\", \"GAME ROLE PLAYING\", \"GAME ROLE PLAYING\", \"GAME ROLE PLAYING\", \"GAME ROLE PLAYING\", \"GAME ROLE PLAYING\", \"GAME ROLE PLAYING\", \"GAME ROLE PLAYING\", \"GAME ROLE PLAYING\", \"GAME ROLE PLAYING\", \"GAME ROLE PLAYING\", \"GAME ROLE PLAYING\", \"GAME ROLE PLAYING\", \"GAME ROLE PLAYING\", \"GAME ROLE PLAYING\", \"GAME ROLE PLAYING\", \"GAME ROLE PLAYING\", \"GAME ROLE PLAYING\", \"GAME ROLE PLAYING\", \"GAME ROLE PLAYING\", \"GAME ROLE PLAYING\", \"GAME ROLE PLAYING\", \"GAME ROLE PLAYING\", \"GAME ROLE PLAYING\", \"GAME ROLE PLAYING\", \"GAME ROLE PLAYING\", \"GAME ROLE PLAYING\", \"GAME ROLE PLAYING\", \"GAME ROLE PLAYING\", \"GAME ROLE PLAYING\", \"GAME ROLE PLAYING\", \"GAME ROLE PLAYING\", \"GAME ROLE PLAYING\", \"GAME ROLE PLAYING\", \"GAME ROLE PLAYING\", \"GAME ROLE PLAYING\", \"GAME ROLE PLAYING\", \"GAME ROLE PLAYING\", \"GAME ROLE PLAYING\", \"GAME ROLE PLAYING\", \"GAME ROLE PLAYING\", \"GAME ROLE PLAYING\", \"GAME ROLE PLAYING\", \"GAME ROLE PLAYING\", \"GAME ROLE PLAYING\", \"GAME ROLE PLAYING\", \"GAME ROLE PLAYING\", \"GAME ROLE PLAYING\", \"GAME ROLE PLAYING\", \"GAME ROLE PLAYING\", \"GAME ROLE PLAYING\", \"GAME ROLE PLAYING\", \"GAME ROLE PLAYING\", \"GAME ROLE PLAYING\", \"GAME ROLE PLAYING\", \"GAME ROLE PLAYING\", \"GAME ROLE PLAYING\", \"GAME ROLE PLAYING\", \"GAME ROLE PLAYING\", \"GAME ROLE PLAYING\", \"GAME ROLE PLAYING\", \"GAME ROLE PLAYING\", \"GAME ROLE PLAYING\", \"GAME ROLE PLAYING\", \"GAME ROLE PLAYING\", \"GAME ROLE PLAYING\", \"GAME ROLE PLAYING\", \"GAME ROLE PLAYING\", \"GAME ROLE PLAYING\", \"GAME ROLE PLAYING\", \"GAME ROLE PLAYING\", \"GAME ROLE PLAYING\", \"GAME ROLE PLAYING\", \"GAME ROLE PLAYING\", \"GAME ROLE PLAYING\", \"GAME ROLE PLAYING\", \"GAME ROLE PLAYING\", \"GAME ROLE PLAYING\", \"GAME ROLE PLAYING\", \"GAME ROLE PLAYING\", \"GAME ROLE PLAYING\", \"GAME ROLE PLAYING\", \"GAME ROLE PLAYING\", \"GAME ROLE PLAYING\", \"GAME ROLE PLAYING\", \"GAME ROLE PLAYING\", \"GAME ROLE PLAYING\", \"GAME ROLE PLAYING\", \"GAME ROLE PLAYING\", \"GAME SIMULATION\", \"GAME SIMULATION\", \"GAME SIMULATION\", \"GAME SIMULATION\", \"GAME SIMULATION\", \"GAME SIMULATION\", \"GAME SIMULATION\", \"GAME SIMULATION\", \"GAME SIMULATION\", \"GAME SIMULATION\", \"GAME SIMULATION\", \"GAME SIMULATION\", \"GAME SIMULATION\", \"GAME SIMULATION\", \"GAME SIMULATION\", \"GAME SIMULATION\", \"GAME SIMULATION\", \"GAME SIMULATION\", \"GAME SIMULATION\", \"GAME SIMULATION\", \"GAME SIMULATION\", \"GAME SIMULATION\", \"GAME SIMULATION\", \"GAME SIMULATION\", \"GAME SIMULATION\", \"GAME SIMULATION\", \"GAME SIMULATION\", \"GAME SIMULATION\", \"GAME SIMULATION\", \"GAME SIMULATION\", \"GAME SIMULATION\", \"GAME SIMULATION\", \"GAME SIMULATION\", \"GAME SIMULATION\", \"GAME SIMULATION\", \"GAME SIMULATION\", \"GAME SIMULATION\", \"GAME SIMULATION\", \"GAME SIMULATION\", \"GAME SIMULATION\", \"GAME SIMULATION\", \"GAME SIMULATION\", \"GAME SIMULATION\", \"GAME SIMULATION\", \"GAME SIMULATION\", \"GAME SIMULATION\", \"GAME SIMULATION\", \"GAME SIMULATION\", \"GAME SIMULATION\", \"GAME SIMULATION\", \"GAME SIMULATION\", \"GAME SIMULATION\", \"GAME SIMULATION\", \"GAME SIMULATION\", \"GAME SIMULATION\", \"GAME SIMULATION\", \"GAME SIMULATION\", \"GAME SIMULATION\", \"GAME SIMULATION\", \"GAME SIMULATION\", \"GAME SIMULATION\", \"GAME SIMULATION\", \"GAME SIMULATION\", \"GAME SIMULATION\", \"GAME SIMULATION\", \"GAME SIMULATION\", \"GAME SIMULATION\", \"GAME SIMULATION\", \"GAME SIMULATION\", \"GAME SIMULATION\", \"GAME SIMULATION\", \"GAME SIMULATION\", \"GAME SIMULATION\", \"GAME SIMULATION\", \"GAME SIMULATION\", \"GAME SIMULATION\", \"GAME SIMULATION\", \"GAME SIMULATION\", \"GAME SIMULATION\", \"GAME SIMULATION\", \"GAME SIMULATION\", \"GAME SIMULATION\", \"GAME SIMULATION\", \"GAME SIMULATION\", \"GAME SIMULATION\", \"GAME SIMULATION\", \"GAME SIMULATION\", \"GAME SIMULATION\", \"GAME SIMULATION\", \"GAME SIMULATION\", \"GAME SIMULATION\", \"GAME SIMULATION\", \"GAME SIMULATION\", \"GAME SIMULATION\", \"GAME SIMULATION\", \"GAME SIMULATION\", \"GAME SIMULATION\", \"GAME SIMULATION\", \"GAME SIMULATION\", \"GAME SIMULATION\", \"GAME SPORTS\", \"GAME SPORTS\", \"GAME SPORTS\", \"GAME SPORTS\", \"GAME SPORTS\", \"GAME SPORTS\", \"GAME SPORTS\", \"GAME SPORTS\", \"GAME SPORTS\", \"GAME SPORTS\", \"GAME SPORTS\", \"GAME SPORTS\", \"GAME SPORTS\", \"GAME SPORTS\", \"GAME SPORTS\", \"GAME SPORTS\", \"GAME SPORTS\", \"GAME SPORTS\", \"GAME SPORTS\", \"GAME SPORTS\", \"GAME SPORTS\", \"GAME SPORTS\", \"GAME SPORTS\", \"GAME SPORTS\", \"GAME SPORTS\", \"GAME SPORTS\", \"GAME SPORTS\", \"GAME SPORTS\", \"GAME SPORTS\", \"GAME SPORTS\", \"GAME SPORTS\", \"GAME SPORTS\", \"GAME SPORTS\", \"GAME SPORTS\", \"GAME SPORTS\", \"GAME SPORTS\", \"GAME SPORTS\", \"GAME SPORTS\", \"GAME SPORTS\", \"GAME SPORTS\", \"GAME SPORTS\", \"GAME SPORTS\", \"GAME SPORTS\", \"GAME SPORTS\", \"GAME SPORTS\", \"GAME SPORTS\", \"GAME SPORTS\", \"GAME SPORTS\", \"GAME SPORTS\", \"GAME SPORTS\", \"GAME SPORTS\", \"GAME SPORTS\", \"GAME SPORTS\", \"GAME SPORTS\", \"GAME SPORTS\", \"GAME SPORTS\", \"GAME SPORTS\", \"GAME SPORTS\", \"GAME SPORTS\", \"GAME SPORTS\", \"GAME SPORTS\", \"GAME SPORTS\", \"GAME SPORTS\", \"GAME SPORTS\", \"GAME SPORTS\", \"GAME SPORTS\", \"GAME SPORTS\", \"GAME SPORTS\", \"GAME SPORTS\", \"GAME SPORTS\", \"GAME SPORTS\", \"GAME SPORTS\", \"GAME SPORTS\", \"GAME SPORTS\", \"GAME SPORTS\", \"GAME SPORTS\", \"GAME SPORTS\", \"GAME SPORTS\", \"GAME SPORTS\", \"GAME SPORTS\", \"GAME SPORTS\", \"GAME SPORTS\", \"GAME SPORTS\", \"GAME SPORTS\", \"GAME SPORTS\", \"GAME SPORTS\", \"GAME SPORTS\", \"GAME SPORTS\", \"GAME SPORTS\", \"GAME SPORTS\", \"GAME SPORTS\", \"GAME SPORTS\", \"GAME SPORTS\", \"GAME SPORTS\", \"GAME SPORTS\", \"GAME SPORTS\", \"GAME SPORTS\", \"GAME SPORTS\", \"GAME SPORTS\", \"GAME SPORTS\", \"GAME STRATEGY\", \"GAME STRATEGY\", \"GAME STRATEGY\", \"GAME STRATEGY\", \"GAME STRATEGY\", \"GAME STRATEGY\", \"GAME STRATEGY\", \"GAME STRATEGY\", \"GAME STRATEGY\", \"GAME STRATEGY\", \"GAME STRATEGY\", \"GAME STRATEGY\", \"GAME STRATEGY\", \"GAME STRATEGY\", \"GAME STRATEGY\", \"GAME STRATEGY\", \"GAME STRATEGY\", \"GAME STRATEGY\", \"GAME STRATEGY\", \"GAME STRATEGY\", \"GAME STRATEGY\", \"GAME STRATEGY\", \"GAME STRATEGY\", \"GAME STRATEGY\", \"GAME STRATEGY\", \"GAME STRATEGY\", \"GAME STRATEGY\", \"GAME STRATEGY\", \"GAME STRATEGY\", \"GAME STRATEGY\", \"GAME STRATEGY\", \"GAME STRATEGY\", \"GAME STRATEGY\", \"GAME STRATEGY\", \"GAME STRATEGY\", \"GAME STRATEGY\", \"GAME STRATEGY\", \"GAME STRATEGY\", \"GAME STRATEGY\", \"GAME STRATEGY\", \"GAME STRATEGY\", \"GAME STRATEGY\", \"GAME STRATEGY\", \"GAME STRATEGY\", \"GAME STRATEGY\", \"GAME STRATEGY\", \"GAME STRATEGY\", \"GAME STRATEGY\", \"GAME STRATEGY\", \"GAME STRATEGY\", \"GAME STRATEGY\", \"GAME STRATEGY\", \"GAME STRATEGY\", \"GAME STRATEGY\", \"GAME STRATEGY\", \"GAME STRATEGY\", \"GAME STRATEGY\", \"GAME STRATEGY\", \"GAME STRATEGY\", \"GAME STRATEGY\", \"GAME STRATEGY\", \"GAME STRATEGY\", \"GAME STRATEGY\", \"GAME STRATEGY\", \"GAME STRATEGY\", \"GAME STRATEGY\", \"GAME STRATEGY\", \"GAME STRATEGY\", \"GAME STRATEGY\", \"GAME STRATEGY\", \"GAME STRATEGY\", \"GAME STRATEGY\", \"GAME STRATEGY\", \"GAME STRATEGY\", \"GAME STRATEGY\", \"GAME STRATEGY\", \"GAME STRATEGY\", \"GAME STRATEGY\", \"GAME STRATEGY\", \"GAME STRATEGY\", \"GAME STRATEGY\", \"GAME STRATEGY\", \"GAME STRATEGY\", \"GAME STRATEGY\", \"GAME STRATEGY\", \"GAME STRATEGY\", \"GAME STRATEGY\", \"GAME STRATEGY\", \"GAME STRATEGY\", \"GAME STRATEGY\", \"GAME STRATEGY\", \"GAME STRATEGY\", \"GAME STRATEGY\", \"GAME STRATEGY\", \"GAME STRATEGY\", \"GAME STRATEGY\", \"GAME STRATEGY\", \"GAME STRATEGY\", \"GAME STRATEGY\", \"GAME STRATEGY\", \"GAME TRIVIA\", \"GAME TRIVIA\", \"GAME TRIVIA\", \"GAME TRIVIA\", \"GAME TRIVIA\", \"GAME TRIVIA\", \"GAME TRIVIA\", \"GAME TRIVIA\", \"GAME TRIVIA\", \"GAME TRIVIA\", \"GAME TRIVIA\", \"GAME TRIVIA\", \"GAME TRIVIA\", \"GAME TRIVIA\", \"GAME TRIVIA\", \"GAME TRIVIA\", \"GAME TRIVIA\", \"GAME TRIVIA\", \"GAME TRIVIA\", \"GAME TRIVIA\", \"GAME TRIVIA\", \"GAME TRIVIA\", \"GAME TRIVIA\", \"GAME TRIVIA\", \"GAME TRIVIA\", \"GAME TRIVIA\", \"GAME TRIVIA\", \"GAME TRIVIA\", \"GAME TRIVIA\", \"GAME TRIVIA\", \"GAME TRIVIA\", \"GAME TRIVIA\", \"GAME TRIVIA\", \"GAME TRIVIA\", \"GAME TRIVIA\", \"GAME TRIVIA\", \"GAME TRIVIA\", \"GAME TRIVIA\", \"GAME TRIVIA\", \"GAME TRIVIA\", \"GAME TRIVIA\", \"GAME TRIVIA\", \"GAME TRIVIA\", \"GAME TRIVIA\", \"GAME TRIVIA\", \"GAME TRIVIA\", \"GAME TRIVIA\", \"GAME TRIVIA\", \"GAME TRIVIA\", \"GAME TRIVIA\", \"GAME TRIVIA\", \"GAME TRIVIA\", \"GAME TRIVIA\", \"GAME TRIVIA\", \"GAME TRIVIA\", \"GAME TRIVIA\", \"GAME TRIVIA\", \"GAME TRIVIA\", \"GAME TRIVIA\", \"GAME TRIVIA\", \"GAME TRIVIA\", \"GAME TRIVIA\", \"GAME TRIVIA\", \"GAME TRIVIA\", \"GAME TRIVIA\", \"GAME TRIVIA\", \"GAME TRIVIA\", \"GAME TRIVIA\", \"GAME TRIVIA\", \"GAME TRIVIA\", \"GAME TRIVIA\", \"GAME TRIVIA\", \"GAME TRIVIA\", \"GAME TRIVIA\", \"GAME TRIVIA\", \"GAME TRIVIA\", \"GAME TRIVIA\", \"GAME TRIVIA\", \"GAME TRIVIA\", \"GAME TRIVIA\", \"GAME TRIVIA\", \"GAME TRIVIA\", \"GAME TRIVIA\", \"GAME TRIVIA\", \"GAME TRIVIA\", \"GAME TRIVIA\", \"GAME TRIVIA\", \"GAME TRIVIA\", \"GAME TRIVIA\", \"GAME TRIVIA\", \"GAME TRIVIA\", \"GAME TRIVIA\", \"GAME TRIVIA\", \"GAME TRIVIA\", \"GAME TRIVIA\", \"GAME TRIVIA\", \"GAME TRIVIA\", \"GAME TRIVIA\", \"GAME TRIVIA\", \"GAME TRIVIA\", \"GAME WORD\", \"GAME WORD\", \"GAME WORD\", \"GAME WORD\", \"GAME WORD\", \"GAME WORD\", \"GAME WORD\", \"GAME WORD\", \"GAME WORD\", \"GAME WORD\", \"GAME WORD\", \"GAME WORD\", \"GAME WORD\", \"GAME WORD\", \"GAME WORD\", \"GAME WORD\", \"GAME WORD\", \"GAME WORD\", \"GAME WORD\", \"GAME WORD\", \"GAME WORD\", \"GAME WORD\", \"GAME WORD\", \"GAME WORD\", \"GAME WORD\", \"GAME WORD\", \"GAME WORD\", \"GAME WORD\", \"GAME WORD\", \"GAME WORD\", \"GAME WORD\", \"GAME WORD\", \"GAME WORD\", \"GAME WORD\", \"GAME WORD\", \"GAME WORD\", \"GAME WORD\", \"GAME WORD\", \"GAME WORD\", \"GAME WORD\", \"GAME WORD\", \"GAME WORD\", \"GAME WORD\", \"GAME WORD\", \"GAME WORD\", \"GAME WORD\", \"GAME WORD\", \"GAME WORD\", \"GAME WORD\", \"GAME WORD\", \"GAME WORD\", \"GAME WORD\", \"GAME WORD\", \"GAME WORD\", \"GAME WORD\", \"GAME WORD\", \"GAME WORD\", \"GAME WORD\", \"GAME WORD\", \"GAME WORD\", \"GAME WORD\", \"GAME WORD\", \"GAME WORD\", \"GAME WORD\", \"GAME WORD\", \"GAME WORD\", \"GAME WORD\", \"GAME WORD\", \"GAME WORD\", \"GAME WORD\", \"GAME WORD\", \"GAME WORD\", \"GAME WORD\", \"GAME WORD\", \"GAME WORD\", \"GAME WORD\", \"GAME WORD\", \"GAME WORD\", \"GAME WORD\", \"GAME WORD\", \"GAME WORD\", \"GAME WORD\", \"GAME WORD\", \"GAME WORD\", \"GAME WORD\", \"GAME WORD\", \"GAME WORD\", \"GAME WORD\", \"GAME WORD\", \"GAME WORD\", \"GAME WORD\", \"GAME WORD\", \"GAME WORD\", \"GAME WORD\", \"GAME WORD\", \"GAME WORD\", \"GAME WORD\", \"GAME WORD\", \"GAME WORD\", \"GAME WORD\", \"GAME WORD\", \"GAME WORD\", \"GAME WORD\", \"GAME WORD\", \"GAME WORD\", \"GAME WORD\"], \"legendgroup\": \"\", \"name\": \"\", \"showlegend\": true, \"type\": \"pie\"}],                        {\"legend\": {\"tracegroupgap\": 0}, \"template\": {\"data\": {\"bar\": [{\"error_x\": {\"color\": \"#2a3f5f\"}, \"error_y\": {\"color\": \"#2a3f5f\"}, \"marker\": {\"line\": {\"color\": \"#E5ECF6\", \"width\": 0.5}}, \"type\": \"bar\"}], \"barpolar\": [{\"marker\": {\"line\": {\"color\": \"#E5ECF6\", \"width\": 0.5}}, \"type\": \"barpolar\"}], \"carpet\": [{\"aaxis\": {\"endlinecolor\": \"#2a3f5f\", \"gridcolor\": \"white\", \"linecolor\": \"white\", \"minorgridcolor\": \"white\", \"startlinecolor\": \"#2a3f5f\"}, \"baxis\": {\"endlinecolor\": \"#2a3f5f\", \"gridcolor\": \"white\", \"linecolor\": \"white\", \"minorgridcolor\": \"white\", \"startlinecolor\": \"#2a3f5f\"}, \"type\": \"carpet\"}], \"choropleth\": [{\"colorbar\": {\"outlinewidth\": 0, \"ticks\": \"\"}, \"type\": \"choropleth\"}], \"contour\": [{\"colorbar\": {\"outlinewidth\": 0, \"ticks\": \"\"}, \"colorscale\": [[0.0, \"#0d0887\"], [0.1111111111111111, \"#46039f\"], [0.2222222222222222, \"#7201a8\"], [0.3333333333333333, \"#9c179e\"], [0.4444444444444444, \"#bd3786\"], [0.5555555555555556, \"#d8576b\"], [0.6666666666666666, \"#ed7953\"], [0.7777777777777778, \"#fb9f3a\"], [0.8888888888888888, \"#fdca26\"], [1.0, \"#f0f921\"]], \"type\": \"contour\"}], \"contourcarpet\": [{\"colorbar\": {\"outlinewidth\": 0, \"ticks\": \"\"}, \"type\": \"contourcarpet\"}], \"heatmap\": [{\"colorbar\": {\"outlinewidth\": 0, \"ticks\": \"\"}, \"colorscale\": [[0.0, \"#0d0887\"], [0.1111111111111111, \"#46039f\"], [0.2222222222222222, \"#7201a8\"], [0.3333333333333333, \"#9c179e\"], [0.4444444444444444, \"#bd3786\"], [0.5555555555555556, \"#d8576b\"], [0.6666666666666666, \"#ed7953\"], [0.7777777777777778, \"#fb9f3a\"], [0.8888888888888888, \"#fdca26\"], [1.0, \"#f0f921\"]], \"type\": \"heatmap\"}], \"heatmapgl\": [{\"colorbar\": {\"outlinewidth\": 0, \"ticks\": \"\"}, \"colorscale\": [[0.0, \"#0d0887\"], [0.1111111111111111, \"#46039f\"], [0.2222222222222222, \"#7201a8\"], [0.3333333333333333, \"#9c179e\"], [0.4444444444444444, \"#bd3786\"], [0.5555555555555556, \"#d8576b\"], [0.6666666666666666, \"#ed7953\"], [0.7777777777777778, \"#fb9f3a\"], [0.8888888888888888, \"#fdca26\"], [1.0, \"#f0f921\"]], \"type\": \"heatmapgl\"}], \"histogram\": [{\"marker\": {\"colorbar\": {\"outlinewidth\": 0, \"ticks\": \"\"}}, \"type\": \"histogram\"}], \"histogram2d\": [{\"colorbar\": {\"outlinewidth\": 0, \"ticks\": \"\"}, \"colorscale\": [[0.0, \"#0d0887\"], [0.1111111111111111, \"#46039f\"], [0.2222222222222222, \"#7201a8\"], [0.3333333333333333, \"#9c179e\"], [0.4444444444444444, \"#bd3786\"], [0.5555555555555556, \"#d8576b\"], [0.6666666666666666, \"#ed7953\"], [0.7777777777777778, \"#fb9f3a\"], [0.8888888888888888, \"#fdca26\"], [1.0, \"#f0f921\"]], \"type\": \"histogram2d\"}], \"histogram2dcontour\": [{\"colorbar\": {\"outlinewidth\": 0, \"ticks\": \"\"}, \"colorscale\": [[0.0, \"#0d0887\"], [0.1111111111111111, \"#46039f\"], [0.2222222222222222, \"#7201a8\"], [0.3333333333333333, \"#9c179e\"], [0.4444444444444444, \"#bd3786\"], [0.5555555555555556, \"#d8576b\"], [0.6666666666666666, \"#ed7953\"], [0.7777777777777778, \"#fb9f3a\"], [0.8888888888888888, \"#fdca26\"], [1.0, \"#f0f921\"]], \"type\": \"histogram2dcontour\"}], \"mesh3d\": [{\"colorbar\": {\"outlinewidth\": 0, \"ticks\": \"\"}, \"type\": \"mesh3d\"}], \"parcoords\": [{\"line\": {\"colorbar\": {\"outlinewidth\": 0, \"ticks\": \"\"}}, \"type\": \"parcoords\"}], \"pie\": [{\"automargin\": true, \"type\": \"pie\"}], \"scatter\": [{\"marker\": {\"colorbar\": {\"outlinewidth\": 0, \"ticks\": \"\"}}, \"type\": \"scatter\"}], \"scatter3d\": [{\"line\": {\"colorbar\": {\"outlinewidth\": 0, \"ticks\": \"\"}}, \"marker\": {\"colorbar\": {\"outlinewidth\": 0, \"ticks\": \"\"}}, \"type\": \"scatter3d\"}], \"scattercarpet\": [{\"marker\": {\"colorbar\": {\"outlinewidth\": 0, \"ticks\": \"\"}}, \"type\": \"scattercarpet\"}], \"scattergeo\": [{\"marker\": {\"colorbar\": {\"outlinewidth\": 0, \"ticks\": \"\"}}, \"type\": \"scattergeo\"}], \"scattergl\": [{\"marker\": {\"colorbar\": {\"outlinewidth\": 0, \"ticks\": \"\"}}, \"type\": \"scattergl\"}], \"scattermapbox\": [{\"marker\": {\"colorbar\": {\"outlinewidth\": 0, \"ticks\": \"\"}}, \"type\": \"scattermapbox\"}], \"scatterpolar\": [{\"marker\": {\"colorbar\": {\"outlinewidth\": 0, \"ticks\": \"\"}}, \"type\": \"scatterpolar\"}], \"scatterpolargl\": [{\"marker\": {\"colorbar\": {\"outlinewidth\": 0, \"ticks\": \"\"}}, \"type\": \"scatterpolargl\"}], \"scatterternary\": [{\"marker\": {\"colorbar\": {\"outlinewidth\": 0, \"ticks\": \"\"}}, \"type\": \"scatterternary\"}], \"surface\": [{\"colorbar\": {\"outlinewidth\": 0, \"ticks\": \"\"}, \"colorscale\": [[0.0, \"#0d0887\"], [0.1111111111111111, \"#46039f\"], [0.2222222222222222, \"#7201a8\"], [0.3333333333333333, \"#9c179e\"], [0.4444444444444444, \"#bd3786\"], [0.5555555555555556, \"#d8576b\"], [0.6666666666666666, \"#ed7953\"], [0.7777777777777778, \"#fb9f3a\"], [0.8888888888888888, \"#fdca26\"], [1.0, \"#f0f921\"]], \"type\": \"surface\"}], \"table\": [{\"cells\": {\"fill\": {\"color\": \"#EBF0F8\"}, \"line\": {\"color\": \"white\"}}, \"header\": {\"fill\": {\"color\": \"#C8D4E3\"}, \"line\": {\"color\": \"white\"}}, \"type\": \"table\"}]}, \"layout\": {\"annotationdefaults\": {\"arrowcolor\": \"#2a3f5f\", \"arrowhead\": 0, \"arrowwidth\": 1}, \"autotypenumbers\": \"strict\", \"coloraxis\": {\"colorbar\": {\"outlinewidth\": 0, \"ticks\": \"\"}}, \"colorscale\": {\"diverging\": [[0, \"#8e0152\"], [0.1, \"#c51b7d\"], [0.2, \"#de77ae\"], [0.3, \"#f1b6da\"], [0.4, \"#fde0ef\"], [0.5, \"#f7f7f7\"], [0.6, \"#e6f5d0\"], [0.7, \"#b8e186\"], [0.8, \"#7fbc41\"], [0.9, \"#4d9221\"], [1, \"#276419\"]], \"sequential\": [[0.0, \"#0d0887\"], [0.1111111111111111, \"#46039f\"], [0.2222222222222222, \"#7201a8\"], [0.3333333333333333, \"#9c179e\"], [0.4444444444444444, \"#bd3786\"], [0.5555555555555556, \"#d8576b\"], [0.6666666666666666, \"#ed7953\"], [0.7777777777777778, \"#fb9f3a\"], [0.8888888888888888, \"#fdca26\"], [1.0, \"#f0f921\"]], \"sequentialminus\": [[0.0, \"#0d0887\"], [0.1111111111111111, \"#46039f\"], [0.2222222222222222, \"#7201a8\"], [0.3333333333333333, \"#9c179e\"], [0.4444444444444444, \"#bd3786\"], [0.5555555555555556, \"#d8576b\"], [0.6666666666666666, \"#ed7953\"], [0.7777777777777778, \"#fb9f3a\"], [0.8888888888888888, \"#fdca26\"], [1.0, \"#f0f921\"]]}, \"colorway\": [\"#636efa\", \"#EF553B\", \"#00cc96\", \"#ab63fa\", \"#FFA15A\", \"#19d3f3\", \"#FF6692\", \"#B6E880\", \"#FF97FF\", \"#FECB52\"], \"font\": {\"color\": \"#2a3f5f\"}, \"geo\": {\"bgcolor\": \"white\", \"lakecolor\": \"white\", \"landcolor\": \"#E5ECF6\", \"showlakes\": true, \"showland\": true, \"subunitcolor\": \"white\"}, \"hoverlabel\": {\"align\": \"left\"}, \"hovermode\": \"closest\", \"mapbox\": {\"style\": \"light\"}, \"paper_bgcolor\": \"white\", \"plot_bgcolor\": \"#E5ECF6\", \"polar\": {\"angularaxis\": {\"gridcolor\": \"white\", \"linecolor\": \"white\", \"ticks\": \"\"}, \"bgcolor\": \"#E5ECF6\", \"radialaxis\": {\"gridcolor\": \"white\", \"linecolor\": \"white\", \"ticks\": \"\"}}, \"scene\": {\"xaxis\": {\"backgroundcolor\": \"#E5ECF6\", \"gridcolor\": \"white\", \"gridwidth\": 2, \"linecolor\": \"white\", \"showbackground\": true, \"ticks\": \"\", \"zerolinecolor\": \"white\"}, \"yaxis\": {\"backgroundcolor\": \"#E5ECF6\", \"gridcolor\": \"white\", \"gridwidth\": 2, \"linecolor\": \"white\", \"showbackground\": true, \"ticks\": \"\", \"zerolinecolor\": \"white\"}, \"zaxis\": {\"backgroundcolor\": \"#E5ECF6\", \"gridcolor\": \"white\", \"gridwidth\": 2, \"linecolor\": \"white\", \"showbackground\": true, \"ticks\": \"\", \"zerolinecolor\": \"white\"}}, \"shapedefaults\": {\"line\": {\"color\": \"#2a3f5f\"}}, \"ternary\": {\"aaxis\": {\"gridcolor\": \"white\", \"linecolor\": \"white\", \"ticks\": \"\"}, \"baxis\": {\"gridcolor\": \"white\", \"linecolor\": \"white\", \"ticks\": \"\"}, \"bgcolor\": \"#E5ECF6\", \"caxis\": {\"gridcolor\": \"white\", \"linecolor\": \"white\", \"ticks\": \"\"}}, \"title\": {\"x\": 0.05}, \"xaxis\": {\"automargin\": true, \"gridcolor\": \"white\", \"linecolor\": \"white\", \"ticks\": \"\", \"title\": {\"standoff\": 15}, \"zerolinecolor\": \"white\", \"zerolinewidth\": 2}, \"yaxis\": {\"automargin\": true, \"gridcolor\": \"white\", \"linecolor\": \"white\", \"ticks\": \"\", \"title\": {\"standoff\": 15}, \"zerolinecolor\": \"white\", \"zerolinewidth\": 2}}}, \"title\": {\"text\": \"The Percentage Of Each Game Category \"}},                        {\"responsive\": true}                    ).then(function(){\n",
       "                            \n",
       "var gd = document.getElementById('cc74d04a-d649-43cd-bc3e-64d901cb539d');\n",
       "var x = new MutationObserver(function (mutations, observer) {{\n",
       "        var display = window.getComputedStyle(gd).display;\n",
       "        if (!display || display === 'none') {{\n",
       "            console.log([gd, 'removed!']);\n",
       "            Plotly.purge(gd);\n",
       "            observer.disconnect();\n",
       "        }}\n",
       "}});\n",
       "\n",
       "// Listen for the removal of the full notebook cells\n",
       "var notebookContainer = gd.closest('#notebook-container');\n",
       "if (notebookContainer) {{\n",
       "    x.observe(notebookContainer, {childList: true});\n",
       "}}\n",
       "\n",
       "// Listen for the clearing of the current output cell\n",
       "var outputEl = gd.closest('.output');\n",
       "if (outputEl) {{\n",
       "    x.observe(outputEl, {childList: true});\n",
       "}}\n",
       "\n",
       "                        })                };                });            </script>        </div>"
      ]
     },
     "metadata": {},
     "output_type": "display_data"
    }
   ],
   "source": [
    "# USING PIE CHART VISUALIZATION TO FIND THE PERCENTAGE OF EACH GAMES CATEGORY:\n",
    "px.pie(games,names='category',values=None,title='The Percentage Of Each Game Category ')"
   ]
  },
  {
   "cell_type": "markdown",
   "metadata": {},
   "source": [
    "USING PIE CHART VISUALIZATION TO FIND THE PERCENTAGE OF EACH GAMES CATEGORY"
   ]
  },
  {
   "cell_type": "markdown",
   "metadata": {},
   "source": [
    "GAME CARD HAS THE HIGHEST PERCENTAGE IN THE CATEGORY WITH 7.97%"
   ]
  },
  {
   "cell_type": "code",
   "execution_count": 62,
   "metadata": {},
   "outputs": [
    {
     "data": {
      "application/vnd.plotly.v1+json": {
       "config": {
        "plotlyServerURL": "https://plot.ly"
       },
       "data": [
        {
         "domain": {
          "x": [
           0,
           1
          ],
          "y": [
           0,
           1
          ]
         },
         "hovertemplate": "paid=%{label}<extra></extra>",
         "labels": [
          false,
          false,
          false,
          false,
          false,
          false,
          false,
          false,
          false,
          false,
          false,
          false,
          false,
          false,
          false,
          false,
          false,
          false,
          false,
          false,
          false,
          false,
          false,
          false,
          false,
          false,
          false,
          false,
          false,
          false,
          false,
          false,
          false,
          false,
          false,
          false,
          false,
          false,
          false,
          false,
          false,
          false,
          false,
          false,
          false,
          false,
          false,
          false,
          false,
          false,
          false,
          false,
          false,
          false,
          false,
          false,
          false,
          false,
          false,
          false,
          false,
          false,
          false,
          false,
          false,
          false,
          false,
          false,
          false,
          false,
          false,
          false,
          false,
          false,
          false,
          false,
          false,
          false,
          false,
          false,
          false,
          false,
          false,
          false,
          false,
          false,
          false,
          false,
          false,
          false,
          false,
          true,
          false,
          false,
          false,
          false,
          false,
          false,
          false,
          false,
          false,
          false,
          false,
          false,
          false,
          false,
          false,
          false,
          false,
          false,
          false,
          false,
          false,
          false,
          false,
          false,
          false,
          false,
          false,
          false,
          false,
          false,
          false,
          false,
          false,
          false,
          false,
          false,
          false,
          false,
          false,
          false,
          false,
          false,
          false,
          false,
          false,
          false,
          false,
          false,
          false,
          false,
          false,
          false,
          false,
          false,
          false,
          false,
          false,
          false,
          false,
          false,
          false,
          true,
          false,
          false,
          false,
          false,
          false,
          false,
          false,
          false,
          false,
          false,
          false,
          false,
          false,
          false,
          false,
          false,
          false,
          false,
          false,
          false,
          false,
          false,
          false,
          false,
          false,
          false,
          false,
          false,
          false,
          false,
          false,
          false,
          false,
          false,
          false,
          false,
          false,
          false,
          false,
          false,
          false,
          false,
          false,
          false,
          false,
          false,
          false,
          false,
          false,
          false,
          false,
          false,
          false,
          false,
          false,
          false,
          false,
          true,
          false,
          false,
          false,
          false,
          false,
          false,
          false,
          false,
          false,
          false,
          false,
          false,
          false,
          false,
          false,
          false,
          false,
          false,
          false,
          false,
          false,
          false,
          false,
          false,
          false,
          false,
          false,
          false,
          false,
          false,
          false,
          false,
          false,
          false,
          false,
          false,
          false,
          false,
          false,
          false,
          false,
          false,
          false,
          false,
          false,
          false,
          false,
          false,
          false,
          true,
          false,
          false,
          false,
          false,
          false,
          false,
          false,
          false,
          false,
          false,
          false,
          false,
          false,
          false,
          false,
          false,
          false,
          false,
          false,
          false,
          false,
          false,
          false,
          false,
          false,
          false,
          false,
          false,
          false,
          false,
          false,
          false,
          false,
          false,
          false,
          false,
          false,
          false,
          false,
          false,
          false,
          false,
          false,
          false,
          false,
          false,
          false,
          false,
          false,
          false,
          false,
          false,
          false,
          false,
          false,
          false,
          false,
          false,
          false,
          false,
          false,
          false,
          false,
          false,
          false,
          false,
          false,
          false,
          false,
          false,
          false,
          false,
          false,
          false,
          false,
          false,
          false,
          false,
          false,
          false,
          false,
          false,
          false,
          false,
          false,
          false,
          false,
          false,
          false,
          false,
          false,
          false,
          false,
          false,
          false,
          false,
          false,
          false,
          false,
          false,
          false,
          false,
          false,
          false,
          false,
          false,
          false,
          false,
          false,
          false,
          false,
          false,
          false,
          false,
          false,
          false,
          false,
          false,
          false,
          false,
          false,
          false,
          false,
          false,
          false,
          false,
          false,
          false,
          false,
          false,
          false,
          false,
          false,
          false,
          false,
          false,
          false,
          false,
          false,
          false,
          false,
          false,
          false,
          false,
          false,
          false,
          false,
          false,
          false,
          false,
          false,
          false,
          false,
          false,
          false,
          false,
          false,
          false,
          false,
          false,
          false,
          false,
          false,
          false,
          false,
          false,
          false,
          false,
          false,
          false,
          false,
          false,
          false,
          false,
          false,
          false,
          false,
          false,
          false,
          false,
          false,
          false,
          false,
          false,
          false,
          false,
          false,
          false,
          false,
          false,
          false,
          false,
          false,
          false,
          false,
          false,
          false,
          false,
          false,
          false,
          false,
          false,
          false,
          false,
          false,
          false,
          false,
          false,
          false,
          false,
          false,
          false,
          false,
          false,
          false,
          true,
          false,
          false,
          false,
          false,
          false,
          false,
          false,
          false,
          false,
          false,
          false,
          false,
          false,
          false,
          false,
          false,
          false,
          false,
          false,
          false,
          false,
          false,
          false,
          false,
          false,
          false,
          false,
          false,
          false,
          false,
          false,
          false,
          false,
          false,
          false,
          false,
          false,
          false,
          false,
          false,
          false,
          false,
          false,
          false,
          false,
          false,
          false,
          false,
          false,
          false,
          false,
          false,
          false,
          false,
          false,
          false,
          false,
          false,
          false,
          false,
          false,
          false,
          false,
          false,
          false,
          false,
          false,
          false,
          false,
          false,
          false,
          false,
          false,
          false,
          false,
          false,
          false,
          false,
          false,
          false,
          false,
          false,
          false,
          false,
          false,
          false,
          false,
          false,
          false,
          false,
          false,
          false,
          false,
          false,
          false,
          false,
          false,
          false,
          false,
          false,
          false,
          false,
          false,
          false,
          false,
          false,
          false,
          false,
          false,
          false,
          false,
          false,
          false,
          false,
          false,
          false,
          false,
          false,
          false,
          false,
          false,
          false,
          false,
          false,
          false,
          false,
          false,
          false,
          false,
          false,
          false,
          false,
          false,
          false,
          false,
          false,
          false,
          false,
          false,
          false,
          false,
          false,
          false,
          false,
          false,
          false,
          false,
          false,
          false,
          false,
          false,
          false,
          false,
          false,
          false,
          false,
          false,
          false,
          false,
          false,
          false,
          false,
          false,
          false,
          false,
          false,
          false,
          false,
          false,
          false,
          false,
          false,
          false,
          false,
          false,
          false,
          false,
          false,
          false,
          false,
          false,
          false,
          false,
          false,
          false,
          false,
          false,
          false,
          false,
          false,
          false,
          false,
          false,
          false,
          false,
          false,
          false,
          false,
          false,
          false,
          false,
          false,
          false,
          false,
          false,
          false,
          false,
          false,
          false,
          false,
          false,
          false,
          false,
          false,
          false,
          false,
          false,
          false,
          false,
          false,
          false,
          false,
          false,
          false,
          false,
          false,
          false,
          false,
          false,
          false,
          false,
          false,
          false,
          false,
          false,
          false,
          false,
          false,
          false,
          false,
          false,
          false,
          false,
          false,
          false,
          false,
          false,
          false,
          false,
          false,
          false,
          false,
          false,
          false,
          false,
          false,
          false,
          false,
          false,
          false,
          false,
          false,
          false,
          false,
          false,
          false,
          false,
          false,
          false,
          false,
          false,
          false,
          false,
          false,
          false,
          false,
          false,
          false,
          false,
          false,
          false,
          false,
          false,
          false,
          false,
          false,
          false,
          false,
          false,
          false,
          false,
          false,
          false,
          false,
          false,
          false,
          false,
          false,
          false,
          false,
          false,
          false,
          false,
          false,
          false,
          false,
          false,
          false,
          false,
          false,
          false,
          false,
          false,
          false,
          false,
          false,
          false,
          false,
          false,
          false,
          false,
          false,
          false,
          false,
          false,
          false,
          false,
          false,
          false,
          false,
          false,
          false,
          false,
          false,
          false,
          false,
          false,
          false,
          false,
          false,
          false,
          false,
          false,
          false,
          false,
          false,
          false,
          false,
          false,
          false,
          false,
          false,
          false,
          false,
          false,
          false,
          false,
          false,
          false,
          false,
          false,
          false,
          false,
          false,
          false,
          false,
          false,
          false,
          false,
          false,
          false,
          false,
          false,
          false,
          false,
          false,
          false,
          false,
          false,
          false,
          false,
          false,
          false,
          false,
          false,
          false,
          false,
          false,
          false,
          false,
          false,
          false,
          false,
          false,
          false,
          false,
          false,
          false,
          false,
          false,
          false,
          false,
          false,
          false,
          false,
          false,
          false,
          false,
          false,
          false,
          false,
          false,
          false,
          false,
          false,
          false,
          false,
          false,
          false,
          false,
          false,
          false,
          false,
          false,
          false,
          false,
          false,
          false,
          false,
          false,
          false,
          false,
          false,
          false,
          false,
          false,
          false,
          false,
          false,
          false,
          false,
          false,
          false,
          false,
          false,
          false,
          false,
          false,
          false,
          false,
          false,
          false,
          false,
          false,
          false,
          false,
          false,
          false,
          false,
          false,
          false,
          false,
          false,
          false,
          false,
          false,
          false,
          false,
          false,
          false,
          false,
          false,
          false,
          false,
          false,
          false,
          false,
          false,
          false,
          false,
          false,
          false,
          false,
          false,
          false,
          false,
          false,
          false,
          false,
          false,
          false,
          true,
          false,
          false,
          false,
          false,
          false,
          false,
          false,
          false,
          false,
          false,
          false,
          false,
          false,
          false,
          false,
          false,
          false,
          false,
          false,
          false,
          false,
          false,
          false,
          false,
          false,
          false,
          false,
          false,
          false,
          false,
          false,
          false,
          false,
          false,
          false,
          false,
          false,
          false,
          false,
          false,
          false,
          false,
          false,
          false,
          false,
          false,
          false,
          false,
          false,
          false,
          false,
          false,
          false,
          false,
          false,
          false,
          false,
          false,
          false,
          false,
          false,
          false,
          false,
          false,
          false,
          false,
          false,
          false,
          false,
          false,
          false,
          false,
          false,
          false,
          false,
          false,
          false,
          false,
          false,
          false,
          false,
          false,
          false,
          false,
          false,
          false,
          false,
          false,
          false,
          false,
          false,
          false,
          false,
          false,
          false,
          false,
          false,
          false,
          false,
          false,
          false,
          false,
          false,
          false,
          false,
          false,
          false,
          false,
          false,
          false,
          false,
          false,
          false,
          false,
          false,
          false,
          false,
          false,
          false,
          false,
          false,
          false,
          false,
          false,
          false,
          false,
          false,
          false,
          false,
          false,
          false,
          false,
          false,
          false,
          false,
          false,
          false,
          false,
          false,
          false,
          false,
          false,
          false,
          false,
          false,
          false,
          false,
          false,
          false,
          false,
          false,
          false,
          false,
          false,
          false,
          false,
          false,
          false,
          false,
          false,
          false,
          false,
          false,
          false,
          false,
          false,
          false,
          false,
          false,
          false,
          false,
          false,
          false,
          false,
          false,
          false,
          false,
          false,
          false,
          false,
          false,
          false,
          false,
          false,
          false,
          false,
          false,
          false,
          false,
          false,
          false,
          false,
          false,
          false,
          false,
          false,
          false,
          false,
          false,
          false,
          false,
          false,
          false,
          false,
          false,
          false,
          false,
          false,
          false,
          false,
          false,
          false,
          false,
          false,
          false,
          false,
          false,
          false,
          false,
          false,
          false,
          false,
          false,
          false,
          false,
          false,
          false,
          false,
          false,
          false,
          false,
          false,
          false,
          false,
          false,
          false,
          false,
          false,
          false,
          false,
          false,
          false,
          false,
          false,
          false,
          false,
          false,
          false,
          false,
          false,
          false,
          false,
          false,
          false,
          false,
          false,
          false,
          false,
          false,
          false,
          false,
          false,
          false,
          false,
          false,
          false,
          false,
          false,
          false,
          false,
          false,
          false,
          false,
          false,
          false,
          false,
          false,
          false,
          false,
          false,
          false,
          false,
          false,
          false,
          false,
          false,
          false,
          false,
          false,
          false,
          false,
          false,
          false,
          false,
          false,
          false,
          false,
          false,
          false,
          false,
          false,
          false,
          false,
          false,
          false,
          false,
          false,
          false,
          false,
          false,
          false,
          false,
          false,
          false,
          false,
          false,
          false,
          false,
          false,
          false,
          false,
          false,
          false,
          false,
          false,
          false,
          false,
          false,
          false,
          false,
          false,
          false,
          false,
          false,
          false,
          false,
          false,
          false,
          false,
          false,
          false,
          false,
          false,
          false,
          false,
          false,
          false,
          false,
          false,
          false,
          false,
          false,
          false,
          false,
          false,
          false,
          false,
          false,
          false,
          false,
          false,
          false,
          false,
          false,
          false,
          false,
          false,
          false,
          false,
          false,
          false,
          false,
          false,
          false,
          false,
          false,
          false,
          false,
          false,
          false,
          false,
          false,
          false,
          false,
          false,
          false,
          false,
          false,
          false,
          false,
          false,
          false,
          false,
          false,
          false,
          false,
          false,
          false,
          false,
          false,
          false,
          false,
          false,
          false,
          false,
          false,
          false,
          false,
          false,
          false,
          false,
          false,
          false,
          false,
          false,
          false,
          false,
          false,
          false,
          false,
          false,
          false,
          false,
          false,
          false,
          false,
          false,
          false,
          false,
          false,
          false,
          false,
          false,
          false,
          false,
          false,
          false,
          false,
          false,
          false,
          false,
          false,
          false,
          false,
          false,
          false,
          false,
          false,
          false,
          false,
          false,
          false,
          false,
          false,
          false,
          false,
          false,
          false,
          false,
          false,
          false,
          false,
          false,
          false,
          false,
          false,
          false,
          false,
          false,
          false,
          false,
          false,
          false,
          false,
          false,
          false,
          false,
          false,
          false,
          false,
          false,
          false,
          false,
          false,
          false,
          false,
          false,
          false,
          false,
          false,
          false,
          false,
          false,
          false,
          false,
          false,
          false,
          false,
          false,
          false,
          false,
          false,
          false,
          false,
          false,
          false,
          false,
          false,
          false,
          false,
          false,
          false,
          false,
          false,
          false,
          false,
          false,
          false,
          false,
          false,
          false,
          false,
          false,
          false,
          false,
          false,
          false,
          false,
          false,
          false,
          false,
          false,
          false,
          false,
          false,
          false,
          false,
          false,
          false,
          false,
          false,
          false,
          false,
          false,
          false,
          false,
          false,
          false,
          false,
          false,
          false,
          false,
          false,
          false,
          false,
          false,
          false,
          false,
          false,
          false,
          false,
          false,
          false,
          false,
          false,
          false,
          false,
          false,
          false,
          false,
          false,
          false,
          false,
          false,
          false,
          false,
          false,
          false,
          false,
          false,
          false,
          false,
          false,
          false,
          false,
          false,
          false,
          false,
          false,
          false,
          false,
          false,
          false,
          false,
          false,
          false,
          false,
          false,
          false,
          false,
          false,
          false,
          false,
          false,
          false,
          false,
          false,
          false,
          false,
          false,
          false,
          false,
          false,
          false,
          false,
          false,
          false,
          false,
          false,
          false,
          false,
          false,
          false,
          false,
          false,
          false,
          false,
          false,
          false,
          false,
          false,
          false,
          false,
          false,
          false,
          false,
          false,
          false,
          false,
          false,
          false,
          false,
          false,
          false,
          false,
          false,
          false,
          false,
          false,
          false,
          false,
          false,
          false,
          false,
          false,
          false,
          false,
          false,
          false,
          false,
          false,
          false,
          false,
          false,
          false,
          false,
          false,
          false,
          false,
          false,
          false,
          false,
          false,
          false,
          false,
          false,
          false,
          false,
          false,
          false,
          false,
          false,
          false,
          false,
          false,
          false,
          false,
          false,
          false,
          false,
          false,
          false,
          false,
          false,
          false,
          false,
          false,
          false,
          false,
          false,
          false,
          false,
          false,
          false,
          false,
          false,
          false,
          false,
          false,
          false,
          false,
          false,
          false,
          false,
          false,
          false,
          false,
          false,
          true,
          false,
          false,
          false,
          false,
          false,
          false,
          false,
          false,
          false,
          false,
          false,
          false,
          false,
          false,
          false,
          false,
          false,
          false,
          false,
          false,
          false,
          false,
          false,
          false,
          false,
          false,
          false,
          false,
          false,
          false,
          false,
          false,
          false,
          false,
          false,
          false,
          false,
          false,
          false,
          false,
          false,
          false,
          false,
          false,
          false,
          false,
          false,
          false,
          false,
          false,
          false,
          false,
          false,
          false,
          false,
          false,
          false,
          false,
          false,
          false,
          false,
          false,
          false,
          false,
          false,
          false,
          false,
          false,
          false,
          false,
          false,
          false,
          false,
          false,
          false,
          false,
          false,
          false,
          false,
          false,
          false,
          false,
          false,
          false,
          false,
          false,
          false,
          false,
          false,
          false,
          false,
          false,
          false,
          false,
          false,
          false,
          false,
          false,
          false,
          false,
          false,
          false,
          false,
          false,
          false,
          false,
          false,
          false,
          false,
          false,
          false,
          false,
          false,
          false,
          false,
          false,
          false,
          false,
          false,
          false,
          false,
          false,
          false,
          false,
          false,
          false,
          false,
          false,
          false,
          false,
          false,
          false,
          false,
          false,
          false,
          false,
          false,
          false,
          false,
          false,
          false
         ],
         "legendgroup": "",
         "name": "",
         "showlegend": true,
         "type": "pie"
        }
       ],
       "layout": {
        "legend": {
         "tracegroupgap": 0
        },
        "template": {
         "data": {
          "bar": [
           {
            "error_x": {
             "color": "#2a3f5f"
            },
            "error_y": {
             "color": "#2a3f5f"
            },
            "marker": {
             "line": {
              "color": "#E5ECF6",
              "width": 0.5
             }
            },
            "type": "bar"
           }
          ],
          "barpolar": [
           {
            "marker": {
             "line": {
              "color": "#E5ECF6",
              "width": 0.5
             }
            },
            "type": "barpolar"
           }
          ],
          "carpet": [
           {
            "aaxis": {
             "endlinecolor": "#2a3f5f",
             "gridcolor": "white",
             "linecolor": "white",
             "minorgridcolor": "white",
             "startlinecolor": "#2a3f5f"
            },
            "baxis": {
             "endlinecolor": "#2a3f5f",
             "gridcolor": "white",
             "linecolor": "white",
             "minorgridcolor": "white",
             "startlinecolor": "#2a3f5f"
            },
            "type": "carpet"
           }
          ],
          "choropleth": [
           {
            "colorbar": {
             "outlinewidth": 0,
             "ticks": ""
            },
            "type": "choropleth"
           }
          ],
          "contour": [
           {
            "colorbar": {
             "outlinewidth": 0,
             "ticks": ""
            },
            "colorscale": [
             [
              0,
              "#0d0887"
             ],
             [
              0.1111111111111111,
              "#46039f"
             ],
             [
              0.2222222222222222,
              "#7201a8"
             ],
             [
              0.3333333333333333,
              "#9c179e"
             ],
             [
              0.4444444444444444,
              "#bd3786"
             ],
             [
              0.5555555555555556,
              "#d8576b"
             ],
             [
              0.6666666666666666,
              "#ed7953"
             ],
             [
              0.7777777777777778,
              "#fb9f3a"
             ],
             [
              0.8888888888888888,
              "#fdca26"
             ],
             [
              1,
              "#f0f921"
             ]
            ],
            "type": "contour"
           }
          ],
          "contourcarpet": [
           {
            "colorbar": {
             "outlinewidth": 0,
             "ticks": ""
            },
            "type": "contourcarpet"
           }
          ],
          "heatmap": [
           {
            "colorbar": {
             "outlinewidth": 0,
             "ticks": ""
            },
            "colorscale": [
             [
              0,
              "#0d0887"
             ],
             [
              0.1111111111111111,
              "#46039f"
             ],
             [
              0.2222222222222222,
              "#7201a8"
             ],
             [
              0.3333333333333333,
              "#9c179e"
             ],
             [
              0.4444444444444444,
              "#bd3786"
             ],
             [
              0.5555555555555556,
              "#d8576b"
             ],
             [
              0.6666666666666666,
              "#ed7953"
             ],
             [
              0.7777777777777778,
              "#fb9f3a"
             ],
             [
              0.8888888888888888,
              "#fdca26"
             ],
             [
              1,
              "#f0f921"
             ]
            ],
            "type": "heatmap"
           }
          ],
          "heatmapgl": [
           {
            "colorbar": {
             "outlinewidth": 0,
             "ticks": ""
            },
            "colorscale": [
             [
              0,
              "#0d0887"
             ],
             [
              0.1111111111111111,
              "#46039f"
             ],
             [
              0.2222222222222222,
              "#7201a8"
             ],
             [
              0.3333333333333333,
              "#9c179e"
             ],
             [
              0.4444444444444444,
              "#bd3786"
             ],
             [
              0.5555555555555556,
              "#d8576b"
             ],
             [
              0.6666666666666666,
              "#ed7953"
             ],
             [
              0.7777777777777778,
              "#fb9f3a"
             ],
             [
              0.8888888888888888,
              "#fdca26"
             ],
             [
              1,
              "#f0f921"
             ]
            ],
            "type": "heatmapgl"
           }
          ],
          "histogram": [
           {
            "marker": {
             "colorbar": {
              "outlinewidth": 0,
              "ticks": ""
             }
            },
            "type": "histogram"
           }
          ],
          "histogram2d": [
           {
            "colorbar": {
             "outlinewidth": 0,
             "ticks": ""
            },
            "colorscale": [
             [
              0,
              "#0d0887"
             ],
             [
              0.1111111111111111,
              "#46039f"
             ],
             [
              0.2222222222222222,
              "#7201a8"
             ],
             [
              0.3333333333333333,
              "#9c179e"
             ],
             [
              0.4444444444444444,
              "#bd3786"
             ],
             [
              0.5555555555555556,
              "#d8576b"
             ],
             [
              0.6666666666666666,
              "#ed7953"
             ],
             [
              0.7777777777777778,
              "#fb9f3a"
             ],
             [
              0.8888888888888888,
              "#fdca26"
             ],
             [
              1,
              "#f0f921"
             ]
            ],
            "type": "histogram2d"
           }
          ],
          "histogram2dcontour": [
           {
            "colorbar": {
             "outlinewidth": 0,
             "ticks": ""
            },
            "colorscale": [
             [
              0,
              "#0d0887"
             ],
             [
              0.1111111111111111,
              "#46039f"
             ],
             [
              0.2222222222222222,
              "#7201a8"
             ],
             [
              0.3333333333333333,
              "#9c179e"
             ],
             [
              0.4444444444444444,
              "#bd3786"
             ],
             [
              0.5555555555555556,
              "#d8576b"
             ],
             [
              0.6666666666666666,
              "#ed7953"
             ],
             [
              0.7777777777777778,
              "#fb9f3a"
             ],
             [
              0.8888888888888888,
              "#fdca26"
             ],
             [
              1,
              "#f0f921"
             ]
            ],
            "type": "histogram2dcontour"
           }
          ],
          "mesh3d": [
           {
            "colorbar": {
             "outlinewidth": 0,
             "ticks": ""
            },
            "type": "mesh3d"
           }
          ],
          "parcoords": [
           {
            "line": {
             "colorbar": {
              "outlinewidth": 0,
              "ticks": ""
             }
            },
            "type": "parcoords"
           }
          ],
          "pie": [
           {
            "automargin": true,
            "type": "pie"
           }
          ],
          "scatter": [
           {
            "marker": {
             "colorbar": {
              "outlinewidth": 0,
              "ticks": ""
             }
            },
            "type": "scatter"
           }
          ],
          "scatter3d": [
           {
            "line": {
             "colorbar": {
              "outlinewidth": 0,
              "ticks": ""
             }
            },
            "marker": {
             "colorbar": {
              "outlinewidth": 0,
              "ticks": ""
             }
            },
            "type": "scatter3d"
           }
          ],
          "scattercarpet": [
           {
            "marker": {
             "colorbar": {
              "outlinewidth": 0,
              "ticks": ""
             }
            },
            "type": "scattercarpet"
           }
          ],
          "scattergeo": [
           {
            "marker": {
             "colorbar": {
              "outlinewidth": 0,
              "ticks": ""
             }
            },
            "type": "scattergeo"
           }
          ],
          "scattergl": [
           {
            "marker": {
             "colorbar": {
              "outlinewidth": 0,
              "ticks": ""
             }
            },
            "type": "scattergl"
           }
          ],
          "scattermapbox": [
           {
            "marker": {
             "colorbar": {
              "outlinewidth": 0,
              "ticks": ""
             }
            },
            "type": "scattermapbox"
           }
          ],
          "scatterpolar": [
           {
            "marker": {
             "colorbar": {
              "outlinewidth": 0,
              "ticks": ""
             }
            },
            "type": "scatterpolar"
           }
          ],
          "scatterpolargl": [
           {
            "marker": {
             "colorbar": {
              "outlinewidth": 0,
              "ticks": ""
             }
            },
            "type": "scatterpolargl"
           }
          ],
          "scatterternary": [
           {
            "marker": {
             "colorbar": {
              "outlinewidth": 0,
              "ticks": ""
             }
            },
            "type": "scatterternary"
           }
          ],
          "surface": [
           {
            "colorbar": {
             "outlinewidth": 0,
             "ticks": ""
            },
            "colorscale": [
             [
              0,
              "#0d0887"
             ],
             [
              0.1111111111111111,
              "#46039f"
             ],
             [
              0.2222222222222222,
              "#7201a8"
             ],
             [
              0.3333333333333333,
              "#9c179e"
             ],
             [
              0.4444444444444444,
              "#bd3786"
             ],
             [
              0.5555555555555556,
              "#d8576b"
             ],
             [
              0.6666666666666666,
              "#ed7953"
             ],
             [
              0.7777777777777778,
              "#fb9f3a"
             ],
             [
              0.8888888888888888,
              "#fdca26"
             ],
             [
              1,
              "#f0f921"
             ]
            ],
            "type": "surface"
           }
          ],
          "table": [
           {
            "cells": {
             "fill": {
              "color": "#EBF0F8"
             },
             "line": {
              "color": "white"
             }
            },
            "header": {
             "fill": {
              "color": "#C8D4E3"
             },
             "line": {
              "color": "white"
             }
            },
            "type": "table"
           }
          ]
         },
         "layout": {
          "annotationdefaults": {
           "arrowcolor": "#2a3f5f",
           "arrowhead": 0,
           "arrowwidth": 1
          },
          "autotypenumbers": "strict",
          "coloraxis": {
           "colorbar": {
            "outlinewidth": 0,
            "ticks": ""
           }
          },
          "colorscale": {
           "diverging": [
            [
             0,
             "#8e0152"
            ],
            [
             0.1,
             "#c51b7d"
            ],
            [
             0.2,
             "#de77ae"
            ],
            [
             0.3,
             "#f1b6da"
            ],
            [
             0.4,
             "#fde0ef"
            ],
            [
             0.5,
             "#f7f7f7"
            ],
            [
             0.6,
             "#e6f5d0"
            ],
            [
             0.7,
             "#b8e186"
            ],
            [
             0.8,
             "#7fbc41"
            ],
            [
             0.9,
             "#4d9221"
            ],
            [
             1,
             "#276419"
            ]
           ],
           "sequential": [
            [
             0,
             "#0d0887"
            ],
            [
             0.1111111111111111,
             "#46039f"
            ],
            [
             0.2222222222222222,
             "#7201a8"
            ],
            [
             0.3333333333333333,
             "#9c179e"
            ],
            [
             0.4444444444444444,
             "#bd3786"
            ],
            [
             0.5555555555555556,
             "#d8576b"
            ],
            [
             0.6666666666666666,
             "#ed7953"
            ],
            [
             0.7777777777777778,
             "#fb9f3a"
            ],
            [
             0.8888888888888888,
             "#fdca26"
            ],
            [
             1,
             "#f0f921"
            ]
           ],
           "sequentialminus": [
            [
             0,
             "#0d0887"
            ],
            [
             0.1111111111111111,
             "#46039f"
            ],
            [
             0.2222222222222222,
             "#7201a8"
            ],
            [
             0.3333333333333333,
             "#9c179e"
            ],
            [
             0.4444444444444444,
             "#bd3786"
            ],
            [
             0.5555555555555556,
             "#d8576b"
            ],
            [
             0.6666666666666666,
             "#ed7953"
            ],
            [
             0.7777777777777778,
             "#fb9f3a"
            ],
            [
             0.8888888888888888,
             "#fdca26"
            ],
            [
             1,
             "#f0f921"
            ]
           ]
          },
          "colorway": [
           "#636efa",
           "#EF553B",
           "#00cc96",
           "#ab63fa",
           "#FFA15A",
           "#19d3f3",
           "#FF6692",
           "#B6E880",
           "#FF97FF",
           "#FECB52"
          ],
          "font": {
           "color": "#2a3f5f"
          },
          "geo": {
           "bgcolor": "white",
           "lakecolor": "white",
           "landcolor": "#E5ECF6",
           "showlakes": true,
           "showland": true,
           "subunitcolor": "white"
          },
          "hoverlabel": {
           "align": "left"
          },
          "hovermode": "closest",
          "mapbox": {
           "style": "light"
          },
          "paper_bgcolor": "white",
          "plot_bgcolor": "#E5ECF6",
          "polar": {
           "angularaxis": {
            "gridcolor": "white",
            "linecolor": "white",
            "ticks": ""
           },
           "bgcolor": "#E5ECF6",
           "radialaxis": {
            "gridcolor": "white",
            "linecolor": "white",
            "ticks": ""
           }
          },
          "scene": {
           "xaxis": {
            "backgroundcolor": "#E5ECF6",
            "gridcolor": "white",
            "gridwidth": 2,
            "linecolor": "white",
            "showbackground": true,
            "ticks": "",
            "zerolinecolor": "white"
           },
           "yaxis": {
            "backgroundcolor": "#E5ECF6",
            "gridcolor": "white",
            "gridwidth": 2,
            "linecolor": "white",
            "showbackground": true,
            "ticks": "",
            "zerolinecolor": "white"
           },
           "zaxis": {
            "backgroundcolor": "#E5ECF6",
            "gridcolor": "white",
            "gridwidth": 2,
            "linecolor": "white",
            "showbackground": true,
            "ticks": "",
            "zerolinecolor": "white"
           }
          },
          "shapedefaults": {
           "line": {
            "color": "#2a3f5f"
           }
          },
          "ternary": {
           "aaxis": {
            "gridcolor": "white",
            "linecolor": "white",
            "ticks": ""
           },
           "baxis": {
            "gridcolor": "white",
            "linecolor": "white",
            "ticks": ""
           },
           "bgcolor": "#E5ECF6",
           "caxis": {
            "gridcolor": "white",
            "linecolor": "white",
            "ticks": ""
           }
          },
          "title": {
           "x": 0.05
          },
          "xaxis": {
           "automargin": true,
           "gridcolor": "white",
           "linecolor": "white",
           "ticks": "",
           "title": {
            "standoff": 15
           },
           "zerolinecolor": "white",
           "zerolinewidth": 2
          },
          "yaxis": {
           "automargin": true,
           "gridcolor": "white",
           "linecolor": "white",
           "ticks": "",
           "title": {
            "standoff": 15
           },
           "zerolinecolor": "white",
           "zerolinewidth": 2
          }
         }
        },
        "title": {
         "text": "THE PERCENTAGE OF NUMBER OF GAMES PAID FOR AND NOT PAID FOR "
        }
       }
      },
      "text/html": [
       "<div>                            <div id=\"b7a0be95-1331-440e-8077-2ea333c870f5\" class=\"plotly-graph-div\" style=\"height:525px; width:100%;\"></div>            <script type=\"text/javascript\">                require([\"plotly\"], function(Plotly) {                    window.PLOTLYENV=window.PLOTLYENV || {};                                    if (document.getElementById(\"b7a0be95-1331-440e-8077-2ea333c870f5\")) {                    Plotly.newPlot(                        \"b7a0be95-1331-440e-8077-2ea333c870f5\",                        [{\"domain\": {\"x\": [0.0, 1.0], \"y\": [0.0, 1.0]}, \"hovertemplate\": \"paid=%{label}<extra></extra>\", \"labels\": [false, false, false, false, false, false, false, false, false, false, false, false, false, false, false, false, false, false, false, false, false, false, false, false, false, false, false, false, false, false, false, false, false, false, false, false, false, false, false, false, false, false, false, false, false, false, false, false, false, false, false, false, false, false, false, false, false, false, false, false, false, false, false, false, false, false, false, false, false, false, false, false, false, false, false, false, false, false, false, false, false, false, false, false, false, false, false, false, false, false, false, true, false, false, false, false, false, false, false, false, false, false, false, false, false, false, false, false, false, false, false, false, false, false, false, false, false, false, false, false, false, false, false, false, false, false, false, false, false, false, false, false, false, false, false, false, false, false, false, false, false, false, false, false, false, false, false, false, false, false, false, false, false, true, false, false, false, false, false, false, false, false, false, false, false, false, false, false, false, false, false, false, false, false, false, false, false, false, false, false, false, false, false, false, false, false, false, false, false, false, false, false, false, false, false, false, false, false, false, false, false, false, false, false, false, false, false, false, false, false, false, true, false, false, false, false, false, false, false, false, false, false, false, false, false, false, false, false, false, false, false, false, false, false, false, false, false, false, false, false, false, false, false, false, false, false, false, false, false, false, false, false, false, false, false, false, false, false, false, false, false, true, false, false, false, false, false, false, false, false, false, false, false, false, false, false, false, false, false, false, false, false, false, false, false, false, false, false, false, false, false, false, false, false, false, false, false, false, false, false, false, false, false, false, false, false, false, false, false, false, false, false, false, false, false, false, false, false, false, false, false, false, false, false, false, false, false, false, false, false, false, false, false, false, false, false, false, false, false, false, false, false, false, false, false, false, false, false, false, false, false, false, false, false, false, false, false, false, false, false, false, false, false, false, false, false, false, false, false, false, false, false, false, false, false, false, false, false, false, false, false, false, false, false, false, false, false, false, false, false, false, false, false, false, false, false, false, false, false, false, false, false, false, false, false, false, false, false, false, false, false, false, false, false, false, false, false, false, false, false, false, false, false, false, false, false, false, false, false, false, false, false, false, false, false, false, false, false, false, false, false, false, false, false, false, false, false, false, false, false, false, false, false, false, false, false, false, false, false, false, false, false, false, false, false, false, false, false, false, false, false, false, false, false, false, false, false, true, false, false, false, false, false, false, false, false, false, false, false, false, false, false, false, false, false, false, false, false, false, false, false, false, false, false, false, false, false, false, false, false, false, false, false, false, false, false, false, false, false, false, false, false, false, false, false, false, false, false, false, false, false, false, false, false, false, false, false, false, false, false, false, false, false, false, false, false, false, false, false, false, false, false, false, false, false, false, false, false, false, false, false, false, false, false, false, false, false, false, false, false, false, false, false, false, false, false, false, false, false, false, false, false, false, false, false, false, false, false, false, false, false, false, false, false, false, false, false, false, false, false, false, false, false, false, false, false, false, false, false, false, false, false, false, false, false, false, false, false, false, false, false, false, false, false, false, false, false, false, false, false, false, false, false, false, false, false, false, false, false, false, false, false, false, false, false, false, false, false, false, false, false, false, false, false, false, false, false, false, false, false, false, false, false, false, false, false, false, false, false, false, false, false, false, false, false, false, false, false, false, false, false, false, false, false, false, false, false, false, false, false, false, false, false, false, false, false, false, false, false, false, false, false, false, false, false, false, false, false, false, false, false, false, false, false, false, false, false, false, false, false, false, false, false, false, false, false, false, false, false, false, false, false, false, false, false, false, false, false, false, false, false, false, false, false, false, false, false, false, false, false, false, false, false, false, false, false, false, false, false, false, false, false, false, false, false, false, false, false, false, false, false, false, false, false, false, false, false, false, false, false, false, false, false, false, false, false, false, false, false, false, false, false, false, false, false, false, false, false, false, false, false, false, false, false, false, false, false, false, false, false, false, false, false, false, false, false, false, false, false, false, false, false, false, false, false, false, false, false, false, false, false, false, false, false, false, false, false, false, false, false, false, false, false, false, false, false, false, false, false, false, false, false, false, false, false, false, false, false, false, false, false, false, false, false, false, false, false, false, false, false, false, false, false, false, false, false, false, false, false, false, false, false, false, false, false, false, false, false, false, false, false, false, false, false, false, false, false, false, false, false, false, false, false, false, false, false, false, false, false, false, false, false, false, false, false, false, false, false, false, false, false, false, false, false, false, false, false, false, false, false, false, false, false, false, false, false, false, false, false, false, false, false, false, false, false, false, false, false, false, false, false, false, false, false, false, false, false, false, false, false, false, false, false, false, false, false, false, false, false, true, false, false, false, false, false, false, false, false, false, false, false, false, false, false, false, false, false, false, false, false, false, false, false, false, false, false, false, false, false, false, false, false, false, false, false, false, false, false, false, false, false, false, false, false, false, false, false, false, false, false, false, false, false, false, false, false, false, false, false, false, false, false, false, false, false, false, false, false, false, false, false, false, false, false, false, false, false, false, false, false, false, false, false, false, false, false, false, false, false, false, false, false, false, false, false, false, false, false, false, false, false, false, false, false, false, false, false, false, false, false, false, false, false, false, false, false, false, false, false, false, false, false, false, false, false, false, false, false, false, false, false, false, false, false, false, false, false, false, false, false, false, false, false, false, false, false, false, false, false, false, false, false, false, false, false, false, false, false, false, false, false, false, false, false, false, false, false, false, false, false, false, false, false, false, false, false, false, false, false, false, false, false, false, false, false, false, false, false, false, false, false, false, false, false, false, false, false, false, false, false, false, false, false, false, false, false, false, false, false, false, false, false, false, false, false, false, false, false, false, false, false, false, false, false, false, false, false, false, false, false, false, false, false, false, false, false, false, false, false, false, false, false, false, false, false, false, false, false, false, false, false, false, false, false, false, false, false, false, false, false, false, false, false, false, false, false, false, false, false, false, false, false, false, false, false, false, false, false, false, false, false, false, false, false, false, false, false, false, false, false, false, false, false, false, false, false, false, false, false, false, false, false, false, false, false, false, false, false, false, false, false, false, false, false, false, false, false, false, false, false, false, false, false, false, false, false, false, false, false, false, false, false, false, false, false, false, false, false, false, false, false, false, false, false, false, false, false, false, false, false, false, false, false, false, false, false, false, false, false, false, false, false, false, false, false, false, false, false, false, false, false, false, false, false, false, false, false, false, false, false, false, false, false, false, false, false, false, false, false, false, false, false, false, false, false, false, false, false, false, false, false, false, false, false, false, false, false, false, false, false, false, false, false, false, false, false, false, false, false, false, false, false, false, false, false, false, false, false, false, false, false, false, false, false, false, false, false, false, false, false, false, false, false, false, false, false, false, false, false, false, false, false, false, false, false, false, false, false, false, false, false, false, false, false, false, false, false, false, false, false, false, false, false, false, false, false, false, false, false, false, false, false, false, false, false, false, false, false, false, false, false, false, false, false, false, false, false, false, false, false, false, false, false, false, false, false, false, false, false, false, false, false, false, false, false, false, false, false, false, false, false, false, false, false, false, false, false, false, false, false, false, false, false, false, false, false, false, false, false, false, false, false, false, false, false, false, false, false, false, false, false, false, false, false, false, false, false, false, false, false, false, false, false, false, false, false, false, false, false, false, false, false, false, false, false, false, false, false, false, false, false, false, false, false, false, false, false, false, false, false, false, false, false, false, false, false, false, false, false, false, false, false, false, false, false, false, false, false, false, false, false, false, false, false, false, false, false, false, false, false, false, false, false, false, false, false, false, false, false, false, false, false, false, false, false, false, false, false, false, false, false, false, false, false, false, false, false, false, false, false, false, false, false, false, false, false, false, false, false, false, false, false, false, false, false, false, false, false, false, false, false, false, false, false, false, false, false, false, false, false, false, false, false, false, false, false, false, false, false, false, false, false, false, false, false, false, false, false, false, false, false, false, false, false, false, false, false, false, false, false, false, false, false, false, false, false, false, false, true, false, false, false, false, false, false, false, false, false, false, false, false, false, false, false, false, false, false, false, false, false, false, false, false, false, false, false, false, false, false, false, false, false, false, false, false, false, false, false, false, false, false, false, false, false, false, false, false, false, false, false, false, false, false, false, false, false, false, false, false, false, false, false, false, false, false, false, false, false, false, false, false, false, false, false, false, false, false, false, false, false, false, false, false, false, false, false, false, false, false, false, false, false, false, false, false, false, false, false, false, false, false, false, false, false, false, false, false, false, false, false, false, false, false, false, false, false, false, false, false, false, false, false, false, false, false, false, false, false, false, false, false, false, false, false, false, false, false, false, false, false], \"legendgroup\": \"\", \"name\": \"\", \"showlegend\": true, \"type\": \"pie\"}],                        {\"legend\": {\"tracegroupgap\": 0}, \"template\": {\"data\": {\"bar\": [{\"error_x\": {\"color\": \"#2a3f5f\"}, \"error_y\": {\"color\": \"#2a3f5f\"}, \"marker\": {\"line\": {\"color\": \"#E5ECF6\", \"width\": 0.5}}, \"type\": \"bar\"}], \"barpolar\": [{\"marker\": {\"line\": {\"color\": \"#E5ECF6\", \"width\": 0.5}}, \"type\": \"barpolar\"}], \"carpet\": [{\"aaxis\": {\"endlinecolor\": \"#2a3f5f\", \"gridcolor\": \"white\", \"linecolor\": \"white\", \"minorgridcolor\": \"white\", \"startlinecolor\": \"#2a3f5f\"}, \"baxis\": {\"endlinecolor\": \"#2a3f5f\", \"gridcolor\": \"white\", \"linecolor\": \"white\", \"minorgridcolor\": \"white\", \"startlinecolor\": \"#2a3f5f\"}, \"type\": \"carpet\"}], \"choropleth\": [{\"colorbar\": {\"outlinewidth\": 0, \"ticks\": \"\"}, \"type\": \"choropleth\"}], \"contour\": [{\"colorbar\": {\"outlinewidth\": 0, \"ticks\": \"\"}, \"colorscale\": [[0.0, \"#0d0887\"], [0.1111111111111111, \"#46039f\"], [0.2222222222222222, \"#7201a8\"], [0.3333333333333333, \"#9c179e\"], [0.4444444444444444, \"#bd3786\"], [0.5555555555555556, \"#d8576b\"], [0.6666666666666666, \"#ed7953\"], [0.7777777777777778, \"#fb9f3a\"], [0.8888888888888888, \"#fdca26\"], [1.0, \"#f0f921\"]], \"type\": \"contour\"}], \"contourcarpet\": [{\"colorbar\": {\"outlinewidth\": 0, \"ticks\": \"\"}, \"type\": \"contourcarpet\"}], \"heatmap\": [{\"colorbar\": {\"outlinewidth\": 0, \"ticks\": \"\"}, \"colorscale\": [[0.0, \"#0d0887\"], [0.1111111111111111, \"#46039f\"], [0.2222222222222222, \"#7201a8\"], [0.3333333333333333, \"#9c179e\"], [0.4444444444444444, \"#bd3786\"], [0.5555555555555556, \"#d8576b\"], [0.6666666666666666, \"#ed7953\"], [0.7777777777777778, \"#fb9f3a\"], [0.8888888888888888, \"#fdca26\"], [1.0, \"#f0f921\"]], \"type\": \"heatmap\"}], \"heatmapgl\": [{\"colorbar\": {\"outlinewidth\": 0, \"ticks\": \"\"}, \"colorscale\": [[0.0, \"#0d0887\"], [0.1111111111111111, \"#46039f\"], [0.2222222222222222, \"#7201a8\"], [0.3333333333333333, \"#9c179e\"], [0.4444444444444444, \"#bd3786\"], [0.5555555555555556, \"#d8576b\"], [0.6666666666666666, \"#ed7953\"], [0.7777777777777778, \"#fb9f3a\"], [0.8888888888888888, \"#fdca26\"], [1.0, \"#f0f921\"]], \"type\": \"heatmapgl\"}], \"histogram\": [{\"marker\": {\"colorbar\": {\"outlinewidth\": 0, \"ticks\": \"\"}}, \"type\": \"histogram\"}], \"histogram2d\": [{\"colorbar\": {\"outlinewidth\": 0, \"ticks\": \"\"}, \"colorscale\": [[0.0, \"#0d0887\"], [0.1111111111111111, \"#46039f\"], [0.2222222222222222, \"#7201a8\"], [0.3333333333333333, \"#9c179e\"], [0.4444444444444444, \"#bd3786\"], [0.5555555555555556, \"#d8576b\"], [0.6666666666666666, \"#ed7953\"], [0.7777777777777778, \"#fb9f3a\"], [0.8888888888888888, \"#fdca26\"], [1.0, \"#f0f921\"]], \"type\": \"histogram2d\"}], \"histogram2dcontour\": [{\"colorbar\": {\"outlinewidth\": 0, \"ticks\": \"\"}, \"colorscale\": [[0.0, \"#0d0887\"], [0.1111111111111111, \"#46039f\"], [0.2222222222222222, \"#7201a8\"], [0.3333333333333333, \"#9c179e\"], [0.4444444444444444, \"#bd3786\"], [0.5555555555555556, \"#d8576b\"], [0.6666666666666666, \"#ed7953\"], [0.7777777777777778, \"#fb9f3a\"], [0.8888888888888888, \"#fdca26\"], [1.0, \"#f0f921\"]], \"type\": \"histogram2dcontour\"}], \"mesh3d\": [{\"colorbar\": {\"outlinewidth\": 0, \"ticks\": \"\"}, \"type\": \"mesh3d\"}], \"parcoords\": [{\"line\": {\"colorbar\": {\"outlinewidth\": 0, \"ticks\": \"\"}}, \"type\": \"parcoords\"}], \"pie\": [{\"automargin\": true, \"type\": \"pie\"}], \"scatter\": [{\"marker\": {\"colorbar\": {\"outlinewidth\": 0, \"ticks\": \"\"}}, \"type\": \"scatter\"}], \"scatter3d\": [{\"line\": {\"colorbar\": {\"outlinewidth\": 0, \"ticks\": \"\"}}, \"marker\": {\"colorbar\": {\"outlinewidth\": 0, \"ticks\": \"\"}}, \"type\": \"scatter3d\"}], \"scattercarpet\": [{\"marker\": {\"colorbar\": {\"outlinewidth\": 0, \"ticks\": \"\"}}, \"type\": \"scattercarpet\"}], \"scattergeo\": [{\"marker\": {\"colorbar\": {\"outlinewidth\": 0, \"ticks\": \"\"}}, \"type\": \"scattergeo\"}], \"scattergl\": [{\"marker\": {\"colorbar\": {\"outlinewidth\": 0, \"ticks\": \"\"}}, \"type\": \"scattergl\"}], \"scattermapbox\": [{\"marker\": {\"colorbar\": {\"outlinewidth\": 0, \"ticks\": \"\"}}, \"type\": \"scattermapbox\"}], \"scatterpolar\": [{\"marker\": {\"colorbar\": {\"outlinewidth\": 0, \"ticks\": \"\"}}, \"type\": \"scatterpolar\"}], \"scatterpolargl\": [{\"marker\": {\"colorbar\": {\"outlinewidth\": 0, \"ticks\": \"\"}}, \"type\": \"scatterpolargl\"}], \"scatterternary\": [{\"marker\": {\"colorbar\": {\"outlinewidth\": 0, \"ticks\": \"\"}}, \"type\": \"scatterternary\"}], \"surface\": [{\"colorbar\": {\"outlinewidth\": 0, \"ticks\": \"\"}, \"colorscale\": [[0.0, \"#0d0887\"], [0.1111111111111111, \"#46039f\"], [0.2222222222222222, \"#7201a8\"], [0.3333333333333333, \"#9c179e\"], [0.4444444444444444, \"#bd3786\"], [0.5555555555555556, \"#d8576b\"], [0.6666666666666666, \"#ed7953\"], [0.7777777777777778, \"#fb9f3a\"], [0.8888888888888888, \"#fdca26\"], [1.0, \"#f0f921\"]], \"type\": \"surface\"}], \"table\": [{\"cells\": {\"fill\": {\"color\": \"#EBF0F8\"}, \"line\": {\"color\": \"white\"}}, \"header\": {\"fill\": {\"color\": \"#C8D4E3\"}, \"line\": {\"color\": \"white\"}}, \"type\": \"table\"}]}, \"layout\": {\"annotationdefaults\": {\"arrowcolor\": \"#2a3f5f\", \"arrowhead\": 0, \"arrowwidth\": 1}, \"autotypenumbers\": \"strict\", \"coloraxis\": {\"colorbar\": {\"outlinewidth\": 0, \"ticks\": \"\"}}, \"colorscale\": {\"diverging\": [[0, \"#8e0152\"], [0.1, \"#c51b7d\"], [0.2, \"#de77ae\"], [0.3, \"#f1b6da\"], [0.4, \"#fde0ef\"], [0.5, \"#f7f7f7\"], [0.6, \"#e6f5d0\"], [0.7, \"#b8e186\"], [0.8, \"#7fbc41\"], [0.9, \"#4d9221\"], [1, \"#276419\"]], \"sequential\": [[0.0, \"#0d0887\"], [0.1111111111111111, \"#46039f\"], [0.2222222222222222, \"#7201a8\"], [0.3333333333333333, \"#9c179e\"], [0.4444444444444444, \"#bd3786\"], [0.5555555555555556, \"#d8576b\"], [0.6666666666666666, \"#ed7953\"], [0.7777777777777778, \"#fb9f3a\"], [0.8888888888888888, \"#fdca26\"], [1.0, \"#f0f921\"]], \"sequentialminus\": [[0.0, \"#0d0887\"], [0.1111111111111111, \"#46039f\"], [0.2222222222222222, \"#7201a8\"], [0.3333333333333333, \"#9c179e\"], [0.4444444444444444, \"#bd3786\"], [0.5555555555555556, \"#d8576b\"], [0.6666666666666666, \"#ed7953\"], [0.7777777777777778, \"#fb9f3a\"], [0.8888888888888888, \"#fdca26\"], [1.0, \"#f0f921\"]]}, \"colorway\": [\"#636efa\", \"#EF553B\", \"#00cc96\", \"#ab63fa\", \"#FFA15A\", \"#19d3f3\", \"#FF6692\", \"#B6E880\", \"#FF97FF\", \"#FECB52\"], \"font\": {\"color\": \"#2a3f5f\"}, \"geo\": {\"bgcolor\": \"white\", \"lakecolor\": \"white\", \"landcolor\": \"#E5ECF6\", \"showlakes\": true, \"showland\": true, \"subunitcolor\": \"white\"}, \"hoverlabel\": {\"align\": \"left\"}, \"hovermode\": \"closest\", \"mapbox\": {\"style\": \"light\"}, \"paper_bgcolor\": \"white\", \"plot_bgcolor\": \"#E5ECF6\", \"polar\": {\"angularaxis\": {\"gridcolor\": \"white\", \"linecolor\": \"white\", \"ticks\": \"\"}, \"bgcolor\": \"#E5ECF6\", \"radialaxis\": {\"gridcolor\": \"white\", \"linecolor\": \"white\", \"ticks\": \"\"}}, \"scene\": {\"xaxis\": {\"backgroundcolor\": \"#E5ECF6\", \"gridcolor\": \"white\", \"gridwidth\": 2, \"linecolor\": \"white\", \"showbackground\": true, \"ticks\": \"\", \"zerolinecolor\": \"white\"}, \"yaxis\": {\"backgroundcolor\": \"#E5ECF6\", \"gridcolor\": \"white\", \"gridwidth\": 2, \"linecolor\": \"white\", \"showbackground\": true, \"ticks\": \"\", \"zerolinecolor\": \"white\"}, \"zaxis\": {\"backgroundcolor\": \"#E5ECF6\", \"gridcolor\": \"white\", \"gridwidth\": 2, \"linecolor\": \"white\", \"showbackground\": true, \"ticks\": \"\", \"zerolinecolor\": \"white\"}}, \"shapedefaults\": {\"line\": {\"color\": \"#2a3f5f\"}}, \"ternary\": {\"aaxis\": {\"gridcolor\": \"white\", \"linecolor\": \"white\", \"ticks\": \"\"}, \"baxis\": {\"gridcolor\": \"white\", \"linecolor\": \"white\", \"ticks\": \"\"}, \"bgcolor\": \"#E5ECF6\", \"caxis\": {\"gridcolor\": \"white\", \"linecolor\": \"white\", \"ticks\": \"\"}}, \"title\": {\"x\": 0.05}, \"xaxis\": {\"automargin\": true, \"gridcolor\": \"white\", \"linecolor\": \"white\", \"ticks\": \"\", \"title\": {\"standoff\": 15}, \"zerolinecolor\": \"white\", \"zerolinewidth\": 2}, \"yaxis\": {\"automargin\": true, \"gridcolor\": \"white\", \"linecolor\": \"white\", \"ticks\": \"\", \"title\": {\"standoff\": 15}, \"zerolinecolor\": \"white\", \"zerolinewidth\": 2}}}, \"title\": {\"text\": \"THE PERCENTAGE OF NUMBER OF GAMES PAID FOR AND NOT PAID FOR \"}},                        {\"responsive\": true}                    ).then(function(){\n",
       "                            \n",
       "var gd = document.getElementById('b7a0be95-1331-440e-8077-2ea333c870f5');\n",
       "var x = new MutationObserver(function (mutations, observer) {{\n",
       "        var display = window.getComputedStyle(gd).display;\n",
       "        if (!display || display === 'none') {{\n",
       "            console.log([gd, 'removed!']);\n",
       "            Plotly.purge(gd);\n",
       "            observer.disconnect();\n",
       "        }}\n",
       "}});\n",
       "\n",
       "// Listen for the removal of the full notebook cells\n",
       "var notebookContainer = gd.closest('#notebook-container');\n",
       "if (notebookContainer) {{\n",
       "    x.observe(notebookContainer, {childList: true});\n",
       "}}\n",
       "\n",
       "// Listen for the clearing of the current output cell\n",
       "var outputEl = gd.closest('.output');\n",
       "if (outputEl) {{\n",
       "    x.observe(outputEl, {childList: true});\n",
       "}}\n",
       "\n",
       "                        })                };                });            </script>        </div>"
      ]
     },
     "metadata": {},
     "output_type": "display_data"
    }
   ],
   "source": [
    "px.pie(games,names='paid',values=None,title='THE PERCENTAGE OF NUMBER OF GAMES PAID FOR AND NOT PAID FOR ')"
   ]
  },
  {
   "cell_type": "code",
   "execution_count": 63,
   "metadata": {},
   "outputs": [
    {
     "data": {
      "application/vnd.plotly.v1+json": {
       "config": {
        "plotlyServerURL": "https://plot.ly"
       },
       "data": [
        {
         "domain": {
          "x": [
           0,
           1
          ],
          "y": [
           0,
           1
          ]
         },
         "hovertemplate": "installs=%{label}<extra></extra>",
         "labels": [
          "500.0 M",
          "100.0 M",
          "100.0 M",
          "100.0 M",
          "100.0 M",
          "100.0 M",
          "100.0 M",
          "100.0 M",
          "500.0 M",
          "100.0 M",
          "100.0 M",
          "100.0 M",
          "100.0 M",
          "100.0 M",
          "50.0 M",
          "100.0 M",
          "100.0 M",
          "50.0 M",
          "100.0 M",
          "50.0 M",
          "50.0 M",
          "100.0 M",
          "50.0 M",
          "100.0 M",
          "100.0 M",
          "100.0 M",
          "50.0 M",
          "100.0 M",
          "100.0 M",
          "10.0 M",
          "50.0 M",
          "10.0 M",
          "10.0 M",
          "100.0 M",
          "50.0 M",
          "50.0 M",
          "50.0 M",
          "50.0 M",
          "10.0 M",
          "10.0 M",
          "50.0 M",
          "100.0 M",
          "10.0 M",
          "100.0 M",
          "50.0 M",
          "50.0 M",
          "50.0 M",
          "100.0 M",
          "100.0 M",
          "50.0 M",
          "10.0 M",
          "50.0 M",
          "10.0 M",
          "10.0 M",
          "100.0 M",
          "50.0 M",
          "50.0 M",
          "100.0 M",
          "50.0 M",
          "10.0 M",
          "100.0 M",
          "100.0 M",
          "100.0 M",
          "50.0 M",
          "50.0 M",
          "10.0 M",
          "100.0 M",
          "50.0 M",
          "100.0 M",
          "50.0 M",
          "10.0 M",
          "50.0 M",
          "100.0 M",
          "10.0 M",
          "10.0 M",
          "10.0 M",
          "50.0 M",
          "50.0 M",
          "10.0 M",
          "50.0 M",
          "100.0 M",
          "50.0 M",
          "10.0 M",
          "10.0 M",
          "10.0 M",
          "100.0 M",
          "10.0 M",
          "10.0 M",
          "100.0 M",
          "10.0 M",
          "10.0 M",
          "10.0 M",
          "100.0 M",
          "10.0 M",
          "10.0 M",
          "10.0 M",
          "100.0 M",
          "10.0 M",
          "10.0 M",
          "10.0 M",
          "100.0 M",
          "100.0 M",
          "100.0 M",
          "10.0 M",
          "50.0 M",
          "100.0 M",
          "50.0 M",
          "50.0 M",
          "10.0 M",
          "50.0 M",
          "10.0 M",
          "10.0 M",
          "10.0 M",
          "50.0 M",
          "10.0 M",
          "10.0 M",
          "10.0 M",
          "10.0 M",
          "5.0 M",
          "10.0 M",
          "10.0 M",
          "5.0 M",
          "10.0 M",
          "10.0 M",
          "10.0 M",
          "10.0 M",
          "10.0 M",
          "10.0 M",
          "50.0 M",
          "5.0 M",
          "50.0 M",
          "10.0 M",
          "10.0 M",
          "10.0 M",
          "50.0 M",
          "10.0 M",
          "5.0 M",
          "10.0 M",
          "10.0 M",
          "10.0 M",
          "10.0 M",
          "10.0 M",
          "10.0 M",
          "10.0 M",
          "100.0 M",
          "10.0 M",
          "1.0 M",
          "10.0 M",
          "10.0 M",
          "1.0 M",
          "10.0 M",
          "10.0 M",
          "10.0 M",
          "1.0 M",
          "10.0 M",
          "5.0 M",
          "10.0 M",
          "10.0 M",
          "50.0 M",
          "10.0 M",
          "10.0 M",
          "10.0 M",
          "10.0 M",
          "10.0 M",
          "10.0 M",
          "50.0 M",
          "10.0 M",
          "10.0 M",
          "10.0 M",
          "1.0 M",
          "10.0 M",
          "10.0 M",
          "5.0 M",
          "10.0 M",
          "1.0 M",
          "10.0 M",
          "5.0 M",
          "5.0 M",
          "10.0 M",
          "10.0 M",
          "10.0 M",
          "10.0 M",
          "10.0 M",
          "50.0 M",
          "10.0 M",
          "1.0 M",
          "100.0 M",
          "10.0 M",
          "10.0 M",
          "5.0 M",
          "10.0 M",
          "10.0 M",
          "10.0 M",
          "1.0 M",
          "5.0 M",
          "5.0 M",
          "1.0 M",
          "5.0 M",
          "10.0 M",
          "50.0 M",
          "1000.0 M",
          "100.0 M",
          "100.0 M",
          "100.0 M",
          "100.0 M",
          "100.0 M",
          "100.0 M",
          "100.0 M",
          "500.0 M",
          "100.0 M",
          "100.0 M",
          "10.0 M",
          "100.0 M",
          "100.0 M",
          "10.0 M",
          "100.0 M",
          "100.0 M",
          "100.0 M",
          "100.0 M",
          "100.0 M",
          "50.0 M",
          "100.0 M",
          "50.0 M",
          "100.0 M",
          "100.0 M",
          "50.0 M",
          "100.0 M",
          "10.0 M",
          "100.0 M",
          "10.0 M",
          "100.0 M",
          "100.0 M",
          "100.0 M",
          "100.0 M",
          "100.0 M",
          "100.0 M",
          "100.0 M",
          "50.0 M",
          "50.0 M",
          "10.0 M",
          "50.0 M",
          "100.0 M",
          "50.0 M",
          "100.0 M",
          "50.0 M",
          "100.0 M",
          "100.0 M",
          "10.0 M",
          "50.0 M",
          "50.0 M",
          "50.0 M",
          "100.0 M",
          "50.0 M",
          "10.0 M",
          "100.0 M",
          "100.0 M",
          "50.0 M",
          "100.0 M",
          "10.0 M",
          "50.0 M",
          "50.0 M",
          "1.0 M",
          "10.0 M",
          "50.0 M",
          "10.0 M",
          "10.0 M",
          "50.0 M",
          "10.0 M",
          "50.0 M",
          "50.0 M",
          "10.0 M",
          "100.0 M",
          "50.0 M",
          "50.0 M",
          "10.0 M",
          "10.0 M",
          "50.0 M",
          "10.0 M",
          "10.0 M",
          "10.0 M",
          "10.0 M",
          "10.0 M",
          "50.0 M",
          "50.0 M",
          "10.0 M",
          "10.0 M",
          "10.0 M",
          "50.0 M",
          "10.0 M",
          "50.0 M",
          "10.0 M",
          "10.0 M",
          "10.0 M",
          "10.0 M",
          "10.0 M",
          "10.0 M",
          "10.0 M",
          "10.0 M",
          "100.0 M",
          "10.0 M",
          "500.0 M",
          "100.0 M",
          "10.0 M",
          "50.0 M",
          "10.0 M",
          "50.0 M",
          "100.0 M",
          "10.0 M",
          "100.0 M",
          "50.0 M",
          "10.0 M",
          "50.0 M",
          "50.0 M",
          "10.0 M",
          "10.0 M",
          "10.0 M",
          "5.0 M",
          "10.0 M",
          "10.0 M",
          "10.0 M",
          "10.0 M",
          "100.0 M",
          "10.0 M",
          "50.0 M",
          "10.0 M",
          "5.0 M",
          "5.0 M",
          "10.0 M",
          "5.0 M",
          "5.0 M",
          "50.0 M",
          "10.0 M",
          "10.0 M",
          "5.0 M",
          "5.0 M",
          "10.0 M",
          "50.0 M",
          "5.0 M",
          "10.0 M",
          "10.0 M",
          "10.0 M",
          "1.0 M",
          "10.0 M",
          "10.0 M",
          "10.0 M",
          "10.0 M",
          "1.0 M",
          "10.0 M",
          "1.0 M",
          "50.0 M",
          "5.0 M",
          "10.0 M",
          "10.0 M",
          "10.0 M",
          "10.0 M",
          "10.0 M",
          "10.0 M",
          "5.0 M",
          "5.0 M",
          "5.0 M",
          "5.0 M",
          "5.0 M",
          "5.0 M",
          "5.0 M",
          "10.0 M",
          "5.0 M",
          "10.0 M",
          "10.0 M",
          "10.0 M",
          "50.0 M",
          "1.0 M",
          "50.0 M",
          "10.0 M",
          "1.0 M",
          "10.0 M",
          "5.0 M",
          "10.0 M",
          "1.0 M",
          "10.0 M",
          "1.0 M",
          "10.0 M",
          "5.0 M",
          "10.0 M",
          "5.0 M",
          "5.0 M",
          "5.0 M",
          "1.0 M",
          "5.0 M",
          "1.0 M",
          "5.0 M",
          "5.0 M",
          "1.0 M",
          "1.0 M",
          "5.0 M",
          "1.0 M",
          "10.0 M",
          "1.0 M",
          "5.0 M",
          "10.0 M",
          "10.0 M",
          "50.0 M",
          "10.0 M",
          "100.0 M",
          "100.0 M",
          "100.0 M",
          "50.0 M",
          "10.0 M",
          "10.0 M",
          "50.0 M",
          "10.0 M",
          "50.0 M",
          "50.0 M",
          "50.0 M",
          "10.0 M",
          "5.0 M",
          "10.0 M",
          "10.0 M",
          "50.0 M",
          "50.0 M",
          "50.0 M",
          "10.0 M",
          "10.0 M",
          "10.0 M",
          "10.0 M",
          "10.0 M",
          "10.0 M",
          "10.0 M",
          "10.0 M",
          "5.0 M",
          "10.0 M",
          "10.0 M",
          "5.0 M",
          "10.0 M",
          "5.0 M",
          "10.0 M",
          "1.0 M",
          "1.0 M",
          "1.0 M",
          "10.0 M",
          "5.0 M",
          "50.0 M",
          "10.0 M",
          "5.0 M",
          "10.0 M",
          "5.0 M",
          "10.0 M",
          "10.0 M",
          "10.0 M",
          "10.0 M",
          "5.0 M",
          "10.0 M",
          "5.0 M",
          "5.0 M",
          "1.0 M",
          "5.0 M",
          "5.0 M",
          "1.0 M",
          "5.0 M",
          "5.0 M",
          "5.0 M",
          "5.0 M",
          "5.0 M",
          "1.0 M",
          "5.0 M",
          "5.0 M",
          "5.0 M",
          "1.0 M",
          "1.0 M",
          "1.0 M",
          "5.0 M",
          "5.0 M",
          "5.0 M",
          "5.0 M",
          "1.0 M",
          "5.0 M",
          "5.0 M",
          "5.0 M",
          "500.0 k",
          "1.0 M",
          "5.0 M",
          "10.0 M",
          "10.0 M",
          "10.0 M",
          "500.0 k",
          "1.0 M",
          "1.0 M",
          "1.0 M",
          "1.0 M",
          "5.0 M",
          "10.0 M",
          "10.0 M",
          "5.0 M",
          "5.0 M",
          "1.0 M",
          "1.0 M",
          "1.0 M",
          "1.0 M",
          "5.0 M",
          "1.0 M",
          "10.0 M",
          "5.0 M",
          "1.0 M",
          "1.0 M",
          "5.0 M",
          "1.0 M",
          "1.0 M",
          "1.0 M",
          "1.0 M",
          "10.0 M",
          "10.0 M",
          "10.0 M",
          "5.0 M",
          "5.0 M",
          "5.0 M",
          "1.0 M",
          "1.0 M",
          "10.0 M",
          "1.0 M",
          "1.0 M",
          "5.0 M",
          "5.0 M",
          "5.0 M",
          "50.0 M",
          "50.0 M",
          "50.0 M",
          "50.0 M",
          "50.0 M",
          "10.0 M",
          "10.0 M",
          "10.0 M",
          "10.0 M",
          "10.0 M",
          "10.0 M",
          "10.0 M",
          "10.0 M",
          "5.0 M",
          "10.0 M",
          "10.0 M",
          "5.0 M",
          "10.0 M",
          "5.0 M",
          "10.0 M",
          "10.0 M",
          "5.0 M",
          "10.0 M",
          "5.0 M",
          "10.0 M",
          "10.0 M",
          "10.0 M",
          "10.0 M",
          "10.0 M",
          "10.0 M",
          "10.0 M",
          "1.0 M",
          "5.0 M",
          "5.0 M",
          "10.0 M",
          "10.0 M",
          "10.0 M",
          "10.0 M",
          "5.0 M",
          "10.0 M",
          "5.0 M",
          "10.0 M",
          "10.0 M",
          "5.0 M",
          "5.0 M",
          "5.0 M",
          "10.0 M",
          "10.0 M",
          "5.0 M",
          "5.0 M",
          "10.0 M",
          "1.0 M",
          "10.0 M",
          "5.0 M",
          "5.0 M",
          "5.0 M",
          "10.0 M",
          "5.0 M",
          "1.0 M",
          "5.0 M",
          "1.0 M",
          "5.0 M",
          "5.0 M",
          "5.0 M",
          "10.0 M",
          "5.0 M",
          "1.0 M",
          "5.0 M",
          "1.0 M",
          "5.0 M",
          "10.0 M",
          "10.0 M",
          "1.0 M",
          "1.0 M",
          "1.0 M",
          "1.0 M",
          "1.0 M",
          "1.0 M",
          "5.0 M",
          "5.0 M",
          "5.0 M",
          "1.0 M",
          "1.0 M",
          "1.0 M",
          "1.0 M",
          "1.0 M",
          "1.0 M",
          "1.0 M",
          "5.0 M",
          "1.0 M",
          "1.0 M",
          "1.0 M",
          "1.0 M",
          "1.0 M",
          "1.0 M",
          "5.0 M",
          "500.0 k",
          "1.0 M",
          "1.0 M",
          "1.0 M",
          "1000.0 M",
          "500.0 M",
          "500.0 M",
          "100.0 M",
          "500.0 M",
          "100.0 M",
          "100.0 M",
          "100.0 M",
          "100.0 M",
          "100.0 M",
          "100.0 M",
          "100.0 M",
          "100.0 M",
          "100.0 M",
          "50.0 M",
          "100.0 M",
          "50.0 M",
          "100.0 M",
          "100.0 M",
          "50.0 M",
          "100.0 M",
          "50.0 M",
          "100.0 M",
          "100.0 M",
          "50.0 M",
          "10.0 M",
          "50.0 M",
          "100.0 M",
          "100.0 M",
          "50.0 M",
          "50.0 M",
          "10.0 M",
          "50.0 M",
          "100.0 M",
          "10.0 M",
          "50.0 M",
          "10.0 M",
          "10.0 M",
          "100.0 M",
          "50.0 M",
          "10.0 M",
          "10.0 M",
          "50.0 M",
          "10.0 M",
          "50.0 M",
          "50.0 M",
          "100.0 M",
          "10.0 M",
          "10.0 M",
          "50.0 M",
          "50.0 M",
          "100.0 M",
          "50.0 M",
          "50.0 M",
          "10.0 M",
          "10.0 M",
          "10.0 M",
          "10.0 M",
          "10.0 M",
          "5.0 M",
          "10.0 M",
          "10.0 M",
          "10.0 M",
          "100.0 M",
          "10.0 M",
          "10.0 M",
          "10.0 M",
          "50.0 M",
          "10.0 M",
          "10.0 M",
          "100.0 M",
          "10.0 M",
          "10.0 M",
          "10.0 M",
          "10.0 M",
          "10.0 M",
          "5.0 M",
          "10.0 M",
          "10.0 M",
          "10.0 M",
          "1.0 M",
          "50.0 M",
          "10.0 M",
          "100.0 M",
          "100.0 M",
          "10.0 M",
          "10.0 M",
          "10.0 M",
          "10.0 M",
          "100.0 M",
          "100.0 M",
          "10.0 M",
          "10.0 M",
          "1.0 M",
          "10.0 M",
          "10.0 M",
          "10.0 M",
          "10.0 M",
          "5.0 M",
          "10.0 M",
          "50.0 M",
          "50.0 M",
          "100.0 M",
          "50.0 M",
          "50.0 M",
          "1.0 M",
          "10.0 M",
          "10.0 M",
          "50.0 M",
          "100.0 M",
          "100.0 M",
          "10.0 M",
          "10.0 M",
          "10.0 M",
          "10.0 M",
          "50.0 M",
          "10.0 M",
          "50.0 M",
          "50.0 M",
          "500.0 k",
          "10.0 M",
          "10.0 M",
          "10.0 M",
          "50.0 M",
          "10.0 M",
          "10.0 M",
          "10.0 M",
          "1.0 M",
          "100.0 M",
          "10.0 M",
          "10.0 M",
          "50.0 M",
          "10.0 M",
          "10.0 M",
          "10.0 M",
          "50.0 M",
          "10.0 M",
          "10.0 M",
          "10.0 M",
          "5.0 M",
          "10.0 M",
          "1.0 M",
          "5.0 M",
          "5.0 M",
          "10.0 M",
          "10.0 M",
          "10.0 M",
          "10.0 M",
          "10.0 M",
          "10.0 M",
          "10.0 M",
          "10.0 M",
          "1.0 M",
          "1.0 M",
          "10.0 M",
          "1.0 M",
          "10.0 M",
          "10.0 M",
          "50.0 M",
          "10.0 M",
          "10.0 M",
          "10.0 M",
          "5.0 M",
          "10.0 M",
          "10.0 M",
          "10.0 M",
          "10.0 M",
          "5.0 M",
          "10.0 M",
          "10.0 M",
          "5.0 M",
          "5.0 M",
          "10.0 M",
          "1.0 M",
          "1.0 M",
          "10.0 M",
          "10.0 M",
          "5.0 M",
          "10.0 M",
          "10.0 M",
          "10.0 M",
          "10.0 M",
          "5.0 M",
          "10.0 M",
          "10.0 M",
          "10.0 M",
          "10.0 M",
          "10.0 M",
          "10.0 M",
          "5.0 M",
          "10.0 M",
          "1.0 M",
          "10.0 M",
          "10.0 M",
          "1.0 M",
          "10.0 M",
          "5.0 M",
          "5.0 M",
          "5.0 M",
          "10.0 M",
          "10.0 M",
          "10.0 M",
          "5000.0 M",
          "1000.0 M",
          "5000.0 M",
          "5000.0 M",
          "500.0 M",
          "1000.0 M",
          "500.0 M",
          "100.0 M",
          "1000.0 M",
          "5000.0 M",
          "1000.0 M",
          "1000.0 M",
          "100.0 M",
          "5000.0 M",
          "100.0 M",
          "1000.0 M",
          "500.0 M",
          "500.0 M",
          "100.0 M",
          "5000.0 M",
          "1000.0 M",
          "1000.0 M",
          "100.0 M",
          "100.0 M",
          "500.0 M",
          "100.0 M",
          "1000.0 M",
          "500.0 M",
          "500.0 M",
          "100.0 M",
          "100.0 M",
          "100.0 M",
          "100.0 M",
          "5000.0 M",
          "100.0 M",
          "500.0 M",
          "500.0 M",
          "100.0 M",
          "500.0 M",
          "100.0 M",
          "100.0 M",
          "500.0 M",
          "100.0 M",
          "1000.0 M",
          "1000.0 M",
          "100.0 M",
          "100.0 M",
          "100.0 M",
          "100.0 M",
          "100.0 M",
          "500.0 M",
          "500.0 M",
          "500.0 M",
          "100.0 M",
          "100.0 M",
          "500.0 M",
          "100.0 M",
          "100.0 M",
          "500.0 M",
          "100.0 M",
          "5000.0 M",
          "100.0 M",
          "100.0 M",
          "100.0 M",
          "500.0 M",
          "100.0 M",
          "100.0 M",
          "100.0 M",
          "100.0 M",
          "500.0 M",
          "1000.0 M",
          "500.0 M",
          "100.0 M",
          "100.0 M",
          "500.0 M",
          "100.0 M",
          "5000.0 M",
          "500.0 M",
          "100.0 M",
          "1000.0 M",
          "100.0 M",
          "100.0 M",
          "100.0 M",
          "100.0 M",
          "100.0 M",
          "500.0 M",
          "500.0 M",
          "100.0 M",
          "100.0 M",
          "100.0 M",
          "500.0 M",
          "100.0 M",
          "100.0 M",
          "100.0 M",
          "100.0 M",
          "100.0 M",
          "1000.0 M",
          "100.0 M",
          "100.0 M",
          "100.0 M",
          "100.0 M",
          "100.0 M",
          "10.0 M",
          "100.0 M",
          "10.0 M",
          "50.0 M",
          "50.0 M",
          "100.0 M",
          "50.0 M",
          "5.0 M",
          "5.0 M",
          "10.0 M",
          "100.0 M",
          "50.0 M",
          "10.0 M",
          "10.0 M",
          "10.0 M",
          "10.0 M",
          "10.0 M",
          "10.0 M",
          "10.0 M",
          "10.0 M",
          "10.0 M",
          "5.0 M",
          "5.0 M",
          "10.0 M",
          "5.0 M",
          "10.0 M",
          "10.0 M",
          "50.0 M",
          "5.0 M",
          "5.0 M",
          "5.0 M",
          "10.0 M",
          "5.0 M",
          "1.0 M",
          "10.0 M",
          "1.0 M",
          "50.0 M",
          "10.0 M",
          "10.0 M",
          "1.0 M",
          "10.0 M",
          "10.0 M",
          "10.0 M",
          "1.0 M",
          "10.0 M",
          "1.0 M",
          "1.0 M",
          "5.0 M",
          "5.0 M",
          "1.0 M",
          "1.0 M",
          "10.0 M",
          "10.0 M",
          "10.0 M",
          "10.0 M",
          "1.0 M",
          "10.0 M",
          "1.0 M",
          "10.0 M",
          "1.0 M",
          "5.0 M",
          "1.0 M",
          "100.0 k",
          "5.0 M",
          "1.0 M",
          "5.0 M",
          "10.0 M",
          "10.0 M",
          "1.0 M",
          "1.0 M",
          "500.0 k",
          "1.0 M",
          "1.0 M",
          "1.0 M",
          "5.0 M",
          "5.0 M",
          "1.0 M",
          "10.0 M",
          "1.0 M",
          "5.0 M",
          "1.0 M",
          "500.0 k",
          "1.0 M",
          "5.0 M",
          "1.0 M",
          "500.0 k",
          "5.0 M",
          "1.0 M",
          "1.0 M",
          "1.0 M",
          "5.0 M",
          "10.0 M",
          "5.0 M",
          "1.0 M",
          "1.0 M",
          "1.0 M",
          "10.0 M",
          "10.0 M",
          "100.0 M",
          "100.0 M",
          "50.0 M",
          "50.0 M",
          "100.0 M",
          "50.0 M",
          "100.0 M",
          "100.0 M",
          "50.0 M",
          "100.0 M",
          "50.0 M",
          "50.0 M",
          "50.0 M",
          "10.0 M",
          "100.0 M",
          "100.0 M",
          "100.0 M",
          "100.0 M",
          "100.0 M",
          "10.0 M",
          "10.0 M",
          "50.0 M",
          "10.0 M",
          "10.0 M",
          "10.0 M",
          "50.0 M",
          "10.0 M",
          "50.0 M",
          "50.0 M",
          "10.0 M",
          "10.0 M",
          "10.0 M",
          "5.0 M",
          "10.0 M",
          "10.0 M",
          "100.0 M",
          "10.0 M",
          "100.0 M",
          "10.0 M",
          "50.0 M",
          "50.0 M",
          "10.0 M",
          "10.0 M",
          "10.0 M",
          "10.0 M",
          "50.0 M",
          "10.0 M",
          "10.0 M",
          "100.0 M",
          "10.0 M",
          "10.0 M",
          "100.0 M",
          "10.0 M",
          "100.0 M",
          "10.0 M",
          "50.0 M",
          "50.0 M",
          "10.0 M",
          "10.0 M",
          "10.0 M",
          "10.0 M",
          "50.0 M",
          "50.0 M",
          "50.0 M",
          "50.0 M",
          "50.0 M",
          "10.0 M",
          "50.0 M",
          "5.0 M",
          "50.0 M",
          "50.0 M",
          "10.0 M",
          "10.0 M",
          "10.0 M",
          "10.0 M",
          "50.0 M",
          "50.0 M",
          "10.0 M",
          "10.0 M",
          "10.0 M",
          "10.0 M",
          "10.0 M",
          "10.0 M",
          "10.0 M",
          "10.0 M",
          "10.0 M",
          "10.0 M",
          "10.0 M",
          "50.0 M",
          "10.0 M",
          "10.0 M",
          "10.0 M",
          "10.0 M",
          "10.0 M",
          "10.0 M",
          "10.0 M",
          "10.0 M",
          "100.0 M",
          "1.0 M",
          "50.0 M",
          "500.0 M",
          "100.0 M",
          "100.0 M",
          "100.0 M",
          "100.0 M",
          "100.0 M",
          "100.0 M",
          "10.0 M",
          "100.0 M",
          "100.0 M",
          "100.0 M",
          "100.0 M",
          "100.0 M",
          "50.0 M",
          "100.0 M",
          "100.0 M",
          "50.0 M",
          "100.0 M",
          "100.0 M",
          "10.0 M",
          "50.0 M",
          "50.0 M",
          "10.0 M",
          "50.0 M",
          "50.0 M",
          "100.0 M",
          "50.0 M",
          "50.0 M",
          "50.0 M",
          "10.0 M",
          "10.0 M",
          "100.0 M",
          "10.0 M",
          "10.0 M",
          "50.0 M",
          "100.0 M",
          "10.0 M",
          "10.0 M",
          "50.0 M",
          "100.0 M",
          "50.0 M",
          "10.0 M",
          "100.0 M",
          "100.0 M",
          "100.0 M",
          "50.0 M",
          "100.0 M",
          "10.0 M",
          "50.0 M",
          "50.0 M",
          "10.0 M",
          "10.0 M",
          "10.0 M",
          "10.0 M",
          "50.0 M",
          "10.0 M",
          "10.0 M",
          "10.0 M",
          "50.0 M",
          "5.0 M",
          "50.0 M",
          "10.0 M",
          "10.0 M",
          "10.0 M",
          "100.0 M",
          "50.0 M",
          "10.0 M",
          "10.0 M",
          "10.0 M",
          "10.0 M",
          "10.0 M",
          "10.0 M",
          "10.0 M",
          "10.0 M",
          "10.0 M",
          "10.0 M",
          "50.0 M",
          "10.0 M",
          "10.0 M",
          "50.0 M",
          "10.0 M",
          "10.0 M",
          "5.0 M",
          "50.0 M",
          "10.0 M",
          "10.0 M",
          "50.0 M",
          "10.0 M",
          "10.0 M",
          "10.0 M",
          "10.0 M",
          "50.0 M",
          "10.0 M",
          "50.0 M",
          "10.0 M",
          "10.0 M",
          "10.0 M",
          "10.0 M",
          "10.0 M",
          "10.0 M",
          "100.0 M",
          "10.0 M",
          "50.0 M",
          "50.0 M",
          "10.0 M",
          "100.0 M",
          "10.0 M",
          "50.0 M",
          "50.0 M",
          "10.0 M",
          "10.0 M",
          "10.0 M",
          "10.0 M",
          "10.0 M",
          "10.0 M",
          "50.0 M",
          "10.0 M",
          "10.0 M",
          "10.0 M",
          "10.0 M",
          "5.0 M",
          "10.0 M",
          "10.0 M",
          "10.0 M",
          "10.0 M",
          "10.0 M",
          "10.0 M",
          "5.0 M",
          "10.0 M",
          "50.0 M",
          "10.0 M",
          "10.0 M",
          "10.0 M",
          "10.0 M",
          "10.0 M",
          "10.0 M",
          "5.0 M",
          "5.0 M",
          "5.0 M",
          "10.0 M",
          "10.0 M",
          "10.0 M",
          "5.0 M",
          "5.0 M",
          "10.0 M",
          "10.0 M",
          "10.0 M",
          "10.0 M",
          "10.0 M",
          "5.0 M",
          "100.0 M",
          "10.0 M",
          "5.0 M",
          "10.0 M",
          "10.0 M",
          "50.0 M",
          "10.0 M",
          "10.0 M",
          "10.0 M",
          "10.0 M",
          "10.0 M",
          "10.0 M",
          "1.0 M",
          "1.0 M",
          "5.0 M",
          "10.0 M",
          "10.0 M",
          "10.0 M",
          "10.0 M",
          "1.0 M",
          "5.0 M",
          "5.0 M",
          "10.0 M",
          "10.0 M",
          "10.0 M",
          "5.0 M",
          "10.0 M",
          "5.0 M",
          "1.0 M",
          "1.0 M",
          "10.0 M",
          "10.0 M",
          "5.0 M",
          "10.0 M",
          "5.0 M",
          "1.0 M",
          "10.0 M",
          "1.0 M",
          "10.0 M",
          "5.0 M",
          "10.0 M",
          "1.0 M",
          "5.0 M",
          "5.0 M",
          "5.0 M",
          "5.0 M",
          "100.0 M",
          "1.0 M",
          "10.0 M",
          "5.0 M",
          "100.0 M",
          "100.0 M",
          "100.0 M",
          "100.0 M",
          "100.0 M",
          "10.0 M",
          "50.0 M",
          "50.0 M",
          "10.0 M",
          "50.0 M",
          "50.0 M",
          "10.0 M",
          "50.0 M",
          "50.0 M",
          "10.0 M",
          "50.0 M",
          "10.0 M",
          "50.0 M",
          "10.0 M",
          "100.0 M",
          "10.0 M",
          "50.0 M",
          "10.0 M",
          "50.0 M",
          "10.0 M",
          "50.0 M",
          "50.0 M",
          "50.0 M",
          "10.0 M",
          "10.0 M",
          "10.0 M",
          "10.0 M",
          "10.0 M",
          "10.0 M",
          "10.0 M",
          "50.0 M",
          "10.0 M",
          "100.0 M",
          "10.0 M",
          "5.0 M",
          "50.0 M",
          "10.0 M",
          "10.0 M",
          "10.0 M",
          "10.0 M",
          "50.0 M",
          "50.0 M",
          "10.0 M",
          "100.0 M",
          "10.0 M",
          "100.0 M",
          "10.0 M",
          "10.0 M",
          "50.0 M",
          "10.0 M",
          "10.0 M",
          "10.0 M",
          "50.0 M",
          "100.0 M",
          "10.0 M",
          "10.0 M",
          "10.0 M",
          "50.0 M",
          "10.0 M",
          "10.0 M",
          "50.0 M",
          "50.0 M",
          "10.0 M",
          "10.0 M",
          "5.0 M",
          "10.0 M",
          "50.0 M",
          "10.0 M",
          "10.0 M",
          "10.0 M",
          "10.0 M",
          "10.0 M",
          "10.0 M",
          "10.0 M",
          "10.0 M",
          "10.0 M",
          "10.0 M",
          "1.0 M",
          "10.0 M",
          "10.0 M",
          "10.0 M",
          "10.0 M",
          "10.0 M",
          "100.0 M",
          "5.0 M",
          "10.0 M",
          "10.0 M",
          "10.0 M",
          "10.0 M",
          "5.0 M",
          "10.0 M",
          "10.0 M",
          "5.0 M",
          "5.0 M",
          "10.0 M",
          "100.0 M",
          "100.0 M",
          "100.0 M",
          "50.0 M",
          "50.0 M",
          "50.0 M",
          "10.0 M",
          "50.0 M",
          "500.0 M",
          "100.0 M",
          "50.0 M",
          "100.0 M",
          "50.0 M",
          "10.0 M",
          "50.0 M",
          "10.0 M",
          "10.0 M",
          "100.0 M",
          "100.0 M",
          "50.0 M",
          "50.0 M",
          "10.0 M",
          "50.0 M",
          "100.0 M",
          "10.0 M",
          "50.0 M",
          "50.0 M",
          "100.0 M",
          "100.0 M",
          "10.0 M",
          "50.0 M",
          "50.0 M",
          "10.0 M",
          "10.0 M",
          "50.0 M",
          "100.0 M",
          "10.0 M",
          "50.0 M",
          "10.0 M",
          "50.0 M",
          "10.0 M",
          "50.0 M",
          "50.0 M",
          "50.0 M",
          "10.0 M",
          "10.0 M",
          "50.0 M",
          "10.0 M",
          "10.0 M",
          "10.0 M",
          "10.0 M",
          "10.0 M",
          "10.0 M",
          "10.0 M",
          "50.0 M",
          "50.0 M",
          "10.0 M",
          "10.0 M",
          "50.0 M",
          "10.0 M",
          "10.0 M",
          "10.0 M",
          "50.0 M",
          "10.0 M",
          "10.0 M",
          "10.0 M",
          "10.0 M",
          "50.0 M",
          "10.0 M",
          "10.0 M",
          "10.0 M",
          "5.0 M",
          "10.0 M",
          "10.0 M",
          "5.0 M",
          "10.0 M",
          "10.0 M",
          "10.0 M",
          "10.0 M",
          "10.0 M",
          "10.0 M",
          "10.0 M",
          "10.0 M",
          "10.0 M",
          "5.0 M",
          "10.0 M",
          "10.0 M",
          "10.0 M",
          "10.0 M",
          "10.0 M",
          "10.0 M",
          "1.0 M",
          "10.0 M",
          "10.0 M",
          "5.0 M",
          "10.0 M",
          "10.0 M",
          "10.0 M",
          "10.0 M",
          "10.0 M",
          "500.0 M",
          "100.0 M",
          "100.0 M",
          "50.0 M",
          "100.0 M",
          "100.0 M",
          "10.0 M",
          "100.0 M",
          "50.0 M",
          "10.0 M",
          "50.0 M",
          "10.0 M",
          "100.0 M",
          "50.0 M",
          "10.0 M",
          "10.0 M",
          "10.0 M",
          "50.0 M",
          "50.0 M",
          "50.0 M",
          "10.0 M",
          "10.0 M",
          "10.0 M",
          "10.0 M",
          "10.0 M",
          "10.0 M",
          "10.0 M",
          "10.0 M",
          "50.0 M",
          "50.0 M",
          "50.0 M",
          "10.0 M",
          "50.0 M",
          "50.0 M",
          "10.0 M",
          "10.0 M",
          "10.0 M",
          "10.0 M",
          "10.0 M",
          "10.0 M",
          "10.0 M",
          "10.0 M",
          "10.0 M",
          "10.0 M",
          "10.0 M",
          "10.0 M",
          "5.0 M",
          "10.0 M",
          "10.0 M",
          "5.0 M",
          "10.0 M",
          "10.0 M",
          "5.0 M",
          "10.0 M",
          "5.0 M",
          "10.0 M",
          "5.0 M",
          "5.0 M",
          "5.0 M",
          "10.0 M",
          "5.0 M",
          "50.0 M",
          "10.0 M",
          "1.0 M",
          "5.0 M",
          "1.0 M",
          "1.0 M",
          "10.0 M",
          "5.0 M",
          "5.0 M",
          "5.0 M",
          "10.0 M",
          "5.0 M",
          "1.0 M",
          "5.0 M",
          "10.0 M",
          "10.0 M",
          "10.0 M",
          "10.0 M",
          "10.0 M",
          "10.0 M",
          "5.0 M",
          "10.0 M",
          "10.0 M",
          "5.0 M",
          "5.0 M",
          "10.0 M",
          "10.0 M",
          "10.0 M",
          "10.0 M",
          "10.0 M",
          "10.0 M",
          "10.0 M",
          "5.0 M",
          "10.0 M",
          "10.0 M",
          "1.0 M",
          "1.0 M",
          "5.0 M",
          "1.0 M",
          "100.0 M",
          "100.0 M",
          "10.0 M",
          "50.0 M",
          "10.0 M",
          "10.0 M",
          "10.0 M",
          "10.0 M",
          "10.0 M",
          "10.0 M",
          "1.0 M",
          "5.0 M",
          "10.0 M",
          "10.0 M",
          "10.0 M",
          "10.0 M",
          "10.0 M",
          "5.0 M",
          "10.0 M",
          "1.0 M",
          "10.0 M",
          "10.0 M",
          "10.0 M",
          "10.0 M",
          "10.0 M",
          "10.0 M",
          "1.0 M",
          "1.0 M",
          "1.0 M",
          "5.0 M",
          "5.0 M",
          "5.0 M",
          "10.0 M",
          "1.0 M",
          "10.0 M",
          "10.0 M",
          "10.0 M",
          "5.0 M",
          "10.0 M",
          "1.0 M",
          "5.0 M",
          "5.0 M",
          "1.0 M",
          "5.0 M",
          "5.0 M",
          "1.0 M",
          "10.0 M",
          "5.0 M",
          "5.0 M",
          "5.0 M",
          "500.0 k",
          "1.0 M",
          "10.0 M",
          "1.0 M",
          "1.0 M",
          "1.0 M",
          "5.0 M",
          "10.0 M",
          "500.0 k",
          "1.0 M",
          "1.0 M",
          "1.0 M",
          "1.0 M",
          "1.0 M",
          "500.0 k",
          "1.0 M",
          "5.0 M",
          "5.0 M",
          "1.0 M",
          "1.0 M",
          "5.0 M",
          "5.0 M",
          "1.0 M",
          "5.0 M",
          "1.0 M",
          "10.0 M",
          "1.0 M",
          "5.0 M",
          "1.0 M",
          "5.0 M",
          "100.0 k",
          "1.0 M",
          "1.0 M",
          "5.0 M",
          "1.0 M",
          "1.0 M",
          "1.0 M",
          "10.0 M",
          "5.0 M",
          "500.0 k",
          "500.0 k",
          "5.0 M",
          "1.0 M",
          "5.0 M",
          "1.0 M",
          "1.0 M",
          "1.0 M",
          "500.0 k",
          "1.0 M",
          "1.0 M",
          "10.0 M",
          "10.0 M",
          "100.0 M",
          "50.0 M",
          "50.0 M",
          "50.0 M",
          "50.0 M",
          "50.0 M",
          "10.0 M",
          "10.0 M",
          "50.0 M",
          "10.0 M",
          "10.0 M",
          "5.0 M",
          "10.0 M",
          "5.0 M",
          "50.0 M",
          "10.0 M",
          "10.0 M",
          "10.0 M",
          "10.0 M",
          "10.0 M",
          "10.0 M",
          "50.0 M",
          "50.0 M",
          "10.0 M",
          "10.0 M",
          "10.0 M",
          "10.0 M",
          "10.0 M",
          "10.0 M",
          "5.0 M",
          "10.0 M",
          "10.0 M",
          "10.0 M",
          "10.0 M",
          "50.0 M",
          "50.0 M",
          "50.0 M",
          "10.0 M",
          "10.0 M",
          "10.0 M",
          "10.0 M",
          "10.0 M",
          "10.0 M",
          "5.0 M",
          "10.0 M",
          "10.0 M",
          "10.0 M",
          "10.0 M",
          "10.0 M",
          "10.0 M",
          "5.0 M",
          "10.0 M",
          "5.0 M",
          "10.0 M",
          "10.0 M",
          "5.0 M",
          "10.0 M",
          "10.0 M",
          "10.0 M",
          "1.0 M",
          "10.0 M",
          "5.0 M",
          "1.0 M",
          "10.0 M",
          "10.0 M",
          "5.0 M",
          "10.0 M",
          "5.0 M",
          "10.0 M",
          "10.0 M",
          "5.0 M",
          "10.0 M",
          "10.0 M",
          "1.0 M",
          "10.0 M",
          "1.0 M",
          "10.0 M",
          "1.0 M",
          "5.0 M",
          "5.0 M",
          "10.0 M",
          "5.0 M",
          "5.0 M",
          "1.0 M",
          "1.0 M",
          "5.0 M",
          "1.0 M",
          "1.0 M",
          "5.0 M",
          "5.0 M",
          "1.0 M",
          "5.0 M",
          "1.0 M",
          "10.0 M",
          "10.0 M",
          "5.0 M",
          "10.0 M",
          "10.0 M",
          "1.0 M",
          "1.0 M",
          "1.0 M",
          "5.0 M",
          "1.0 M",
          "5.0 M"
         ],
         "legendgroup": "",
         "name": "",
         "showlegend": true,
         "type": "pie"
        }
       ],
       "layout": {
        "legend": {
         "tracegroupgap": 0
        },
        "template": {
         "data": {
          "bar": [
           {
            "error_x": {
             "color": "#2a3f5f"
            },
            "error_y": {
             "color": "#2a3f5f"
            },
            "marker": {
             "line": {
              "color": "#E5ECF6",
              "width": 0.5
             }
            },
            "type": "bar"
           }
          ],
          "barpolar": [
           {
            "marker": {
             "line": {
              "color": "#E5ECF6",
              "width": 0.5
             }
            },
            "type": "barpolar"
           }
          ],
          "carpet": [
           {
            "aaxis": {
             "endlinecolor": "#2a3f5f",
             "gridcolor": "white",
             "linecolor": "white",
             "minorgridcolor": "white",
             "startlinecolor": "#2a3f5f"
            },
            "baxis": {
             "endlinecolor": "#2a3f5f",
             "gridcolor": "white",
             "linecolor": "white",
             "minorgridcolor": "white",
             "startlinecolor": "#2a3f5f"
            },
            "type": "carpet"
           }
          ],
          "choropleth": [
           {
            "colorbar": {
             "outlinewidth": 0,
             "ticks": ""
            },
            "type": "choropleth"
           }
          ],
          "contour": [
           {
            "colorbar": {
             "outlinewidth": 0,
             "ticks": ""
            },
            "colorscale": [
             [
              0,
              "#0d0887"
             ],
             [
              0.1111111111111111,
              "#46039f"
             ],
             [
              0.2222222222222222,
              "#7201a8"
             ],
             [
              0.3333333333333333,
              "#9c179e"
             ],
             [
              0.4444444444444444,
              "#bd3786"
             ],
             [
              0.5555555555555556,
              "#d8576b"
             ],
             [
              0.6666666666666666,
              "#ed7953"
             ],
             [
              0.7777777777777778,
              "#fb9f3a"
             ],
             [
              0.8888888888888888,
              "#fdca26"
             ],
             [
              1,
              "#f0f921"
             ]
            ],
            "type": "contour"
           }
          ],
          "contourcarpet": [
           {
            "colorbar": {
             "outlinewidth": 0,
             "ticks": ""
            },
            "type": "contourcarpet"
           }
          ],
          "heatmap": [
           {
            "colorbar": {
             "outlinewidth": 0,
             "ticks": ""
            },
            "colorscale": [
             [
              0,
              "#0d0887"
             ],
             [
              0.1111111111111111,
              "#46039f"
             ],
             [
              0.2222222222222222,
              "#7201a8"
             ],
             [
              0.3333333333333333,
              "#9c179e"
             ],
             [
              0.4444444444444444,
              "#bd3786"
             ],
             [
              0.5555555555555556,
              "#d8576b"
             ],
             [
              0.6666666666666666,
              "#ed7953"
             ],
             [
              0.7777777777777778,
              "#fb9f3a"
             ],
             [
              0.8888888888888888,
              "#fdca26"
             ],
             [
              1,
              "#f0f921"
             ]
            ],
            "type": "heatmap"
           }
          ],
          "heatmapgl": [
           {
            "colorbar": {
             "outlinewidth": 0,
             "ticks": ""
            },
            "colorscale": [
             [
              0,
              "#0d0887"
             ],
             [
              0.1111111111111111,
              "#46039f"
             ],
             [
              0.2222222222222222,
              "#7201a8"
             ],
             [
              0.3333333333333333,
              "#9c179e"
             ],
             [
              0.4444444444444444,
              "#bd3786"
             ],
             [
              0.5555555555555556,
              "#d8576b"
             ],
             [
              0.6666666666666666,
              "#ed7953"
             ],
             [
              0.7777777777777778,
              "#fb9f3a"
             ],
             [
              0.8888888888888888,
              "#fdca26"
             ],
             [
              1,
              "#f0f921"
             ]
            ],
            "type": "heatmapgl"
           }
          ],
          "histogram": [
           {
            "marker": {
             "colorbar": {
              "outlinewidth": 0,
              "ticks": ""
             }
            },
            "type": "histogram"
           }
          ],
          "histogram2d": [
           {
            "colorbar": {
             "outlinewidth": 0,
             "ticks": ""
            },
            "colorscale": [
             [
              0,
              "#0d0887"
             ],
             [
              0.1111111111111111,
              "#46039f"
             ],
             [
              0.2222222222222222,
              "#7201a8"
             ],
             [
              0.3333333333333333,
              "#9c179e"
             ],
             [
              0.4444444444444444,
              "#bd3786"
             ],
             [
              0.5555555555555556,
              "#d8576b"
             ],
             [
              0.6666666666666666,
              "#ed7953"
             ],
             [
              0.7777777777777778,
              "#fb9f3a"
             ],
             [
              0.8888888888888888,
              "#fdca26"
             ],
             [
              1,
              "#f0f921"
             ]
            ],
            "type": "histogram2d"
           }
          ],
          "histogram2dcontour": [
           {
            "colorbar": {
             "outlinewidth": 0,
             "ticks": ""
            },
            "colorscale": [
             [
              0,
              "#0d0887"
             ],
             [
              0.1111111111111111,
              "#46039f"
             ],
             [
              0.2222222222222222,
              "#7201a8"
             ],
             [
              0.3333333333333333,
              "#9c179e"
             ],
             [
              0.4444444444444444,
              "#bd3786"
             ],
             [
              0.5555555555555556,
              "#d8576b"
             ],
             [
              0.6666666666666666,
              "#ed7953"
             ],
             [
              0.7777777777777778,
              "#fb9f3a"
             ],
             [
              0.8888888888888888,
              "#fdca26"
             ],
             [
              1,
              "#f0f921"
             ]
            ],
            "type": "histogram2dcontour"
           }
          ],
          "mesh3d": [
           {
            "colorbar": {
             "outlinewidth": 0,
             "ticks": ""
            },
            "type": "mesh3d"
           }
          ],
          "parcoords": [
           {
            "line": {
             "colorbar": {
              "outlinewidth": 0,
              "ticks": ""
             }
            },
            "type": "parcoords"
           }
          ],
          "pie": [
           {
            "automargin": true,
            "type": "pie"
           }
          ],
          "scatter": [
           {
            "marker": {
             "colorbar": {
              "outlinewidth": 0,
              "ticks": ""
             }
            },
            "type": "scatter"
           }
          ],
          "scatter3d": [
           {
            "line": {
             "colorbar": {
              "outlinewidth": 0,
              "ticks": ""
             }
            },
            "marker": {
             "colorbar": {
              "outlinewidth": 0,
              "ticks": ""
             }
            },
            "type": "scatter3d"
           }
          ],
          "scattercarpet": [
           {
            "marker": {
             "colorbar": {
              "outlinewidth": 0,
              "ticks": ""
             }
            },
            "type": "scattercarpet"
           }
          ],
          "scattergeo": [
           {
            "marker": {
             "colorbar": {
              "outlinewidth": 0,
              "ticks": ""
             }
            },
            "type": "scattergeo"
           }
          ],
          "scattergl": [
           {
            "marker": {
             "colorbar": {
              "outlinewidth": 0,
              "ticks": ""
             }
            },
            "type": "scattergl"
           }
          ],
          "scattermapbox": [
           {
            "marker": {
             "colorbar": {
              "outlinewidth": 0,
              "ticks": ""
             }
            },
            "type": "scattermapbox"
           }
          ],
          "scatterpolar": [
           {
            "marker": {
             "colorbar": {
              "outlinewidth": 0,
              "ticks": ""
             }
            },
            "type": "scatterpolar"
           }
          ],
          "scatterpolargl": [
           {
            "marker": {
             "colorbar": {
              "outlinewidth": 0,
              "ticks": ""
             }
            },
            "type": "scatterpolargl"
           }
          ],
          "scatterternary": [
           {
            "marker": {
             "colorbar": {
              "outlinewidth": 0,
              "ticks": ""
             }
            },
            "type": "scatterternary"
           }
          ],
          "surface": [
           {
            "colorbar": {
             "outlinewidth": 0,
             "ticks": ""
            },
            "colorscale": [
             [
              0,
              "#0d0887"
             ],
             [
              0.1111111111111111,
              "#46039f"
             ],
             [
              0.2222222222222222,
              "#7201a8"
             ],
             [
              0.3333333333333333,
              "#9c179e"
             ],
             [
              0.4444444444444444,
              "#bd3786"
             ],
             [
              0.5555555555555556,
              "#d8576b"
             ],
             [
              0.6666666666666666,
              "#ed7953"
             ],
             [
              0.7777777777777778,
              "#fb9f3a"
             ],
             [
              0.8888888888888888,
              "#fdca26"
             ],
             [
              1,
              "#f0f921"
             ]
            ],
            "type": "surface"
           }
          ],
          "table": [
           {
            "cells": {
             "fill": {
              "color": "#EBF0F8"
             },
             "line": {
              "color": "white"
             }
            },
            "header": {
             "fill": {
              "color": "#C8D4E3"
             },
             "line": {
              "color": "white"
             }
            },
            "type": "table"
           }
          ]
         },
         "layout": {
          "annotationdefaults": {
           "arrowcolor": "#2a3f5f",
           "arrowhead": 0,
           "arrowwidth": 1
          },
          "autotypenumbers": "strict",
          "coloraxis": {
           "colorbar": {
            "outlinewidth": 0,
            "ticks": ""
           }
          },
          "colorscale": {
           "diverging": [
            [
             0,
             "#8e0152"
            ],
            [
             0.1,
             "#c51b7d"
            ],
            [
             0.2,
             "#de77ae"
            ],
            [
             0.3,
             "#f1b6da"
            ],
            [
             0.4,
             "#fde0ef"
            ],
            [
             0.5,
             "#f7f7f7"
            ],
            [
             0.6,
             "#e6f5d0"
            ],
            [
             0.7,
             "#b8e186"
            ],
            [
             0.8,
             "#7fbc41"
            ],
            [
             0.9,
             "#4d9221"
            ],
            [
             1,
             "#276419"
            ]
           ],
           "sequential": [
            [
             0,
             "#0d0887"
            ],
            [
             0.1111111111111111,
             "#46039f"
            ],
            [
             0.2222222222222222,
             "#7201a8"
            ],
            [
             0.3333333333333333,
             "#9c179e"
            ],
            [
             0.4444444444444444,
             "#bd3786"
            ],
            [
             0.5555555555555556,
             "#d8576b"
            ],
            [
             0.6666666666666666,
             "#ed7953"
            ],
            [
             0.7777777777777778,
             "#fb9f3a"
            ],
            [
             0.8888888888888888,
             "#fdca26"
            ],
            [
             1,
             "#f0f921"
            ]
           ],
           "sequentialminus": [
            [
             0,
             "#0d0887"
            ],
            [
             0.1111111111111111,
             "#46039f"
            ],
            [
             0.2222222222222222,
             "#7201a8"
            ],
            [
             0.3333333333333333,
             "#9c179e"
            ],
            [
             0.4444444444444444,
             "#bd3786"
            ],
            [
             0.5555555555555556,
             "#d8576b"
            ],
            [
             0.6666666666666666,
             "#ed7953"
            ],
            [
             0.7777777777777778,
             "#fb9f3a"
            ],
            [
             0.8888888888888888,
             "#fdca26"
            ],
            [
             1,
             "#f0f921"
            ]
           ]
          },
          "colorway": [
           "#636efa",
           "#EF553B",
           "#00cc96",
           "#ab63fa",
           "#FFA15A",
           "#19d3f3",
           "#FF6692",
           "#B6E880",
           "#FF97FF",
           "#FECB52"
          ],
          "font": {
           "color": "#2a3f5f"
          },
          "geo": {
           "bgcolor": "white",
           "lakecolor": "white",
           "landcolor": "#E5ECF6",
           "showlakes": true,
           "showland": true,
           "subunitcolor": "white"
          },
          "hoverlabel": {
           "align": "left"
          },
          "hovermode": "closest",
          "mapbox": {
           "style": "light"
          },
          "paper_bgcolor": "white",
          "plot_bgcolor": "#E5ECF6",
          "polar": {
           "angularaxis": {
            "gridcolor": "white",
            "linecolor": "white",
            "ticks": ""
           },
           "bgcolor": "#E5ECF6",
           "radialaxis": {
            "gridcolor": "white",
            "linecolor": "white",
            "ticks": ""
           }
          },
          "scene": {
           "xaxis": {
            "backgroundcolor": "#E5ECF6",
            "gridcolor": "white",
            "gridwidth": 2,
            "linecolor": "white",
            "showbackground": true,
            "ticks": "",
            "zerolinecolor": "white"
           },
           "yaxis": {
            "backgroundcolor": "#E5ECF6",
            "gridcolor": "white",
            "gridwidth": 2,
            "linecolor": "white",
            "showbackground": true,
            "ticks": "",
            "zerolinecolor": "white"
           },
           "zaxis": {
            "backgroundcolor": "#E5ECF6",
            "gridcolor": "white",
            "gridwidth": 2,
            "linecolor": "white",
            "showbackground": true,
            "ticks": "",
            "zerolinecolor": "white"
           }
          },
          "shapedefaults": {
           "line": {
            "color": "#2a3f5f"
           }
          },
          "ternary": {
           "aaxis": {
            "gridcolor": "white",
            "linecolor": "white",
            "ticks": ""
           },
           "baxis": {
            "gridcolor": "white",
            "linecolor": "white",
            "ticks": ""
           },
           "bgcolor": "#E5ECF6",
           "caxis": {
            "gridcolor": "white",
            "linecolor": "white",
            "ticks": ""
           }
          },
          "title": {
           "x": 0.05
          },
          "xaxis": {
           "automargin": true,
           "gridcolor": "white",
           "linecolor": "white",
           "ticks": "",
           "title": {
            "standoff": 15
           },
           "zerolinecolor": "white",
           "zerolinewidth": 2
          },
          "yaxis": {
           "automargin": true,
           "gridcolor": "white",
           "linecolor": "white",
           "ticks": "",
           "title": {
            "standoff": 15
           },
           "zerolinecolor": "white",
           "zerolinewidth": 2
          }
         }
        },
        "title": {
         "text": "THE PERCENTAGE OF EACH INSTALLS RANGE"
        }
       }
      },
      "text/html": [
       "<div>                            <div id=\"3b1e6e7a-1e5e-4a08-ae92-938d8857a21c\" class=\"plotly-graph-div\" style=\"height:525px; width:100%;\"></div>            <script type=\"text/javascript\">                require([\"plotly\"], function(Plotly) {                    window.PLOTLYENV=window.PLOTLYENV || {};                                    if (document.getElementById(\"3b1e6e7a-1e5e-4a08-ae92-938d8857a21c\")) {                    Plotly.newPlot(                        \"3b1e6e7a-1e5e-4a08-ae92-938d8857a21c\",                        [{\"domain\": {\"x\": [0.0, 1.0], \"y\": [0.0, 1.0]}, \"hovertemplate\": \"installs=%{label}<extra></extra>\", \"labels\": [\"500.0 M\", \"100.0 M\", \"100.0 M\", \"100.0 M\", \"100.0 M\", \"100.0 M\", \"100.0 M\", \"100.0 M\", \"500.0 M\", \"100.0 M\", \"100.0 M\", \"100.0 M\", \"100.0 M\", \"100.0 M\", \"50.0 M\", \"100.0 M\", \"100.0 M\", \"50.0 M\", \"100.0 M\", \"50.0 M\", \"50.0 M\", \"100.0 M\", \"50.0 M\", \"100.0 M\", \"100.0 M\", \"100.0 M\", \"50.0 M\", \"100.0 M\", \"100.0 M\", \"10.0 M\", \"50.0 M\", \"10.0 M\", \"10.0 M\", \"100.0 M\", \"50.0 M\", \"50.0 M\", \"50.0 M\", \"50.0 M\", \"10.0 M\", \"10.0 M\", \"50.0 M\", \"100.0 M\", \"10.0 M\", \"100.0 M\", \"50.0 M\", \"50.0 M\", \"50.0 M\", \"100.0 M\", \"100.0 M\", \"50.0 M\", \"10.0 M\", \"50.0 M\", \"10.0 M\", \"10.0 M\", \"100.0 M\", \"50.0 M\", \"50.0 M\", \"100.0 M\", \"50.0 M\", \"10.0 M\", \"100.0 M\", \"100.0 M\", \"100.0 M\", \"50.0 M\", \"50.0 M\", \"10.0 M\", \"100.0 M\", \"50.0 M\", \"100.0 M\", \"50.0 M\", \"10.0 M\", \"50.0 M\", \"100.0 M\", \"10.0 M\", \"10.0 M\", \"10.0 M\", \"50.0 M\", \"50.0 M\", \"10.0 M\", \"50.0 M\", \"100.0 M\", \"50.0 M\", \"10.0 M\", \"10.0 M\", \"10.0 M\", \"100.0 M\", \"10.0 M\", \"10.0 M\", \"100.0 M\", \"10.0 M\", \"10.0 M\", \"10.0 M\", \"100.0 M\", \"10.0 M\", \"10.0 M\", \"10.0 M\", \"100.0 M\", \"10.0 M\", \"10.0 M\", \"10.0 M\", \"100.0 M\", \"100.0 M\", \"100.0 M\", \"10.0 M\", \"50.0 M\", \"100.0 M\", \"50.0 M\", \"50.0 M\", \"10.0 M\", \"50.0 M\", \"10.0 M\", \"10.0 M\", \"10.0 M\", \"50.0 M\", \"10.0 M\", \"10.0 M\", \"10.0 M\", \"10.0 M\", \"5.0 M\", \"10.0 M\", \"10.0 M\", \"5.0 M\", \"10.0 M\", \"10.0 M\", \"10.0 M\", \"10.0 M\", \"10.0 M\", \"10.0 M\", \"50.0 M\", \"5.0 M\", \"50.0 M\", \"10.0 M\", \"10.0 M\", \"10.0 M\", \"50.0 M\", \"10.0 M\", \"5.0 M\", \"10.0 M\", \"10.0 M\", \"10.0 M\", \"10.0 M\", \"10.0 M\", \"10.0 M\", \"10.0 M\", \"100.0 M\", \"10.0 M\", \"1.0 M\", \"10.0 M\", \"10.0 M\", \"1.0 M\", \"10.0 M\", \"10.0 M\", \"10.0 M\", \"1.0 M\", \"10.0 M\", \"5.0 M\", \"10.0 M\", \"10.0 M\", \"50.0 M\", \"10.0 M\", \"10.0 M\", \"10.0 M\", \"10.0 M\", \"10.0 M\", \"10.0 M\", \"50.0 M\", \"10.0 M\", \"10.0 M\", \"10.0 M\", \"1.0 M\", \"10.0 M\", \"10.0 M\", \"5.0 M\", \"10.0 M\", \"1.0 M\", \"10.0 M\", \"5.0 M\", \"5.0 M\", \"10.0 M\", \"10.0 M\", \"10.0 M\", \"10.0 M\", \"10.0 M\", \"50.0 M\", \"10.0 M\", \"1.0 M\", \"100.0 M\", \"10.0 M\", \"10.0 M\", \"5.0 M\", \"10.0 M\", \"10.0 M\", \"10.0 M\", \"1.0 M\", \"5.0 M\", \"5.0 M\", \"1.0 M\", \"5.0 M\", \"10.0 M\", \"50.0 M\", \"1000.0 M\", \"100.0 M\", \"100.0 M\", \"100.0 M\", \"100.0 M\", \"100.0 M\", \"100.0 M\", \"100.0 M\", \"500.0 M\", \"100.0 M\", \"100.0 M\", \"10.0 M\", \"100.0 M\", \"100.0 M\", \"10.0 M\", \"100.0 M\", \"100.0 M\", \"100.0 M\", \"100.0 M\", \"100.0 M\", \"50.0 M\", \"100.0 M\", \"50.0 M\", \"100.0 M\", \"100.0 M\", \"50.0 M\", \"100.0 M\", \"10.0 M\", \"100.0 M\", \"10.0 M\", \"100.0 M\", \"100.0 M\", \"100.0 M\", \"100.0 M\", \"100.0 M\", \"100.0 M\", \"100.0 M\", \"50.0 M\", \"50.0 M\", \"10.0 M\", \"50.0 M\", \"100.0 M\", \"50.0 M\", \"100.0 M\", \"50.0 M\", \"100.0 M\", \"100.0 M\", \"10.0 M\", \"50.0 M\", \"50.0 M\", \"50.0 M\", \"100.0 M\", \"50.0 M\", \"10.0 M\", \"100.0 M\", \"100.0 M\", \"50.0 M\", \"100.0 M\", \"10.0 M\", \"50.0 M\", \"50.0 M\", \"1.0 M\", \"10.0 M\", \"50.0 M\", \"10.0 M\", \"10.0 M\", \"50.0 M\", \"10.0 M\", \"50.0 M\", \"50.0 M\", \"10.0 M\", \"100.0 M\", \"50.0 M\", \"50.0 M\", \"10.0 M\", \"10.0 M\", \"50.0 M\", \"10.0 M\", \"10.0 M\", \"10.0 M\", \"10.0 M\", \"10.0 M\", \"50.0 M\", \"50.0 M\", \"10.0 M\", \"10.0 M\", \"10.0 M\", \"50.0 M\", \"10.0 M\", \"50.0 M\", \"10.0 M\", \"10.0 M\", \"10.0 M\", \"10.0 M\", \"10.0 M\", \"10.0 M\", \"10.0 M\", \"10.0 M\", \"100.0 M\", \"10.0 M\", \"500.0 M\", \"100.0 M\", \"10.0 M\", \"50.0 M\", \"10.0 M\", \"50.0 M\", \"100.0 M\", \"10.0 M\", \"100.0 M\", \"50.0 M\", \"10.0 M\", \"50.0 M\", \"50.0 M\", \"10.0 M\", \"10.0 M\", \"10.0 M\", \"5.0 M\", \"10.0 M\", \"10.0 M\", \"10.0 M\", \"10.0 M\", \"100.0 M\", \"10.0 M\", \"50.0 M\", \"10.0 M\", \"5.0 M\", \"5.0 M\", \"10.0 M\", \"5.0 M\", \"5.0 M\", \"50.0 M\", \"10.0 M\", \"10.0 M\", \"5.0 M\", \"5.0 M\", \"10.0 M\", \"50.0 M\", \"5.0 M\", \"10.0 M\", \"10.0 M\", \"10.0 M\", \"1.0 M\", \"10.0 M\", \"10.0 M\", \"10.0 M\", \"10.0 M\", \"1.0 M\", \"10.0 M\", \"1.0 M\", \"50.0 M\", \"5.0 M\", \"10.0 M\", \"10.0 M\", \"10.0 M\", \"10.0 M\", \"10.0 M\", \"10.0 M\", \"5.0 M\", \"5.0 M\", \"5.0 M\", \"5.0 M\", \"5.0 M\", \"5.0 M\", \"5.0 M\", \"10.0 M\", \"5.0 M\", \"10.0 M\", \"10.0 M\", \"10.0 M\", \"50.0 M\", \"1.0 M\", \"50.0 M\", \"10.0 M\", \"1.0 M\", \"10.0 M\", \"5.0 M\", \"10.0 M\", \"1.0 M\", \"10.0 M\", \"1.0 M\", \"10.0 M\", \"5.0 M\", \"10.0 M\", \"5.0 M\", \"5.0 M\", \"5.0 M\", \"1.0 M\", \"5.0 M\", \"1.0 M\", \"5.0 M\", \"5.0 M\", \"1.0 M\", \"1.0 M\", \"5.0 M\", \"1.0 M\", \"10.0 M\", \"1.0 M\", \"5.0 M\", \"10.0 M\", \"10.0 M\", \"50.0 M\", \"10.0 M\", \"100.0 M\", \"100.0 M\", \"100.0 M\", \"50.0 M\", \"10.0 M\", \"10.0 M\", \"50.0 M\", \"10.0 M\", \"50.0 M\", \"50.0 M\", \"50.0 M\", \"10.0 M\", \"5.0 M\", \"10.0 M\", \"10.0 M\", \"50.0 M\", \"50.0 M\", \"50.0 M\", \"10.0 M\", \"10.0 M\", \"10.0 M\", \"10.0 M\", \"10.0 M\", \"10.0 M\", \"10.0 M\", \"10.0 M\", \"5.0 M\", \"10.0 M\", \"10.0 M\", \"5.0 M\", \"10.0 M\", \"5.0 M\", \"10.0 M\", \"1.0 M\", \"1.0 M\", \"1.0 M\", \"10.0 M\", \"5.0 M\", \"50.0 M\", \"10.0 M\", \"5.0 M\", \"10.0 M\", \"5.0 M\", \"10.0 M\", \"10.0 M\", \"10.0 M\", \"10.0 M\", \"5.0 M\", \"10.0 M\", \"5.0 M\", \"5.0 M\", \"1.0 M\", \"5.0 M\", \"5.0 M\", \"1.0 M\", \"5.0 M\", \"5.0 M\", \"5.0 M\", \"5.0 M\", \"5.0 M\", \"1.0 M\", \"5.0 M\", \"5.0 M\", \"5.0 M\", \"1.0 M\", \"1.0 M\", \"1.0 M\", \"5.0 M\", \"5.0 M\", \"5.0 M\", \"5.0 M\", \"1.0 M\", \"5.0 M\", \"5.0 M\", \"5.0 M\", \"500.0 k\", \"1.0 M\", \"5.0 M\", \"10.0 M\", \"10.0 M\", \"10.0 M\", \"500.0 k\", \"1.0 M\", \"1.0 M\", \"1.0 M\", \"1.0 M\", \"5.0 M\", \"10.0 M\", \"10.0 M\", \"5.0 M\", \"5.0 M\", \"1.0 M\", \"1.0 M\", \"1.0 M\", \"1.0 M\", \"5.0 M\", \"1.0 M\", \"10.0 M\", \"5.0 M\", \"1.0 M\", \"1.0 M\", \"5.0 M\", \"1.0 M\", \"1.0 M\", \"1.0 M\", \"1.0 M\", \"10.0 M\", \"10.0 M\", \"10.0 M\", \"5.0 M\", \"5.0 M\", \"5.0 M\", \"1.0 M\", \"1.0 M\", \"10.0 M\", \"1.0 M\", \"1.0 M\", \"5.0 M\", \"5.0 M\", \"5.0 M\", \"50.0 M\", \"50.0 M\", \"50.0 M\", \"50.0 M\", \"50.0 M\", \"10.0 M\", \"10.0 M\", \"10.0 M\", \"10.0 M\", \"10.0 M\", \"10.0 M\", \"10.0 M\", \"10.0 M\", \"5.0 M\", \"10.0 M\", \"10.0 M\", \"5.0 M\", \"10.0 M\", \"5.0 M\", \"10.0 M\", \"10.0 M\", \"5.0 M\", \"10.0 M\", \"5.0 M\", \"10.0 M\", \"10.0 M\", \"10.0 M\", \"10.0 M\", \"10.0 M\", \"10.0 M\", \"10.0 M\", \"1.0 M\", \"5.0 M\", \"5.0 M\", \"10.0 M\", \"10.0 M\", \"10.0 M\", \"10.0 M\", \"5.0 M\", \"10.0 M\", \"5.0 M\", \"10.0 M\", \"10.0 M\", \"5.0 M\", \"5.0 M\", \"5.0 M\", \"10.0 M\", \"10.0 M\", \"5.0 M\", \"5.0 M\", \"10.0 M\", \"1.0 M\", \"10.0 M\", \"5.0 M\", \"5.0 M\", \"5.0 M\", \"10.0 M\", \"5.0 M\", \"1.0 M\", \"5.0 M\", \"1.0 M\", \"5.0 M\", \"5.0 M\", \"5.0 M\", \"10.0 M\", \"5.0 M\", \"1.0 M\", \"5.0 M\", \"1.0 M\", \"5.0 M\", \"10.0 M\", \"10.0 M\", \"1.0 M\", \"1.0 M\", \"1.0 M\", \"1.0 M\", \"1.0 M\", \"1.0 M\", \"5.0 M\", \"5.0 M\", \"5.0 M\", \"1.0 M\", \"1.0 M\", \"1.0 M\", \"1.0 M\", \"1.0 M\", \"1.0 M\", \"1.0 M\", \"5.0 M\", \"1.0 M\", \"1.0 M\", \"1.0 M\", \"1.0 M\", \"1.0 M\", \"1.0 M\", \"5.0 M\", \"500.0 k\", \"1.0 M\", \"1.0 M\", \"1.0 M\", \"1000.0 M\", \"500.0 M\", \"500.0 M\", \"100.0 M\", \"500.0 M\", \"100.0 M\", \"100.0 M\", \"100.0 M\", \"100.0 M\", \"100.0 M\", \"100.0 M\", \"100.0 M\", \"100.0 M\", \"100.0 M\", \"50.0 M\", \"100.0 M\", \"50.0 M\", \"100.0 M\", \"100.0 M\", \"50.0 M\", \"100.0 M\", \"50.0 M\", \"100.0 M\", \"100.0 M\", \"50.0 M\", \"10.0 M\", \"50.0 M\", \"100.0 M\", \"100.0 M\", \"50.0 M\", \"50.0 M\", \"10.0 M\", \"50.0 M\", \"100.0 M\", \"10.0 M\", \"50.0 M\", \"10.0 M\", \"10.0 M\", \"100.0 M\", \"50.0 M\", \"10.0 M\", \"10.0 M\", \"50.0 M\", \"10.0 M\", \"50.0 M\", \"50.0 M\", \"100.0 M\", \"10.0 M\", \"10.0 M\", \"50.0 M\", \"50.0 M\", \"100.0 M\", \"50.0 M\", \"50.0 M\", \"10.0 M\", \"10.0 M\", \"10.0 M\", \"10.0 M\", \"10.0 M\", \"5.0 M\", \"10.0 M\", \"10.0 M\", \"10.0 M\", \"100.0 M\", \"10.0 M\", \"10.0 M\", \"10.0 M\", \"50.0 M\", \"10.0 M\", \"10.0 M\", \"100.0 M\", \"10.0 M\", \"10.0 M\", \"10.0 M\", \"10.0 M\", \"10.0 M\", \"5.0 M\", \"10.0 M\", \"10.0 M\", \"10.0 M\", \"1.0 M\", \"50.0 M\", \"10.0 M\", \"100.0 M\", \"100.0 M\", \"10.0 M\", \"10.0 M\", \"10.0 M\", \"10.0 M\", \"100.0 M\", \"100.0 M\", \"10.0 M\", \"10.0 M\", \"1.0 M\", \"10.0 M\", \"10.0 M\", \"10.0 M\", \"10.0 M\", \"5.0 M\", \"10.0 M\", \"50.0 M\", \"50.0 M\", \"100.0 M\", \"50.0 M\", \"50.0 M\", \"1.0 M\", \"10.0 M\", \"10.0 M\", \"50.0 M\", \"100.0 M\", \"100.0 M\", \"10.0 M\", \"10.0 M\", \"10.0 M\", \"10.0 M\", \"50.0 M\", \"10.0 M\", \"50.0 M\", \"50.0 M\", \"500.0 k\", \"10.0 M\", \"10.0 M\", \"10.0 M\", \"50.0 M\", \"10.0 M\", \"10.0 M\", \"10.0 M\", \"1.0 M\", \"100.0 M\", \"10.0 M\", \"10.0 M\", \"50.0 M\", \"10.0 M\", \"10.0 M\", \"10.0 M\", \"50.0 M\", \"10.0 M\", \"10.0 M\", \"10.0 M\", \"5.0 M\", \"10.0 M\", \"1.0 M\", \"5.0 M\", \"5.0 M\", \"10.0 M\", \"10.0 M\", \"10.0 M\", \"10.0 M\", \"10.0 M\", \"10.0 M\", \"10.0 M\", \"10.0 M\", \"1.0 M\", \"1.0 M\", \"10.0 M\", \"1.0 M\", \"10.0 M\", \"10.0 M\", \"50.0 M\", \"10.0 M\", \"10.0 M\", \"10.0 M\", \"5.0 M\", \"10.0 M\", \"10.0 M\", \"10.0 M\", \"10.0 M\", \"5.0 M\", \"10.0 M\", \"10.0 M\", \"5.0 M\", \"5.0 M\", \"10.0 M\", \"1.0 M\", \"1.0 M\", \"10.0 M\", \"10.0 M\", \"5.0 M\", \"10.0 M\", \"10.0 M\", \"10.0 M\", \"10.0 M\", \"5.0 M\", \"10.0 M\", \"10.0 M\", \"10.0 M\", \"10.0 M\", \"10.0 M\", \"10.0 M\", \"5.0 M\", \"10.0 M\", \"1.0 M\", \"10.0 M\", \"10.0 M\", \"1.0 M\", \"10.0 M\", \"5.0 M\", \"5.0 M\", \"5.0 M\", \"10.0 M\", \"10.0 M\", \"10.0 M\", \"5000.0 M\", \"1000.0 M\", \"5000.0 M\", \"5000.0 M\", \"500.0 M\", \"1000.0 M\", \"500.0 M\", \"100.0 M\", \"1000.0 M\", \"5000.0 M\", \"1000.0 M\", \"1000.0 M\", \"100.0 M\", \"5000.0 M\", \"100.0 M\", \"1000.0 M\", \"500.0 M\", \"500.0 M\", \"100.0 M\", \"5000.0 M\", \"1000.0 M\", \"1000.0 M\", \"100.0 M\", \"100.0 M\", \"500.0 M\", \"100.0 M\", \"1000.0 M\", \"500.0 M\", \"500.0 M\", \"100.0 M\", \"100.0 M\", \"100.0 M\", \"100.0 M\", \"5000.0 M\", \"100.0 M\", \"500.0 M\", \"500.0 M\", \"100.0 M\", \"500.0 M\", \"100.0 M\", \"100.0 M\", \"500.0 M\", \"100.0 M\", \"1000.0 M\", \"1000.0 M\", \"100.0 M\", \"100.0 M\", \"100.0 M\", \"100.0 M\", \"100.0 M\", \"500.0 M\", \"500.0 M\", \"500.0 M\", \"100.0 M\", \"100.0 M\", \"500.0 M\", \"100.0 M\", \"100.0 M\", \"500.0 M\", \"100.0 M\", \"5000.0 M\", \"100.0 M\", \"100.0 M\", \"100.0 M\", \"500.0 M\", \"100.0 M\", \"100.0 M\", \"100.0 M\", \"100.0 M\", \"500.0 M\", \"1000.0 M\", \"500.0 M\", \"100.0 M\", \"100.0 M\", \"500.0 M\", \"100.0 M\", \"5000.0 M\", \"500.0 M\", \"100.0 M\", \"1000.0 M\", \"100.0 M\", \"100.0 M\", \"100.0 M\", \"100.0 M\", \"100.0 M\", \"500.0 M\", \"500.0 M\", \"100.0 M\", \"100.0 M\", \"100.0 M\", \"500.0 M\", \"100.0 M\", \"100.0 M\", \"100.0 M\", \"100.0 M\", \"100.0 M\", \"1000.0 M\", \"100.0 M\", \"100.0 M\", \"100.0 M\", \"100.0 M\", \"100.0 M\", \"10.0 M\", \"100.0 M\", \"10.0 M\", \"50.0 M\", \"50.0 M\", \"100.0 M\", \"50.0 M\", \"5.0 M\", \"5.0 M\", \"10.0 M\", \"100.0 M\", \"50.0 M\", \"10.0 M\", \"10.0 M\", \"10.0 M\", \"10.0 M\", \"10.0 M\", \"10.0 M\", \"10.0 M\", \"10.0 M\", \"10.0 M\", \"5.0 M\", \"5.0 M\", \"10.0 M\", \"5.0 M\", \"10.0 M\", \"10.0 M\", \"50.0 M\", \"5.0 M\", \"5.0 M\", \"5.0 M\", \"10.0 M\", \"5.0 M\", \"1.0 M\", \"10.0 M\", \"1.0 M\", \"50.0 M\", \"10.0 M\", \"10.0 M\", \"1.0 M\", \"10.0 M\", \"10.0 M\", \"10.0 M\", \"1.0 M\", \"10.0 M\", \"1.0 M\", \"1.0 M\", \"5.0 M\", \"5.0 M\", \"1.0 M\", \"1.0 M\", \"10.0 M\", \"10.0 M\", \"10.0 M\", \"10.0 M\", \"1.0 M\", \"10.0 M\", \"1.0 M\", \"10.0 M\", \"1.0 M\", \"5.0 M\", \"1.0 M\", \"100.0 k\", \"5.0 M\", \"1.0 M\", \"5.0 M\", \"10.0 M\", \"10.0 M\", \"1.0 M\", \"1.0 M\", \"500.0 k\", \"1.0 M\", \"1.0 M\", \"1.0 M\", \"5.0 M\", \"5.0 M\", \"1.0 M\", \"10.0 M\", \"1.0 M\", \"5.0 M\", \"1.0 M\", \"500.0 k\", \"1.0 M\", \"5.0 M\", \"1.0 M\", \"500.0 k\", \"5.0 M\", \"1.0 M\", \"1.0 M\", \"1.0 M\", \"5.0 M\", \"10.0 M\", \"5.0 M\", \"1.0 M\", \"1.0 M\", \"1.0 M\", \"10.0 M\", \"10.0 M\", \"100.0 M\", \"100.0 M\", \"50.0 M\", \"50.0 M\", \"100.0 M\", \"50.0 M\", \"100.0 M\", \"100.0 M\", \"50.0 M\", \"100.0 M\", \"50.0 M\", \"50.0 M\", \"50.0 M\", \"10.0 M\", \"100.0 M\", \"100.0 M\", \"100.0 M\", \"100.0 M\", \"100.0 M\", \"10.0 M\", \"10.0 M\", \"50.0 M\", \"10.0 M\", \"10.0 M\", \"10.0 M\", \"50.0 M\", \"10.0 M\", \"50.0 M\", \"50.0 M\", \"10.0 M\", \"10.0 M\", \"10.0 M\", \"5.0 M\", \"10.0 M\", \"10.0 M\", \"100.0 M\", \"10.0 M\", \"100.0 M\", \"10.0 M\", \"50.0 M\", \"50.0 M\", \"10.0 M\", \"10.0 M\", \"10.0 M\", \"10.0 M\", \"50.0 M\", \"10.0 M\", \"10.0 M\", \"100.0 M\", \"10.0 M\", \"10.0 M\", \"100.0 M\", \"10.0 M\", \"100.0 M\", \"10.0 M\", \"50.0 M\", \"50.0 M\", \"10.0 M\", \"10.0 M\", \"10.0 M\", \"10.0 M\", \"50.0 M\", \"50.0 M\", \"50.0 M\", \"50.0 M\", \"50.0 M\", \"10.0 M\", \"50.0 M\", \"5.0 M\", \"50.0 M\", \"50.0 M\", \"10.0 M\", \"10.0 M\", \"10.0 M\", \"10.0 M\", \"50.0 M\", \"50.0 M\", \"10.0 M\", \"10.0 M\", \"10.0 M\", \"10.0 M\", \"10.0 M\", \"10.0 M\", \"10.0 M\", \"10.0 M\", \"10.0 M\", \"10.0 M\", \"10.0 M\", \"50.0 M\", \"10.0 M\", \"10.0 M\", \"10.0 M\", \"10.0 M\", \"10.0 M\", \"10.0 M\", \"10.0 M\", \"10.0 M\", \"100.0 M\", \"1.0 M\", \"50.0 M\", \"500.0 M\", \"100.0 M\", \"100.0 M\", \"100.0 M\", \"100.0 M\", \"100.0 M\", \"100.0 M\", \"10.0 M\", \"100.0 M\", \"100.0 M\", \"100.0 M\", \"100.0 M\", \"100.0 M\", \"50.0 M\", \"100.0 M\", \"100.0 M\", \"50.0 M\", \"100.0 M\", \"100.0 M\", \"10.0 M\", \"50.0 M\", \"50.0 M\", \"10.0 M\", \"50.0 M\", \"50.0 M\", \"100.0 M\", \"50.0 M\", \"50.0 M\", \"50.0 M\", \"10.0 M\", \"10.0 M\", \"100.0 M\", \"10.0 M\", \"10.0 M\", \"50.0 M\", \"100.0 M\", \"10.0 M\", \"10.0 M\", \"50.0 M\", \"100.0 M\", \"50.0 M\", \"10.0 M\", \"100.0 M\", \"100.0 M\", \"100.0 M\", \"50.0 M\", \"100.0 M\", \"10.0 M\", \"50.0 M\", \"50.0 M\", \"10.0 M\", \"10.0 M\", \"10.0 M\", \"10.0 M\", \"50.0 M\", \"10.0 M\", \"10.0 M\", \"10.0 M\", \"50.0 M\", \"5.0 M\", \"50.0 M\", \"10.0 M\", \"10.0 M\", \"10.0 M\", \"100.0 M\", \"50.0 M\", \"10.0 M\", \"10.0 M\", \"10.0 M\", \"10.0 M\", \"10.0 M\", \"10.0 M\", \"10.0 M\", \"10.0 M\", \"10.0 M\", \"10.0 M\", \"50.0 M\", \"10.0 M\", \"10.0 M\", \"50.0 M\", \"10.0 M\", \"10.0 M\", \"5.0 M\", \"50.0 M\", \"10.0 M\", \"10.0 M\", \"50.0 M\", \"10.0 M\", \"10.0 M\", \"10.0 M\", \"10.0 M\", \"50.0 M\", \"10.0 M\", \"50.0 M\", \"10.0 M\", \"10.0 M\", \"10.0 M\", \"10.0 M\", \"10.0 M\", \"10.0 M\", \"100.0 M\", \"10.0 M\", \"50.0 M\", \"50.0 M\", \"10.0 M\", \"100.0 M\", \"10.0 M\", \"50.0 M\", \"50.0 M\", \"10.0 M\", \"10.0 M\", \"10.0 M\", \"10.0 M\", \"10.0 M\", \"10.0 M\", \"50.0 M\", \"10.0 M\", \"10.0 M\", \"10.0 M\", \"10.0 M\", \"5.0 M\", \"10.0 M\", \"10.0 M\", \"10.0 M\", \"10.0 M\", \"10.0 M\", \"10.0 M\", \"5.0 M\", \"10.0 M\", \"50.0 M\", \"10.0 M\", \"10.0 M\", \"10.0 M\", \"10.0 M\", \"10.0 M\", \"10.0 M\", \"5.0 M\", \"5.0 M\", \"5.0 M\", \"10.0 M\", \"10.0 M\", \"10.0 M\", \"5.0 M\", \"5.0 M\", \"10.0 M\", \"10.0 M\", \"10.0 M\", \"10.0 M\", \"10.0 M\", \"5.0 M\", \"100.0 M\", \"10.0 M\", \"5.0 M\", \"10.0 M\", \"10.0 M\", \"50.0 M\", \"10.0 M\", \"10.0 M\", \"10.0 M\", \"10.0 M\", \"10.0 M\", \"10.0 M\", \"1.0 M\", \"1.0 M\", \"5.0 M\", \"10.0 M\", \"10.0 M\", \"10.0 M\", \"10.0 M\", \"1.0 M\", \"5.0 M\", \"5.0 M\", \"10.0 M\", \"10.0 M\", \"10.0 M\", \"5.0 M\", \"10.0 M\", \"5.0 M\", \"1.0 M\", \"1.0 M\", \"10.0 M\", \"10.0 M\", \"5.0 M\", \"10.0 M\", \"5.0 M\", \"1.0 M\", \"10.0 M\", \"1.0 M\", \"10.0 M\", \"5.0 M\", \"10.0 M\", \"1.0 M\", \"5.0 M\", \"5.0 M\", \"5.0 M\", \"5.0 M\", \"100.0 M\", \"1.0 M\", \"10.0 M\", \"5.0 M\", \"100.0 M\", \"100.0 M\", \"100.0 M\", \"100.0 M\", \"100.0 M\", \"10.0 M\", \"50.0 M\", \"50.0 M\", \"10.0 M\", \"50.0 M\", \"50.0 M\", \"10.0 M\", \"50.0 M\", \"50.0 M\", \"10.0 M\", \"50.0 M\", \"10.0 M\", \"50.0 M\", \"10.0 M\", \"100.0 M\", \"10.0 M\", \"50.0 M\", \"10.0 M\", \"50.0 M\", \"10.0 M\", \"50.0 M\", \"50.0 M\", \"50.0 M\", \"10.0 M\", \"10.0 M\", \"10.0 M\", \"10.0 M\", \"10.0 M\", \"10.0 M\", \"10.0 M\", \"50.0 M\", \"10.0 M\", \"100.0 M\", \"10.0 M\", \"5.0 M\", \"50.0 M\", \"10.0 M\", \"10.0 M\", \"10.0 M\", \"10.0 M\", \"50.0 M\", \"50.0 M\", \"10.0 M\", \"100.0 M\", \"10.0 M\", \"100.0 M\", \"10.0 M\", \"10.0 M\", \"50.0 M\", \"10.0 M\", \"10.0 M\", \"10.0 M\", \"50.0 M\", \"100.0 M\", \"10.0 M\", \"10.0 M\", \"10.0 M\", \"50.0 M\", \"10.0 M\", \"10.0 M\", \"50.0 M\", \"50.0 M\", \"10.0 M\", \"10.0 M\", \"5.0 M\", \"10.0 M\", \"50.0 M\", \"10.0 M\", \"10.0 M\", \"10.0 M\", \"10.0 M\", \"10.0 M\", \"10.0 M\", \"10.0 M\", \"10.0 M\", \"10.0 M\", \"10.0 M\", \"1.0 M\", \"10.0 M\", \"10.0 M\", \"10.0 M\", \"10.0 M\", \"10.0 M\", \"100.0 M\", \"5.0 M\", \"10.0 M\", \"10.0 M\", \"10.0 M\", \"10.0 M\", \"5.0 M\", \"10.0 M\", \"10.0 M\", \"5.0 M\", \"5.0 M\", \"10.0 M\", \"100.0 M\", \"100.0 M\", \"100.0 M\", \"50.0 M\", \"50.0 M\", \"50.0 M\", \"10.0 M\", \"50.0 M\", \"500.0 M\", \"100.0 M\", \"50.0 M\", \"100.0 M\", \"50.0 M\", \"10.0 M\", \"50.0 M\", \"10.0 M\", \"10.0 M\", \"100.0 M\", \"100.0 M\", \"50.0 M\", \"50.0 M\", \"10.0 M\", \"50.0 M\", \"100.0 M\", \"10.0 M\", \"50.0 M\", \"50.0 M\", \"100.0 M\", \"100.0 M\", \"10.0 M\", \"50.0 M\", \"50.0 M\", \"10.0 M\", \"10.0 M\", \"50.0 M\", \"100.0 M\", \"10.0 M\", \"50.0 M\", \"10.0 M\", \"50.0 M\", \"10.0 M\", \"50.0 M\", \"50.0 M\", \"50.0 M\", \"10.0 M\", \"10.0 M\", \"50.0 M\", \"10.0 M\", \"10.0 M\", \"10.0 M\", \"10.0 M\", \"10.0 M\", \"10.0 M\", \"10.0 M\", \"50.0 M\", \"50.0 M\", \"10.0 M\", \"10.0 M\", \"50.0 M\", \"10.0 M\", \"10.0 M\", \"10.0 M\", \"50.0 M\", \"10.0 M\", \"10.0 M\", \"10.0 M\", \"10.0 M\", \"50.0 M\", \"10.0 M\", \"10.0 M\", \"10.0 M\", \"5.0 M\", \"10.0 M\", \"10.0 M\", \"5.0 M\", \"10.0 M\", \"10.0 M\", \"10.0 M\", \"10.0 M\", \"10.0 M\", \"10.0 M\", \"10.0 M\", \"10.0 M\", \"10.0 M\", \"5.0 M\", \"10.0 M\", \"10.0 M\", \"10.0 M\", \"10.0 M\", \"10.0 M\", \"10.0 M\", \"1.0 M\", \"10.0 M\", \"10.0 M\", \"5.0 M\", \"10.0 M\", \"10.0 M\", \"10.0 M\", \"10.0 M\", \"10.0 M\", \"500.0 M\", \"100.0 M\", \"100.0 M\", \"50.0 M\", \"100.0 M\", \"100.0 M\", \"10.0 M\", \"100.0 M\", \"50.0 M\", \"10.0 M\", \"50.0 M\", \"10.0 M\", \"100.0 M\", \"50.0 M\", \"10.0 M\", \"10.0 M\", \"10.0 M\", \"50.0 M\", \"50.0 M\", \"50.0 M\", \"10.0 M\", \"10.0 M\", \"10.0 M\", \"10.0 M\", \"10.0 M\", \"10.0 M\", \"10.0 M\", \"10.0 M\", \"50.0 M\", \"50.0 M\", \"50.0 M\", \"10.0 M\", \"50.0 M\", \"50.0 M\", \"10.0 M\", \"10.0 M\", \"10.0 M\", \"10.0 M\", \"10.0 M\", \"10.0 M\", \"10.0 M\", \"10.0 M\", \"10.0 M\", \"10.0 M\", \"10.0 M\", \"10.0 M\", \"5.0 M\", \"10.0 M\", \"10.0 M\", \"5.0 M\", \"10.0 M\", \"10.0 M\", \"5.0 M\", \"10.0 M\", \"5.0 M\", \"10.0 M\", \"5.0 M\", \"5.0 M\", \"5.0 M\", \"10.0 M\", \"5.0 M\", \"50.0 M\", \"10.0 M\", \"1.0 M\", \"5.0 M\", \"1.0 M\", \"1.0 M\", \"10.0 M\", \"5.0 M\", \"5.0 M\", \"5.0 M\", \"10.0 M\", \"5.0 M\", \"1.0 M\", \"5.0 M\", \"10.0 M\", \"10.0 M\", \"10.0 M\", \"10.0 M\", \"10.0 M\", \"10.0 M\", \"5.0 M\", \"10.0 M\", \"10.0 M\", \"5.0 M\", \"5.0 M\", \"10.0 M\", \"10.0 M\", \"10.0 M\", \"10.0 M\", \"10.0 M\", \"10.0 M\", \"10.0 M\", \"5.0 M\", \"10.0 M\", \"10.0 M\", \"1.0 M\", \"1.0 M\", \"5.0 M\", \"1.0 M\", \"100.0 M\", \"100.0 M\", \"10.0 M\", \"50.0 M\", \"10.0 M\", \"10.0 M\", \"10.0 M\", \"10.0 M\", \"10.0 M\", \"10.0 M\", \"1.0 M\", \"5.0 M\", \"10.0 M\", \"10.0 M\", \"10.0 M\", \"10.0 M\", \"10.0 M\", \"5.0 M\", \"10.0 M\", \"1.0 M\", \"10.0 M\", \"10.0 M\", \"10.0 M\", \"10.0 M\", \"10.0 M\", \"10.0 M\", \"1.0 M\", \"1.0 M\", \"1.0 M\", \"5.0 M\", \"5.0 M\", \"5.0 M\", \"10.0 M\", \"1.0 M\", \"10.0 M\", \"10.0 M\", \"10.0 M\", \"5.0 M\", \"10.0 M\", \"1.0 M\", \"5.0 M\", \"5.0 M\", \"1.0 M\", \"5.0 M\", \"5.0 M\", \"1.0 M\", \"10.0 M\", \"5.0 M\", \"5.0 M\", \"5.0 M\", \"500.0 k\", \"1.0 M\", \"10.0 M\", \"1.0 M\", \"1.0 M\", \"1.0 M\", \"5.0 M\", \"10.0 M\", \"500.0 k\", \"1.0 M\", \"1.0 M\", \"1.0 M\", \"1.0 M\", \"1.0 M\", \"500.0 k\", \"1.0 M\", \"5.0 M\", \"5.0 M\", \"1.0 M\", \"1.0 M\", \"5.0 M\", \"5.0 M\", \"1.0 M\", \"5.0 M\", \"1.0 M\", \"10.0 M\", \"1.0 M\", \"5.0 M\", \"1.0 M\", \"5.0 M\", \"100.0 k\", \"1.0 M\", \"1.0 M\", \"5.0 M\", \"1.0 M\", \"1.0 M\", \"1.0 M\", \"10.0 M\", \"5.0 M\", \"500.0 k\", \"500.0 k\", \"5.0 M\", \"1.0 M\", \"5.0 M\", \"1.0 M\", \"1.0 M\", \"1.0 M\", \"500.0 k\", \"1.0 M\", \"1.0 M\", \"10.0 M\", \"10.0 M\", \"100.0 M\", \"50.0 M\", \"50.0 M\", \"50.0 M\", \"50.0 M\", \"50.0 M\", \"10.0 M\", \"10.0 M\", \"50.0 M\", \"10.0 M\", \"10.0 M\", \"5.0 M\", \"10.0 M\", \"5.0 M\", \"50.0 M\", \"10.0 M\", \"10.0 M\", \"10.0 M\", \"10.0 M\", \"10.0 M\", \"10.0 M\", \"50.0 M\", \"50.0 M\", \"10.0 M\", \"10.0 M\", \"10.0 M\", \"10.0 M\", \"10.0 M\", \"10.0 M\", \"5.0 M\", \"10.0 M\", \"10.0 M\", \"10.0 M\", \"10.0 M\", \"50.0 M\", \"50.0 M\", \"50.0 M\", \"10.0 M\", \"10.0 M\", \"10.0 M\", \"10.0 M\", \"10.0 M\", \"10.0 M\", \"5.0 M\", \"10.0 M\", \"10.0 M\", \"10.0 M\", \"10.0 M\", \"10.0 M\", \"10.0 M\", \"5.0 M\", \"10.0 M\", \"5.0 M\", \"10.0 M\", \"10.0 M\", \"5.0 M\", \"10.0 M\", \"10.0 M\", \"10.0 M\", \"1.0 M\", \"10.0 M\", \"5.0 M\", \"1.0 M\", \"10.0 M\", \"10.0 M\", \"5.0 M\", \"10.0 M\", \"5.0 M\", \"10.0 M\", \"10.0 M\", \"5.0 M\", \"10.0 M\", \"10.0 M\", \"1.0 M\", \"10.0 M\", \"1.0 M\", \"10.0 M\", \"1.0 M\", \"5.0 M\", \"5.0 M\", \"10.0 M\", \"5.0 M\", \"5.0 M\", \"1.0 M\", \"1.0 M\", \"5.0 M\", \"1.0 M\", \"1.0 M\", \"5.0 M\", \"5.0 M\", \"1.0 M\", \"5.0 M\", \"1.0 M\", \"10.0 M\", \"10.0 M\", \"5.0 M\", \"10.0 M\", \"10.0 M\", \"1.0 M\", \"1.0 M\", \"1.0 M\", \"5.0 M\", \"1.0 M\", \"5.0 M\"], \"legendgroup\": \"\", \"name\": \"\", \"showlegend\": true, \"type\": \"pie\"}],                        {\"legend\": {\"tracegroupgap\": 0}, \"template\": {\"data\": {\"bar\": [{\"error_x\": {\"color\": \"#2a3f5f\"}, \"error_y\": {\"color\": \"#2a3f5f\"}, \"marker\": {\"line\": {\"color\": \"#E5ECF6\", \"width\": 0.5}}, \"type\": \"bar\"}], \"barpolar\": [{\"marker\": {\"line\": {\"color\": \"#E5ECF6\", \"width\": 0.5}}, \"type\": \"barpolar\"}], \"carpet\": [{\"aaxis\": {\"endlinecolor\": \"#2a3f5f\", \"gridcolor\": \"white\", \"linecolor\": \"white\", \"minorgridcolor\": \"white\", \"startlinecolor\": \"#2a3f5f\"}, \"baxis\": {\"endlinecolor\": \"#2a3f5f\", \"gridcolor\": \"white\", \"linecolor\": \"white\", \"minorgridcolor\": \"white\", \"startlinecolor\": \"#2a3f5f\"}, \"type\": \"carpet\"}], \"choropleth\": [{\"colorbar\": {\"outlinewidth\": 0, \"ticks\": \"\"}, \"type\": \"choropleth\"}], \"contour\": [{\"colorbar\": {\"outlinewidth\": 0, \"ticks\": \"\"}, \"colorscale\": [[0.0, \"#0d0887\"], [0.1111111111111111, \"#46039f\"], [0.2222222222222222, \"#7201a8\"], [0.3333333333333333, \"#9c179e\"], [0.4444444444444444, \"#bd3786\"], [0.5555555555555556, \"#d8576b\"], [0.6666666666666666, \"#ed7953\"], [0.7777777777777778, \"#fb9f3a\"], [0.8888888888888888, \"#fdca26\"], [1.0, \"#f0f921\"]], \"type\": \"contour\"}], \"contourcarpet\": [{\"colorbar\": {\"outlinewidth\": 0, \"ticks\": \"\"}, \"type\": \"contourcarpet\"}], \"heatmap\": [{\"colorbar\": {\"outlinewidth\": 0, \"ticks\": \"\"}, \"colorscale\": [[0.0, \"#0d0887\"], [0.1111111111111111, \"#46039f\"], [0.2222222222222222, \"#7201a8\"], [0.3333333333333333, \"#9c179e\"], [0.4444444444444444, \"#bd3786\"], [0.5555555555555556, \"#d8576b\"], [0.6666666666666666, \"#ed7953\"], [0.7777777777777778, \"#fb9f3a\"], [0.8888888888888888, \"#fdca26\"], [1.0, \"#f0f921\"]], \"type\": \"heatmap\"}], \"heatmapgl\": [{\"colorbar\": {\"outlinewidth\": 0, \"ticks\": \"\"}, \"colorscale\": [[0.0, \"#0d0887\"], [0.1111111111111111, \"#46039f\"], [0.2222222222222222, \"#7201a8\"], [0.3333333333333333, \"#9c179e\"], [0.4444444444444444, \"#bd3786\"], [0.5555555555555556, \"#d8576b\"], [0.6666666666666666, \"#ed7953\"], [0.7777777777777778, \"#fb9f3a\"], [0.8888888888888888, \"#fdca26\"], [1.0, \"#f0f921\"]], \"type\": \"heatmapgl\"}], \"histogram\": [{\"marker\": {\"colorbar\": {\"outlinewidth\": 0, \"ticks\": \"\"}}, \"type\": \"histogram\"}], \"histogram2d\": [{\"colorbar\": {\"outlinewidth\": 0, \"ticks\": \"\"}, \"colorscale\": [[0.0, \"#0d0887\"], [0.1111111111111111, \"#46039f\"], [0.2222222222222222, \"#7201a8\"], [0.3333333333333333, \"#9c179e\"], [0.4444444444444444, \"#bd3786\"], [0.5555555555555556, \"#d8576b\"], [0.6666666666666666, \"#ed7953\"], [0.7777777777777778, \"#fb9f3a\"], [0.8888888888888888, \"#fdca26\"], [1.0, \"#f0f921\"]], \"type\": \"histogram2d\"}], \"histogram2dcontour\": [{\"colorbar\": {\"outlinewidth\": 0, \"ticks\": \"\"}, \"colorscale\": [[0.0, \"#0d0887\"], [0.1111111111111111, \"#46039f\"], [0.2222222222222222, \"#7201a8\"], [0.3333333333333333, \"#9c179e\"], [0.4444444444444444, \"#bd3786\"], [0.5555555555555556, \"#d8576b\"], [0.6666666666666666, \"#ed7953\"], [0.7777777777777778, \"#fb9f3a\"], [0.8888888888888888, \"#fdca26\"], [1.0, \"#f0f921\"]], \"type\": \"histogram2dcontour\"}], \"mesh3d\": [{\"colorbar\": {\"outlinewidth\": 0, \"ticks\": \"\"}, \"type\": \"mesh3d\"}], \"parcoords\": [{\"line\": {\"colorbar\": {\"outlinewidth\": 0, \"ticks\": \"\"}}, \"type\": \"parcoords\"}], \"pie\": [{\"automargin\": true, \"type\": \"pie\"}], \"scatter\": [{\"marker\": {\"colorbar\": {\"outlinewidth\": 0, \"ticks\": \"\"}}, \"type\": \"scatter\"}], \"scatter3d\": [{\"line\": {\"colorbar\": {\"outlinewidth\": 0, \"ticks\": \"\"}}, \"marker\": {\"colorbar\": {\"outlinewidth\": 0, \"ticks\": \"\"}}, \"type\": \"scatter3d\"}], \"scattercarpet\": [{\"marker\": {\"colorbar\": {\"outlinewidth\": 0, \"ticks\": \"\"}}, \"type\": \"scattercarpet\"}], \"scattergeo\": [{\"marker\": {\"colorbar\": {\"outlinewidth\": 0, \"ticks\": \"\"}}, \"type\": \"scattergeo\"}], \"scattergl\": [{\"marker\": {\"colorbar\": {\"outlinewidth\": 0, \"ticks\": \"\"}}, \"type\": \"scattergl\"}], \"scattermapbox\": [{\"marker\": {\"colorbar\": {\"outlinewidth\": 0, \"ticks\": \"\"}}, \"type\": \"scattermapbox\"}], \"scatterpolar\": [{\"marker\": {\"colorbar\": {\"outlinewidth\": 0, \"ticks\": \"\"}}, \"type\": \"scatterpolar\"}], \"scatterpolargl\": [{\"marker\": {\"colorbar\": {\"outlinewidth\": 0, \"ticks\": \"\"}}, \"type\": \"scatterpolargl\"}], \"scatterternary\": [{\"marker\": {\"colorbar\": {\"outlinewidth\": 0, \"ticks\": \"\"}}, \"type\": \"scatterternary\"}], \"surface\": [{\"colorbar\": {\"outlinewidth\": 0, \"ticks\": \"\"}, \"colorscale\": [[0.0, \"#0d0887\"], [0.1111111111111111, \"#46039f\"], [0.2222222222222222, \"#7201a8\"], [0.3333333333333333, \"#9c179e\"], [0.4444444444444444, \"#bd3786\"], [0.5555555555555556, \"#d8576b\"], [0.6666666666666666, \"#ed7953\"], [0.7777777777777778, \"#fb9f3a\"], [0.8888888888888888, \"#fdca26\"], [1.0, \"#f0f921\"]], \"type\": \"surface\"}], \"table\": [{\"cells\": {\"fill\": {\"color\": \"#EBF0F8\"}, \"line\": {\"color\": \"white\"}}, \"header\": {\"fill\": {\"color\": \"#C8D4E3\"}, \"line\": {\"color\": \"white\"}}, \"type\": \"table\"}]}, \"layout\": {\"annotationdefaults\": {\"arrowcolor\": \"#2a3f5f\", \"arrowhead\": 0, \"arrowwidth\": 1}, \"autotypenumbers\": \"strict\", \"coloraxis\": {\"colorbar\": {\"outlinewidth\": 0, \"ticks\": \"\"}}, \"colorscale\": {\"diverging\": [[0, \"#8e0152\"], [0.1, \"#c51b7d\"], [0.2, \"#de77ae\"], [0.3, \"#f1b6da\"], [0.4, \"#fde0ef\"], [0.5, \"#f7f7f7\"], [0.6, \"#e6f5d0\"], [0.7, \"#b8e186\"], [0.8, \"#7fbc41\"], [0.9, \"#4d9221\"], [1, \"#276419\"]], \"sequential\": [[0.0, \"#0d0887\"], [0.1111111111111111, \"#46039f\"], [0.2222222222222222, \"#7201a8\"], [0.3333333333333333, \"#9c179e\"], [0.4444444444444444, \"#bd3786\"], [0.5555555555555556, \"#d8576b\"], [0.6666666666666666, \"#ed7953\"], [0.7777777777777778, \"#fb9f3a\"], [0.8888888888888888, \"#fdca26\"], [1.0, \"#f0f921\"]], \"sequentialminus\": [[0.0, \"#0d0887\"], [0.1111111111111111, \"#46039f\"], [0.2222222222222222, \"#7201a8\"], [0.3333333333333333, \"#9c179e\"], [0.4444444444444444, \"#bd3786\"], [0.5555555555555556, \"#d8576b\"], [0.6666666666666666, \"#ed7953\"], [0.7777777777777778, \"#fb9f3a\"], [0.8888888888888888, \"#fdca26\"], [1.0, \"#f0f921\"]]}, \"colorway\": [\"#636efa\", \"#EF553B\", \"#00cc96\", \"#ab63fa\", \"#FFA15A\", \"#19d3f3\", \"#FF6692\", \"#B6E880\", \"#FF97FF\", \"#FECB52\"], \"font\": {\"color\": \"#2a3f5f\"}, \"geo\": {\"bgcolor\": \"white\", \"lakecolor\": \"white\", \"landcolor\": \"#E5ECF6\", \"showlakes\": true, \"showland\": true, \"subunitcolor\": \"white\"}, \"hoverlabel\": {\"align\": \"left\"}, \"hovermode\": \"closest\", \"mapbox\": {\"style\": \"light\"}, \"paper_bgcolor\": \"white\", \"plot_bgcolor\": \"#E5ECF6\", \"polar\": {\"angularaxis\": {\"gridcolor\": \"white\", \"linecolor\": \"white\", \"ticks\": \"\"}, \"bgcolor\": \"#E5ECF6\", \"radialaxis\": {\"gridcolor\": \"white\", \"linecolor\": \"white\", \"ticks\": \"\"}}, \"scene\": {\"xaxis\": {\"backgroundcolor\": \"#E5ECF6\", \"gridcolor\": \"white\", \"gridwidth\": 2, \"linecolor\": \"white\", \"showbackground\": true, \"ticks\": \"\", \"zerolinecolor\": \"white\"}, \"yaxis\": {\"backgroundcolor\": \"#E5ECF6\", \"gridcolor\": \"white\", \"gridwidth\": 2, \"linecolor\": \"white\", \"showbackground\": true, \"ticks\": \"\", \"zerolinecolor\": \"white\"}, \"zaxis\": {\"backgroundcolor\": \"#E5ECF6\", \"gridcolor\": \"white\", \"gridwidth\": 2, \"linecolor\": \"white\", \"showbackground\": true, \"ticks\": \"\", \"zerolinecolor\": \"white\"}}, \"shapedefaults\": {\"line\": {\"color\": \"#2a3f5f\"}}, \"ternary\": {\"aaxis\": {\"gridcolor\": \"white\", \"linecolor\": \"white\", \"ticks\": \"\"}, \"baxis\": {\"gridcolor\": \"white\", \"linecolor\": \"white\", \"ticks\": \"\"}, \"bgcolor\": \"#E5ECF6\", \"caxis\": {\"gridcolor\": \"white\", \"linecolor\": \"white\", \"ticks\": \"\"}}, \"title\": {\"x\": 0.05}, \"xaxis\": {\"automargin\": true, \"gridcolor\": \"white\", \"linecolor\": \"white\", \"ticks\": \"\", \"title\": {\"standoff\": 15}, \"zerolinecolor\": \"white\", \"zerolinewidth\": 2}, \"yaxis\": {\"automargin\": true, \"gridcolor\": \"white\", \"linecolor\": \"white\", \"ticks\": \"\", \"title\": {\"standoff\": 15}, \"zerolinecolor\": \"white\", \"zerolinewidth\": 2}}}, \"title\": {\"text\": \"THE PERCENTAGE OF EACH INSTALLS RANGE\"}},                        {\"responsive\": true}                    ).then(function(){\n",
       "                            \n",
       "var gd = document.getElementById('3b1e6e7a-1e5e-4a08-ae92-938d8857a21c');\n",
       "var x = new MutationObserver(function (mutations, observer) {{\n",
       "        var display = window.getComputedStyle(gd).display;\n",
       "        if (!display || display === 'none') {{\n",
       "            console.log([gd, 'removed!']);\n",
       "            Plotly.purge(gd);\n",
       "            observer.disconnect();\n",
       "        }}\n",
       "}});\n",
       "\n",
       "// Listen for the removal of the full notebook cells\n",
       "var notebookContainer = gd.closest('#notebook-container');\n",
       "if (notebookContainer) {{\n",
       "    x.observe(notebookContainer, {childList: true});\n",
       "}}\n",
       "\n",
       "// Listen for the clearing of the current output cell\n",
       "var outputEl = gd.closest('.output');\n",
       "if (outputEl) {{\n",
       "    x.observe(outputEl, {childList: true});\n",
       "}}\n",
       "\n",
       "                        })                };                });            </script>        </div>"
      ]
     },
     "metadata": {},
     "output_type": "display_data"
    }
   ],
   "source": [
    "px.pie(games,names='installs',values=None,title='THE PERCENTAGE OF EACH INSTALLS RANGE')"
   ]
  },
  {
   "cell_type": "code",
   "execution_count": 60,
   "metadata": {},
   "outputs": [],
   "source": [
    "cart= games['category'].value_counts()"
   ]
  },
  {
   "cell_type": "code",
   "execution_count": 171,
   "metadata": {},
   "outputs": [
    {
     "data": {
      "application/vnd.plotly.v1+json": {
       "config": {
        "plotlyServerURL": "https://plot.ly"
       },
       "data": [
        {
         "alignmentgroup": "True",
         "hovertemplate": "CATEGORY=%{x}<br>TOTAL AMOUNT=%{y}<br>category=%{text}<extra></extra>",
         "legendgroup": "GAME CARD",
         "marker": {
          "color": "#636efa"
         },
         "name": "GAME CARD",
         "offsetgroup": "GAME CARD",
         "orientation": "v",
         "showlegend": true,
         "text": [
          122
         ],
         "textposition": "auto",
         "type": "bar",
         "x": [
          "GAME CARD"
         ],
         "xaxis": "x",
         "y": [
          122
         ],
         "yaxis": "y"
        },
        {
         "alignmentgroup": "True",
         "hovertemplate": "CATEGORY=%{x}<br>TOTAL AMOUNT=%{y}<br>category=%{text}<extra></extra>",
         "legendgroup": "GAME WORD",
         "marker": {
          "color": "#EF553B"
         },
         "name": "GAME WORD",
         "offsetgroup": "GAME WORD",
         "orientation": "v",
         "showlegend": true,
         "text": [
          106
         ],
         "textposition": "auto",
         "type": "bar",
         "x": [
          "GAME WORD"
         ],
         "xaxis": "x",
         "y": [
          106
         ],
         "yaxis": "y"
        },
        {
         "alignmentgroup": "True",
         "hovertemplate": "CATEGORY=%{x}<br>TOTAL AMOUNT=%{y}<br>category=%{text}<extra></extra>",
         "legendgroup": "GAME CASUAL",
         "marker": {
          "color": "#00cc96"
         },
         "name": "GAME CASUAL",
         "offsetgroup": "GAME CASUAL",
         "orientation": "v",
         "showlegend": true,
         "text": [
          102
         ],
         "textposition": "auto",
         "type": "bar",
         "x": [
          "GAME CASUAL"
         ],
         "xaxis": "x",
         "y": [
          102
         ],
         "yaxis": "y"
        },
        {
         "alignmentgroup": "True",
         "hovertemplate": "CATEGORY=%{x}<br>TOTAL AMOUNT=%{y}<br>category=%{text}<extra></extra>",
         "legendgroup": "GAME TRIVIA",
         "marker": {
          "color": "#ab63fa"
         },
         "name": "GAME TRIVIA",
         "offsetgroup": "GAME TRIVIA",
         "orientation": "v",
         "showlegend": true,
         "text": [
          100
         ],
         "textposition": "auto",
         "type": "bar",
         "x": [
          "GAME TRIVIA"
         ],
         "xaxis": "x",
         "y": [
          100
         ],
         "yaxis": "y"
        },
        {
         "alignmentgroup": "True",
         "hovertemplate": "CATEGORY=%{x}<br>TOTAL AMOUNT=%{y}<br>category=%{text}<extra></extra>",
         "legendgroup": "GAME BOARD",
         "marker": {
          "color": "#FFA15A"
         },
         "name": "GAME BOARD",
         "offsetgroup": "GAME BOARD",
         "orientation": "v",
         "showlegend": true,
         "text": [
          100
         ],
         "textposition": "auto",
         "type": "bar",
         "x": [
          "GAME BOARD"
         ],
         "xaxis": "x",
         "y": [
          100
         ],
         "yaxis": "y"
        },
        {
         "alignmentgroup": "True",
         "hovertemplate": "CATEGORY=%{x}<br>TOTAL AMOUNT=%{y}<br>category=%{text}<extra></extra>",
         "legendgroup": "GAME PUZZLE",
         "marker": {
          "color": "#19d3f3"
         },
         "name": "GAME PUZZLE",
         "offsetgroup": "GAME PUZZLE",
         "orientation": "v",
         "showlegend": true,
         "text": [
          100
         ],
         "textposition": "auto",
         "type": "bar",
         "x": [
          "GAME PUZZLE"
         ],
         "xaxis": "x",
         "y": [
          100
         ],
         "yaxis": "y"
        },
        {
         "alignmentgroup": "True",
         "hovertemplate": "CATEGORY=%{x}<br>TOTAL AMOUNT=%{y}<br>category=%{text}<extra></extra>",
         "legendgroup": "GAME ACTION",
         "marker": {
          "color": "#FF6692"
         },
         "name": "GAME ACTION",
         "offsetgroup": "GAME ACTION",
         "orientation": "v",
         "showlegend": true,
         "text": [
          100
         ],
         "textposition": "auto",
         "type": "bar",
         "x": [
          "GAME ACTION"
         ],
         "xaxis": "x",
         "y": [
          100
         ],
         "yaxis": "y"
        },
        {
         "alignmentgroup": "True",
         "hovertemplate": "CATEGORY=%{x}<br>TOTAL AMOUNT=%{y}<br>category=%{text}<extra></extra>",
         "legendgroup": "GAME ROLE PLAYING",
         "marker": {
          "color": "#B6E880"
         },
         "name": "GAME ROLE PLAYING",
         "offsetgroup": "GAME ROLE PLAYING",
         "orientation": "v",
         "showlegend": true,
         "text": [
          100
         ],
         "textposition": "auto",
         "type": "bar",
         "x": [
          "GAME ROLE PLAYING"
         ],
         "xaxis": "x",
         "y": [
          100
         ],
         "yaxis": "y"
        },
        {
         "alignmentgroup": "True",
         "hovertemplate": "CATEGORY=%{x}<br>TOTAL AMOUNT=%{y}<br>category=%{text}<extra></extra>",
         "legendgroup": "GAME SIMULATION",
         "marker": {
          "color": "#FF97FF"
         },
         "name": "GAME SIMULATION",
         "offsetgroup": "GAME SIMULATION",
         "orientation": "v",
         "showlegend": true,
         "text": [
          100
         ],
         "textposition": "auto",
         "type": "bar",
         "x": [
          "GAME SIMULATION"
         ],
         "xaxis": "x",
         "y": [
          100
         ],
         "yaxis": "y"
        },
        {
         "alignmentgroup": "True",
         "hovertemplate": "CATEGORY=%{x}<br>TOTAL AMOUNT=%{y}<br>category=%{text}<extra></extra>",
         "legendgroup": "GAME CASINO",
         "marker": {
          "color": "#FECB52"
         },
         "name": "GAME CASINO",
         "offsetgroup": "GAME CASINO",
         "orientation": "v",
         "showlegend": true,
         "text": [
          100
         ],
         "textposition": "auto",
         "type": "bar",
         "x": [
          "GAME CASINO"
         ],
         "xaxis": "x",
         "y": [
          100
         ],
         "yaxis": "y"
        },
        {
         "alignmentgroup": "True",
         "hovertemplate": "CATEGORY=%{x}<br>TOTAL AMOUNT=%{y}<br>category=%{text}<extra></extra>",
         "legendgroup": "GAME SPORTS",
         "marker": {
          "color": "#636efa"
         },
         "name": "GAME SPORTS",
         "offsetgroup": "GAME SPORTS",
         "orientation": "v",
         "showlegend": true,
         "text": [
          100
         ],
         "textposition": "auto",
         "type": "bar",
         "x": [
          "GAME SPORTS"
         ],
         "xaxis": "x",
         "y": [
          100
         ],
         "yaxis": "y"
        },
        {
         "alignmentgroup": "True",
         "hovertemplate": "CATEGORY=%{x}<br>TOTAL AMOUNT=%{y}<br>category=%{text}<extra></extra>",
         "legendgroup": "GAME ADVENTURE",
         "marker": {
          "color": "#EF553B"
         },
         "name": "GAME ADVENTURE",
         "offsetgroup": "GAME ADVENTURE",
         "orientation": "v",
         "showlegend": true,
         "text": [
          100
         ],
         "textposition": "auto",
         "type": "bar",
         "x": [
          "GAME ADVENTURE"
         ],
         "xaxis": "x",
         "y": [
          100
         ],
         "yaxis": "y"
        },
        {
         "alignmentgroup": "True",
         "hovertemplate": "CATEGORY=%{x}<br>TOTAL AMOUNT=%{y}<br>category=%{text}<extra></extra>",
         "legendgroup": "GAME RACING",
         "marker": {
          "color": "#00cc96"
         },
         "name": "GAME RACING",
         "offsetgroup": "GAME RACING",
         "orientation": "v",
         "showlegend": true,
         "text": [
          100
         ],
         "textposition": "auto",
         "type": "bar",
         "x": [
          "GAME RACING"
         ],
         "xaxis": "x",
         "y": [
          100
         ],
         "yaxis": "y"
        },
        {
         "alignmentgroup": "True",
         "hovertemplate": "CATEGORY=%{x}<br>TOTAL AMOUNT=%{y}<br>category=%{text}<extra></extra>",
         "legendgroup": "GAME MUSIC",
         "marker": {
          "color": "#ab63fa"
         },
         "name": "GAME MUSIC",
         "offsetgroup": "GAME MUSIC",
         "orientation": "v",
         "showlegend": true,
         "text": [
          100
         ],
         "textposition": "auto",
         "type": "bar",
         "x": [
          "GAME MUSIC"
         ],
         "xaxis": "x",
         "y": [
          100
         ],
         "yaxis": "y"
        },
        {
         "alignmentgroup": "True",
         "hovertemplate": "CATEGORY=%{x}<br>TOTAL AMOUNT=%{y}<br>category=%{text}<extra></extra>",
         "legendgroup": "GAME STRATEGY",
         "marker": {
          "color": "#FFA15A"
         },
         "name": "GAME STRATEGY",
         "offsetgroup": "GAME STRATEGY",
         "orientation": "v",
         "showlegend": true,
         "text": [
          100
         ],
         "textposition": "auto",
         "type": "bar",
         "x": [
          "GAME STRATEGY"
         ],
         "xaxis": "x",
         "y": [
          100
         ],
         "yaxis": "y"
        },
        {
         "alignmentgroup": "True",
         "hovertemplate": "CATEGORY=%{x}<br>TOTAL AMOUNT=%{y}<br>category=%{text}<extra></extra>",
         "legendgroup": "GAME ARCADE",
         "marker": {
          "color": "#19d3f3"
         },
         "name": "GAME ARCADE",
         "offsetgroup": "GAME ARCADE",
         "orientation": "v",
         "showlegend": true,
         "text": [
          100
         ],
         "textposition": "auto",
         "type": "bar",
         "x": [
          "GAME ARCADE"
         ],
         "xaxis": "x",
         "y": [
          100
         ],
         "yaxis": "y"
        },
        {
         "alignmentgroup": "True",
         "hovertemplate": "CATEGORY=%{x}<br>TOTAL AMOUNT=%{y}<br>category=%{text}<extra></extra>",
         "legendgroup": "GAME FAMILY",
         "marker": {
          "color": "#FF6692"
         },
         "name": "GAME FAMILY",
         "offsetgroup": "GAME FAMILY",
         "orientation": "v",
         "showlegend": true,
         "text": [
          100
         ],
         "textposition": "auto",
         "type": "bar",
         "x": [
          "GAME FAMILY"
         ],
         "xaxis": "x",
         "y": [
          100
         ],
         "yaxis": "y"
        },
        {
         "alignmentgroup": "True",
         "hovertemplate": "CATEGORY=%{x}<br>TOTAL AMOUNT=%{y}<br>category=%{text}<extra></extra>",
         "legendgroup": "GAME EDUCATIONAL",
         "marker": {
          "color": "#B6E880"
         },
         "name": "GAME EDUCATIONAL",
         "offsetgroup": "GAME EDUCATIONAL",
         "orientation": "v",
         "showlegend": true,
         "text": [
          100
         ],
         "textposition": "auto",
         "type": "bar",
         "x": [
          "GAME EDUCATIONAL"
         ],
         "xaxis": "x",
         "y": [
          100
         ],
         "yaxis": "y"
        }
       ],
       "layout": {
        "barmode": "relative",
        "legend": {
         "title": {
          "text": "CATEGORY"
         },
         "tracegroupgap": 0
        },
        "template": {
         "data": {
          "bar": [
           {
            "error_x": {
             "color": "#2a3f5f"
            },
            "error_y": {
             "color": "#2a3f5f"
            },
            "marker": {
             "line": {
              "color": "#E5ECF6",
              "width": 0.5
             }
            },
            "type": "bar"
           }
          ],
          "barpolar": [
           {
            "marker": {
             "line": {
              "color": "#E5ECF6",
              "width": 0.5
             }
            },
            "type": "barpolar"
           }
          ],
          "carpet": [
           {
            "aaxis": {
             "endlinecolor": "#2a3f5f",
             "gridcolor": "white",
             "linecolor": "white",
             "minorgridcolor": "white",
             "startlinecolor": "#2a3f5f"
            },
            "baxis": {
             "endlinecolor": "#2a3f5f",
             "gridcolor": "white",
             "linecolor": "white",
             "minorgridcolor": "white",
             "startlinecolor": "#2a3f5f"
            },
            "type": "carpet"
           }
          ],
          "choropleth": [
           {
            "colorbar": {
             "outlinewidth": 0,
             "ticks": ""
            },
            "type": "choropleth"
           }
          ],
          "contour": [
           {
            "colorbar": {
             "outlinewidth": 0,
             "ticks": ""
            },
            "colorscale": [
             [
              0,
              "#0d0887"
             ],
             [
              0.1111111111111111,
              "#46039f"
             ],
             [
              0.2222222222222222,
              "#7201a8"
             ],
             [
              0.3333333333333333,
              "#9c179e"
             ],
             [
              0.4444444444444444,
              "#bd3786"
             ],
             [
              0.5555555555555556,
              "#d8576b"
             ],
             [
              0.6666666666666666,
              "#ed7953"
             ],
             [
              0.7777777777777778,
              "#fb9f3a"
             ],
             [
              0.8888888888888888,
              "#fdca26"
             ],
             [
              1,
              "#f0f921"
             ]
            ],
            "type": "contour"
           }
          ],
          "contourcarpet": [
           {
            "colorbar": {
             "outlinewidth": 0,
             "ticks": ""
            },
            "type": "contourcarpet"
           }
          ],
          "heatmap": [
           {
            "colorbar": {
             "outlinewidth": 0,
             "ticks": ""
            },
            "colorscale": [
             [
              0,
              "#0d0887"
             ],
             [
              0.1111111111111111,
              "#46039f"
             ],
             [
              0.2222222222222222,
              "#7201a8"
             ],
             [
              0.3333333333333333,
              "#9c179e"
             ],
             [
              0.4444444444444444,
              "#bd3786"
             ],
             [
              0.5555555555555556,
              "#d8576b"
             ],
             [
              0.6666666666666666,
              "#ed7953"
             ],
             [
              0.7777777777777778,
              "#fb9f3a"
             ],
             [
              0.8888888888888888,
              "#fdca26"
             ],
             [
              1,
              "#f0f921"
             ]
            ],
            "type": "heatmap"
           }
          ],
          "heatmapgl": [
           {
            "colorbar": {
             "outlinewidth": 0,
             "ticks": ""
            },
            "colorscale": [
             [
              0,
              "#0d0887"
             ],
             [
              0.1111111111111111,
              "#46039f"
             ],
             [
              0.2222222222222222,
              "#7201a8"
             ],
             [
              0.3333333333333333,
              "#9c179e"
             ],
             [
              0.4444444444444444,
              "#bd3786"
             ],
             [
              0.5555555555555556,
              "#d8576b"
             ],
             [
              0.6666666666666666,
              "#ed7953"
             ],
             [
              0.7777777777777778,
              "#fb9f3a"
             ],
             [
              0.8888888888888888,
              "#fdca26"
             ],
             [
              1,
              "#f0f921"
             ]
            ],
            "type": "heatmapgl"
           }
          ],
          "histogram": [
           {
            "marker": {
             "colorbar": {
              "outlinewidth": 0,
              "ticks": ""
             }
            },
            "type": "histogram"
           }
          ],
          "histogram2d": [
           {
            "colorbar": {
             "outlinewidth": 0,
             "ticks": ""
            },
            "colorscale": [
             [
              0,
              "#0d0887"
             ],
             [
              0.1111111111111111,
              "#46039f"
             ],
             [
              0.2222222222222222,
              "#7201a8"
             ],
             [
              0.3333333333333333,
              "#9c179e"
             ],
             [
              0.4444444444444444,
              "#bd3786"
             ],
             [
              0.5555555555555556,
              "#d8576b"
             ],
             [
              0.6666666666666666,
              "#ed7953"
             ],
             [
              0.7777777777777778,
              "#fb9f3a"
             ],
             [
              0.8888888888888888,
              "#fdca26"
             ],
             [
              1,
              "#f0f921"
             ]
            ],
            "type": "histogram2d"
           }
          ],
          "histogram2dcontour": [
           {
            "colorbar": {
             "outlinewidth": 0,
             "ticks": ""
            },
            "colorscale": [
             [
              0,
              "#0d0887"
             ],
             [
              0.1111111111111111,
              "#46039f"
             ],
             [
              0.2222222222222222,
              "#7201a8"
             ],
             [
              0.3333333333333333,
              "#9c179e"
             ],
             [
              0.4444444444444444,
              "#bd3786"
             ],
             [
              0.5555555555555556,
              "#d8576b"
             ],
             [
              0.6666666666666666,
              "#ed7953"
             ],
             [
              0.7777777777777778,
              "#fb9f3a"
             ],
             [
              0.8888888888888888,
              "#fdca26"
             ],
             [
              1,
              "#f0f921"
             ]
            ],
            "type": "histogram2dcontour"
           }
          ],
          "mesh3d": [
           {
            "colorbar": {
             "outlinewidth": 0,
             "ticks": ""
            },
            "type": "mesh3d"
           }
          ],
          "parcoords": [
           {
            "line": {
             "colorbar": {
              "outlinewidth": 0,
              "ticks": ""
             }
            },
            "type": "parcoords"
           }
          ],
          "pie": [
           {
            "automargin": true,
            "type": "pie"
           }
          ],
          "scatter": [
           {
            "marker": {
             "colorbar": {
              "outlinewidth": 0,
              "ticks": ""
             }
            },
            "type": "scatter"
           }
          ],
          "scatter3d": [
           {
            "line": {
             "colorbar": {
              "outlinewidth": 0,
              "ticks": ""
             }
            },
            "marker": {
             "colorbar": {
              "outlinewidth": 0,
              "ticks": ""
             }
            },
            "type": "scatter3d"
           }
          ],
          "scattercarpet": [
           {
            "marker": {
             "colorbar": {
              "outlinewidth": 0,
              "ticks": ""
             }
            },
            "type": "scattercarpet"
           }
          ],
          "scattergeo": [
           {
            "marker": {
             "colorbar": {
              "outlinewidth": 0,
              "ticks": ""
             }
            },
            "type": "scattergeo"
           }
          ],
          "scattergl": [
           {
            "marker": {
             "colorbar": {
              "outlinewidth": 0,
              "ticks": ""
             }
            },
            "type": "scattergl"
           }
          ],
          "scattermapbox": [
           {
            "marker": {
             "colorbar": {
              "outlinewidth": 0,
              "ticks": ""
             }
            },
            "type": "scattermapbox"
           }
          ],
          "scatterpolar": [
           {
            "marker": {
             "colorbar": {
              "outlinewidth": 0,
              "ticks": ""
             }
            },
            "type": "scatterpolar"
           }
          ],
          "scatterpolargl": [
           {
            "marker": {
             "colorbar": {
              "outlinewidth": 0,
              "ticks": ""
             }
            },
            "type": "scatterpolargl"
           }
          ],
          "scatterternary": [
           {
            "marker": {
             "colorbar": {
              "outlinewidth": 0,
              "ticks": ""
             }
            },
            "type": "scatterternary"
           }
          ],
          "surface": [
           {
            "colorbar": {
             "outlinewidth": 0,
             "ticks": ""
            },
            "colorscale": [
             [
              0,
              "#0d0887"
             ],
             [
              0.1111111111111111,
              "#46039f"
             ],
             [
              0.2222222222222222,
              "#7201a8"
             ],
             [
              0.3333333333333333,
              "#9c179e"
             ],
             [
              0.4444444444444444,
              "#bd3786"
             ],
             [
              0.5555555555555556,
              "#d8576b"
             ],
             [
              0.6666666666666666,
              "#ed7953"
             ],
             [
              0.7777777777777778,
              "#fb9f3a"
             ],
             [
              0.8888888888888888,
              "#fdca26"
             ],
             [
              1,
              "#f0f921"
             ]
            ],
            "type": "surface"
           }
          ],
          "table": [
           {
            "cells": {
             "fill": {
              "color": "#EBF0F8"
             },
             "line": {
              "color": "white"
             }
            },
            "header": {
             "fill": {
              "color": "#C8D4E3"
             },
             "line": {
              "color": "white"
             }
            },
            "type": "table"
           }
          ]
         },
         "layout": {
          "annotationdefaults": {
           "arrowcolor": "#2a3f5f",
           "arrowhead": 0,
           "arrowwidth": 1
          },
          "autotypenumbers": "strict",
          "coloraxis": {
           "colorbar": {
            "outlinewidth": 0,
            "ticks": ""
           }
          },
          "colorscale": {
           "diverging": [
            [
             0,
             "#8e0152"
            ],
            [
             0.1,
             "#c51b7d"
            ],
            [
             0.2,
             "#de77ae"
            ],
            [
             0.3,
             "#f1b6da"
            ],
            [
             0.4,
             "#fde0ef"
            ],
            [
             0.5,
             "#f7f7f7"
            ],
            [
             0.6,
             "#e6f5d0"
            ],
            [
             0.7,
             "#b8e186"
            ],
            [
             0.8,
             "#7fbc41"
            ],
            [
             0.9,
             "#4d9221"
            ],
            [
             1,
             "#276419"
            ]
           ],
           "sequential": [
            [
             0,
             "#0d0887"
            ],
            [
             0.1111111111111111,
             "#46039f"
            ],
            [
             0.2222222222222222,
             "#7201a8"
            ],
            [
             0.3333333333333333,
             "#9c179e"
            ],
            [
             0.4444444444444444,
             "#bd3786"
            ],
            [
             0.5555555555555556,
             "#d8576b"
            ],
            [
             0.6666666666666666,
             "#ed7953"
            ],
            [
             0.7777777777777778,
             "#fb9f3a"
            ],
            [
             0.8888888888888888,
             "#fdca26"
            ],
            [
             1,
             "#f0f921"
            ]
           ],
           "sequentialminus": [
            [
             0,
             "#0d0887"
            ],
            [
             0.1111111111111111,
             "#46039f"
            ],
            [
             0.2222222222222222,
             "#7201a8"
            ],
            [
             0.3333333333333333,
             "#9c179e"
            ],
            [
             0.4444444444444444,
             "#bd3786"
            ],
            [
             0.5555555555555556,
             "#d8576b"
            ],
            [
             0.6666666666666666,
             "#ed7953"
            ],
            [
             0.7777777777777778,
             "#fb9f3a"
            ],
            [
             0.8888888888888888,
             "#fdca26"
            ],
            [
             1,
             "#f0f921"
            ]
           ]
          },
          "colorway": [
           "#636efa",
           "#EF553B",
           "#00cc96",
           "#ab63fa",
           "#FFA15A",
           "#19d3f3",
           "#FF6692",
           "#B6E880",
           "#FF97FF",
           "#FECB52"
          ],
          "font": {
           "color": "#2a3f5f"
          },
          "geo": {
           "bgcolor": "white",
           "lakecolor": "white",
           "landcolor": "#E5ECF6",
           "showlakes": true,
           "showland": true,
           "subunitcolor": "white"
          },
          "hoverlabel": {
           "align": "left"
          },
          "hovermode": "closest",
          "mapbox": {
           "style": "light"
          },
          "paper_bgcolor": "white",
          "plot_bgcolor": "#E5ECF6",
          "polar": {
           "angularaxis": {
            "gridcolor": "white",
            "linecolor": "white",
            "ticks": ""
           },
           "bgcolor": "#E5ECF6",
           "radialaxis": {
            "gridcolor": "white",
            "linecolor": "white",
            "ticks": ""
           }
          },
          "scene": {
           "xaxis": {
            "backgroundcolor": "#E5ECF6",
            "gridcolor": "white",
            "gridwidth": 2,
            "linecolor": "white",
            "showbackground": true,
            "ticks": "",
            "zerolinecolor": "white"
           },
           "yaxis": {
            "backgroundcolor": "#E5ECF6",
            "gridcolor": "white",
            "gridwidth": 2,
            "linecolor": "white",
            "showbackground": true,
            "ticks": "",
            "zerolinecolor": "white"
           },
           "zaxis": {
            "backgroundcolor": "#E5ECF6",
            "gridcolor": "white",
            "gridwidth": 2,
            "linecolor": "white",
            "showbackground": true,
            "ticks": "",
            "zerolinecolor": "white"
           }
          },
          "shapedefaults": {
           "line": {
            "color": "#2a3f5f"
           }
          },
          "ternary": {
           "aaxis": {
            "gridcolor": "white",
            "linecolor": "white",
            "ticks": ""
           },
           "baxis": {
            "gridcolor": "white",
            "linecolor": "white",
            "ticks": ""
           },
           "bgcolor": "#E5ECF6",
           "caxis": {
            "gridcolor": "white",
            "linecolor": "white",
            "ticks": ""
           }
          },
          "title": {
           "x": 0.05
          },
          "xaxis": {
           "automargin": true,
           "gridcolor": "white",
           "linecolor": "white",
           "ticks": "",
           "title": {
            "standoff": 15
           },
           "zerolinecolor": "white",
           "zerolinewidth": 2
          },
          "yaxis": {
           "automargin": true,
           "gridcolor": "white",
           "linecolor": "white",
           "ticks": "",
           "title": {
            "standoff": 15
           },
           "zerolinecolor": "white",
           "zerolinewidth": 2
          }
         }
        },
        "title": {
         "text": "THE TOTAL AMOUNT FOR EACH ANDRIOD GAMES CATEGORY"
        },
        "xaxis": {
         "anchor": "y",
         "categoryarray": [
          "GAME CARD",
          "GAME WORD",
          "GAME CASUAL",
          "GAME TRIVIA",
          "GAME BOARD",
          "GAME PUZZLE",
          "GAME ACTION",
          "GAME ROLE PLAYING",
          "GAME SIMULATION",
          "GAME CASINO",
          "GAME SPORTS",
          "GAME ADVENTURE",
          "GAME RACING",
          "GAME MUSIC",
          "GAME STRATEGY",
          "GAME ARCADE",
          "GAME FAMILY",
          "GAME EDUCATIONAL"
         ],
         "categoryorder": "array",
         "domain": [
          0,
          1
         ],
         "title": {
          "text": "CATEGORY"
         }
        },
        "yaxis": {
         "anchor": "x",
         "domain": [
          0,
          1
         ],
         "title": {
          "text": "TOTAL AMOUNT"
         }
        }
       }
      },
      "text/html": [
       "<div>                            <div id=\"2395741a-34f0-4cf3-a772-28bfa10bfcba\" class=\"plotly-graph-div\" style=\"height:525px; width:100%;\"></div>            <script type=\"text/javascript\">                require([\"plotly\"], function(Plotly) {                    window.PLOTLYENV=window.PLOTLYENV || {};                                    if (document.getElementById(\"2395741a-34f0-4cf3-a772-28bfa10bfcba\")) {                    Plotly.newPlot(                        \"2395741a-34f0-4cf3-a772-28bfa10bfcba\",                        [{\"alignmentgroup\": \"True\", \"hovertemplate\": \"CATEGORY=%{x}<br>TOTAL AMOUNT=%{y}<br>category=%{text}<extra></extra>\", \"legendgroup\": \"GAME CARD\", \"marker\": {\"color\": \"#636efa\"}, \"name\": \"GAME CARD\", \"offsetgroup\": \"GAME CARD\", \"orientation\": \"v\", \"showlegend\": true, \"text\": [122.0], \"textposition\": \"auto\", \"type\": \"bar\", \"x\": [\"GAME CARD\"], \"xaxis\": \"x\", \"y\": [122], \"yaxis\": \"y\"}, {\"alignmentgroup\": \"True\", \"hovertemplate\": \"CATEGORY=%{x}<br>TOTAL AMOUNT=%{y}<br>category=%{text}<extra></extra>\", \"legendgroup\": \"GAME WORD\", \"marker\": {\"color\": \"#EF553B\"}, \"name\": \"GAME WORD\", \"offsetgroup\": \"GAME WORD\", \"orientation\": \"v\", \"showlegend\": true, \"text\": [106.0], \"textposition\": \"auto\", \"type\": \"bar\", \"x\": [\"GAME WORD\"], \"xaxis\": \"x\", \"y\": [106], \"yaxis\": \"y\"}, {\"alignmentgroup\": \"True\", \"hovertemplate\": \"CATEGORY=%{x}<br>TOTAL AMOUNT=%{y}<br>category=%{text}<extra></extra>\", \"legendgroup\": \"GAME CASUAL\", \"marker\": {\"color\": \"#00cc96\"}, \"name\": \"GAME CASUAL\", \"offsetgroup\": \"GAME CASUAL\", \"orientation\": \"v\", \"showlegend\": true, \"text\": [102.0], \"textposition\": \"auto\", \"type\": \"bar\", \"x\": [\"GAME CASUAL\"], \"xaxis\": \"x\", \"y\": [102], \"yaxis\": \"y\"}, {\"alignmentgroup\": \"True\", \"hovertemplate\": \"CATEGORY=%{x}<br>TOTAL AMOUNT=%{y}<br>category=%{text}<extra></extra>\", \"legendgroup\": \"GAME TRIVIA\", \"marker\": {\"color\": \"#ab63fa\"}, \"name\": \"GAME TRIVIA\", \"offsetgroup\": \"GAME TRIVIA\", \"orientation\": \"v\", \"showlegend\": true, \"text\": [100.0], \"textposition\": \"auto\", \"type\": \"bar\", \"x\": [\"GAME TRIVIA\"], \"xaxis\": \"x\", \"y\": [100], \"yaxis\": \"y\"}, {\"alignmentgroup\": \"True\", \"hovertemplate\": \"CATEGORY=%{x}<br>TOTAL AMOUNT=%{y}<br>category=%{text}<extra></extra>\", \"legendgroup\": \"GAME BOARD\", \"marker\": {\"color\": \"#FFA15A\"}, \"name\": \"GAME BOARD\", \"offsetgroup\": \"GAME BOARD\", \"orientation\": \"v\", \"showlegend\": true, \"text\": [100.0], \"textposition\": \"auto\", \"type\": \"bar\", \"x\": [\"GAME BOARD\"], \"xaxis\": \"x\", \"y\": [100], \"yaxis\": \"y\"}, {\"alignmentgroup\": \"True\", \"hovertemplate\": \"CATEGORY=%{x}<br>TOTAL AMOUNT=%{y}<br>category=%{text}<extra></extra>\", \"legendgroup\": \"GAME PUZZLE\", \"marker\": {\"color\": \"#19d3f3\"}, \"name\": \"GAME PUZZLE\", \"offsetgroup\": \"GAME PUZZLE\", \"orientation\": \"v\", \"showlegend\": true, \"text\": [100.0], \"textposition\": \"auto\", \"type\": \"bar\", \"x\": [\"GAME PUZZLE\"], \"xaxis\": \"x\", \"y\": [100], \"yaxis\": \"y\"}, {\"alignmentgroup\": \"True\", \"hovertemplate\": \"CATEGORY=%{x}<br>TOTAL AMOUNT=%{y}<br>category=%{text}<extra></extra>\", \"legendgroup\": \"GAME ACTION\", \"marker\": {\"color\": \"#FF6692\"}, \"name\": \"GAME ACTION\", \"offsetgroup\": \"GAME ACTION\", \"orientation\": \"v\", \"showlegend\": true, \"text\": [100.0], \"textposition\": \"auto\", \"type\": \"bar\", \"x\": [\"GAME ACTION\"], \"xaxis\": \"x\", \"y\": [100], \"yaxis\": \"y\"}, {\"alignmentgroup\": \"True\", \"hovertemplate\": \"CATEGORY=%{x}<br>TOTAL AMOUNT=%{y}<br>category=%{text}<extra></extra>\", \"legendgroup\": \"GAME ROLE PLAYING\", \"marker\": {\"color\": \"#B6E880\"}, \"name\": \"GAME ROLE PLAYING\", \"offsetgroup\": \"GAME ROLE PLAYING\", \"orientation\": \"v\", \"showlegend\": true, \"text\": [100.0], \"textposition\": \"auto\", \"type\": \"bar\", \"x\": [\"GAME ROLE PLAYING\"], \"xaxis\": \"x\", \"y\": [100], \"yaxis\": \"y\"}, {\"alignmentgroup\": \"True\", \"hovertemplate\": \"CATEGORY=%{x}<br>TOTAL AMOUNT=%{y}<br>category=%{text}<extra></extra>\", \"legendgroup\": \"GAME SIMULATION\", \"marker\": {\"color\": \"#FF97FF\"}, \"name\": \"GAME SIMULATION\", \"offsetgroup\": \"GAME SIMULATION\", \"orientation\": \"v\", \"showlegend\": true, \"text\": [100.0], \"textposition\": \"auto\", \"type\": \"bar\", \"x\": [\"GAME SIMULATION\"], \"xaxis\": \"x\", \"y\": [100], \"yaxis\": \"y\"}, {\"alignmentgroup\": \"True\", \"hovertemplate\": \"CATEGORY=%{x}<br>TOTAL AMOUNT=%{y}<br>category=%{text}<extra></extra>\", \"legendgroup\": \"GAME CASINO\", \"marker\": {\"color\": \"#FECB52\"}, \"name\": \"GAME CASINO\", \"offsetgroup\": \"GAME CASINO\", \"orientation\": \"v\", \"showlegend\": true, \"text\": [100.0], \"textposition\": \"auto\", \"type\": \"bar\", \"x\": [\"GAME CASINO\"], \"xaxis\": \"x\", \"y\": [100], \"yaxis\": \"y\"}, {\"alignmentgroup\": \"True\", \"hovertemplate\": \"CATEGORY=%{x}<br>TOTAL AMOUNT=%{y}<br>category=%{text}<extra></extra>\", \"legendgroup\": \"GAME SPORTS\", \"marker\": {\"color\": \"#636efa\"}, \"name\": \"GAME SPORTS\", \"offsetgroup\": \"GAME SPORTS\", \"orientation\": \"v\", \"showlegend\": true, \"text\": [100.0], \"textposition\": \"auto\", \"type\": \"bar\", \"x\": [\"GAME SPORTS\"], \"xaxis\": \"x\", \"y\": [100], \"yaxis\": \"y\"}, {\"alignmentgroup\": \"True\", \"hovertemplate\": \"CATEGORY=%{x}<br>TOTAL AMOUNT=%{y}<br>category=%{text}<extra></extra>\", \"legendgroup\": \"GAME ADVENTURE\", \"marker\": {\"color\": \"#EF553B\"}, \"name\": \"GAME ADVENTURE\", \"offsetgroup\": \"GAME ADVENTURE\", \"orientation\": \"v\", \"showlegend\": true, \"text\": [100.0], \"textposition\": \"auto\", \"type\": \"bar\", \"x\": [\"GAME ADVENTURE\"], \"xaxis\": \"x\", \"y\": [100], \"yaxis\": \"y\"}, {\"alignmentgroup\": \"True\", \"hovertemplate\": \"CATEGORY=%{x}<br>TOTAL AMOUNT=%{y}<br>category=%{text}<extra></extra>\", \"legendgroup\": \"GAME RACING\", \"marker\": {\"color\": \"#00cc96\"}, \"name\": \"GAME RACING\", \"offsetgroup\": \"GAME RACING\", \"orientation\": \"v\", \"showlegend\": true, \"text\": [100.0], \"textposition\": \"auto\", \"type\": \"bar\", \"x\": [\"GAME RACING\"], \"xaxis\": \"x\", \"y\": [100], \"yaxis\": \"y\"}, {\"alignmentgroup\": \"True\", \"hovertemplate\": \"CATEGORY=%{x}<br>TOTAL AMOUNT=%{y}<br>category=%{text}<extra></extra>\", \"legendgroup\": \"GAME MUSIC\", \"marker\": {\"color\": \"#ab63fa\"}, \"name\": \"GAME MUSIC\", \"offsetgroup\": \"GAME MUSIC\", \"orientation\": \"v\", \"showlegend\": true, \"text\": [100.0], \"textposition\": \"auto\", \"type\": \"bar\", \"x\": [\"GAME MUSIC\"], \"xaxis\": \"x\", \"y\": [100], \"yaxis\": \"y\"}, {\"alignmentgroup\": \"True\", \"hovertemplate\": \"CATEGORY=%{x}<br>TOTAL AMOUNT=%{y}<br>category=%{text}<extra></extra>\", \"legendgroup\": \"GAME STRATEGY\", \"marker\": {\"color\": \"#FFA15A\"}, \"name\": \"GAME STRATEGY\", \"offsetgroup\": \"GAME STRATEGY\", \"orientation\": \"v\", \"showlegend\": true, \"text\": [100.0], \"textposition\": \"auto\", \"type\": \"bar\", \"x\": [\"GAME STRATEGY\"], \"xaxis\": \"x\", \"y\": [100], \"yaxis\": \"y\"}, {\"alignmentgroup\": \"True\", \"hovertemplate\": \"CATEGORY=%{x}<br>TOTAL AMOUNT=%{y}<br>category=%{text}<extra></extra>\", \"legendgroup\": \"GAME ARCADE\", \"marker\": {\"color\": \"#19d3f3\"}, \"name\": \"GAME ARCADE\", \"offsetgroup\": \"GAME ARCADE\", \"orientation\": \"v\", \"showlegend\": true, \"text\": [100.0], \"textposition\": \"auto\", \"type\": \"bar\", \"x\": [\"GAME ARCADE\"], \"xaxis\": \"x\", \"y\": [100], \"yaxis\": \"y\"}, {\"alignmentgroup\": \"True\", \"hovertemplate\": \"CATEGORY=%{x}<br>TOTAL AMOUNT=%{y}<br>category=%{text}<extra></extra>\", \"legendgroup\": \"GAME FAMILY\", \"marker\": {\"color\": \"#FF6692\"}, \"name\": \"GAME FAMILY\", \"offsetgroup\": \"GAME FAMILY\", \"orientation\": \"v\", \"showlegend\": true, \"text\": [100.0], \"textposition\": \"auto\", \"type\": \"bar\", \"x\": [\"GAME FAMILY\"], \"xaxis\": \"x\", \"y\": [100], \"yaxis\": \"y\"}, {\"alignmentgroup\": \"True\", \"hovertemplate\": \"CATEGORY=%{x}<br>TOTAL AMOUNT=%{y}<br>category=%{text}<extra></extra>\", \"legendgroup\": \"GAME EDUCATIONAL\", \"marker\": {\"color\": \"#B6E880\"}, \"name\": \"GAME EDUCATIONAL\", \"offsetgroup\": \"GAME EDUCATIONAL\", \"orientation\": \"v\", \"showlegend\": true, \"text\": [100.0], \"textposition\": \"auto\", \"type\": \"bar\", \"x\": [\"GAME EDUCATIONAL\"], \"xaxis\": \"x\", \"y\": [100], \"yaxis\": \"y\"}],                        {\"barmode\": \"relative\", \"legend\": {\"title\": {\"text\": \"CATEGORY\"}, \"tracegroupgap\": 0}, \"template\": {\"data\": {\"bar\": [{\"error_x\": {\"color\": \"#2a3f5f\"}, \"error_y\": {\"color\": \"#2a3f5f\"}, \"marker\": {\"line\": {\"color\": \"#E5ECF6\", \"width\": 0.5}}, \"type\": \"bar\"}], \"barpolar\": [{\"marker\": {\"line\": {\"color\": \"#E5ECF6\", \"width\": 0.5}}, \"type\": \"barpolar\"}], \"carpet\": [{\"aaxis\": {\"endlinecolor\": \"#2a3f5f\", \"gridcolor\": \"white\", \"linecolor\": \"white\", \"minorgridcolor\": \"white\", \"startlinecolor\": \"#2a3f5f\"}, \"baxis\": {\"endlinecolor\": \"#2a3f5f\", \"gridcolor\": \"white\", \"linecolor\": \"white\", \"minorgridcolor\": \"white\", \"startlinecolor\": \"#2a3f5f\"}, \"type\": \"carpet\"}], \"choropleth\": [{\"colorbar\": {\"outlinewidth\": 0, \"ticks\": \"\"}, \"type\": \"choropleth\"}], \"contour\": [{\"colorbar\": {\"outlinewidth\": 0, \"ticks\": \"\"}, \"colorscale\": [[0.0, \"#0d0887\"], [0.1111111111111111, \"#46039f\"], [0.2222222222222222, \"#7201a8\"], [0.3333333333333333, \"#9c179e\"], [0.4444444444444444, \"#bd3786\"], [0.5555555555555556, \"#d8576b\"], [0.6666666666666666, \"#ed7953\"], [0.7777777777777778, \"#fb9f3a\"], [0.8888888888888888, \"#fdca26\"], [1.0, \"#f0f921\"]], \"type\": \"contour\"}], \"contourcarpet\": [{\"colorbar\": {\"outlinewidth\": 0, \"ticks\": \"\"}, \"type\": \"contourcarpet\"}], \"heatmap\": [{\"colorbar\": {\"outlinewidth\": 0, \"ticks\": \"\"}, \"colorscale\": [[0.0, \"#0d0887\"], [0.1111111111111111, \"#46039f\"], [0.2222222222222222, \"#7201a8\"], [0.3333333333333333, \"#9c179e\"], [0.4444444444444444, \"#bd3786\"], [0.5555555555555556, \"#d8576b\"], [0.6666666666666666, \"#ed7953\"], [0.7777777777777778, \"#fb9f3a\"], [0.8888888888888888, \"#fdca26\"], [1.0, \"#f0f921\"]], \"type\": \"heatmap\"}], \"heatmapgl\": [{\"colorbar\": {\"outlinewidth\": 0, \"ticks\": \"\"}, \"colorscale\": [[0.0, \"#0d0887\"], [0.1111111111111111, \"#46039f\"], [0.2222222222222222, \"#7201a8\"], [0.3333333333333333, \"#9c179e\"], [0.4444444444444444, \"#bd3786\"], [0.5555555555555556, \"#d8576b\"], [0.6666666666666666, \"#ed7953\"], [0.7777777777777778, \"#fb9f3a\"], [0.8888888888888888, \"#fdca26\"], [1.0, \"#f0f921\"]], \"type\": \"heatmapgl\"}], \"histogram\": [{\"marker\": {\"colorbar\": {\"outlinewidth\": 0, \"ticks\": \"\"}}, \"type\": \"histogram\"}], \"histogram2d\": [{\"colorbar\": {\"outlinewidth\": 0, \"ticks\": \"\"}, \"colorscale\": [[0.0, \"#0d0887\"], [0.1111111111111111, \"#46039f\"], [0.2222222222222222, \"#7201a8\"], [0.3333333333333333, \"#9c179e\"], [0.4444444444444444, \"#bd3786\"], [0.5555555555555556, \"#d8576b\"], [0.6666666666666666, \"#ed7953\"], [0.7777777777777778, \"#fb9f3a\"], [0.8888888888888888, \"#fdca26\"], [1.0, \"#f0f921\"]], \"type\": \"histogram2d\"}], \"histogram2dcontour\": [{\"colorbar\": {\"outlinewidth\": 0, \"ticks\": \"\"}, \"colorscale\": [[0.0, \"#0d0887\"], [0.1111111111111111, \"#46039f\"], [0.2222222222222222, \"#7201a8\"], [0.3333333333333333, \"#9c179e\"], [0.4444444444444444, \"#bd3786\"], [0.5555555555555556, \"#d8576b\"], [0.6666666666666666, \"#ed7953\"], [0.7777777777777778, \"#fb9f3a\"], [0.8888888888888888, \"#fdca26\"], [1.0, \"#f0f921\"]], \"type\": \"histogram2dcontour\"}], \"mesh3d\": [{\"colorbar\": {\"outlinewidth\": 0, \"ticks\": \"\"}, \"type\": \"mesh3d\"}], \"parcoords\": [{\"line\": {\"colorbar\": {\"outlinewidth\": 0, \"ticks\": \"\"}}, \"type\": \"parcoords\"}], \"pie\": [{\"automargin\": true, \"type\": \"pie\"}], \"scatter\": [{\"marker\": {\"colorbar\": {\"outlinewidth\": 0, \"ticks\": \"\"}}, \"type\": \"scatter\"}], \"scatter3d\": [{\"line\": {\"colorbar\": {\"outlinewidth\": 0, \"ticks\": \"\"}}, \"marker\": {\"colorbar\": {\"outlinewidth\": 0, \"ticks\": \"\"}}, \"type\": \"scatter3d\"}], \"scattercarpet\": [{\"marker\": {\"colorbar\": {\"outlinewidth\": 0, \"ticks\": \"\"}}, \"type\": \"scattercarpet\"}], \"scattergeo\": [{\"marker\": {\"colorbar\": {\"outlinewidth\": 0, \"ticks\": \"\"}}, \"type\": \"scattergeo\"}], \"scattergl\": [{\"marker\": {\"colorbar\": {\"outlinewidth\": 0, \"ticks\": \"\"}}, \"type\": \"scattergl\"}], \"scattermapbox\": [{\"marker\": {\"colorbar\": {\"outlinewidth\": 0, \"ticks\": \"\"}}, \"type\": \"scattermapbox\"}], \"scatterpolar\": [{\"marker\": {\"colorbar\": {\"outlinewidth\": 0, \"ticks\": \"\"}}, \"type\": \"scatterpolar\"}], \"scatterpolargl\": [{\"marker\": {\"colorbar\": {\"outlinewidth\": 0, \"ticks\": \"\"}}, \"type\": \"scatterpolargl\"}], \"scatterternary\": [{\"marker\": {\"colorbar\": {\"outlinewidth\": 0, \"ticks\": \"\"}}, \"type\": \"scatterternary\"}], \"surface\": [{\"colorbar\": {\"outlinewidth\": 0, \"ticks\": \"\"}, \"colorscale\": [[0.0, \"#0d0887\"], [0.1111111111111111, \"#46039f\"], [0.2222222222222222, \"#7201a8\"], [0.3333333333333333, \"#9c179e\"], [0.4444444444444444, \"#bd3786\"], [0.5555555555555556, \"#d8576b\"], [0.6666666666666666, \"#ed7953\"], [0.7777777777777778, \"#fb9f3a\"], [0.8888888888888888, \"#fdca26\"], [1.0, \"#f0f921\"]], \"type\": \"surface\"}], \"table\": [{\"cells\": {\"fill\": {\"color\": \"#EBF0F8\"}, \"line\": {\"color\": \"white\"}}, \"header\": {\"fill\": {\"color\": \"#C8D4E3\"}, \"line\": {\"color\": \"white\"}}, \"type\": \"table\"}]}, \"layout\": {\"annotationdefaults\": {\"arrowcolor\": \"#2a3f5f\", \"arrowhead\": 0, \"arrowwidth\": 1}, \"autotypenumbers\": \"strict\", \"coloraxis\": {\"colorbar\": {\"outlinewidth\": 0, \"ticks\": \"\"}}, \"colorscale\": {\"diverging\": [[0, \"#8e0152\"], [0.1, \"#c51b7d\"], [0.2, \"#de77ae\"], [0.3, \"#f1b6da\"], [0.4, \"#fde0ef\"], [0.5, \"#f7f7f7\"], [0.6, \"#e6f5d0\"], [0.7, \"#b8e186\"], [0.8, \"#7fbc41\"], [0.9, \"#4d9221\"], [1, \"#276419\"]], \"sequential\": [[0.0, \"#0d0887\"], [0.1111111111111111, \"#46039f\"], [0.2222222222222222, \"#7201a8\"], [0.3333333333333333, \"#9c179e\"], [0.4444444444444444, \"#bd3786\"], [0.5555555555555556, \"#d8576b\"], [0.6666666666666666, \"#ed7953\"], [0.7777777777777778, \"#fb9f3a\"], [0.8888888888888888, \"#fdca26\"], [1.0, \"#f0f921\"]], \"sequentialminus\": [[0.0, \"#0d0887\"], [0.1111111111111111, \"#46039f\"], [0.2222222222222222, \"#7201a8\"], [0.3333333333333333, \"#9c179e\"], [0.4444444444444444, \"#bd3786\"], [0.5555555555555556, \"#d8576b\"], [0.6666666666666666, \"#ed7953\"], [0.7777777777777778, \"#fb9f3a\"], [0.8888888888888888, \"#fdca26\"], [1.0, \"#f0f921\"]]}, \"colorway\": [\"#636efa\", \"#EF553B\", \"#00cc96\", \"#ab63fa\", \"#FFA15A\", \"#19d3f3\", \"#FF6692\", \"#B6E880\", \"#FF97FF\", \"#FECB52\"], \"font\": {\"color\": \"#2a3f5f\"}, \"geo\": {\"bgcolor\": \"white\", \"lakecolor\": \"white\", \"landcolor\": \"#E5ECF6\", \"showlakes\": true, \"showland\": true, \"subunitcolor\": \"white\"}, \"hoverlabel\": {\"align\": \"left\"}, \"hovermode\": \"closest\", \"mapbox\": {\"style\": \"light\"}, \"paper_bgcolor\": \"white\", \"plot_bgcolor\": \"#E5ECF6\", \"polar\": {\"angularaxis\": {\"gridcolor\": \"white\", \"linecolor\": \"white\", \"ticks\": \"\"}, \"bgcolor\": \"#E5ECF6\", \"radialaxis\": {\"gridcolor\": \"white\", \"linecolor\": \"white\", \"ticks\": \"\"}}, \"scene\": {\"xaxis\": {\"backgroundcolor\": \"#E5ECF6\", \"gridcolor\": \"white\", \"gridwidth\": 2, \"linecolor\": \"white\", \"showbackground\": true, \"ticks\": \"\", \"zerolinecolor\": \"white\"}, \"yaxis\": {\"backgroundcolor\": \"#E5ECF6\", \"gridcolor\": \"white\", \"gridwidth\": 2, \"linecolor\": \"white\", \"showbackground\": true, \"ticks\": \"\", \"zerolinecolor\": \"white\"}, \"zaxis\": {\"backgroundcolor\": \"#E5ECF6\", \"gridcolor\": \"white\", \"gridwidth\": 2, \"linecolor\": \"white\", \"showbackground\": true, \"ticks\": \"\", \"zerolinecolor\": \"white\"}}, \"shapedefaults\": {\"line\": {\"color\": \"#2a3f5f\"}}, \"ternary\": {\"aaxis\": {\"gridcolor\": \"white\", \"linecolor\": \"white\", \"ticks\": \"\"}, \"baxis\": {\"gridcolor\": \"white\", \"linecolor\": \"white\", \"ticks\": \"\"}, \"bgcolor\": \"#E5ECF6\", \"caxis\": {\"gridcolor\": \"white\", \"linecolor\": \"white\", \"ticks\": \"\"}}, \"title\": {\"x\": 0.05}, \"xaxis\": {\"automargin\": true, \"gridcolor\": \"white\", \"linecolor\": \"white\", \"ticks\": \"\", \"title\": {\"standoff\": 15}, \"zerolinecolor\": \"white\", \"zerolinewidth\": 2}, \"yaxis\": {\"automargin\": true, \"gridcolor\": \"white\", \"linecolor\": \"white\", \"ticks\": \"\", \"title\": {\"standoff\": 15}, \"zerolinecolor\": \"white\", \"zerolinewidth\": 2}}}, \"title\": {\"text\": \"THE TOTAL AMOUNT FOR EACH ANDRIOD GAMES CATEGORY\"}, \"xaxis\": {\"anchor\": \"y\", \"categoryarray\": [\"GAME CARD\", \"GAME WORD\", \"GAME CASUAL\", \"GAME TRIVIA\", \"GAME BOARD\", \"GAME PUZZLE\", \"GAME ACTION\", \"GAME ROLE PLAYING\", \"GAME SIMULATION\", \"GAME CASINO\", \"GAME SPORTS\", \"GAME ADVENTURE\", \"GAME RACING\", \"GAME MUSIC\", \"GAME STRATEGY\", \"GAME ARCADE\", \"GAME FAMILY\", \"GAME EDUCATIONAL\"], \"categoryorder\": \"array\", \"domain\": [0.0, 1.0], \"title\": {\"text\": \"CATEGORY\"}}, \"yaxis\": {\"anchor\": \"x\", \"domain\": [0.0, 1.0], \"title\": {\"text\": \"TOTAL AMOUNT\"}}},                        {\"responsive\": true}                    ).then(function(){\n",
       "                            \n",
       "var gd = document.getElementById('2395741a-34f0-4cf3-a772-28bfa10bfcba');\n",
       "var x = new MutationObserver(function (mutations, observer) {{\n",
       "        var display = window.getComputedStyle(gd).display;\n",
       "        if (!display || display === 'none') {{\n",
       "            console.log([gd, 'removed!']);\n",
       "            Plotly.purge(gd);\n",
       "            observer.disconnect();\n",
       "        }}\n",
       "}});\n",
       "\n",
       "// Listen for the removal of the full notebook cells\n",
       "var notebookContainer = gd.closest('#notebook-container');\n",
       "if (notebookContainer) {{\n",
       "    x.observe(notebookContainer, {childList: true});\n",
       "}}\n",
       "\n",
       "// Listen for the clearing of the current output cell\n",
       "var outputEl = gd.closest('.output');\n",
       "if (outputEl) {{\n",
       "    x.observe(outputEl, {childList: true});\n",
       "}}\n",
       "\n",
       "                        })                };                });            </script>        </div>"
      ]
     },
     "metadata": {},
     "output_type": "display_data"
    }
   ],
   "source": [
    "px.bar(cart, y=cart.values, x=cart.index, text= 'category',color=cart.index,\n",
    "        labels= {'y': 'TOTAL AMOUNT', 'index': 'CATEGORY'},title='THE TOTAL AMOUNT FOR EACH ANDRIOD GAMES CATEGORY')"
   ]
  },
  {
   "cell_type": "code",
   "execution_count": 161,
   "metadata": {},
   "outputs": [],
   "source": [
    "inst= games['installs'].value_counts()"
   ]
  },
  {
   "cell_type": "code",
   "execution_count": 172,
   "metadata": {},
   "outputs": [
    {
     "data": {
      "application/vnd.plotly.v1+json": {
       "config": {
        "plotlyServerURL": "https://plot.ly"
       },
       "data": [
        {
         "alignmentgroup": "True",
         "hovertemplate": "Installs=%{x}<br>TOTAL AMOUNT=%{y}<br>text=%{text}<extra></extra>",
         "legendgroup": "10.0 M",
         "marker": {
          "color": "#636efa"
         },
         "name": "10.0 M",
         "offsetgroup": "10.0 M",
         "orientation": "v",
         "showlegend": true,
         "text": [
          795
         ],
         "textposition": "auto",
         "type": "bar",
         "x": [
          "10.0 M"
         ],
         "xaxis": "x",
         "y": [
          795
         ],
         "yaxis": "y"
        },
        {
         "alignmentgroup": "True",
         "hovertemplate": "Installs=%{x}<br>TOTAL AMOUNT=%{y}<br>text=%{text}<extra></extra>",
         "legendgroup": "50.0 M",
         "marker": {
          "color": "#EF553B"
         },
         "name": "50.0 M",
         "offsetgroup": "50.0 M",
         "orientation": "v",
         "showlegend": true,
         "text": [
          266
         ],
         "textposition": "auto",
         "type": "bar",
         "x": [
          "50.0 M"
         ],
         "xaxis": "x",
         "y": [
          266
         ],
         "yaxis": "y"
        },
        {
         "alignmentgroup": "True",
         "hovertemplate": "Installs=%{x}<br>TOTAL AMOUNT=%{y}<br>text=%{text}<extra></extra>",
         "legendgroup": "100.0 M",
         "marker": {
          "color": "#00cc96"
         },
         "name": "100.0 M",
         "offsetgroup": "100.0 M",
         "orientation": "v",
         "showlegend": true,
         "text": [
          256
         ],
         "textposition": "auto",
         "type": "bar",
         "x": [
          "100.0 M"
         ],
         "xaxis": "x",
         "y": [
          256
         ],
         "yaxis": "y"
        },
        {
         "alignmentgroup": "True",
         "hovertemplate": "Installs=%{x}<br>TOTAL AMOUNT=%{y}<br>text=%{text}<extra></extra>",
         "legendgroup": "5.0 M",
         "marker": {
          "color": "#ab63fa"
         },
         "name": "5.0 M",
         "offsetgroup": "5.0 M",
         "orientation": "v",
         "showlegend": true,
         "text": [
          248
         ],
         "textposition": "auto",
         "type": "bar",
         "x": [
          "5.0 M"
         ],
         "xaxis": "x",
         "y": [
          248
         ],
         "yaxis": "y"
        },
        {
         "alignmentgroup": "True",
         "hovertemplate": "Installs=%{x}<br>TOTAL AMOUNT=%{y}<br>text=%{text}<extra></extra>",
         "legendgroup": "1.0 M",
         "marker": {
          "color": "#FFA15A"
         },
         "name": "1.0 M",
         "offsetgroup": "1.0 M",
         "orientation": "v",
         "showlegend": true,
         "text": [
          191
         ],
         "textposition": "auto",
         "type": "bar",
         "x": [
          "1.0 M"
         ],
         "xaxis": "x",
         "y": [
          191
         ],
         "yaxis": "y"
        },
        {
         "alignmentgroup": "True",
         "hovertemplate": "Installs=%{x}<br>TOTAL AMOUNT=%{y}<br>text=%{text}<extra></extra>",
         "legendgroup": "500.0 M",
         "marker": {
          "color": "#19d3f3"
         },
         "name": "500.0 M",
         "offsetgroup": "500.0 M",
         "orientation": "v",
         "showlegend": true,
         "text": [
          34
         ],
         "textposition": "auto",
         "type": "bar",
         "x": [
          "500.0 M"
         ],
         "xaxis": "x",
         "y": [
          34
         ],
         "yaxis": "y"
        },
        {
         "alignmentgroup": "True",
         "hovertemplate": "Installs=%{x}<br>TOTAL AMOUNT=%{y}<br>text=%{text}<extra></extra>",
         "legendgroup": "1000.0 M",
         "marker": {
          "color": "#FF6692"
         },
         "name": "1000.0 M",
         "offsetgroup": "1000.0 M",
         "orientation": "v",
         "showlegend": true,
         "text": [
          16
         ],
         "textposition": "auto",
         "type": "bar",
         "x": [
          "1000.0 M"
         ],
         "xaxis": "x",
         "y": [
          16
         ],
         "yaxis": "y"
        },
        {
         "alignmentgroup": "True",
         "hovertemplate": "Installs=%{x}<br>TOTAL AMOUNT=%{y}<br>text=%{text}<extra></extra>",
         "legendgroup": "500.0 k",
         "marker": {
          "color": "#B6E880"
         },
         "name": "500.0 k",
         "offsetgroup": "500.0 k",
         "orientation": "v",
         "showlegend": true,
         "text": [
          13
         ],
         "textposition": "auto",
         "type": "bar",
         "x": [
          "500.0 k"
         ],
         "xaxis": "x",
         "y": [
          13
         ],
         "yaxis": "y"
        },
        {
         "alignmentgroup": "True",
         "hovertemplate": "Installs=%{x}<br>TOTAL AMOUNT=%{y}<br>text=%{text}<extra></extra>",
         "legendgroup": "5000.0 M",
         "marker": {
          "color": "#FF97FF"
         },
         "name": "5000.0 M",
         "offsetgroup": "5000.0 M",
         "orientation": "v",
         "showlegend": true,
         "text": [
          9
         ],
         "textposition": "auto",
         "type": "bar",
         "x": [
          "5000.0 M"
         ],
         "xaxis": "x",
         "y": [
          9
         ],
         "yaxis": "y"
        },
        {
         "alignmentgroup": "True",
         "hovertemplate": "Installs=%{x}<br>TOTAL AMOUNT=%{y}<br>text=%{text}<extra></extra>",
         "legendgroup": "100.0 k",
         "marker": {
          "color": "#FECB52"
         },
         "name": "100.0 k",
         "offsetgroup": "100.0 k",
         "orientation": "v",
         "showlegend": true,
         "text": [
          2
         ],
         "textposition": "auto",
         "type": "bar",
         "x": [
          "100.0 k"
         ],
         "xaxis": "x",
         "y": [
          2
         ],
         "yaxis": "y"
        }
       ],
       "layout": {
        "barmode": "relative",
        "legend": {
         "title": {
          "text": "Installs"
         },
         "tracegroupgap": 0
        },
        "template": {
         "data": {
          "bar": [
           {
            "error_x": {
             "color": "#2a3f5f"
            },
            "error_y": {
             "color": "#2a3f5f"
            },
            "marker": {
             "line": {
              "color": "#E5ECF6",
              "width": 0.5
             }
            },
            "type": "bar"
           }
          ],
          "barpolar": [
           {
            "marker": {
             "line": {
              "color": "#E5ECF6",
              "width": 0.5
             }
            },
            "type": "barpolar"
           }
          ],
          "carpet": [
           {
            "aaxis": {
             "endlinecolor": "#2a3f5f",
             "gridcolor": "white",
             "linecolor": "white",
             "minorgridcolor": "white",
             "startlinecolor": "#2a3f5f"
            },
            "baxis": {
             "endlinecolor": "#2a3f5f",
             "gridcolor": "white",
             "linecolor": "white",
             "minorgridcolor": "white",
             "startlinecolor": "#2a3f5f"
            },
            "type": "carpet"
           }
          ],
          "choropleth": [
           {
            "colorbar": {
             "outlinewidth": 0,
             "ticks": ""
            },
            "type": "choropleth"
           }
          ],
          "contour": [
           {
            "colorbar": {
             "outlinewidth": 0,
             "ticks": ""
            },
            "colorscale": [
             [
              0,
              "#0d0887"
             ],
             [
              0.1111111111111111,
              "#46039f"
             ],
             [
              0.2222222222222222,
              "#7201a8"
             ],
             [
              0.3333333333333333,
              "#9c179e"
             ],
             [
              0.4444444444444444,
              "#bd3786"
             ],
             [
              0.5555555555555556,
              "#d8576b"
             ],
             [
              0.6666666666666666,
              "#ed7953"
             ],
             [
              0.7777777777777778,
              "#fb9f3a"
             ],
             [
              0.8888888888888888,
              "#fdca26"
             ],
             [
              1,
              "#f0f921"
             ]
            ],
            "type": "contour"
           }
          ],
          "contourcarpet": [
           {
            "colorbar": {
             "outlinewidth": 0,
             "ticks": ""
            },
            "type": "contourcarpet"
           }
          ],
          "heatmap": [
           {
            "colorbar": {
             "outlinewidth": 0,
             "ticks": ""
            },
            "colorscale": [
             [
              0,
              "#0d0887"
             ],
             [
              0.1111111111111111,
              "#46039f"
             ],
             [
              0.2222222222222222,
              "#7201a8"
             ],
             [
              0.3333333333333333,
              "#9c179e"
             ],
             [
              0.4444444444444444,
              "#bd3786"
             ],
             [
              0.5555555555555556,
              "#d8576b"
             ],
             [
              0.6666666666666666,
              "#ed7953"
             ],
             [
              0.7777777777777778,
              "#fb9f3a"
             ],
             [
              0.8888888888888888,
              "#fdca26"
             ],
             [
              1,
              "#f0f921"
             ]
            ],
            "type": "heatmap"
           }
          ],
          "heatmapgl": [
           {
            "colorbar": {
             "outlinewidth": 0,
             "ticks": ""
            },
            "colorscale": [
             [
              0,
              "#0d0887"
             ],
             [
              0.1111111111111111,
              "#46039f"
             ],
             [
              0.2222222222222222,
              "#7201a8"
             ],
             [
              0.3333333333333333,
              "#9c179e"
             ],
             [
              0.4444444444444444,
              "#bd3786"
             ],
             [
              0.5555555555555556,
              "#d8576b"
             ],
             [
              0.6666666666666666,
              "#ed7953"
             ],
             [
              0.7777777777777778,
              "#fb9f3a"
             ],
             [
              0.8888888888888888,
              "#fdca26"
             ],
             [
              1,
              "#f0f921"
             ]
            ],
            "type": "heatmapgl"
           }
          ],
          "histogram": [
           {
            "marker": {
             "colorbar": {
              "outlinewidth": 0,
              "ticks": ""
             }
            },
            "type": "histogram"
           }
          ],
          "histogram2d": [
           {
            "colorbar": {
             "outlinewidth": 0,
             "ticks": ""
            },
            "colorscale": [
             [
              0,
              "#0d0887"
             ],
             [
              0.1111111111111111,
              "#46039f"
             ],
             [
              0.2222222222222222,
              "#7201a8"
             ],
             [
              0.3333333333333333,
              "#9c179e"
             ],
             [
              0.4444444444444444,
              "#bd3786"
             ],
             [
              0.5555555555555556,
              "#d8576b"
             ],
             [
              0.6666666666666666,
              "#ed7953"
             ],
             [
              0.7777777777777778,
              "#fb9f3a"
             ],
             [
              0.8888888888888888,
              "#fdca26"
             ],
             [
              1,
              "#f0f921"
             ]
            ],
            "type": "histogram2d"
           }
          ],
          "histogram2dcontour": [
           {
            "colorbar": {
             "outlinewidth": 0,
             "ticks": ""
            },
            "colorscale": [
             [
              0,
              "#0d0887"
             ],
             [
              0.1111111111111111,
              "#46039f"
             ],
             [
              0.2222222222222222,
              "#7201a8"
             ],
             [
              0.3333333333333333,
              "#9c179e"
             ],
             [
              0.4444444444444444,
              "#bd3786"
             ],
             [
              0.5555555555555556,
              "#d8576b"
             ],
             [
              0.6666666666666666,
              "#ed7953"
             ],
             [
              0.7777777777777778,
              "#fb9f3a"
             ],
             [
              0.8888888888888888,
              "#fdca26"
             ],
             [
              1,
              "#f0f921"
             ]
            ],
            "type": "histogram2dcontour"
           }
          ],
          "mesh3d": [
           {
            "colorbar": {
             "outlinewidth": 0,
             "ticks": ""
            },
            "type": "mesh3d"
           }
          ],
          "parcoords": [
           {
            "line": {
             "colorbar": {
              "outlinewidth": 0,
              "ticks": ""
             }
            },
            "type": "parcoords"
           }
          ],
          "pie": [
           {
            "automargin": true,
            "type": "pie"
           }
          ],
          "scatter": [
           {
            "marker": {
             "colorbar": {
              "outlinewidth": 0,
              "ticks": ""
             }
            },
            "type": "scatter"
           }
          ],
          "scatter3d": [
           {
            "line": {
             "colorbar": {
              "outlinewidth": 0,
              "ticks": ""
             }
            },
            "marker": {
             "colorbar": {
              "outlinewidth": 0,
              "ticks": ""
             }
            },
            "type": "scatter3d"
           }
          ],
          "scattercarpet": [
           {
            "marker": {
             "colorbar": {
              "outlinewidth": 0,
              "ticks": ""
             }
            },
            "type": "scattercarpet"
           }
          ],
          "scattergeo": [
           {
            "marker": {
             "colorbar": {
              "outlinewidth": 0,
              "ticks": ""
             }
            },
            "type": "scattergeo"
           }
          ],
          "scattergl": [
           {
            "marker": {
             "colorbar": {
              "outlinewidth": 0,
              "ticks": ""
             }
            },
            "type": "scattergl"
           }
          ],
          "scattermapbox": [
           {
            "marker": {
             "colorbar": {
              "outlinewidth": 0,
              "ticks": ""
             }
            },
            "type": "scattermapbox"
           }
          ],
          "scatterpolar": [
           {
            "marker": {
             "colorbar": {
              "outlinewidth": 0,
              "ticks": ""
             }
            },
            "type": "scatterpolar"
           }
          ],
          "scatterpolargl": [
           {
            "marker": {
             "colorbar": {
              "outlinewidth": 0,
              "ticks": ""
             }
            },
            "type": "scatterpolargl"
           }
          ],
          "scatterternary": [
           {
            "marker": {
             "colorbar": {
              "outlinewidth": 0,
              "ticks": ""
             }
            },
            "type": "scatterternary"
           }
          ],
          "surface": [
           {
            "colorbar": {
             "outlinewidth": 0,
             "ticks": ""
            },
            "colorscale": [
             [
              0,
              "#0d0887"
             ],
             [
              0.1111111111111111,
              "#46039f"
             ],
             [
              0.2222222222222222,
              "#7201a8"
             ],
             [
              0.3333333333333333,
              "#9c179e"
             ],
             [
              0.4444444444444444,
              "#bd3786"
             ],
             [
              0.5555555555555556,
              "#d8576b"
             ],
             [
              0.6666666666666666,
              "#ed7953"
             ],
             [
              0.7777777777777778,
              "#fb9f3a"
             ],
             [
              0.8888888888888888,
              "#fdca26"
             ],
             [
              1,
              "#f0f921"
             ]
            ],
            "type": "surface"
           }
          ],
          "table": [
           {
            "cells": {
             "fill": {
              "color": "#EBF0F8"
             },
             "line": {
              "color": "white"
             }
            },
            "header": {
             "fill": {
              "color": "#C8D4E3"
             },
             "line": {
              "color": "white"
             }
            },
            "type": "table"
           }
          ]
         },
         "layout": {
          "annotationdefaults": {
           "arrowcolor": "#2a3f5f",
           "arrowhead": 0,
           "arrowwidth": 1
          },
          "autotypenumbers": "strict",
          "coloraxis": {
           "colorbar": {
            "outlinewidth": 0,
            "ticks": ""
           }
          },
          "colorscale": {
           "diverging": [
            [
             0,
             "#8e0152"
            ],
            [
             0.1,
             "#c51b7d"
            ],
            [
             0.2,
             "#de77ae"
            ],
            [
             0.3,
             "#f1b6da"
            ],
            [
             0.4,
             "#fde0ef"
            ],
            [
             0.5,
             "#f7f7f7"
            ],
            [
             0.6,
             "#e6f5d0"
            ],
            [
             0.7,
             "#b8e186"
            ],
            [
             0.8,
             "#7fbc41"
            ],
            [
             0.9,
             "#4d9221"
            ],
            [
             1,
             "#276419"
            ]
           ],
           "sequential": [
            [
             0,
             "#0d0887"
            ],
            [
             0.1111111111111111,
             "#46039f"
            ],
            [
             0.2222222222222222,
             "#7201a8"
            ],
            [
             0.3333333333333333,
             "#9c179e"
            ],
            [
             0.4444444444444444,
             "#bd3786"
            ],
            [
             0.5555555555555556,
             "#d8576b"
            ],
            [
             0.6666666666666666,
             "#ed7953"
            ],
            [
             0.7777777777777778,
             "#fb9f3a"
            ],
            [
             0.8888888888888888,
             "#fdca26"
            ],
            [
             1,
             "#f0f921"
            ]
           ],
           "sequentialminus": [
            [
             0,
             "#0d0887"
            ],
            [
             0.1111111111111111,
             "#46039f"
            ],
            [
             0.2222222222222222,
             "#7201a8"
            ],
            [
             0.3333333333333333,
             "#9c179e"
            ],
            [
             0.4444444444444444,
             "#bd3786"
            ],
            [
             0.5555555555555556,
             "#d8576b"
            ],
            [
             0.6666666666666666,
             "#ed7953"
            ],
            [
             0.7777777777777778,
             "#fb9f3a"
            ],
            [
             0.8888888888888888,
             "#fdca26"
            ],
            [
             1,
             "#f0f921"
            ]
           ]
          },
          "colorway": [
           "#636efa",
           "#EF553B",
           "#00cc96",
           "#ab63fa",
           "#FFA15A",
           "#19d3f3",
           "#FF6692",
           "#B6E880",
           "#FF97FF",
           "#FECB52"
          ],
          "font": {
           "color": "#2a3f5f"
          },
          "geo": {
           "bgcolor": "white",
           "lakecolor": "white",
           "landcolor": "#E5ECF6",
           "showlakes": true,
           "showland": true,
           "subunitcolor": "white"
          },
          "hoverlabel": {
           "align": "left"
          },
          "hovermode": "closest",
          "mapbox": {
           "style": "light"
          },
          "paper_bgcolor": "white",
          "plot_bgcolor": "#E5ECF6",
          "polar": {
           "angularaxis": {
            "gridcolor": "white",
            "linecolor": "white",
            "ticks": ""
           },
           "bgcolor": "#E5ECF6",
           "radialaxis": {
            "gridcolor": "white",
            "linecolor": "white",
            "ticks": ""
           }
          },
          "scene": {
           "xaxis": {
            "backgroundcolor": "#E5ECF6",
            "gridcolor": "white",
            "gridwidth": 2,
            "linecolor": "white",
            "showbackground": true,
            "ticks": "",
            "zerolinecolor": "white"
           },
           "yaxis": {
            "backgroundcolor": "#E5ECF6",
            "gridcolor": "white",
            "gridwidth": 2,
            "linecolor": "white",
            "showbackground": true,
            "ticks": "",
            "zerolinecolor": "white"
           },
           "zaxis": {
            "backgroundcolor": "#E5ECF6",
            "gridcolor": "white",
            "gridwidth": 2,
            "linecolor": "white",
            "showbackground": true,
            "ticks": "",
            "zerolinecolor": "white"
           }
          },
          "shapedefaults": {
           "line": {
            "color": "#2a3f5f"
           }
          },
          "ternary": {
           "aaxis": {
            "gridcolor": "white",
            "linecolor": "white",
            "ticks": ""
           },
           "baxis": {
            "gridcolor": "white",
            "linecolor": "white",
            "ticks": ""
           },
           "bgcolor": "#E5ECF6",
           "caxis": {
            "gridcolor": "white",
            "linecolor": "white",
            "ticks": ""
           }
          },
          "title": {
           "x": 0.05
          },
          "xaxis": {
           "automargin": true,
           "gridcolor": "white",
           "linecolor": "white",
           "ticks": "",
           "title": {
            "standoff": 15
           },
           "zerolinecolor": "white",
           "zerolinewidth": 2
          },
          "yaxis": {
           "automargin": true,
           "gridcolor": "white",
           "linecolor": "white",
           "ticks": "",
           "title": {
            "standoff": 15
           },
           "zerolinecolor": "white",
           "zerolinewidth": 2
          }
         }
        },
        "title": {
         "text": "THE TOTAL AMOUNT FOR EACH INSTALLS"
        },
        "xaxis": {
         "anchor": "y",
         "categoryarray": [
          "10.0 M",
          "50.0 M",
          "100.0 M",
          "5.0 M",
          "1.0 M",
          "500.0 M",
          "1000.0 M",
          "500.0 k",
          "5000.0 M",
          "100.0 k"
         ],
         "categoryorder": "array",
         "domain": [
          0,
          1
         ],
         "title": {
          "text": "Installs"
         }
        },
        "yaxis": {
         "anchor": "x",
         "domain": [
          0,
          1
         ],
         "title": {
          "text": "TOTAL AMOUNT"
         }
        }
       }
      },
      "text/html": [
       "<div>                            <div id=\"49211d49-ef45-48da-a2e8-ed3de4aa8578\" class=\"plotly-graph-div\" style=\"height:525px; width:100%;\"></div>            <script type=\"text/javascript\">                require([\"plotly\"], function(Plotly) {                    window.PLOTLYENV=window.PLOTLYENV || {};                                    if (document.getElementById(\"49211d49-ef45-48da-a2e8-ed3de4aa8578\")) {                    Plotly.newPlot(                        \"49211d49-ef45-48da-a2e8-ed3de4aa8578\",                        [{\"alignmentgroup\": \"True\", \"hovertemplate\": \"Installs=%{x}<br>TOTAL AMOUNT=%{y}<br>text=%{text}<extra></extra>\", \"legendgroup\": \"10.0 M\", \"marker\": {\"color\": \"#636efa\"}, \"name\": \"10.0 M\", \"offsetgroup\": \"10.0 M\", \"orientation\": \"v\", \"showlegend\": true, \"text\": [795.0], \"textposition\": \"auto\", \"type\": \"bar\", \"x\": [\"10.0 M\"], \"xaxis\": \"x\", \"y\": [795], \"yaxis\": \"y\"}, {\"alignmentgroup\": \"True\", \"hovertemplate\": \"Installs=%{x}<br>TOTAL AMOUNT=%{y}<br>text=%{text}<extra></extra>\", \"legendgroup\": \"50.0 M\", \"marker\": {\"color\": \"#EF553B\"}, \"name\": \"50.0 M\", \"offsetgroup\": \"50.0 M\", \"orientation\": \"v\", \"showlegend\": true, \"text\": [266.0], \"textposition\": \"auto\", \"type\": \"bar\", \"x\": [\"50.0 M\"], \"xaxis\": \"x\", \"y\": [266], \"yaxis\": \"y\"}, {\"alignmentgroup\": \"True\", \"hovertemplate\": \"Installs=%{x}<br>TOTAL AMOUNT=%{y}<br>text=%{text}<extra></extra>\", \"legendgroup\": \"100.0 M\", \"marker\": {\"color\": \"#00cc96\"}, \"name\": \"100.0 M\", \"offsetgroup\": \"100.0 M\", \"orientation\": \"v\", \"showlegend\": true, \"text\": [256.0], \"textposition\": \"auto\", \"type\": \"bar\", \"x\": [\"100.0 M\"], \"xaxis\": \"x\", \"y\": [256], \"yaxis\": \"y\"}, {\"alignmentgroup\": \"True\", \"hovertemplate\": \"Installs=%{x}<br>TOTAL AMOUNT=%{y}<br>text=%{text}<extra></extra>\", \"legendgroup\": \"5.0 M\", \"marker\": {\"color\": \"#ab63fa\"}, \"name\": \"5.0 M\", \"offsetgroup\": \"5.0 M\", \"orientation\": \"v\", \"showlegend\": true, \"text\": [248.0], \"textposition\": \"auto\", \"type\": \"bar\", \"x\": [\"5.0 M\"], \"xaxis\": \"x\", \"y\": [248], \"yaxis\": \"y\"}, {\"alignmentgroup\": \"True\", \"hovertemplate\": \"Installs=%{x}<br>TOTAL AMOUNT=%{y}<br>text=%{text}<extra></extra>\", \"legendgroup\": \"1.0 M\", \"marker\": {\"color\": \"#FFA15A\"}, \"name\": \"1.0 M\", \"offsetgroup\": \"1.0 M\", \"orientation\": \"v\", \"showlegend\": true, \"text\": [191.0], \"textposition\": \"auto\", \"type\": \"bar\", \"x\": [\"1.0 M\"], \"xaxis\": \"x\", \"y\": [191], \"yaxis\": \"y\"}, {\"alignmentgroup\": \"True\", \"hovertemplate\": \"Installs=%{x}<br>TOTAL AMOUNT=%{y}<br>text=%{text}<extra></extra>\", \"legendgroup\": \"500.0 M\", \"marker\": {\"color\": \"#19d3f3\"}, \"name\": \"500.0 M\", \"offsetgroup\": \"500.0 M\", \"orientation\": \"v\", \"showlegend\": true, \"text\": [34.0], \"textposition\": \"auto\", \"type\": \"bar\", \"x\": [\"500.0 M\"], \"xaxis\": \"x\", \"y\": [34], \"yaxis\": \"y\"}, {\"alignmentgroup\": \"True\", \"hovertemplate\": \"Installs=%{x}<br>TOTAL AMOUNT=%{y}<br>text=%{text}<extra></extra>\", \"legendgroup\": \"1000.0 M\", \"marker\": {\"color\": \"#FF6692\"}, \"name\": \"1000.0 M\", \"offsetgroup\": \"1000.0 M\", \"orientation\": \"v\", \"showlegend\": true, \"text\": [16.0], \"textposition\": \"auto\", \"type\": \"bar\", \"x\": [\"1000.0 M\"], \"xaxis\": \"x\", \"y\": [16], \"yaxis\": \"y\"}, {\"alignmentgroup\": \"True\", \"hovertemplate\": \"Installs=%{x}<br>TOTAL AMOUNT=%{y}<br>text=%{text}<extra></extra>\", \"legendgroup\": \"500.0 k\", \"marker\": {\"color\": \"#B6E880\"}, \"name\": \"500.0 k\", \"offsetgroup\": \"500.0 k\", \"orientation\": \"v\", \"showlegend\": true, \"text\": [13.0], \"textposition\": \"auto\", \"type\": \"bar\", \"x\": [\"500.0 k\"], \"xaxis\": \"x\", \"y\": [13], \"yaxis\": \"y\"}, {\"alignmentgroup\": \"True\", \"hovertemplate\": \"Installs=%{x}<br>TOTAL AMOUNT=%{y}<br>text=%{text}<extra></extra>\", \"legendgroup\": \"5000.0 M\", \"marker\": {\"color\": \"#FF97FF\"}, \"name\": \"5000.0 M\", \"offsetgroup\": \"5000.0 M\", \"orientation\": \"v\", \"showlegend\": true, \"text\": [9.0], \"textposition\": \"auto\", \"type\": \"bar\", \"x\": [\"5000.0 M\"], \"xaxis\": \"x\", \"y\": [9], \"yaxis\": \"y\"}, {\"alignmentgroup\": \"True\", \"hovertemplate\": \"Installs=%{x}<br>TOTAL AMOUNT=%{y}<br>text=%{text}<extra></extra>\", \"legendgroup\": \"100.0 k\", \"marker\": {\"color\": \"#FECB52\"}, \"name\": \"100.0 k\", \"offsetgroup\": \"100.0 k\", \"orientation\": \"v\", \"showlegend\": true, \"text\": [2.0], \"textposition\": \"auto\", \"type\": \"bar\", \"x\": [\"100.0 k\"], \"xaxis\": \"x\", \"y\": [2], \"yaxis\": \"y\"}],                        {\"barmode\": \"relative\", \"legend\": {\"title\": {\"text\": \"Installs\"}, \"tracegroupgap\": 0}, \"template\": {\"data\": {\"bar\": [{\"error_x\": {\"color\": \"#2a3f5f\"}, \"error_y\": {\"color\": \"#2a3f5f\"}, \"marker\": {\"line\": {\"color\": \"#E5ECF6\", \"width\": 0.5}}, \"type\": \"bar\"}], \"barpolar\": [{\"marker\": {\"line\": {\"color\": \"#E5ECF6\", \"width\": 0.5}}, \"type\": \"barpolar\"}], \"carpet\": [{\"aaxis\": {\"endlinecolor\": \"#2a3f5f\", \"gridcolor\": \"white\", \"linecolor\": \"white\", \"minorgridcolor\": \"white\", \"startlinecolor\": \"#2a3f5f\"}, \"baxis\": {\"endlinecolor\": \"#2a3f5f\", \"gridcolor\": \"white\", \"linecolor\": \"white\", \"minorgridcolor\": \"white\", \"startlinecolor\": \"#2a3f5f\"}, \"type\": \"carpet\"}], \"choropleth\": [{\"colorbar\": {\"outlinewidth\": 0, \"ticks\": \"\"}, \"type\": \"choropleth\"}], \"contour\": [{\"colorbar\": {\"outlinewidth\": 0, \"ticks\": \"\"}, \"colorscale\": [[0.0, \"#0d0887\"], [0.1111111111111111, \"#46039f\"], [0.2222222222222222, \"#7201a8\"], [0.3333333333333333, \"#9c179e\"], [0.4444444444444444, \"#bd3786\"], [0.5555555555555556, \"#d8576b\"], [0.6666666666666666, \"#ed7953\"], [0.7777777777777778, \"#fb9f3a\"], [0.8888888888888888, \"#fdca26\"], [1.0, \"#f0f921\"]], \"type\": \"contour\"}], \"contourcarpet\": [{\"colorbar\": {\"outlinewidth\": 0, \"ticks\": \"\"}, \"type\": \"contourcarpet\"}], \"heatmap\": [{\"colorbar\": {\"outlinewidth\": 0, \"ticks\": \"\"}, \"colorscale\": [[0.0, \"#0d0887\"], [0.1111111111111111, \"#46039f\"], [0.2222222222222222, \"#7201a8\"], [0.3333333333333333, \"#9c179e\"], [0.4444444444444444, \"#bd3786\"], [0.5555555555555556, \"#d8576b\"], [0.6666666666666666, \"#ed7953\"], [0.7777777777777778, \"#fb9f3a\"], [0.8888888888888888, \"#fdca26\"], [1.0, \"#f0f921\"]], \"type\": \"heatmap\"}], \"heatmapgl\": [{\"colorbar\": {\"outlinewidth\": 0, \"ticks\": \"\"}, \"colorscale\": [[0.0, \"#0d0887\"], [0.1111111111111111, \"#46039f\"], [0.2222222222222222, \"#7201a8\"], [0.3333333333333333, \"#9c179e\"], [0.4444444444444444, \"#bd3786\"], [0.5555555555555556, \"#d8576b\"], [0.6666666666666666, \"#ed7953\"], [0.7777777777777778, \"#fb9f3a\"], [0.8888888888888888, \"#fdca26\"], [1.0, \"#f0f921\"]], \"type\": \"heatmapgl\"}], \"histogram\": [{\"marker\": {\"colorbar\": {\"outlinewidth\": 0, \"ticks\": \"\"}}, \"type\": \"histogram\"}], \"histogram2d\": [{\"colorbar\": {\"outlinewidth\": 0, \"ticks\": \"\"}, \"colorscale\": [[0.0, \"#0d0887\"], [0.1111111111111111, \"#46039f\"], [0.2222222222222222, \"#7201a8\"], [0.3333333333333333, \"#9c179e\"], [0.4444444444444444, \"#bd3786\"], [0.5555555555555556, \"#d8576b\"], [0.6666666666666666, \"#ed7953\"], [0.7777777777777778, \"#fb9f3a\"], [0.8888888888888888, \"#fdca26\"], [1.0, \"#f0f921\"]], \"type\": \"histogram2d\"}], \"histogram2dcontour\": [{\"colorbar\": {\"outlinewidth\": 0, \"ticks\": \"\"}, \"colorscale\": [[0.0, \"#0d0887\"], [0.1111111111111111, \"#46039f\"], [0.2222222222222222, \"#7201a8\"], [0.3333333333333333, \"#9c179e\"], [0.4444444444444444, \"#bd3786\"], [0.5555555555555556, \"#d8576b\"], [0.6666666666666666, \"#ed7953\"], [0.7777777777777778, \"#fb9f3a\"], [0.8888888888888888, \"#fdca26\"], [1.0, \"#f0f921\"]], \"type\": \"histogram2dcontour\"}], \"mesh3d\": [{\"colorbar\": {\"outlinewidth\": 0, \"ticks\": \"\"}, \"type\": \"mesh3d\"}], \"parcoords\": [{\"line\": {\"colorbar\": {\"outlinewidth\": 0, \"ticks\": \"\"}}, \"type\": \"parcoords\"}], \"pie\": [{\"automargin\": true, \"type\": \"pie\"}], \"scatter\": [{\"marker\": {\"colorbar\": {\"outlinewidth\": 0, \"ticks\": \"\"}}, \"type\": \"scatter\"}], \"scatter3d\": [{\"line\": {\"colorbar\": {\"outlinewidth\": 0, \"ticks\": \"\"}}, \"marker\": {\"colorbar\": {\"outlinewidth\": 0, \"ticks\": \"\"}}, \"type\": \"scatter3d\"}], \"scattercarpet\": [{\"marker\": {\"colorbar\": {\"outlinewidth\": 0, \"ticks\": \"\"}}, \"type\": \"scattercarpet\"}], \"scattergeo\": [{\"marker\": {\"colorbar\": {\"outlinewidth\": 0, \"ticks\": \"\"}}, \"type\": \"scattergeo\"}], \"scattergl\": [{\"marker\": {\"colorbar\": {\"outlinewidth\": 0, \"ticks\": \"\"}}, \"type\": \"scattergl\"}], \"scattermapbox\": [{\"marker\": {\"colorbar\": {\"outlinewidth\": 0, \"ticks\": \"\"}}, \"type\": \"scattermapbox\"}], \"scatterpolar\": [{\"marker\": {\"colorbar\": {\"outlinewidth\": 0, \"ticks\": \"\"}}, \"type\": \"scatterpolar\"}], \"scatterpolargl\": [{\"marker\": {\"colorbar\": {\"outlinewidth\": 0, \"ticks\": \"\"}}, \"type\": \"scatterpolargl\"}], \"scatterternary\": [{\"marker\": {\"colorbar\": {\"outlinewidth\": 0, \"ticks\": \"\"}}, \"type\": \"scatterternary\"}], \"surface\": [{\"colorbar\": {\"outlinewidth\": 0, \"ticks\": \"\"}, \"colorscale\": [[0.0, \"#0d0887\"], [0.1111111111111111, \"#46039f\"], [0.2222222222222222, \"#7201a8\"], [0.3333333333333333, \"#9c179e\"], [0.4444444444444444, \"#bd3786\"], [0.5555555555555556, \"#d8576b\"], [0.6666666666666666, \"#ed7953\"], [0.7777777777777778, \"#fb9f3a\"], [0.8888888888888888, \"#fdca26\"], [1.0, \"#f0f921\"]], \"type\": \"surface\"}], \"table\": [{\"cells\": {\"fill\": {\"color\": \"#EBF0F8\"}, \"line\": {\"color\": \"white\"}}, \"header\": {\"fill\": {\"color\": \"#C8D4E3\"}, \"line\": {\"color\": \"white\"}}, \"type\": \"table\"}]}, \"layout\": {\"annotationdefaults\": {\"arrowcolor\": \"#2a3f5f\", \"arrowhead\": 0, \"arrowwidth\": 1}, \"autotypenumbers\": \"strict\", \"coloraxis\": {\"colorbar\": {\"outlinewidth\": 0, \"ticks\": \"\"}}, \"colorscale\": {\"diverging\": [[0, \"#8e0152\"], [0.1, \"#c51b7d\"], [0.2, \"#de77ae\"], [0.3, \"#f1b6da\"], [0.4, \"#fde0ef\"], [0.5, \"#f7f7f7\"], [0.6, \"#e6f5d0\"], [0.7, \"#b8e186\"], [0.8, \"#7fbc41\"], [0.9, \"#4d9221\"], [1, \"#276419\"]], \"sequential\": [[0.0, \"#0d0887\"], [0.1111111111111111, \"#46039f\"], [0.2222222222222222, \"#7201a8\"], [0.3333333333333333, \"#9c179e\"], [0.4444444444444444, \"#bd3786\"], [0.5555555555555556, \"#d8576b\"], [0.6666666666666666, \"#ed7953\"], [0.7777777777777778, \"#fb9f3a\"], [0.8888888888888888, \"#fdca26\"], [1.0, \"#f0f921\"]], \"sequentialminus\": [[0.0, \"#0d0887\"], [0.1111111111111111, \"#46039f\"], [0.2222222222222222, \"#7201a8\"], [0.3333333333333333, \"#9c179e\"], [0.4444444444444444, \"#bd3786\"], [0.5555555555555556, \"#d8576b\"], [0.6666666666666666, \"#ed7953\"], [0.7777777777777778, \"#fb9f3a\"], [0.8888888888888888, \"#fdca26\"], [1.0, \"#f0f921\"]]}, \"colorway\": [\"#636efa\", \"#EF553B\", \"#00cc96\", \"#ab63fa\", \"#FFA15A\", \"#19d3f3\", \"#FF6692\", \"#B6E880\", \"#FF97FF\", \"#FECB52\"], \"font\": {\"color\": \"#2a3f5f\"}, \"geo\": {\"bgcolor\": \"white\", \"lakecolor\": \"white\", \"landcolor\": \"#E5ECF6\", \"showlakes\": true, \"showland\": true, \"subunitcolor\": \"white\"}, \"hoverlabel\": {\"align\": \"left\"}, \"hovermode\": \"closest\", \"mapbox\": {\"style\": \"light\"}, \"paper_bgcolor\": \"white\", \"plot_bgcolor\": \"#E5ECF6\", \"polar\": {\"angularaxis\": {\"gridcolor\": \"white\", \"linecolor\": \"white\", \"ticks\": \"\"}, \"bgcolor\": \"#E5ECF6\", \"radialaxis\": {\"gridcolor\": \"white\", \"linecolor\": \"white\", \"ticks\": \"\"}}, \"scene\": {\"xaxis\": {\"backgroundcolor\": \"#E5ECF6\", \"gridcolor\": \"white\", \"gridwidth\": 2, \"linecolor\": \"white\", \"showbackground\": true, \"ticks\": \"\", \"zerolinecolor\": \"white\"}, \"yaxis\": {\"backgroundcolor\": \"#E5ECF6\", \"gridcolor\": \"white\", \"gridwidth\": 2, \"linecolor\": \"white\", \"showbackground\": true, \"ticks\": \"\", \"zerolinecolor\": \"white\"}, \"zaxis\": {\"backgroundcolor\": \"#E5ECF6\", \"gridcolor\": \"white\", \"gridwidth\": 2, \"linecolor\": \"white\", \"showbackground\": true, \"ticks\": \"\", \"zerolinecolor\": \"white\"}}, \"shapedefaults\": {\"line\": {\"color\": \"#2a3f5f\"}}, \"ternary\": {\"aaxis\": {\"gridcolor\": \"white\", \"linecolor\": \"white\", \"ticks\": \"\"}, \"baxis\": {\"gridcolor\": \"white\", \"linecolor\": \"white\", \"ticks\": \"\"}, \"bgcolor\": \"#E5ECF6\", \"caxis\": {\"gridcolor\": \"white\", \"linecolor\": \"white\", \"ticks\": \"\"}}, \"title\": {\"x\": 0.05}, \"xaxis\": {\"automargin\": true, \"gridcolor\": \"white\", \"linecolor\": \"white\", \"ticks\": \"\", \"title\": {\"standoff\": 15}, \"zerolinecolor\": \"white\", \"zerolinewidth\": 2}, \"yaxis\": {\"automargin\": true, \"gridcolor\": \"white\", \"linecolor\": \"white\", \"ticks\": \"\", \"title\": {\"standoff\": 15}, \"zerolinecolor\": \"white\", \"zerolinewidth\": 2}}}, \"title\": {\"text\": \"THE TOTAL AMOUNT FOR EACH INSTALLS\"}, \"xaxis\": {\"anchor\": \"y\", \"categoryarray\": [\"10.0 M\", \"50.0 M\", \"100.0 M\", \"5.0 M\", \"1.0 M\", \"500.0 M\", \"1000.0 M\", \"500.0 k\", \"5000.0 M\", \"100.0 k\"], \"categoryorder\": \"array\", \"domain\": [0.0, 1.0], \"title\": {\"text\": \"Installs\"}}, \"yaxis\": {\"anchor\": \"x\", \"domain\": [0.0, 1.0], \"title\": {\"text\": \"TOTAL AMOUNT\"}}},                        {\"responsive\": true}                    ).then(function(){\n",
       "                            \n",
       "var gd = document.getElementById('49211d49-ef45-48da-a2e8-ed3de4aa8578');\n",
       "var x = new MutationObserver(function (mutations, observer) {{\n",
       "        var display = window.getComputedStyle(gd).display;\n",
       "        if (!display || display === 'none') {{\n",
       "            console.log([gd, 'removed!']);\n",
       "            Plotly.purge(gd);\n",
       "            observer.disconnect();\n",
       "        }}\n",
       "}});\n",
       "\n",
       "// Listen for the removal of the full notebook cells\n",
       "var notebookContainer = gd.closest('#notebook-container');\n",
       "if (notebookContainer) {{\n",
       "    x.observe(notebookContainer, {childList: true});\n",
       "}}\n",
       "\n",
       "// Listen for the clearing of the current output cell\n",
       "var outputEl = gd.closest('.output');\n",
       "if (outputEl) {{\n",
       "    x.observe(outputEl, {childList: true});\n",
       "}}\n",
       "\n",
       "                        })                };                });            </script>        </div>"
      ]
     },
     "metadata": {},
     "output_type": "display_data"
    }
   ],
   "source": [
    "px.bar(inst, y=inst.values, x=inst.index, text= inst.values,color=inst.index,labels= {'y': 'TOTAL AMOUNT', 'index': 'Installs'},\n",
    "        title='THE TOTAL AMOUNT FOR EACH INSTALLS'\n",
    "      )"
   ]
  },
  {
   "cell_type": "code",
   "execution_count": 133,
   "metadata": {},
   "outputs": [
    {
     "data": {
      "text/html": [
       "<div>\n",
       "<style scoped>\n",
       "    .dataframe tbody tr th:only-of-type {\n",
       "        vertical-align: middle;\n",
       "    }\n",
       "\n",
       "    .dataframe tbody tr th {\n",
       "        vertical-align: top;\n",
       "    }\n",
       "\n",
       "    .dataframe thead th {\n",
       "        text-align: right;\n",
       "    }\n",
       "</style>\n",
       "<table border=\"1\" class=\"dataframe\">\n",
       "  <thead>\n",
       "    <tr style=\"text-align: right;\">\n",
       "      <th></th>\n",
       "      <th>rank</th>\n",
       "      <th>title</th>\n",
       "      <th>total ratings</th>\n",
       "      <th>installs</th>\n",
       "      <th>average rating</th>\n",
       "      <th>growth (30 days)</th>\n",
       "      <th>growth (60 days)</th>\n",
       "      <th>price</th>\n",
       "      <th>category</th>\n",
       "      <th>5 star ratings</th>\n",
       "      <th>4 star ratings</th>\n",
       "      <th>3 star ratings</th>\n",
       "      <th>2 star ratings</th>\n",
       "      <th>1 star ratings</th>\n",
       "      <th>paid</th>\n",
       "    </tr>\n",
       "  </thead>\n",
       "  <tbody>\n",
       "    <tr>\n",
       "      <th>824</th>\n",
       "      <td>1</td>\n",
       "      <td>WhatsApp Messenger</td>\n",
       "      <td>132820159</td>\n",
       "      <td>5000.0 M</td>\n",
       "      <td>4.16</td>\n",
       "      <td>1.3</td>\n",
       "      <td>2.8</td>\n",
       "      <td>0.0</td>\n",
       "      <td>GAME FAMILY</td>\n",
       "      <td>89826657</td>\n",
       "      <td>13399678</td>\n",
       "      <td>7742411</td>\n",
       "      <td>4404948</td>\n",
       "      <td>17446463</td>\n",
       "      <td>False</td>\n",
       "    </tr>\n",
       "  </tbody>\n",
       "</table>\n",
       "</div>"
      ],
      "text/plain": [
       "     rank               title  total ratings  installs  average rating  \\\n",
       "824     1  WhatsApp Messenger      132820159  5000.0 M            4.16   \n",
       "\n",
       "     growth (30 days)  growth (60 days)  price     category  5 star ratings  \\\n",
       "824               1.3               2.8    0.0  GAME FAMILY        89826657   \n",
       "\n",
       "     4 star ratings  3 star ratings  2 star ratings  1 star ratings   paid  \n",
       "824        13399678         7742411         4404948        17446463  False  "
      ]
     },
     "execution_count": 133,
     "metadata": {},
     "output_type": "execute_result"
    }
   ],
   "source": [
    "games[(games['total ratings']==max(games['total ratings']))]"
   ]
  },
  {
   "cell_type": "markdown",
   "metadata": {},
   "source": [
    "GAME WITH THE HIGHEST total ratings"
   ]
  },
  {
   "cell_type": "code",
   "execution_count": 134,
   "metadata": {},
   "outputs": [
    {
     "data": {
      "text/html": [
       "<div>\n",
       "<style scoped>\n",
       "    .dataframe tbody tr th:only-of-type {\n",
       "        vertical-align: middle;\n",
       "    }\n",
       "\n",
       "    .dataframe tbody tr th {\n",
       "        vertical-align: top;\n",
       "    }\n",
       "\n",
       "    .dataframe thead th {\n",
       "        text-align: right;\n",
       "    }\n",
       "</style>\n",
       "<table border=\"1\" class=\"dataframe\">\n",
       "  <thead>\n",
       "    <tr style=\"text-align: right;\">\n",
       "      <th></th>\n",
       "      <th>rank</th>\n",
       "      <th>title</th>\n",
       "      <th>total ratings</th>\n",
       "      <th>installs</th>\n",
       "      <th>average rating</th>\n",
       "      <th>growth (30 days)</th>\n",
       "      <th>growth (60 days)</th>\n",
       "      <th>price</th>\n",
       "      <th>category</th>\n",
       "      <th>5 star ratings</th>\n",
       "      <th>4 star ratings</th>\n",
       "      <th>3 star ratings</th>\n",
       "      <th>2 star ratings</th>\n",
       "      <th>1 star ratings</th>\n",
       "      <th>paid</th>\n",
       "    </tr>\n",
       "  </thead>\n",
       "  <tbody>\n",
       "    <tr>\n",
       "      <th>1023</th>\n",
       "      <td>100</td>\n",
       "      <td>Beat Blader 3D: Dash and Slash!</td>\n",
       "      <td>38238</td>\n",
       "      <td>10.0 M</td>\n",
       "      <td>4.0</td>\n",
       "      <td>7.8</td>\n",
       "      <td>15.7</td>\n",
       "      <td>0.0</td>\n",
       "      <td>GAME MUSIC</td>\n",
       "      <td>24165</td>\n",
       "      <td>3453</td>\n",
       "      <td>2887</td>\n",
       "      <td>1756</td>\n",
       "      <td>5974</td>\n",
       "      <td>False</td>\n",
       "    </tr>\n",
       "  </tbody>\n",
       "</table>\n",
       "</div>"
      ],
      "text/plain": [
       "      rank                            title  total ratings installs  \\\n",
       "1023   100  Beat Blader 3D: Dash and Slash!          38238   10.0 M   \n",
       "\n",
       "      average rating  growth (30 days)  growth (60 days)  price    category  \\\n",
       "1023             4.0               7.8              15.7    0.0  GAME MUSIC   \n",
       "\n",
       "      5 star ratings  4 star ratings  3 star ratings  2 star ratings  \\\n",
       "1023           24165            3453            2887            1756   \n",
       "\n",
       "      1 star ratings   paid  \n",
       "1023            5974  False  "
      ]
     },
     "execution_count": 134,
     "metadata": {},
     "output_type": "execute_result"
    }
   ],
   "source": [
    "games[(games['total ratings']==min(games['total ratings']))]"
   ]
  },
  {
   "cell_type": "markdown",
   "metadata": {},
   "source": [
    "GAME WITH THE LOWEST total ratings"
   ]
  },
  {
   "cell_type": "code",
   "execution_count": 89,
   "metadata": {},
   "outputs": [
    {
     "data": {
      "text/html": [
       "<div>\n",
       "<style scoped>\n",
       "    .dataframe tbody tr th:only-of-type {\n",
       "        vertical-align: middle;\n",
       "    }\n",
       "\n",
       "    .dataframe tbody tr th {\n",
       "        vertical-align: top;\n",
       "    }\n",
       "\n",
       "    .dataframe thead th {\n",
       "        text-align: right;\n",
       "    }\n",
       "</style>\n",
       "<table border=\"1\" class=\"dataframe\">\n",
       "  <thead>\n",
       "    <tr style=\"text-align: right;\">\n",
       "      <th></th>\n",
       "      <th>rank</th>\n",
       "      <th>title</th>\n",
       "      <th>total ratings</th>\n",
       "      <th>installs</th>\n",
       "      <th>average rating</th>\n",
       "      <th>growth (30 days)</th>\n",
       "      <th>growth (60 days)</th>\n",
       "      <th>price</th>\n",
       "      <th>category</th>\n",
       "      <th>5 star ratings</th>\n",
       "      <th>4 star ratings</th>\n",
       "      <th>3 star ratings</th>\n",
       "      <th>2 star ratings</th>\n",
       "      <th>1 star ratings</th>\n",
       "      <th>paid</th>\n",
       "    </tr>\n",
       "  </thead>\n",
       "  <tbody>\n",
       "    <tr>\n",
       "      <th>824</th>\n",
       "      <td>1</td>\n",
       "      <td>WhatsApp Messenger</td>\n",
       "      <td>132820159</td>\n",
       "      <td>5000.0 M</td>\n",
       "      <td>4.16</td>\n",
       "      <td>1.3</td>\n",
       "      <td>2.8</td>\n",
       "      <td>0.0</td>\n",
       "      <td>GAME FAMILY</td>\n",
       "      <td>89826657</td>\n",
       "      <td>13399678</td>\n",
       "      <td>7742411</td>\n",
       "      <td>4404948</td>\n",
       "      <td>17446463</td>\n",
       "      <td>False</td>\n",
       "    </tr>\n",
       "    <tr>\n",
       "      <th>826</th>\n",
       "      <td>3</td>\n",
       "      <td>Facebook</td>\n",
       "      <td>108705138</td>\n",
       "      <td>5000.0 M</td>\n",
       "      <td>4.07</td>\n",
       "      <td>0.7</td>\n",
       "      <td>1.6</td>\n",
       "      <td>0.0</td>\n",
       "      <td>GAME FAMILY</td>\n",
       "      <td>71703602</td>\n",
       "      <td>10086692</td>\n",
       "      <td>6314913</td>\n",
       "      <td>3740935</td>\n",
       "      <td>16858993</td>\n",
       "      <td>False</td>\n",
       "    </tr>\n",
       "    <tr>\n",
       "      <th>827</th>\n",
       "      <td>4</td>\n",
       "      <td>YouTube</td>\n",
       "      <td>97516121</td>\n",
       "      <td>5000.0 M</td>\n",
       "      <td>4.15</td>\n",
       "      <td>2.6</td>\n",
       "      <td>5.0</td>\n",
       "      <td>0.0</td>\n",
       "      <td>GAME FAMILY</td>\n",
       "      <td>66109388</td>\n",
       "      <td>8904858</td>\n",
       "      <td>6193552</td>\n",
       "      <td>3565608</td>\n",
       "      <td>12742712</td>\n",
       "      <td>False</td>\n",
       "    </tr>\n",
       "    <tr>\n",
       "      <th>833</th>\n",
       "      <td>10</td>\n",
       "      <td>Google Photos</td>\n",
       "      <td>33293840</td>\n",
       "      <td>5000.0 M</td>\n",
       "      <td>4.48</td>\n",
       "      <td>2.3</td>\n",
       "      <td>4.3</td>\n",
       "      <td>0.0</td>\n",
       "      <td>GAME FAMILY</td>\n",
       "      <td>24620010</td>\n",
       "      <td>4271363</td>\n",
       "      <td>1855836</td>\n",
       "      <td>746802</td>\n",
       "      <td>1799827</td>\n",
       "      <td>False</td>\n",
       "    </tr>\n",
       "    <tr>\n",
       "      <th>837</th>\n",
       "      <td>14</td>\n",
       "      <td>Google Chrome: Fast &amp; Secure</td>\n",
       "      <td>29583584</td>\n",
       "      <td>5000.0 M</td>\n",
       "      <td>4.13</td>\n",
       "      <td>2.8</td>\n",
       "      <td>5.8</td>\n",
       "      <td>0.0</td>\n",
       "      <td>GAME FAMILY</td>\n",
       "      <td>19564322</td>\n",
       "      <td>3165652</td>\n",
       "      <td>1815874</td>\n",
       "      <td>1064633</td>\n",
       "      <td>3973101</td>\n",
       "      <td>False</td>\n",
       "    </tr>\n",
       "    <tr>\n",
       "      <th>843</th>\n",
       "      <td>20</td>\n",
       "      <td>Google</td>\n",
       "      <td>18738072</td>\n",
       "      <td>5000.0 M</td>\n",
       "      <td>4.26</td>\n",
       "      <td>2.6</td>\n",
       "      <td>4.6</td>\n",
       "      <td>0.0</td>\n",
       "      <td>GAME FAMILY</td>\n",
       "      <td>13302351</td>\n",
       "      <td>1739014</td>\n",
       "      <td>1005139</td>\n",
       "      <td>585554</td>\n",
       "      <td>2106011</td>\n",
       "      <td>False</td>\n",
       "    </tr>\n",
       "    <tr>\n",
       "      <th>857</th>\n",
       "      <td>34</td>\n",
       "      <td>Google Maps - Navigate &amp; Explore</td>\n",
       "      <td>13036304</td>\n",
       "      <td>5000.0 M</td>\n",
       "      <td>4.19</td>\n",
       "      <td>1.1</td>\n",
       "      <td>2.4</td>\n",
       "      <td>0.0</td>\n",
       "      <td>GAME FAMILY</td>\n",
       "      <td>8864285</td>\n",
       "      <td>1392943</td>\n",
       "      <td>765375</td>\n",
       "      <td>428945</td>\n",
       "      <td>1584754</td>\n",
       "      <td>False</td>\n",
       "    </tr>\n",
       "    <tr>\n",
       "      <th>884</th>\n",
       "      <td>61</td>\n",
       "      <td>Gmail</td>\n",
       "      <td>8912725</td>\n",
       "      <td>5000.0 M</td>\n",
       "      <td>4.20</td>\n",
       "      <td>3.8</td>\n",
       "      <td>5.2</td>\n",
       "      <td>0.0</td>\n",
       "      <td>GAME FAMILY</td>\n",
       "      <td>6104007</td>\n",
       "      <td>934267</td>\n",
       "      <td>506643</td>\n",
       "      <td>279050</td>\n",
       "      <td>1088756</td>\n",
       "      <td>False</td>\n",
       "    </tr>\n",
       "    <tr>\n",
       "      <th>900</th>\n",
       "      <td>77</td>\n",
       "      <td>Google Drive</td>\n",
       "      <td>7490777</td>\n",
       "      <td>5000.0 M</td>\n",
       "      <td>4.32</td>\n",
       "      <td>2.1</td>\n",
       "      <td>4.6</td>\n",
       "      <td>0.0</td>\n",
       "      <td>GAME FAMILY</td>\n",
       "      <td>5284912</td>\n",
       "      <td>841560</td>\n",
       "      <td>476085</td>\n",
       "      <td>226214</td>\n",
       "      <td>662003</td>\n",
       "      <td>False</td>\n",
       "    </tr>\n",
       "  </tbody>\n",
       "</table>\n",
       "</div>"
      ],
      "text/plain": [
       "     rank                             title  total ratings  installs  \\\n",
       "824     1                WhatsApp Messenger      132820159  5000.0 M   \n",
       "826     3                          Facebook      108705138  5000.0 M   \n",
       "827     4                           YouTube       97516121  5000.0 M   \n",
       "833    10                     Google Photos       33293840  5000.0 M   \n",
       "837    14      Google Chrome: Fast & Secure       29583584  5000.0 M   \n",
       "843    20                            Google       18738072  5000.0 M   \n",
       "857    34  Google Maps - Navigate & Explore       13036304  5000.0 M   \n",
       "884    61                             Gmail        8912725  5000.0 M   \n",
       "900    77                      Google Drive        7490777  5000.0 M   \n",
       "\n",
       "     average rating  growth (30 days)  growth (60 days)  price     category  \\\n",
       "824            4.16               1.3               2.8    0.0  GAME FAMILY   \n",
       "826            4.07               0.7               1.6    0.0  GAME FAMILY   \n",
       "827            4.15               2.6               5.0    0.0  GAME FAMILY   \n",
       "833            4.48               2.3               4.3    0.0  GAME FAMILY   \n",
       "837            4.13               2.8               5.8    0.0  GAME FAMILY   \n",
       "843            4.26               2.6               4.6    0.0  GAME FAMILY   \n",
       "857            4.19               1.1               2.4    0.0  GAME FAMILY   \n",
       "884            4.20               3.8               5.2    0.0  GAME FAMILY   \n",
       "900            4.32               2.1               4.6    0.0  GAME FAMILY   \n",
       "\n",
       "     5 star ratings  4 star ratings  3 star ratings  2 star ratings  \\\n",
       "824        89826657        13399678         7742411         4404948   \n",
       "826        71703602        10086692         6314913         3740935   \n",
       "827        66109388         8904858         6193552         3565608   \n",
       "833        24620010         4271363         1855836          746802   \n",
       "837        19564322         3165652         1815874         1064633   \n",
       "843        13302351         1739014         1005139          585554   \n",
       "857         8864285         1392943          765375          428945   \n",
       "884         6104007          934267          506643          279050   \n",
       "900         5284912          841560          476085          226214   \n",
       "\n",
       "     1 star ratings   paid  \n",
       "824        17446463  False  \n",
       "826        16858993  False  \n",
       "827        12742712  False  \n",
       "833         1799827  False  \n",
       "837         3973101  False  \n",
       "843         2106011  False  \n",
       "857         1584754  False  \n",
       "884         1088756  False  \n",
       "900          662003  False  "
      ]
     },
     "execution_count": 89,
     "metadata": {},
     "output_type": "execute_result"
    }
   ],
   "source": [
    "games[(games['installs']==max(games['installs']))]"
   ]
  },
  {
   "cell_type": "markdown",
   "metadata": {},
   "source": [
    "GAMES WITH THE HIGHEST NUMBER OF INSTALLS"
   ]
  },
  {
   "cell_type": "code",
   "execution_count": 90,
   "metadata": {},
   "outputs": [
    {
     "data": {
      "text/html": [
       "<div>\n",
       "<style scoped>\n",
       "    .dataframe tbody tr th:only-of-type {\n",
       "        vertical-align: middle;\n",
       "    }\n",
       "\n",
       "    .dataframe tbody tr th {\n",
       "        vertical-align: top;\n",
       "    }\n",
       "\n",
       "    .dataframe thead th {\n",
       "        text-align: right;\n",
       "    }\n",
       "</style>\n",
       "<table border=\"1\" class=\"dataframe\">\n",
       "  <thead>\n",
       "    <tr style=\"text-align: right;\">\n",
       "      <th></th>\n",
       "      <th>rank</th>\n",
       "      <th>title</th>\n",
       "      <th>total ratings</th>\n",
       "      <th>installs</th>\n",
       "      <th>average rating</th>\n",
       "      <th>growth (30 days)</th>\n",
       "      <th>growth (60 days)</th>\n",
       "      <th>price</th>\n",
       "      <th>category</th>\n",
       "      <th>5 star ratings</th>\n",
       "      <th>4 star ratings</th>\n",
       "      <th>3 star ratings</th>\n",
       "      <th>2 star ratings</th>\n",
       "      <th>1 star ratings</th>\n",
       "      <th>paid</th>\n",
       "    </tr>\n",
       "  </thead>\n",
       "  <tbody>\n",
       "    <tr>\n",
       "      <th>146</th>\n",
       "      <td>47</td>\n",
       "      <td>Survivors: The Quest</td>\n",
       "      <td>367520</td>\n",
       "      <td>1.0 M</td>\n",
       "      <td>4.23</td>\n",
       "      <td>0.8</td>\n",
       "      <td>1.4</td>\n",
       "      <td>0.00</td>\n",
       "      <td>GAME ADVENTURE</td>\n",
       "      <td>203815</td>\n",
       "      <td>85332</td>\n",
       "      <td>52161</td>\n",
       "      <td>12160</td>\n",
       "      <td>14049</td>\n",
       "      <td>False</td>\n",
       "    </tr>\n",
       "    <tr>\n",
       "      <th>149</th>\n",
       "      <td>50</td>\n",
       "      <td>Adventure Escape: Asylum</td>\n",
       "      <td>328964</td>\n",
       "      <td>1.0 M</td>\n",
       "      <td>4.53</td>\n",
       "      <td>0.3</td>\n",
       "      <td>0.7</td>\n",
       "      <td>0.00</td>\n",
       "      <td>GAME ADVENTURE</td>\n",
       "      <td>229461</td>\n",
       "      <td>63849</td>\n",
       "      <td>23818</td>\n",
       "      <td>4647</td>\n",
       "      <td>7186</td>\n",
       "      <td>False</td>\n",
       "    </tr>\n",
       "    <tr>\n",
       "      <th>153</th>\n",
       "      <td>54</td>\n",
       "      <td>Terraria</td>\n",
       "      <td>317546</td>\n",
       "      <td>1.0 M</td>\n",
       "      <td>4.65</td>\n",
       "      <td>1.0</td>\n",
       "      <td>2.3</td>\n",
       "      <td>4.99</td>\n",
       "      <td>GAME ADVENTURE</td>\n",
       "      <td>264563</td>\n",
       "      <td>24837</td>\n",
       "      <td>10184</td>\n",
       "      <td>4387</td>\n",
       "      <td>13572</td>\n",
       "      <td>True</td>\n",
       "    </tr>\n",
       "    <tr>\n",
       "      <th>169</th>\n",
       "      <td>70</td>\n",
       "      <td>회색도시 for Kakao</td>\n",
       "      <td>255190</td>\n",
       "      <td>1.0 M</td>\n",
       "      <td>4.42</td>\n",
       "      <td>0.0</td>\n",
       "      <td>0.0</td>\n",
       "      <td>0.00</td>\n",
       "      <td>GAME ADVENTURE</td>\n",
       "      <td>160537</td>\n",
       "      <td>59045</td>\n",
       "      <td>24428</td>\n",
       "      <td>4079</td>\n",
       "      <td>7099</td>\n",
       "      <td>False</td>\n",
       "    </tr>\n",
       "    <tr>\n",
       "      <th>174</th>\n",
       "      <td>75</td>\n",
       "      <td>The Island Castaway: Lost World®</td>\n",
       "      <td>235665</td>\n",
       "      <td>1.0 M</td>\n",
       "      <td>4.30</td>\n",
       "      <td>0.3</td>\n",
       "      <td>0.8</td>\n",
       "      <td>0.00</td>\n",
       "      <td>GAME ADVENTURE</td>\n",
       "      <td>139937</td>\n",
       "      <td>50806</td>\n",
       "      <td>29770</td>\n",
       "      <td>6835</td>\n",
       "      <td>8314</td>\n",
       "      <td>False</td>\n",
       "    </tr>\n",
       "    <tr>\n",
       "      <th>...</th>\n",
       "      <td>...</td>\n",
       "      <td>...</td>\n",
       "      <td>...</td>\n",
       "      <td>...</td>\n",
       "      <td>...</td>\n",
       "      <td>...</td>\n",
       "      <td>...</td>\n",
       "      <td>...</td>\n",
       "      <td>...</td>\n",
       "      <td>...</td>\n",
       "      <td>...</td>\n",
       "      <td>...</td>\n",
       "      <td>...</td>\n",
       "      <td>...</td>\n",
       "      <td>...</td>\n",
       "    </tr>\n",
       "    <tr>\n",
       "      <th>1818</th>\n",
       "      <td>89</td>\n",
       "      <td>7 Little Words: A fun twist on crossword puzzles</td>\n",
       "      <td>129879</td>\n",
       "      <td>1.0 M</td>\n",
       "      <td>4.65</td>\n",
       "      <td>0.1</td>\n",
       "      <td>0.2</td>\n",
       "      <td>0.00</td>\n",
       "      <td>GAME WORD</td>\n",
       "      <td>107466</td>\n",
       "      <td>11411</td>\n",
       "      <td>3367</td>\n",
       "      <td>2697</td>\n",
       "      <td>4936</td>\n",
       "      <td>False</td>\n",
       "    </tr>\n",
       "    <tr>\n",
       "      <th>1824</th>\n",
       "      <td>95</td>\n",
       "      <td>Zgadnij co to?</td>\n",
       "      <td>124155</td>\n",
       "      <td>1.0 M</td>\n",
       "      <td>4.63</td>\n",
       "      <td>0.0</td>\n",
       "      <td>0.1</td>\n",
       "      <td>0.00</td>\n",
       "      <td>GAME WORD</td>\n",
       "      <td>94530</td>\n",
       "      <td>19863</td>\n",
       "      <td>5805</td>\n",
       "      <td>1208</td>\n",
       "      <td>2747</td>\n",
       "      <td>False</td>\n",
       "    </tr>\n",
       "    <tr>\n",
       "      <th>1825</th>\n",
       "      <td>96</td>\n",
       "      <td>Piknik Słowo - Word Snack</td>\n",
       "      <td>122845</td>\n",
       "      <td>1.0 M</td>\n",
       "      <td>4.67</td>\n",
       "      <td>0.1</td>\n",
       "      <td>0.3</td>\n",
       "      <td>0.00</td>\n",
       "      <td>GAME WORD</td>\n",
       "      <td>96954</td>\n",
       "      <td>17233</td>\n",
       "      <td>5098</td>\n",
       "      <td>1249</td>\n",
       "      <td>2309</td>\n",
       "      <td>False</td>\n",
       "    </tr>\n",
       "    <tr>\n",
       "      <th>1826</th>\n",
       "      <td>97</td>\n",
       "      <td>Wordox – Free multiplayer word game</td>\n",
       "      <td>120476</td>\n",
       "      <td>1.0 M</td>\n",
       "      <td>4.21</td>\n",
       "      <td>0.0</td>\n",
       "      <td>0.1</td>\n",
       "      <td>0.00</td>\n",
       "      <td>GAME WORD</td>\n",
       "      <td>74010</td>\n",
       "      <td>21546</td>\n",
       "      <td>10648</td>\n",
       "      <td>4710</td>\n",
       "      <td>9560</td>\n",
       "      <td>False</td>\n",
       "    </tr>\n",
       "    <tr>\n",
       "      <th>1828</th>\n",
       "      <td>99</td>\n",
       "      <td>زوايا - لعبة ستحرك زوايا عقلك</td>\n",
       "      <td>110293</td>\n",
       "      <td>1.0 M</td>\n",
       "      <td>4.76</td>\n",
       "      <td>0.8</td>\n",
       "      <td>1.9</td>\n",
       "      <td>0.00</td>\n",
       "      <td>GAME WORD</td>\n",
       "      <td>99168</td>\n",
       "      <td>3528</td>\n",
       "      <td>3258</td>\n",
       "      <td>1059</td>\n",
       "      <td>3278</td>\n",
       "      <td>False</td>\n",
       "    </tr>\n",
       "  </tbody>\n",
       "</table>\n",
       "<p>191 rows × 15 columns</p>\n",
       "</div>"
      ],
      "text/plain": [
       "      rank                                             title  total ratings  \\\n",
       "146     47                              Survivors: The Quest         367520   \n",
       "149     50                          Adventure Escape: Asylum         328964   \n",
       "153     54                                          Terraria         317546   \n",
       "169     70                                    회색도시 for Kakao         255190   \n",
       "174     75                  The Island Castaway: Lost World®         235665   \n",
       "...    ...                                               ...            ...   \n",
       "1818    89  7 Little Words: A fun twist on crossword puzzles         129879   \n",
       "1824    95                                    Zgadnij co to?         124155   \n",
       "1825    96                         Piknik Słowo - Word Snack         122845   \n",
       "1826    97               Wordox – Free multiplayer word game         120476   \n",
       "1828    99                     زوايا - لعبة ستحرك زوايا عقلك         110293   \n",
       "\n",
       "     installs  average rating  growth (30 days)  growth (60 days)  price  \\\n",
       "146     1.0 M            4.23               0.8               1.4   0.00   \n",
       "149     1.0 M            4.53               0.3               0.7   0.00   \n",
       "153     1.0 M            4.65               1.0               2.3   4.99   \n",
       "169     1.0 M            4.42               0.0               0.0   0.00   \n",
       "174     1.0 M            4.30               0.3               0.8   0.00   \n",
       "...       ...             ...               ...               ...    ...   \n",
       "1818    1.0 M            4.65               0.1               0.2   0.00   \n",
       "1824    1.0 M            4.63               0.0               0.1   0.00   \n",
       "1825    1.0 M            4.67               0.1               0.3   0.00   \n",
       "1826    1.0 M            4.21               0.0               0.1   0.00   \n",
       "1828    1.0 M            4.76               0.8               1.9   0.00   \n",
       "\n",
       "            category  5 star ratings  4 star ratings  3 star ratings  \\\n",
       "146   GAME ADVENTURE          203815           85332           52161   \n",
       "149   GAME ADVENTURE          229461           63849           23818   \n",
       "153   GAME ADVENTURE          264563           24837           10184   \n",
       "169   GAME ADVENTURE          160537           59045           24428   \n",
       "174   GAME ADVENTURE          139937           50806           29770   \n",
       "...              ...             ...             ...             ...   \n",
       "1818       GAME WORD          107466           11411            3367   \n",
       "1824       GAME WORD           94530           19863            5805   \n",
       "1825       GAME WORD           96954           17233            5098   \n",
       "1826       GAME WORD           74010           21546           10648   \n",
       "1828       GAME WORD           99168            3528            3258   \n",
       "\n",
       "      2 star ratings  1 star ratings   paid  \n",
       "146            12160           14049  False  \n",
       "149             4647            7186  False  \n",
       "153             4387           13572   True  \n",
       "169             4079            7099  False  \n",
       "174             6835            8314  False  \n",
       "...              ...             ...    ...  \n",
       "1818            2697            4936  False  \n",
       "1824            1208            2747  False  \n",
       "1825            1249            2309  False  \n",
       "1826            4710            9560  False  \n",
       "1828            1059            3278  False  \n",
       "\n",
       "[191 rows x 15 columns]"
      ]
     },
     "execution_count": 90,
     "metadata": {},
     "output_type": "execute_result"
    }
   ],
   "source": [
    "games[(games['installs']==min(games['installs']))]"
   ]
  },
  {
   "cell_type": "markdown",
   "metadata": {},
   "source": [
    "GAMES WITH THE LOWEST INSTALLS"
   ]
  },
  {
   "cell_type": "code",
   "execution_count": 88,
   "metadata": {},
   "outputs": [
    {
     "data": {
      "text/html": [
       "<div>\n",
       "<style scoped>\n",
       "    .dataframe tbody tr th:only-of-type {\n",
       "        vertical-align: middle;\n",
       "    }\n",
       "\n",
       "    .dataframe tbody tr th {\n",
       "        vertical-align: top;\n",
       "    }\n",
       "\n",
       "    .dataframe thead th {\n",
       "        text-align: right;\n",
       "    }\n",
       "</style>\n",
       "<table border=\"1\" class=\"dataframe\">\n",
       "  <thead>\n",
       "    <tr style=\"text-align: right;\">\n",
       "      <th></th>\n",
       "      <th>rank</th>\n",
       "      <th>title</th>\n",
       "      <th>total ratings</th>\n",
       "      <th>installs</th>\n",
       "      <th>average rating</th>\n",
       "      <th>growth (30 days)</th>\n",
       "      <th>growth (60 days)</th>\n",
       "      <th>price</th>\n",
       "      <th>category</th>\n",
       "      <th>5 star ratings</th>\n",
       "      <th>4 star ratings</th>\n",
       "      <th>3 star ratings</th>\n",
       "      <th>2 star ratings</th>\n",
       "      <th>1 star ratings</th>\n",
       "      <th>paid</th>\n",
       "    </tr>\n",
       "  </thead>\n",
       "  <tbody>\n",
       "    <tr>\n",
       "      <th>741</th>\n",
       "      <td>18</td>\n",
       "      <td>超級單字王 - 英檢、多益、托福 輕鬆學</td>\n",
       "      <td>156922</td>\n",
       "      <td>500.0 k</td>\n",
       "      <td>4.91</td>\n",
       "      <td>0.6</td>\n",
       "      <td>1.5</td>\n",
       "      <td>0.0</td>\n",
       "      <td>GAME EDUCATIONAL</td>\n",
       "      <td>148058</td>\n",
       "      <td>6185</td>\n",
       "      <td>1428</td>\n",
       "      <td>369</td>\n",
       "      <td>879</td>\n",
       "      <td>False</td>\n",
       "    </tr>\n",
       "  </tbody>\n",
       "</table>\n",
       "</div>"
      ],
      "text/plain": [
       "     rank                 title  total ratings installs  average rating  \\\n",
       "741    18  超級單字王 - 英檢、多益、托福 輕鬆學         156922  500.0 k            4.91   \n",
       "\n",
       "     growth (30 days)  growth (60 days)  price          category  \\\n",
       "741               0.6               1.5    0.0  GAME EDUCATIONAL   \n",
       "\n",
       "     5 star ratings  4 star ratings  3 star ratings  2 star ratings  \\\n",
       "741          148058            6185            1428             369   \n",
       "\n",
       "     1 star ratings   paid  \n",
       "741             879  False  "
      ]
     },
     "execution_count": 88,
     "metadata": {},
     "output_type": "execute_result"
    }
   ],
   "source": [
    "games[(games['average rating']==max(games['average rating']))]"
   ]
  },
  {
   "cell_type": "markdown",
   "metadata": {},
   "source": [
    "GAME WITH THE HIGHEST AVERAGE RATING"
   ]
  },
  {
   "cell_type": "code",
   "execution_count": 91,
   "metadata": {},
   "outputs": [
    {
     "data": {
      "text/html": [
       "<div>\n",
       "<style scoped>\n",
       "    .dataframe tbody tr th:only-of-type {\n",
       "        vertical-align: middle;\n",
       "    }\n",
       "\n",
       "    .dataframe tbody tr th {\n",
       "        vertical-align: top;\n",
       "    }\n",
       "\n",
       "    .dataframe thead th {\n",
       "        text-align: right;\n",
       "    }\n",
       "</style>\n",
       "<table border=\"1\" class=\"dataframe\">\n",
       "  <thead>\n",
       "    <tr style=\"text-align: right;\">\n",
       "      <th></th>\n",
       "      <th>rank</th>\n",
       "      <th>title</th>\n",
       "      <th>total ratings</th>\n",
       "      <th>installs</th>\n",
       "      <th>average rating</th>\n",
       "      <th>growth (30 days)</th>\n",
       "      <th>growth (60 days)</th>\n",
       "      <th>price</th>\n",
       "      <th>category</th>\n",
       "      <th>5 star ratings</th>\n",
       "      <th>4 star ratings</th>\n",
       "      <th>3 star ratings</th>\n",
       "      <th>2 star ratings</th>\n",
       "      <th>1 star ratings</th>\n",
       "      <th>paid</th>\n",
       "    </tr>\n",
       "  </thead>\n",
       "  <tbody>\n",
       "    <tr>\n",
       "      <th>973</th>\n",
       "      <td>50</td>\n",
       "      <td>Au Mobile VTC – Game nhảy Audition</td>\n",
       "      <td>103881</td>\n",
       "      <td>5.0 M</td>\n",
       "      <td>3.09</td>\n",
       "      <td>0.1</td>\n",
       "      <td>0.3</td>\n",
       "      <td>0.0</td>\n",
       "      <td>GAME MUSIC</td>\n",
       "      <td>44324</td>\n",
       "      <td>6906</td>\n",
       "      <td>6996</td>\n",
       "      <td>5536</td>\n",
       "      <td>40117</td>\n",
       "      <td>False</td>\n",
       "    </tr>\n",
       "  </tbody>\n",
       "</table>\n",
       "</div>"
      ],
      "text/plain": [
       "     rank                               title  total ratings installs  \\\n",
       "973    50  Au Mobile VTC – Game nhảy Audition         103881    5.0 M   \n",
       "\n",
       "     average rating  growth (30 days)  growth (60 days)  price    category  \\\n",
       "973            3.09               0.1               0.3    0.0  GAME MUSIC   \n",
       "\n",
       "     5 star ratings  4 star ratings  3 star ratings  2 star ratings  \\\n",
       "973           44324            6906            6996            5536   \n",
       "\n",
       "     1 star ratings   paid  \n",
       "973           40117  False  "
      ]
     },
     "execution_count": 91,
     "metadata": {},
     "output_type": "execute_result"
    }
   ],
   "source": [
    "games[(games['average rating']==min(games['average rating']))]"
   ]
  },
  {
   "cell_type": "markdown",
   "metadata": {},
   "source": [
    "GAME WITH THE LOWEST AVERAGE RATING"
   ]
  },
  {
   "cell_type": "code",
   "execution_count": 87,
   "metadata": {},
   "outputs": [
    {
     "data": {
      "text/html": [
       "<div>\n",
       "<style scoped>\n",
       "    .dataframe tbody tr th:only-of-type {\n",
       "        vertical-align: middle;\n",
       "    }\n",
       "\n",
       "    .dataframe tbody tr th {\n",
       "        vertical-align: top;\n",
       "    }\n",
       "\n",
       "    .dataframe thead th {\n",
       "        text-align: right;\n",
       "    }\n",
       "</style>\n",
       "<table border=\"1\" class=\"dataframe\">\n",
       "  <thead>\n",
       "    <tr style=\"text-align: right;\">\n",
       "      <th></th>\n",
       "      <th>rank</th>\n",
       "      <th>title</th>\n",
       "      <th>total ratings</th>\n",
       "      <th>installs</th>\n",
       "      <th>average rating</th>\n",
       "      <th>growth (30 days)</th>\n",
       "      <th>growth (60 days)</th>\n",
       "      <th>price</th>\n",
       "      <th>category</th>\n",
       "      <th>5 star ratings</th>\n",
       "      <th>4 star ratings</th>\n",
       "      <th>3 star ratings</th>\n",
       "      <th>2 star ratings</th>\n",
       "      <th>1 star ratings</th>\n",
       "      <th>paid</th>\n",
       "    </tr>\n",
       "  </thead>\n",
       "  <tbody>\n",
       "    <tr>\n",
       "      <th>1780</th>\n",
       "      <td>51</td>\n",
       "      <td>Fill-The-Words - word search puzzle</td>\n",
       "      <td>275831</td>\n",
       "      <td>10.0 M</td>\n",
       "      <td>4.62</td>\n",
       "      <td>140394.4</td>\n",
       "      <td>0.5</td>\n",
       "      <td>0.0</td>\n",
       "      <td>GAME WORD</td>\n",
       "      <td>222986</td>\n",
       "      <td>27985</td>\n",
       "      <td>9062</td>\n",
       "      <td>3976</td>\n",
       "      <td>11819</td>\n",
       "      <td>False</td>\n",
       "    </tr>\n",
       "  </tbody>\n",
       "</table>\n",
       "</div>"
      ],
      "text/plain": [
       "      rank                                title  total ratings installs  \\\n",
       "1780    51  Fill-The-Words - word search puzzle         275831   10.0 M   \n",
       "\n",
       "      average rating  growth (30 days)  growth (60 days)  price   category  \\\n",
       "1780            4.62          140394.4               0.5    0.0  GAME WORD   \n",
       "\n",
       "      5 star ratings  4 star ratings  3 star ratings  2 star ratings  \\\n",
       "1780          222986           27985            9062            3976   \n",
       "\n",
       "      1 star ratings   paid  \n",
       "1780           11819  False  "
      ]
     },
     "execution_count": 87,
     "metadata": {},
     "output_type": "execute_result"
    }
   ],
   "source": [
    "games[(games['growth (30 days)']==max(games['growth (30 days)']))]"
   ]
  },
  {
   "cell_type": "markdown",
   "metadata": {},
   "source": [
    "GAME WITH THE HIGHEST GROWTH IN 30 DAYS"
   ]
  },
  {
   "cell_type": "code",
   "execution_count": 92,
   "metadata": {},
   "outputs": [
    {
     "data": {
      "text/html": [
       "<div>\n",
       "<style scoped>\n",
       "    .dataframe tbody tr th:only-of-type {\n",
       "        vertical-align: middle;\n",
       "    }\n",
       "\n",
       "    .dataframe tbody tr th {\n",
       "        vertical-align: top;\n",
       "    }\n",
       "\n",
       "    .dataframe thead th {\n",
       "        text-align: right;\n",
       "    }\n",
       "</style>\n",
       "<table border=\"1\" class=\"dataframe\">\n",
       "  <thead>\n",
       "    <tr style=\"text-align: right;\">\n",
       "      <th></th>\n",
       "      <th>rank</th>\n",
       "      <th>title</th>\n",
       "      <th>total ratings</th>\n",
       "      <th>installs</th>\n",
       "      <th>average rating</th>\n",
       "      <th>growth (30 days)</th>\n",
       "      <th>growth (60 days)</th>\n",
       "      <th>price</th>\n",
       "      <th>category</th>\n",
       "      <th>5 star ratings</th>\n",
       "      <th>4 star ratings</th>\n",
       "      <th>3 star ratings</th>\n",
       "      <th>2 star ratings</th>\n",
       "      <th>1 star ratings</th>\n",
       "      <th>paid</th>\n",
       "    </tr>\n",
       "  </thead>\n",
       "  <tbody>\n",
       "    <tr>\n",
       "      <th>18</th>\n",
       "      <td>19</td>\n",
       "      <td>Helix Jump</td>\n",
       "      <td>4260419</td>\n",
       "      <td>100.0 M</td>\n",
       "      <td>4.07</td>\n",
       "      <td>0.0</td>\n",
       "      <td>0.2</td>\n",
       "      <td>0.0</td>\n",
       "      <td>GAME ACTION</td>\n",
       "      <td>2654404</td>\n",
       "      <td>542456</td>\n",
       "      <td>338551</td>\n",
       "      <td>178344</td>\n",
       "      <td>546662</td>\n",
       "      <td>False</td>\n",
       "    </tr>\n",
       "    <tr>\n",
       "      <th>23</th>\n",
       "      <td>24</td>\n",
       "      <td>DEER HUNTER CLASSIC</td>\n",
       "      <td>3986647</td>\n",
       "      <td>100.0 M</td>\n",
       "      <td>4.39</td>\n",
       "      <td>0.0</td>\n",
       "      <td>0.0</td>\n",
       "      <td>0.0</td>\n",
       "      <td>GAME ACTION</td>\n",
       "      <td>2777555</td>\n",
       "      <td>615632</td>\n",
       "      <td>242394</td>\n",
       "      <td>81060</td>\n",
       "      <td>270003</td>\n",
       "      <td>False</td>\n",
       "    </tr>\n",
       "    <tr>\n",
       "      <th>53</th>\n",
       "      <td>54</td>\n",
       "      <td>Blitz Brigade - Online FPS fun</td>\n",
       "      <td>1598893</td>\n",
       "      <td>10.0 M</td>\n",
       "      <td>3.93</td>\n",
       "      <td>0.0</td>\n",
       "      <td>0.0</td>\n",
       "      <td>0.0</td>\n",
       "      <td>GAME ACTION</td>\n",
       "      <td>999022</td>\n",
       "      <td>145747</td>\n",
       "      <td>98957</td>\n",
       "      <td>53783</td>\n",
       "      <td>301381</td>\n",
       "      <td>False</td>\n",
       "    </tr>\n",
       "    <tr>\n",
       "      <th>79</th>\n",
       "      <td>80</td>\n",
       "      <td>Deer Hunter 2018</td>\n",
       "      <td>1022335</td>\n",
       "      <td>50.0 M</td>\n",
       "      <td>4.01</td>\n",
       "      <td>0.0</td>\n",
       "      <td>0.1</td>\n",
       "      <td>0.0</td>\n",
       "      <td>GAME ACTION</td>\n",
       "      <td>639683</td>\n",
       "      <td>120437</td>\n",
       "      <td>62570</td>\n",
       "      <td>33042</td>\n",
       "      <td>166601</td>\n",
       "      <td>False</td>\n",
       "    </tr>\n",
       "    <tr>\n",
       "      <th>82</th>\n",
       "      <td>83</td>\n",
       "      <td>FRONTLINE COMMANDO 2</td>\n",
       "      <td>997973</td>\n",
       "      <td>10.0 M</td>\n",
       "      <td>4.46</td>\n",
       "      <td>0.0</td>\n",
       "      <td>0.1</td>\n",
       "      <td>0.0</td>\n",
       "      <td>GAME ACTION</td>\n",
       "      <td>715952</td>\n",
       "      <td>147189</td>\n",
       "      <td>62085</td>\n",
       "      <td>19024</td>\n",
       "      <td>53721</td>\n",
       "      <td>False</td>\n",
       "    </tr>\n",
       "    <tr>\n",
       "      <th>...</th>\n",
       "      <td>...</td>\n",
       "      <td>...</td>\n",
       "      <td>...</td>\n",
       "      <td>...</td>\n",
       "      <td>...</td>\n",
       "      <td>...</td>\n",
       "      <td>...</td>\n",
       "      <td>...</td>\n",
       "      <td>...</td>\n",
       "      <td>...</td>\n",
       "      <td>...</td>\n",
       "      <td>...</td>\n",
       "      <td>...</td>\n",
       "      <td>...</td>\n",
       "      <td>...</td>\n",
       "    </tr>\n",
       "    <tr>\n",
       "      <th>1817</th>\n",
       "      <td>88</td>\n",
       "      <td>Teka Teki Silang</td>\n",
       "      <td>136575</td>\n",
       "      <td>5.0 M</td>\n",
       "      <td>4.36</td>\n",
       "      <td>0.0</td>\n",
       "      <td>0.0</td>\n",
       "      <td>0.0</td>\n",
       "      <td>GAME WORD</td>\n",
       "      <td>82262</td>\n",
       "      <td>30138</td>\n",
       "      <td>18250</td>\n",
       "      <td>2817</td>\n",
       "      <td>3106</td>\n",
       "      <td>False</td>\n",
       "    </tr>\n",
       "    <tr>\n",
       "      <th>1820</th>\n",
       "      <td>91</td>\n",
       "      <td>Escape Room: Mystery Word</td>\n",
       "      <td>127263</td>\n",
       "      <td>10.0 M</td>\n",
       "      <td>4.18</td>\n",
       "      <td>0.0</td>\n",
       "      <td>0.1</td>\n",
       "      <td>0.0</td>\n",
       "      <td>GAME WORD</td>\n",
       "      <td>88905</td>\n",
       "      <td>9635</td>\n",
       "      <td>7354</td>\n",
       "      <td>5121</td>\n",
       "      <td>16245</td>\n",
       "      <td>False</td>\n",
       "    </tr>\n",
       "    <tr>\n",
       "      <th>1822</th>\n",
       "      <td>93</td>\n",
       "      <td>Jogo da Forca</td>\n",
       "      <td>126068</td>\n",
       "      <td>10.0 M</td>\n",
       "      <td>4.24</td>\n",
       "      <td>0.0</td>\n",
       "      <td>0.0</td>\n",
       "      <td>0.0</td>\n",
       "      <td>GAME WORD</td>\n",
       "      <td>84188</td>\n",
       "      <td>16537</td>\n",
       "      <td>9233</td>\n",
       "      <td>3647</td>\n",
       "      <td>12460</td>\n",
       "      <td>False</td>\n",
       "    </tr>\n",
       "    <tr>\n",
       "      <th>1824</th>\n",
       "      <td>95</td>\n",
       "      <td>Zgadnij co to?</td>\n",
       "      <td>124155</td>\n",
       "      <td>1.0 M</td>\n",
       "      <td>4.63</td>\n",
       "      <td>0.0</td>\n",
       "      <td>0.1</td>\n",
       "      <td>0.0</td>\n",
       "      <td>GAME WORD</td>\n",
       "      <td>94530</td>\n",
       "      <td>19863</td>\n",
       "      <td>5805</td>\n",
       "      <td>1208</td>\n",
       "      <td>2747</td>\n",
       "      <td>False</td>\n",
       "    </tr>\n",
       "    <tr>\n",
       "      <th>1826</th>\n",
       "      <td>97</td>\n",
       "      <td>Wordox – Free multiplayer word game</td>\n",
       "      <td>120476</td>\n",
       "      <td>1.0 M</td>\n",
       "      <td>4.21</td>\n",
       "      <td>0.0</td>\n",
       "      <td>0.1</td>\n",
       "      <td>0.0</td>\n",
       "      <td>GAME WORD</td>\n",
       "      <td>74010</td>\n",
       "      <td>21546</td>\n",
       "      <td>10648</td>\n",
       "      <td>4710</td>\n",
       "      <td>9560</td>\n",
       "      <td>False</td>\n",
       "    </tr>\n",
       "  </tbody>\n",
       "</table>\n",
       "<p>278 rows × 15 columns</p>\n",
       "</div>"
      ],
      "text/plain": [
       "      rank                                title  total ratings installs  \\\n",
       "18      19                           Helix Jump        4260419  100.0 M   \n",
       "23      24                  DEER HUNTER CLASSIC        3986647  100.0 M   \n",
       "53      54       Blitz Brigade - Online FPS fun        1598893   10.0 M   \n",
       "79      80                     Deer Hunter 2018        1022335   50.0 M   \n",
       "82      83                 FRONTLINE COMMANDO 2         997973   10.0 M   \n",
       "...    ...                                  ...            ...      ...   \n",
       "1817    88                     Teka Teki Silang         136575    5.0 M   \n",
       "1820    91            Escape Room: Mystery Word         127263   10.0 M   \n",
       "1822    93                        Jogo da Forca         126068   10.0 M   \n",
       "1824    95                       Zgadnij co to?         124155    1.0 M   \n",
       "1826    97  Wordox – Free multiplayer word game         120476    1.0 M   \n",
       "\n",
       "      average rating  growth (30 days)  growth (60 days)  price     category  \\\n",
       "18              4.07               0.0               0.2    0.0  GAME ACTION   \n",
       "23              4.39               0.0               0.0    0.0  GAME ACTION   \n",
       "53              3.93               0.0               0.0    0.0  GAME ACTION   \n",
       "79              4.01               0.0               0.1    0.0  GAME ACTION   \n",
       "82              4.46               0.0               0.1    0.0  GAME ACTION   \n",
       "...              ...               ...               ...    ...          ...   \n",
       "1817            4.36               0.0               0.0    0.0    GAME WORD   \n",
       "1820            4.18               0.0               0.1    0.0    GAME WORD   \n",
       "1822            4.24               0.0               0.0    0.0    GAME WORD   \n",
       "1824            4.63               0.0               0.1    0.0    GAME WORD   \n",
       "1826            4.21               0.0               0.1    0.0    GAME WORD   \n",
       "\n",
       "      5 star ratings  4 star ratings  3 star ratings  2 star ratings  \\\n",
       "18           2654404          542456          338551          178344   \n",
       "23           2777555          615632          242394           81060   \n",
       "53            999022          145747           98957           53783   \n",
       "79            639683          120437           62570           33042   \n",
       "82            715952          147189           62085           19024   \n",
       "...              ...             ...             ...             ...   \n",
       "1817           82262           30138           18250            2817   \n",
       "1820           88905            9635            7354            5121   \n",
       "1822           84188           16537            9233            3647   \n",
       "1824           94530           19863            5805            1208   \n",
       "1826           74010           21546           10648            4710   \n",
       "\n",
       "      1 star ratings   paid  \n",
       "18            546662  False  \n",
       "23            270003  False  \n",
       "53            301381  False  \n",
       "79            166601  False  \n",
       "82             53721  False  \n",
       "...              ...    ...  \n",
       "1817            3106  False  \n",
       "1820           16245  False  \n",
       "1822           12460  False  \n",
       "1824            2747  False  \n",
       "1826            9560  False  \n",
       "\n",
       "[278 rows x 15 columns]"
      ]
     },
     "execution_count": 92,
     "metadata": {},
     "output_type": "execute_result"
    }
   ],
   "source": [
    "games[(games['growth (30 days)']==min(games['growth (30 days)']))]"
   ]
  },
  {
   "cell_type": "markdown",
   "metadata": {},
   "source": [
    "GAME WITH THE LOWEST GROWTH IN 30 DAYS"
   ]
  },
  {
   "cell_type": "code",
   "execution_count": 86,
   "metadata": {},
   "outputs": [
    {
     "data": {
      "text/html": [
       "<div>\n",
       "<style scoped>\n",
       "    .dataframe tbody tr th:only-of-type {\n",
       "        vertical-align: middle;\n",
       "    }\n",
       "\n",
       "    .dataframe tbody tr th {\n",
       "        vertical-align: top;\n",
       "    }\n",
       "\n",
       "    .dataframe thead th {\n",
       "        text-align: right;\n",
       "    }\n",
       "</style>\n",
       "<table border=\"1\" class=\"dataframe\">\n",
       "  <thead>\n",
       "    <tr style=\"text-align: right;\">\n",
       "      <th></th>\n",
       "      <th>rank</th>\n",
       "      <th>title</th>\n",
       "      <th>total ratings</th>\n",
       "      <th>installs</th>\n",
       "      <th>average rating</th>\n",
       "      <th>growth (30 days)</th>\n",
       "      <th>growth (60 days)</th>\n",
       "      <th>price</th>\n",
       "      <th>category</th>\n",
       "      <th>5 star ratings</th>\n",
       "      <th>4 star ratings</th>\n",
       "      <th>3 star ratings</th>\n",
       "      <th>2 star ratings</th>\n",
       "      <th>1 star ratings</th>\n",
       "      <th>paid</th>\n",
       "    </tr>\n",
       "  </thead>\n",
       "  <tbody>\n",
       "    <tr>\n",
       "      <th>799</th>\n",
       "      <td>76</td>\n",
       "      <td>My Town : Best Friends' House games for kids</td>\n",
       "      <td>57996</td>\n",
       "      <td>5.0 M</td>\n",
       "      <td>4.18</td>\n",
       "      <td>26.8</td>\n",
       "      <td>605.1</td>\n",
       "      <td>0.0</td>\n",
       "      <td>GAME EDUCATIONAL</td>\n",
       "      <td>40743</td>\n",
       "      <td>4476</td>\n",
       "      <td>2753</td>\n",
       "      <td>2578</td>\n",
       "      <td>7444</td>\n",
       "      <td>False</td>\n",
       "    </tr>\n",
       "  </tbody>\n",
       "</table>\n",
       "</div>"
      ],
      "text/plain": [
       "     rank                                         title  total ratings  \\\n",
       "799    76  My Town : Best Friends' House games for kids          57996   \n",
       "\n",
       "    installs  average rating  growth (30 days)  growth (60 days)  price  \\\n",
       "799    5.0 M            4.18              26.8             605.1    0.0   \n",
       "\n",
       "             category  5 star ratings  4 star ratings  3 star ratings  \\\n",
       "799  GAME EDUCATIONAL           40743            4476            2753   \n",
       "\n",
       "     2 star ratings  1 star ratings   paid  \n",
       "799            2578            7444  False  "
      ]
     },
     "execution_count": 86,
     "metadata": {},
     "output_type": "execute_result"
    }
   ],
   "source": [
    "games[(games['growth (60 days)']==max(games['growth (60 days)']))]"
   ]
  },
  {
   "cell_type": "markdown",
   "metadata": {},
   "source": [
    "GAME WITH THE HIGHEST GROWTH IN 60 DAYS"
   ]
  },
  {
   "cell_type": "code",
   "execution_count": 93,
   "metadata": {},
   "outputs": [
    {
     "data": {
      "text/html": [
       "<div>\n",
       "<style scoped>\n",
       "    .dataframe tbody tr th:only-of-type {\n",
       "        vertical-align: middle;\n",
       "    }\n",
       "\n",
       "    .dataframe tbody tr th {\n",
       "        vertical-align: top;\n",
       "    }\n",
       "\n",
       "    .dataframe thead th {\n",
       "        text-align: right;\n",
       "    }\n",
       "</style>\n",
       "<table border=\"1\" class=\"dataframe\">\n",
       "  <thead>\n",
       "    <tr style=\"text-align: right;\">\n",
       "      <th></th>\n",
       "      <th>rank</th>\n",
       "      <th>title</th>\n",
       "      <th>total ratings</th>\n",
       "      <th>installs</th>\n",
       "      <th>average rating</th>\n",
       "      <th>growth (30 days)</th>\n",
       "      <th>growth (60 days)</th>\n",
       "      <th>price</th>\n",
       "      <th>category</th>\n",
       "      <th>5 star ratings</th>\n",
       "      <th>4 star ratings</th>\n",
       "      <th>3 star ratings</th>\n",
       "      <th>2 star ratings</th>\n",
       "      <th>1 star ratings</th>\n",
       "      <th>paid</th>\n",
       "    </tr>\n",
       "  </thead>\n",
       "  <tbody>\n",
       "    <tr>\n",
       "      <th>23</th>\n",
       "      <td>24</td>\n",
       "      <td>DEER HUNTER CLASSIC</td>\n",
       "      <td>3986647</td>\n",
       "      <td>100.0 M</td>\n",
       "      <td>4.39</td>\n",
       "      <td>0.0</td>\n",
       "      <td>0.0</td>\n",
       "      <td>0.0</td>\n",
       "      <td>GAME ACTION</td>\n",
       "      <td>2777555</td>\n",
       "      <td>615632</td>\n",
       "      <td>242394</td>\n",
       "      <td>81060</td>\n",
       "      <td>270003</td>\n",
       "      <td>False</td>\n",
       "    </tr>\n",
       "    <tr>\n",
       "      <th>53</th>\n",
       "      <td>54</td>\n",
       "      <td>Blitz Brigade - Online FPS fun</td>\n",
       "      <td>1598893</td>\n",
       "      <td>10.0 M</td>\n",
       "      <td>3.93</td>\n",
       "      <td>0.0</td>\n",
       "      <td>0.0</td>\n",
       "      <td>0.0</td>\n",
       "      <td>GAME ACTION</td>\n",
       "      <td>999022</td>\n",
       "      <td>145747</td>\n",
       "      <td>98957</td>\n",
       "      <td>53783</td>\n",
       "      <td>301381</td>\n",
       "      <td>False</td>\n",
       "    </tr>\n",
       "    <tr>\n",
       "      <th>93</th>\n",
       "      <td>94</td>\n",
       "      <td>Beat the Boss 3</td>\n",
       "      <td>809795</td>\n",
       "      <td>10.0 M</td>\n",
       "      <td>4.51</td>\n",
       "      <td>0.0</td>\n",
       "      <td>0.0</td>\n",
       "      <td>0.0</td>\n",
       "      <td>GAME ACTION</td>\n",
       "      <td>626256</td>\n",
       "      <td>79461</td>\n",
       "      <td>43472</td>\n",
       "      <td>13250</td>\n",
       "      <td>47353</td>\n",
       "      <td>False</td>\n",
       "    </tr>\n",
       "    <tr>\n",
       "      <th>95</th>\n",
       "      <td>96</td>\n",
       "      <td>BLOOD &amp; GLORY</td>\n",
       "      <td>799803</td>\n",
       "      <td>10.0 M</td>\n",
       "      <td>3.83</td>\n",
       "      <td>0.0</td>\n",
       "      <td>0.0</td>\n",
       "      <td>0.0</td>\n",
       "      <td>GAME ACTION</td>\n",
       "      <td>487636</td>\n",
       "      <td>76830</td>\n",
       "      <td>33821</td>\n",
       "      <td>18264</td>\n",
       "      <td>183249</td>\n",
       "      <td>False</td>\n",
       "    </tr>\n",
       "    <tr>\n",
       "      <th>103</th>\n",
       "      <td>4</td>\n",
       "      <td>쿠키런 for Kakao</td>\n",
       "      <td>2554945</td>\n",
       "      <td>10.0 M</td>\n",
       "      <td>4.27</td>\n",
       "      <td>0.0</td>\n",
       "      <td>0.0</td>\n",
       "      <td>0.0</td>\n",
       "      <td>GAME ADVENTURE</td>\n",
       "      <td>1728847</td>\n",
       "      <td>325007</td>\n",
       "      <td>199467</td>\n",
       "      <td>74666</td>\n",
       "      <td>226955</td>\n",
       "      <td>False</td>\n",
       "    </tr>\n",
       "    <tr>\n",
       "      <th>...</th>\n",
       "      <td>...</td>\n",
       "      <td>...</td>\n",
       "      <td>...</td>\n",
       "      <td>...</td>\n",
       "      <td>...</td>\n",
       "      <td>...</td>\n",
       "      <td>...</td>\n",
       "      <td>...</td>\n",
       "      <td>...</td>\n",
       "      <td>...</td>\n",
       "      <td>...</td>\n",
       "      <td>...</td>\n",
       "      <td>...</td>\n",
       "      <td>...</td>\n",
       "      <td>...</td>\n",
       "    </tr>\n",
       "    <tr>\n",
       "      <th>1805</th>\n",
       "      <td>76</td>\n",
       "      <td>Word Crack Mix 2</td>\n",
       "      <td>159357</td>\n",
       "      <td>5.0 M</td>\n",
       "      <td>4.04</td>\n",
       "      <td>0.0</td>\n",
       "      <td>0.0</td>\n",
       "      <td>0.0</td>\n",
       "      <td>GAME WORD</td>\n",
       "      <td>81330</td>\n",
       "      <td>41797</td>\n",
       "      <td>14271</td>\n",
       "      <td>5020</td>\n",
       "      <td>16936</td>\n",
       "      <td>False</td>\n",
       "    </tr>\n",
       "    <tr>\n",
       "      <th>1814</th>\n",
       "      <td>85</td>\n",
       "      <td>Word Trek - Word Brain streak - hand made puzzles</td>\n",
       "      <td>143865</td>\n",
       "      <td>5.0 M</td>\n",
       "      <td>4.46</td>\n",
       "      <td>0.0</td>\n",
       "      <td>0.0</td>\n",
       "      <td>0.0</td>\n",
       "      <td>GAME WORD</td>\n",
       "      <td>94569</td>\n",
       "      <td>31779</td>\n",
       "      <td>11088</td>\n",
       "      <td>2545</td>\n",
       "      <td>3882</td>\n",
       "      <td>False</td>\n",
       "    </tr>\n",
       "    <tr>\n",
       "      <th>1816</th>\n",
       "      <td>87</td>\n",
       "      <td>Words Crush: Hidden Themes!</td>\n",
       "      <td>137143</td>\n",
       "      <td>1.0 M</td>\n",
       "      <td>4.53</td>\n",
       "      <td>0.0</td>\n",
       "      <td>0.0</td>\n",
       "      <td>0.0</td>\n",
       "      <td>GAME WORD</td>\n",
       "      <td>90806</td>\n",
       "      <td>33063</td>\n",
       "      <td>10249</td>\n",
       "      <td>1357</td>\n",
       "      <td>1666</td>\n",
       "      <td>False</td>\n",
       "    </tr>\n",
       "    <tr>\n",
       "      <th>1817</th>\n",
       "      <td>88</td>\n",
       "      <td>Teka Teki Silang</td>\n",
       "      <td>136575</td>\n",
       "      <td>5.0 M</td>\n",
       "      <td>4.36</td>\n",
       "      <td>0.0</td>\n",
       "      <td>0.0</td>\n",
       "      <td>0.0</td>\n",
       "      <td>GAME WORD</td>\n",
       "      <td>82262</td>\n",
       "      <td>30138</td>\n",
       "      <td>18250</td>\n",
       "      <td>2817</td>\n",
       "      <td>3106</td>\n",
       "      <td>False</td>\n",
       "    </tr>\n",
       "    <tr>\n",
       "      <th>1822</th>\n",
       "      <td>93</td>\n",
       "      <td>Jogo da Forca</td>\n",
       "      <td>126068</td>\n",
       "      <td>10.0 M</td>\n",
       "      <td>4.24</td>\n",
       "      <td>0.0</td>\n",
       "      <td>0.0</td>\n",
       "      <td>0.0</td>\n",
       "      <td>GAME WORD</td>\n",
       "      <td>84188</td>\n",
       "      <td>16537</td>\n",
       "      <td>9233</td>\n",
       "      <td>3647</td>\n",
       "      <td>12460</td>\n",
       "      <td>False</td>\n",
       "    </tr>\n",
       "  </tbody>\n",
       "</table>\n",
       "<p>176 rows × 15 columns</p>\n",
       "</div>"
      ],
      "text/plain": [
       "      rank                                              title  total ratings  \\\n",
       "23      24                                DEER HUNTER CLASSIC        3986647   \n",
       "53      54                     Blitz Brigade - Online FPS fun        1598893   \n",
       "93      94                                    Beat the Boss 3         809795   \n",
       "95      96                                      BLOOD & GLORY         799803   \n",
       "103      4                                      쿠키런 for Kakao        2554945   \n",
       "...    ...                                                ...            ...   \n",
       "1805    76                                   Word Crack Mix 2         159357   \n",
       "1814    85  Word Trek - Word Brain streak - hand made puzzles         143865   \n",
       "1816    87                        Words Crush: Hidden Themes!         137143   \n",
       "1817    88                                   Teka Teki Silang         136575   \n",
       "1822    93                                      Jogo da Forca         126068   \n",
       "\n",
       "     installs  average rating  growth (30 days)  growth (60 days)  price  \\\n",
       "23    100.0 M            4.39               0.0               0.0    0.0   \n",
       "53     10.0 M            3.93               0.0               0.0    0.0   \n",
       "93     10.0 M            4.51               0.0               0.0    0.0   \n",
       "95     10.0 M            3.83               0.0               0.0    0.0   \n",
       "103    10.0 M            4.27               0.0               0.0    0.0   \n",
       "...       ...             ...               ...               ...    ...   \n",
       "1805    5.0 M            4.04               0.0               0.0    0.0   \n",
       "1814    5.0 M            4.46               0.0               0.0    0.0   \n",
       "1816    1.0 M            4.53               0.0               0.0    0.0   \n",
       "1817    5.0 M            4.36               0.0               0.0    0.0   \n",
       "1822   10.0 M            4.24               0.0               0.0    0.0   \n",
       "\n",
       "            category  5 star ratings  4 star ratings  3 star ratings  \\\n",
       "23       GAME ACTION         2777555          615632          242394   \n",
       "53       GAME ACTION          999022          145747           98957   \n",
       "93       GAME ACTION          626256           79461           43472   \n",
       "95       GAME ACTION          487636           76830           33821   \n",
       "103   GAME ADVENTURE         1728847          325007          199467   \n",
       "...              ...             ...             ...             ...   \n",
       "1805       GAME WORD           81330           41797           14271   \n",
       "1814       GAME WORD           94569           31779           11088   \n",
       "1816       GAME WORD           90806           33063           10249   \n",
       "1817       GAME WORD           82262           30138           18250   \n",
       "1822       GAME WORD           84188           16537            9233   \n",
       "\n",
       "      2 star ratings  1 star ratings   paid  \n",
       "23             81060          270003  False  \n",
       "53             53783          301381  False  \n",
       "93             13250           47353  False  \n",
       "95             18264          183249  False  \n",
       "103            74666          226955  False  \n",
       "...              ...             ...    ...  \n",
       "1805            5020           16936  False  \n",
       "1814            2545            3882  False  \n",
       "1816            1357            1666  False  \n",
       "1817            2817            3106  False  \n",
       "1822            3647           12460  False  \n",
       "\n",
       "[176 rows x 15 columns]"
      ]
     },
     "execution_count": 93,
     "metadata": {},
     "output_type": "execute_result"
    }
   ],
   "source": [
    "games[(games['growth (60 days)']==min(games['growth (60 days)']))]"
   ]
  },
  {
   "cell_type": "markdown",
   "metadata": {},
   "source": [
    "GAME WITH THE LOWEST GROWTH IN 60 DAYS"
   ]
  },
  {
   "cell_type": "code",
   "execution_count": 111,
   "metadata": {},
   "outputs": [
    {
     "data": {
      "text/html": [
       "<div>\n",
       "<style scoped>\n",
       "    .dataframe tbody tr th:only-of-type {\n",
       "        vertical-align: middle;\n",
       "    }\n",
       "\n",
       "    .dataframe tbody tr th {\n",
       "        vertical-align: top;\n",
       "    }\n",
       "\n",
       "    .dataframe thead th {\n",
       "        text-align: right;\n",
       "    }\n",
       "</style>\n",
       "<table border=\"1\" class=\"dataframe\">\n",
       "  <thead>\n",
       "    <tr style=\"text-align: right;\">\n",
       "      <th></th>\n",
       "      <th>rank</th>\n",
       "      <th>title</th>\n",
       "      <th>total ratings</th>\n",
       "      <th>installs</th>\n",
       "      <th>average rating</th>\n",
       "      <th>growth (30 days)</th>\n",
       "      <th>growth (60 days)</th>\n",
       "      <th>price</th>\n",
       "      <th>category</th>\n",
       "      <th>5 star ratings</th>\n",
       "      <th>4 star ratings</th>\n",
       "      <th>3 star ratings</th>\n",
       "      <th>2 star ratings</th>\n",
       "      <th>1 star ratings</th>\n",
       "      <th>paid</th>\n",
       "    </tr>\n",
       "  </thead>\n",
       "  <tbody>\n",
       "    <tr>\n",
       "      <th>824</th>\n",
       "      <td>1</td>\n",
       "      <td>WhatsApp Messenger</td>\n",
       "      <td>132820159</td>\n",
       "      <td>5000.0 M</td>\n",
       "      <td>4.16</td>\n",
       "      <td>1.3</td>\n",
       "      <td>2.8</td>\n",
       "      <td>0.0</td>\n",
       "      <td>GAME FAMILY</td>\n",
       "      <td>89826657</td>\n",
       "      <td>13399678</td>\n",
       "      <td>7742411</td>\n",
       "      <td>4404948</td>\n",
       "      <td>17446463</td>\n",
       "      <td>False</td>\n",
       "    </tr>\n",
       "  </tbody>\n",
       "</table>\n",
       "</div>"
      ],
      "text/plain": [
       "     rank               title  total ratings  installs  average rating  \\\n",
       "824     1  WhatsApp Messenger      132820159  5000.0 M            4.16   \n",
       "\n",
       "     growth (30 days)  growth (60 days)  price     category  5 star ratings  \\\n",
       "824               1.3               2.8    0.0  GAME FAMILY        89826657   \n",
       "\n",
       "     4 star ratings  3 star ratings  2 star ratings  1 star ratings   paid  \n",
       "824        13399678         7742411         4404948        17446463  False  "
      ]
     },
     "execution_count": 111,
     "metadata": {},
     "output_type": "execute_result"
    }
   ],
   "source": [
    "games[(games['5 star ratings']==max(games['5 star ratings']))]"
   ]
  },
  {
   "cell_type": "markdown",
   "metadata": {},
   "source": [
    "GAME WITH THE HIGHEST 5 star ratings "
   ]
  },
  {
   "cell_type": "code",
   "execution_count": 112,
   "metadata": {},
   "outputs": [
    {
     "data": {
      "text/html": [
       "<div>\n",
       "<style scoped>\n",
       "    .dataframe tbody tr th:only-of-type {\n",
       "        vertical-align: middle;\n",
       "    }\n",
       "\n",
       "    .dataframe tbody tr th {\n",
       "        vertical-align: top;\n",
       "    }\n",
       "\n",
       "    .dataframe thead th {\n",
       "        text-align: right;\n",
       "    }\n",
       "</style>\n",
       "<table border=\"1\" class=\"dataframe\">\n",
       "  <thead>\n",
       "    <tr style=\"text-align: right;\">\n",
       "      <th></th>\n",
       "      <th>rank</th>\n",
       "      <th>title</th>\n",
       "      <th>total ratings</th>\n",
       "      <th>installs</th>\n",
       "      <th>average rating</th>\n",
       "      <th>growth (30 days)</th>\n",
       "      <th>growth (60 days)</th>\n",
       "      <th>price</th>\n",
       "      <th>category</th>\n",
       "      <th>5 star ratings</th>\n",
       "      <th>4 star ratings</th>\n",
       "      <th>3 star ratings</th>\n",
       "      <th>2 star ratings</th>\n",
       "      <th>1 star ratings</th>\n",
       "      <th>paid</th>\n",
       "    </tr>\n",
       "  </thead>\n",
       "  <tbody>\n",
       "    <tr>\n",
       "      <th>1008</th>\n",
       "      <td>85</td>\n",
       "      <td>Opsu!(Beatmap player for Android)</td>\n",
       "      <td>45177</td>\n",
       "      <td>1.0 M</td>\n",
       "      <td>3.61</td>\n",
       "      <td>4.1</td>\n",
       "      <td>7.7</td>\n",
       "      <td>0.0</td>\n",
       "      <td>GAME MUSIC</td>\n",
       "      <td>21898</td>\n",
       "      <td>6079</td>\n",
       "      <td>4649</td>\n",
       "      <td>2569</td>\n",
       "      <td>9979</td>\n",
       "      <td>False</td>\n",
       "    </tr>\n",
       "  </tbody>\n",
       "</table>\n",
       "</div>"
      ],
      "text/plain": [
       "      rank                              title  total ratings installs  \\\n",
       "1008    85  Opsu!(Beatmap player for Android)          45177    1.0 M   \n",
       "\n",
       "      average rating  growth (30 days)  growth (60 days)  price    category  \\\n",
       "1008            3.61               4.1               7.7    0.0  GAME MUSIC   \n",
       "\n",
       "      5 star ratings  4 star ratings  3 star ratings  2 star ratings  \\\n",
       "1008           21898            6079            4649            2569   \n",
       "\n",
       "      1 star ratings   paid  \n",
       "1008            9979  False  "
      ]
     },
     "execution_count": 112,
     "metadata": {},
     "output_type": "execute_result"
    }
   ],
   "source": [
    "games[(games['5 star ratings']==min(games['5 star ratings']))]"
   ]
  },
  {
   "cell_type": "markdown",
   "metadata": {},
   "source": [
    "GAME WITH THE LOWEST 5 star ratings"
   ]
  },
  {
   "cell_type": "code",
   "execution_count": 113,
   "metadata": {},
   "outputs": [
    {
     "data": {
      "text/html": [
       "<div>\n",
       "<style scoped>\n",
       "    .dataframe tbody tr th:only-of-type {\n",
       "        vertical-align: middle;\n",
       "    }\n",
       "\n",
       "    .dataframe tbody tr th {\n",
       "        vertical-align: top;\n",
       "    }\n",
       "\n",
       "    .dataframe thead th {\n",
       "        text-align: right;\n",
       "    }\n",
       "</style>\n",
       "<table border=\"1\" class=\"dataframe\">\n",
       "  <thead>\n",
       "    <tr style=\"text-align: right;\">\n",
       "      <th></th>\n",
       "      <th>rank</th>\n",
       "      <th>title</th>\n",
       "      <th>total ratings</th>\n",
       "      <th>installs</th>\n",
       "      <th>average rating</th>\n",
       "      <th>growth (30 days)</th>\n",
       "      <th>growth (60 days)</th>\n",
       "      <th>price</th>\n",
       "      <th>category</th>\n",
       "      <th>5 star ratings</th>\n",
       "      <th>4 star ratings</th>\n",
       "      <th>3 star ratings</th>\n",
       "      <th>2 star ratings</th>\n",
       "      <th>1 star ratings</th>\n",
       "      <th>paid</th>\n",
       "    </tr>\n",
       "  </thead>\n",
       "  <tbody>\n",
       "    <tr>\n",
       "      <th>824</th>\n",
       "      <td>1</td>\n",
       "      <td>WhatsApp Messenger</td>\n",
       "      <td>132820159</td>\n",
       "      <td>5000.0 M</td>\n",
       "      <td>4.16</td>\n",
       "      <td>1.3</td>\n",
       "      <td>2.8</td>\n",
       "      <td>0.0</td>\n",
       "      <td>GAME FAMILY</td>\n",
       "      <td>89826657</td>\n",
       "      <td>13399678</td>\n",
       "      <td>7742411</td>\n",
       "      <td>4404948</td>\n",
       "      <td>17446463</td>\n",
       "      <td>False</td>\n",
       "    </tr>\n",
       "  </tbody>\n",
       "</table>\n",
       "</div>"
      ],
      "text/plain": [
       "     rank               title  total ratings  installs  average rating  \\\n",
       "824     1  WhatsApp Messenger      132820159  5000.0 M            4.16   \n",
       "\n",
       "     growth (30 days)  growth (60 days)  price     category  5 star ratings  \\\n",
       "824               1.3               2.8    0.0  GAME FAMILY        89826657   \n",
       "\n",
       "     4 star ratings  3 star ratings  2 star ratings  1 star ratings   paid  \n",
       "824        13399678         7742411         4404948        17446463  False  "
      ]
     },
     "execution_count": 113,
     "metadata": {},
     "output_type": "execute_result"
    }
   ],
   "source": [
    "games[(games['4 star ratings']==max(games['4 star ratings']))]"
   ]
  },
  {
   "cell_type": "markdown",
   "metadata": {},
   "source": [
    "GAME WITH THE HIGHEST 4 star ratings"
   ]
  },
  {
   "cell_type": "code",
   "execution_count": 114,
   "metadata": {},
   "outputs": [
    {
     "data": {
      "text/html": [
       "<div>\n",
       "<style scoped>\n",
       "    .dataframe tbody tr th:only-of-type {\n",
       "        vertical-align: middle;\n",
       "    }\n",
       "\n",
       "    .dataframe tbody tr th {\n",
       "        vertical-align: top;\n",
       "    }\n",
       "\n",
       "    .dataframe thead th {\n",
       "        text-align: right;\n",
       "    }\n",
       "</style>\n",
       "<table border=\"1\" class=\"dataframe\">\n",
       "  <thead>\n",
       "    <tr style=\"text-align: right;\">\n",
       "      <th></th>\n",
       "      <th>rank</th>\n",
       "      <th>title</th>\n",
       "      <th>total ratings</th>\n",
       "      <th>installs</th>\n",
       "      <th>average rating</th>\n",
       "      <th>growth (30 days)</th>\n",
       "      <th>growth (60 days)</th>\n",
       "      <th>price</th>\n",
       "      <th>category</th>\n",
       "      <th>5 star ratings</th>\n",
       "      <th>4 star ratings</th>\n",
       "      <th>3 star ratings</th>\n",
       "      <th>2 star ratings</th>\n",
       "      <th>1 star ratings</th>\n",
       "      <th>paid</th>\n",
       "    </tr>\n",
       "  </thead>\n",
       "  <tbody>\n",
       "    <tr>\n",
       "      <th>1684</th>\n",
       "      <td>61</td>\n",
       "      <td>УГАДАЙ БЛОГЕРА</td>\n",
       "      <td>77704</td>\n",
       "      <td>1.0 M</td>\n",
       "      <td>4.76</td>\n",
       "      <td>0.0</td>\n",
       "      <td>0.0</td>\n",
       "      <td>0.0</td>\n",
       "      <td>GAME TRIVIA</td>\n",
       "      <td>70380</td>\n",
       "      <td>2441</td>\n",
       "      <td>1275</td>\n",
       "      <td>717</td>\n",
       "      <td>2889</td>\n",
       "      <td>False</td>\n",
       "    </tr>\n",
       "  </tbody>\n",
       "</table>\n",
       "</div>"
      ],
      "text/plain": [
       "      rank           title  total ratings installs  average rating  \\\n",
       "1684    61  УГАДАЙ БЛОГЕРА          77704    1.0 M            4.76   \n",
       "\n",
       "      growth (30 days)  growth (60 days)  price     category  5 star ratings  \\\n",
       "1684               0.0               0.0    0.0  GAME TRIVIA           70380   \n",
       "\n",
       "      4 star ratings  3 star ratings  2 star ratings  1 star ratings   paid  \n",
       "1684            2441            1275             717            2889  False  "
      ]
     },
     "execution_count": 114,
     "metadata": {},
     "output_type": "execute_result"
    }
   ],
   "source": [
    "games[(games['4 star ratings']==min(games['4 star ratings']))]"
   ]
  },
  {
   "cell_type": "markdown",
   "metadata": {},
   "source": [
    "GAME WITH LOWEST 4 star ratings"
   ]
  },
  {
   "cell_type": "code",
   "execution_count": 115,
   "metadata": {},
   "outputs": [
    {
     "data": {
      "text/html": [
       "<div>\n",
       "<style scoped>\n",
       "    .dataframe tbody tr th:only-of-type {\n",
       "        vertical-align: middle;\n",
       "    }\n",
       "\n",
       "    .dataframe tbody tr th {\n",
       "        vertical-align: top;\n",
       "    }\n",
       "\n",
       "    .dataframe thead th {\n",
       "        text-align: right;\n",
       "    }\n",
       "</style>\n",
       "<table border=\"1\" class=\"dataframe\">\n",
       "  <thead>\n",
       "    <tr style=\"text-align: right;\">\n",
       "      <th></th>\n",
       "      <th>rank</th>\n",
       "      <th>title</th>\n",
       "      <th>total ratings</th>\n",
       "      <th>installs</th>\n",
       "      <th>average rating</th>\n",
       "      <th>growth (30 days)</th>\n",
       "      <th>growth (60 days)</th>\n",
       "      <th>price</th>\n",
       "      <th>category</th>\n",
       "      <th>5 star ratings</th>\n",
       "      <th>4 star ratings</th>\n",
       "      <th>3 star ratings</th>\n",
       "      <th>2 star ratings</th>\n",
       "      <th>1 star ratings</th>\n",
       "      <th>paid</th>\n",
       "    </tr>\n",
       "  </thead>\n",
       "  <tbody>\n",
       "    <tr>\n",
       "      <th>824</th>\n",
       "      <td>1</td>\n",
       "      <td>WhatsApp Messenger</td>\n",
       "      <td>132820159</td>\n",
       "      <td>5000.0 M</td>\n",
       "      <td>4.16</td>\n",
       "      <td>1.3</td>\n",
       "      <td>2.8</td>\n",
       "      <td>0.0</td>\n",
       "      <td>GAME FAMILY</td>\n",
       "      <td>89826657</td>\n",
       "      <td>13399678</td>\n",
       "      <td>7742411</td>\n",
       "      <td>4404948</td>\n",
       "      <td>17446463</td>\n",
       "      <td>False</td>\n",
       "    </tr>\n",
       "  </tbody>\n",
       "</table>\n",
       "</div>"
      ],
      "text/plain": [
       "     rank               title  total ratings  installs  average rating  \\\n",
       "824     1  WhatsApp Messenger      132820159  5000.0 M            4.16   \n",
       "\n",
       "     growth (30 days)  growth (60 days)  price     category  5 star ratings  \\\n",
       "824               1.3               2.8    0.0  GAME FAMILY        89826657   \n",
       "\n",
       "     4 star ratings  3 star ratings  2 star ratings  1 star ratings   paid  \n",
       "824        13399678         7742411         4404948        17446463  False  "
      ]
     },
     "execution_count": 115,
     "metadata": {},
     "output_type": "execute_result"
    }
   ],
   "source": [
    "games[(games['3 star ratings']==max(games['3 star ratings']))]"
   ]
  },
  {
   "cell_type": "markdown",
   "metadata": {},
   "source": [
    "GAME WITH THE HIGHEST 3 star ratings"
   ]
  },
  {
   "cell_type": "code",
   "execution_count": 116,
   "metadata": {},
   "outputs": [
    {
     "data": {
      "text/html": [
       "<div>\n",
       "<style scoped>\n",
       "    .dataframe tbody tr th:only-of-type {\n",
       "        vertical-align: middle;\n",
       "    }\n",
       "\n",
       "    .dataframe tbody tr th {\n",
       "        vertical-align: top;\n",
       "    }\n",
       "\n",
       "    .dataframe thead th {\n",
       "        text-align: right;\n",
       "    }\n",
       "</style>\n",
       "<table border=\"1\" class=\"dataframe\">\n",
       "  <thead>\n",
       "    <tr style=\"text-align: right;\">\n",
       "      <th></th>\n",
       "      <th>rank</th>\n",
       "      <th>title</th>\n",
       "      <th>total ratings</th>\n",
       "      <th>installs</th>\n",
       "      <th>average rating</th>\n",
       "      <th>growth (30 days)</th>\n",
       "      <th>growth (60 days)</th>\n",
       "      <th>price</th>\n",
       "      <th>category</th>\n",
       "      <th>5 star ratings</th>\n",
       "      <th>4 star ratings</th>\n",
       "      <th>3 star ratings</th>\n",
       "      <th>2 star ratings</th>\n",
       "      <th>1 star ratings</th>\n",
       "      <th>paid</th>\n",
       "    </tr>\n",
       "  </thead>\n",
       "  <tbody>\n",
       "    <tr>\n",
       "      <th>813</th>\n",
       "      <td>90</td>\n",
       "      <td>Английский для Начинающих: LinDuo HD</td>\n",
       "      <td>50859</td>\n",
       "      <td>1.0 M</td>\n",
       "      <td>4.82</td>\n",
       "      <td>4.5</td>\n",
       "      <td>8.3</td>\n",
       "      <td>0.0</td>\n",
       "      <td>GAME EDUCATIONAL</td>\n",
       "      <td>44723</td>\n",
       "      <td>4611</td>\n",
       "      <td>707</td>\n",
       "      <td>288</td>\n",
       "      <td>527</td>\n",
       "      <td>False</td>\n",
       "    </tr>\n",
       "  </tbody>\n",
       "</table>\n",
       "</div>"
      ],
      "text/plain": [
       "     rank                                 title  total ratings installs  \\\n",
       "813    90  Английский для Начинающих: LinDuo HD          50859    1.0 M   \n",
       "\n",
       "     average rating  growth (30 days)  growth (60 days)  price  \\\n",
       "813            4.82               4.5               8.3    0.0   \n",
       "\n",
       "             category  5 star ratings  4 star ratings  3 star ratings  \\\n",
       "813  GAME EDUCATIONAL           44723            4611             707   \n",
       "\n",
       "     2 star ratings  1 star ratings   paid  \n",
       "813             288             527  False  "
      ]
     },
     "execution_count": 116,
     "metadata": {},
     "output_type": "execute_result"
    }
   ],
   "source": [
    "games[(games['3 star ratings']==min(games['3 star ratings']))]"
   ]
  },
  {
   "cell_type": "markdown",
   "metadata": {},
   "source": [
    "GAME WITH THE LOWEST 3 star ratings"
   ]
  },
  {
   "cell_type": "code",
   "execution_count": 118,
   "metadata": {},
   "outputs": [
    {
     "data": {
      "text/html": [
       "<div>\n",
       "<style scoped>\n",
       "    .dataframe tbody tr th:only-of-type {\n",
       "        vertical-align: middle;\n",
       "    }\n",
       "\n",
       "    .dataframe tbody tr th {\n",
       "        vertical-align: top;\n",
       "    }\n",
       "\n",
       "    .dataframe thead th {\n",
       "        text-align: right;\n",
       "    }\n",
       "</style>\n",
       "<table border=\"1\" class=\"dataframe\">\n",
       "  <thead>\n",
       "    <tr style=\"text-align: right;\">\n",
       "      <th></th>\n",
       "      <th>rank</th>\n",
       "      <th>title</th>\n",
       "      <th>total ratings</th>\n",
       "      <th>installs</th>\n",
       "      <th>average rating</th>\n",
       "      <th>growth (30 days)</th>\n",
       "      <th>growth (60 days)</th>\n",
       "      <th>price</th>\n",
       "      <th>category</th>\n",
       "      <th>5 star ratings</th>\n",
       "      <th>4 star ratings</th>\n",
       "      <th>3 star ratings</th>\n",
       "      <th>2 star ratings</th>\n",
       "      <th>1 star ratings</th>\n",
       "      <th>paid</th>\n",
       "    </tr>\n",
       "  </thead>\n",
       "  <tbody>\n",
       "    <tr>\n",
       "      <th>824</th>\n",
       "      <td>1</td>\n",
       "      <td>WhatsApp Messenger</td>\n",
       "      <td>132820159</td>\n",
       "      <td>5000.0 M</td>\n",
       "      <td>4.16</td>\n",
       "      <td>1.3</td>\n",
       "      <td>2.8</td>\n",
       "      <td>0.0</td>\n",
       "      <td>GAME FAMILY</td>\n",
       "      <td>89826657</td>\n",
       "      <td>13399678</td>\n",
       "      <td>7742411</td>\n",
       "      <td>4404948</td>\n",
       "      <td>17446463</td>\n",
       "      <td>False</td>\n",
       "    </tr>\n",
       "  </tbody>\n",
       "</table>\n",
       "</div>"
      ],
      "text/plain": [
       "     rank               title  total ratings  installs  average rating  \\\n",
       "824     1  WhatsApp Messenger      132820159  5000.0 M            4.16   \n",
       "\n",
       "     growth (30 days)  growth (60 days)  price     category  5 star ratings  \\\n",
       "824               1.3               2.8    0.0  GAME FAMILY        89826657   \n",
       "\n",
       "     4 star ratings  3 star ratings  2 star ratings  1 star ratings   paid  \n",
       "824        13399678         7742411         4404948        17446463  False  "
      ]
     },
     "execution_count": 118,
     "metadata": {},
     "output_type": "execute_result"
    }
   ],
   "source": [
    "games[(games['2 star ratings']==max(games['2 star ratings']))]"
   ]
  },
  {
   "cell_type": "markdown",
   "metadata": {},
   "source": [
    "GAME WITH THE HIGHEST 2 star ratings"
   ]
  },
  {
   "cell_type": "code",
   "execution_count": 119,
   "metadata": {},
   "outputs": [
    {
     "data": {
      "text/html": [
       "<div>\n",
       "<style scoped>\n",
       "    .dataframe tbody tr th:only-of-type {\n",
       "        vertical-align: middle;\n",
       "    }\n",
       "\n",
       "    .dataframe tbody tr th {\n",
       "        vertical-align: top;\n",
       "    }\n",
       "\n",
       "    .dataframe thead th {\n",
       "        text-align: right;\n",
       "    }\n",
       "</style>\n",
       "<table border=\"1\" class=\"dataframe\">\n",
       "  <thead>\n",
       "    <tr style=\"text-align: right;\">\n",
       "      <th></th>\n",
       "      <th>rank</th>\n",
       "      <th>title</th>\n",
       "      <th>total ratings</th>\n",
       "      <th>installs</th>\n",
       "      <th>average rating</th>\n",
       "      <th>growth (30 days)</th>\n",
       "      <th>growth (60 days)</th>\n",
       "      <th>price</th>\n",
       "      <th>category</th>\n",
       "      <th>5 star ratings</th>\n",
       "      <th>4 star ratings</th>\n",
       "      <th>3 star ratings</th>\n",
       "      <th>2 star ratings</th>\n",
       "      <th>1 star ratings</th>\n",
       "      <th>paid</th>\n",
       "    </tr>\n",
       "  </thead>\n",
       "  <tbody>\n",
       "    <tr>\n",
       "      <th>813</th>\n",
       "      <td>90</td>\n",
       "      <td>Английский для Начинающих: LinDuo HD</td>\n",
       "      <td>50859</td>\n",
       "      <td>1.0 M</td>\n",
       "      <td>4.82</td>\n",
       "      <td>4.5</td>\n",
       "      <td>8.3</td>\n",
       "      <td>0.0</td>\n",
       "      <td>GAME EDUCATIONAL</td>\n",
       "      <td>44723</td>\n",
       "      <td>4611</td>\n",
       "      <td>707</td>\n",
       "      <td>288</td>\n",
       "      <td>527</td>\n",
       "      <td>False</td>\n",
       "    </tr>\n",
       "  </tbody>\n",
       "</table>\n",
       "</div>"
      ],
      "text/plain": [
       "     rank                                 title  total ratings installs  \\\n",
       "813    90  Английский для Начинающих: LinDuo HD          50859    1.0 M   \n",
       "\n",
       "     average rating  growth (30 days)  growth (60 days)  price  \\\n",
       "813            4.82               4.5               8.3    0.0   \n",
       "\n",
       "             category  5 star ratings  4 star ratings  3 star ratings  \\\n",
       "813  GAME EDUCATIONAL           44723            4611             707   \n",
       "\n",
       "     2 star ratings  1 star ratings   paid  \n",
       "813             288             527  False  "
      ]
     },
     "execution_count": 119,
     "metadata": {},
     "output_type": "execute_result"
    }
   ],
   "source": [
    "games[(games['2 star ratings']==min(games['2 star ratings']))]"
   ]
  },
  {
   "cell_type": "markdown",
   "metadata": {},
   "source": [
    "GAME WITH THE LOWEST 2 star ratings"
   ]
  },
  {
   "cell_type": "code",
   "execution_count": 132,
   "metadata": {},
   "outputs": [
    {
     "data": {
      "text/html": [
       "<div>\n",
       "<style scoped>\n",
       "    .dataframe tbody tr th:only-of-type {\n",
       "        vertical-align: middle;\n",
       "    }\n",
       "\n",
       "    .dataframe tbody tr th {\n",
       "        vertical-align: top;\n",
       "    }\n",
       "\n",
       "    .dataframe thead th {\n",
       "        text-align: right;\n",
       "    }\n",
       "</style>\n",
       "<table border=\"1\" class=\"dataframe\">\n",
       "  <thead>\n",
       "    <tr style=\"text-align: right;\">\n",
       "      <th></th>\n",
       "      <th>rank</th>\n",
       "      <th>title</th>\n",
       "      <th>total ratings</th>\n",
       "      <th>installs</th>\n",
       "      <th>average rating</th>\n",
       "      <th>growth (30 days)</th>\n",
       "      <th>growth (60 days)</th>\n",
       "      <th>price</th>\n",
       "      <th>category</th>\n",
       "      <th>5 star ratings</th>\n",
       "      <th>4 star ratings</th>\n",
       "      <th>3 star ratings</th>\n",
       "      <th>2 star ratings</th>\n",
       "      <th>1 star ratings</th>\n",
       "      <th>paid</th>\n",
       "    </tr>\n",
       "  </thead>\n",
       "  <tbody>\n",
       "    <tr>\n",
       "      <th>824</th>\n",
       "      <td>1</td>\n",
       "      <td>WhatsApp Messenger</td>\n",
       "      <td>132820159</td>\n",
       "      <td>5000.0 M</td>\n",
       "      <td>4.16</td>\n",
       "      <td>1.3</td>\n",
       "      <td>2.8</td>\n",
       "      <td>0.0</td>\n",
       "      <td>GAME FAMILY</td>\n",
       "      <td>89826657</td>\n",
       "      <td>13399678</td>\n",
       "      <td>7742411</td>\n",
       "      <td>4404948</td>\n",
       "      <td>17446463</td>\n",
       "      <td>False</td>\n",
       "    </tr>\n",
       "  </tbody>\n",
       "</table>\n",
       "</div>"
      ],
      "text/plain": [
       "     rank               title  total ratings  installs  average rating  \\\n",
       "824     1  WhatsApp Messenger      132820159  5000.0 M            4.16   \n",
       "\n",
       "     growth (30 days)  growth (60 days)  price     category  5 star ratings  \\\n",
       "824               1.3               2.8    0.0  GAME FAMILY        89826657   \n",
       "\n",
       "     4 star ratings  3 star ratings  2 star ratings  1 star ratings   paid  \n",
       "824        13399678         7742411         4404948        17446463  False  "
      ]
     },
     "execution_count": 132,
     "metadata": {},
     "output_type": "execute_result"
    }
   ],
   "source": [
    "games[(games['1 star ratings']==max(games['1 star ratings']))]"
   ]
  },
  {
   "cell_type": "markdown",
   "metadata": {},
   "source": [
    "GAME WITH THE HIGHEST 1 star ratings"
   ]
  },
  {
   "cell_type": "code",
   "execution_count": 137,
   "metadata": {},
   "outputs": [
    {
     "data": {
      "text/html": [
       "<div>\n",
       "<style scoped>\n",
       "    .dataframe tbody tr th:only-of-type {\n",
       "        vertical-align: middle;\n",
       "    }\n",
       "\n",
       "    .dataframe tbody tr th {\n",
       "        vertical-align: top;\n",
       "    }\n",
       "\n",
       "    .dataframe thead th {\n",
       "        text-align: right;\n",
       "    }\n",
       "</style>\n",
       "<table border=\"1\" class=\"dataframe\">\n",
       "  <thead>\n",
       "    <tr style=\"text-align: right;\">\n",
       "      <th></th>\n",
       "      <th>rank</th>\n",
       "      <th>title</th>\n",
       "      <th>total ratings</th>\n",
       "      <th>installs</th>\n",
       "      <th>average rating</th>\n",
       "      <th>growth (30 days)</th>\n",
       "      <th>growth (60 days)</th>\n",
       "      <th>price</th>\n",
       "      <th>category</th>\n",
       "      <th>5 star ratings</th>\n",
       "      <th>4 star ratings</th>\n",
       "      <th>3 star ratings</th>\n",
       "      <th>2 star ratings</th>\n",
       "      <th>1 star ratings</th>\n",
       "      <th>paid</th>\n",
       "    </tr>\n",
       "  </thead>\n",
       "  <tbody>\n",
       "    <tr>\n",
       "      <th>813</th>\n",
       "      <td>90</td>\n",
       "      <td>Английский для Начинающих: LinDuo HD</td>\n",
       "      <td>50859</td>\n",
       "      <td>1.0 M</td>\n",
       "      <td>4.82</td>\n",
       "      <td>4.5</td>\n",
       "      <td>8.3</td>\n",
       "      <td>0.0</td>\n",
       "      <td>GAME EDUCATIONAL</td>\n",
       "      <td>44723</td>\n",
       "      <td>4611</td>\n",
       "      <td>707</td>\n",
       "      <td>288</td>\n",
       "      <td>527</td>\n",
       "      <td>False</td>\n",
       "    </tr>\n",
       "  </tbody>\n",
       "</table>\n",
       "</div>"
      ],
      "text/plain": [
       "     rank                                 title  total ratings installs  \\\n",
       "813    90  Английский для Начинающих: LinDuo HD          50859    1.0 M   \n",
       "\n",
       "     average rating  growth (30 days)  growth (60 days)  price  \\\n",
       "813            4.82               4.5               8.3    0.0   \n",
       "\n",
       "             category  5 star ratings  4 star ratings  3 star ratings  \\\n",
       "813  GAME EDUCATIONAL           44723            4611             707   \n",
       "\n",
       "     2 star ratings  1 star ratings   paid  \n",
       "813             288             527  False  "
      ]
     },
     "execution_count": 137,
     "metadata": {},
     "output_type": "execute_result"
    }
   ],
   "source": [
    "games[(games['1 star ratings']==min(games['1 star ratings']))]"
   ]
  },
  {
   "cell_type": "markdown",
   "metadata": {},
   "source": [
    "GAME WITH THE LOWEST 1 star ratings"
   ]
  },
  {
   "cell_type": "code",
   "execution_count": null,
   "metadata": {},
   "outputs": [],
   "source": []
  }
 ],
 "metadata": {
  "kernelspec": {
   "display_name": "Python 3",
   "language": "python",
   "name": "python3"
  },
  "language_info": {
   "codemirror_mode": {
    "name": "ipython",
    "version": 3
   },
   "file_extension": ".py",
   "mimetype": "text/x-python",
   "name": "python",
   "nbconvert_exporter": "python",
   "pygments_lexer": "ipython3",
   "version": "3.8.3"
  }
 },
 "nbformat": 4,
 "nbformat_minor": 4
}
